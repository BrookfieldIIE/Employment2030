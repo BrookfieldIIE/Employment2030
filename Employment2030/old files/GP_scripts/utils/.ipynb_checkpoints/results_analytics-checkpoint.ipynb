{
 "cells": [
  {
   "cell_type": "code",
   "execution_count": 1,
   "metadata": {},
   "outputs": [],
   "source": [
    "import pickle\n",
    "import os\n",
    "from collections import defaultdict"
   ]
  },
  {
   "cell_type": "code",
   "execution_count": 2,
   "metadata": {},
   "outputs": [],
   "source": [
    "overall_dir = '../gp_results/full_model/'\n",
    "directories = ['all_features', 'combined_kernel', 'feature_selection']\n",
    "files = [os.listdir(overall_dir + directory) for directory in directories]\n",
    "\n",
    "# Incorrect assumptions about workshop number\n",
    "# agg_dir =  '../gp_results/scaling_agg'\n",
    "# ind_dir =  '../gp_results/scaling_ind'\n",
    "# fs_dir =   '../gp_results/feature_selection_scale_normalize'"
   ]
  },
  {
   "cell_type": "code",
   "execution_count": 3,
   "metadata": {},
   "outputs": [],
   "source": [
    "def rec_dd():\n",
    "    return defaultdict(rec_dd)\n",
    "\n",
    "def build_results(directory, files):\n",
    "    models = rec_dd()\n",
    "    for file in files:\n",
    "        if file == '.DS_Store': continue\n",
    "        with open(os.path.join(directory, file), 'rb') as f:\n",
    "            results = pickle.load(f)\n",
    "        filename = os.path.splitext(file)[0]\n",
    "        # Slightly different naming conventions for non-scaled results\n",
    "        try:\n",
    "            model, scaling = filename.split('_scaling_')\n",
    "        except ValueError:\n",
    "            model = filename\n",
    "            scaling = ''\n",
    "        if scaling == 'scale_normalize' or scaling == '':\n",
    "            models[model] = (results['Avg. mse'], results['Avg. roc'])\n",
    "        # models[model][scaling]['ROC'] = results['Avg. roc']\n",
    "    # best = sorted(models.keys(), key=lambda x: models[x]['scale_normalize']['MSE'])\n",
    "    best = [(x, models[x]) for x in sorted(models, key=models.get)]\n",
    "    return models, best"
   ]
  },
  {
   "cell_type": "code",
   "execution_count": 4,
   "metadata": {
    "scrolled": true
   },
   "outputs": [],
   "source": [
    "results = [(directory, build_results(overall_dir + directory, file)) \n",
    "           for (directory, file) in zip(directories, files)]"
   ]
  },
  {
   "cell_type": "code",
   "execution_count": 5,
   "metadata": {},
   "outputs": [
    {
     "name": "stdout",
     "output_type": "stream",
     "text": [
      "all_features\n",
      "('Matern52_ind_cont_share_binned_scale_normalize', (0.04809909599321962, 0.5371333355476577))\n",
      "('RBF_ind_cont_share_binned_scale_normalize', (0.04817543712112507, 0.5432133169473323))\n",
      "('RBF_agg_cont_share_scale_normalize', (0.056411195888674784, 0.5905845821132198))\n",
      "('Matern52_agg_cont_share_scale_normalize', (0.05669574343483359, 0.5809896448867037))\n",
      "('RBF_ind_cont_share_scale_normalize', (0.059119403054527786, 0.546570879813914))\n",
      "('Matern52_agg_cont_share_binned_scale_normalize', (0.05989873315079839, 0.6453874883286648))\n",
      "('Matern52_agg_disc_share_scale_normalize', (0.06083405080289286, 0.5805438226490858))\n",
      "('RBF_ind_disc_share_scale_normalize', (0.06234463285882789, 0.5319826936622603))\n",
      "combined_kernel\n",
      "('Matern52_Linear_ind_cont_share_binned_scale_normalize', (0.04859263205394217, 0.6256243841410082))\n",
      "('RBF_Linear_ind_cont_share_binned_scale_normalize', (0.049087055089247295, 0.6347152932319172))\n",
      "('RBF_Linear_agg_cont_share_scale_normalize', (0.05731665978740663, 0.6173221827478794))\n",
      "('Matern52_Linear_agg_cont_share_scale_normalize', (0.05910501657386943, 0.6050627462779165))\n",
      "feature_selection\n",
      "('RBF_agg_cont_share_scale_normalize', (0.05445793674886136, 0.6086904761904762))\n",
      "('Matern52_agg_cont_share_scale_normalize', (0.05538316765507436, 0.5836904761904762))\n",
      "('RBF_Linear_agg_cont_share_scale_normalize', (0.056886174005713, 0.5784523809523809))\n",
      "('Matern52_Linear_agg_cont_share_scale_normalize', (0.057749366903624075, 0.5784523809523809))\n"
     ]
    }
   ],
   "source": [
    "for result in results:\n",
    "    print(result[0])\n",
    "    for model in result[1][1]:\n",
    "        print(model)"
   ]
  },
  {
   "cell_type": "code",
   "execution_count": null,
   "metadata": {},
   "outputs": [],
   "source": []
  },
  {
   "cell_type": "code",
   "execution_count": null,
   "metadata": {},
   "outputs": [],
   "source": []
  }
 ],
 "metadata": {
  "kernelspec": {
   "display_name": "brookfield",
   "language": "python",
   "name": "brookfield"
  },
  "language_info": {
   "codemirror_mode": {
    "name": "ipython",
    "version": 3
   },
   "file_extension": ".py",
   "mimetype": "text/x-python",
   "name": "python",
   "nbconvert_exporter": "python",
   "pygments_lexer": "ipython3",
   "version": "3.5.6"
  }
 },
 "nbformat": 4,
 "nbformat_minor": 2
}
