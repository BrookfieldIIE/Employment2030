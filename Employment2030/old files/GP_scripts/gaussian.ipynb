{
 "cells": [
  {
   "cell_type": "markdown",
   "metadata": {},
   "source": [
    "## Setup"
   ]
  },
  {
   "cell_type": "code",
   "execution_count": 1,
   "metadata": {
    "scrolled": true
   },
   "outputs": [
    {
     "name": "stdout",
     "output_type": "stream",
     "text": [
      "value.Reading Comprehension       3.88\n",
      "value.Active Listening            4.12\n",
      "value.Writing                     3.88\n",
      "value.Speaking                    4.00\n",
      "value.Mathematics Skill           2.62\n",
      "                                  ... \n",
      "value.Law and Government          2.86\n",
      "value.Telecommunications          2.94\n",
      "value.Communications and Media    3.63\n",
      "value.Transportation              2.66\n",
      "work_num                          4.00\n",
      "Name: (Accommodation service managers, 4), Length: 121, dtype: float64\n"
     ]
    },
    {
     "name": "stderr",
     "output_type": "stream",
     "text": [
      "WARNING: Logging before flag parsing goes to stderr.\n",
      "W0730 15:39:57.912104 139766515070720 deprecation_wrapper.py:119] From /home/ubuntu/anaconda3/envs/python3/lib/python3.7/site-packages/gpflow/session_manager.py:31: The name tf.Session is deprecated. Please use tf.compat.v1.Session instead.\n",
      "\n",
      "W0730 15:39:57.916664 139766515070720 deprecation_wrapper.py:119] From /home/ubuntu/anaconda3/envs/python3/lib/python3.7/site-packages/gpflow/misc.py:27: The name tf.GraphKeys is deprecated. Please use tf.compat.v1.GraphKeys instead.\n",
      "\n",
      "W0730 15:39:57.984275 139766515070720 deprecation_wrapper.py:119] From /home/ubuntu/anaconda3/envs/python3/lib/python3.7/site-packages/gpflow/saver/coders.py:80: The name tf.data.Iterator is deprecated. Please use tf.compat.v1.data.Iterator instead.\n",
      "\n"
     ]
    }
   ],
   "source": [
    "%run utils.ipynb\n",
    "\n",
    "import collections\n",
    "import time\n",
    "import pickle\n",
    "\n",
    "import gpflow\n",
    "import numpy as np\n",
    "import pandas as pd\n",
    "import tensorflow as tf\n",
    "\n",
    "from sklearn.model_selection import KFold\n",
    "from sklearn.metrics import mean_squared_error"
   ]
  },
  {
   "cell_type": "code",
   "execution_count": 2,
   "metadata": {},
   "outputs": [],
   "source": [
    "# Constants\n",
    "datasets = {'agg': {'x': {'cont':         x_cont_agg, \n",
    "                          'disc':         x_disc_agg}, \n",
    "                    'y': {# 'abs':          y_abs_agg['y'],\n",
    "                          # 'abs_binned':   y_abs_agg['binned_y'],\n",
    "                          'share':        y_share_agg['y'],\n",
    "                          'share_binned': y_share_agg['binned_y']}\n",
    "                   },\n",
    "            'ind': {'x': {'cont':         x_cont_ind,\n",
    "                          'disc':         x_disc_ind},\n",
    "                    'y': {# 'abs':          y_abs_ind,\n",
    "                          # 'abs_binned':   y_abs_bin_ind,\n",
    "                          'share':        y_share_ind,\n",
    "                          'share_binned': y_share_bin_ind}\n",
    "                   }\n",
    "           }\n",
    "\n",
    "kernels = ['Matern12', 'Matern32', 'Matern52', 'RBF']\n",
    "\n",
    "agg_level = 'both'"
   ]
  },
  {
   "cell_type": "markdown",
   "metadata": {},
   "source": [
    "## Functions"
   ]
  },
  {
   "cell_type": "code",
   "execution_count": 3,
   "metadata": {},
   "outputs": [],
   "source": [
    "def get_kern(kern):\n",
    "    if kern == 'Matern12': return gpflow.kernels.Matern12(1)\n",
    "    if kern == 'Matern32': return gpflow.kernels.Matern32(1) \n",
    "    if kern == 'Matern52': return gpflow.kernels.Matern52(1)\n",
    "    if kern == 'RBF':      return gpflow.kernels.RBF(1)"
   ]
  },
  {
   "cell_type": "code",
   "execution_count": 4,
   "metadata": {},
   "outputs": [],
   "source": [
    "# create x and y arrays\n",
    "def x_and_y(x, y):\n",
    "    change = {'decrease':     2,\n",
    "              'constant':     1, \n",
    "              'increase':     0,\n",
    "              'fewer':        2,\n",
    "              'same':         1,\n",
    "              'more':         0,\n",
    "              'not_increase': 1}\n",
    "    x = np.array(x)\n",
    "    y = np.array(pd.Series(y).replace(change).values.astype('int64')).reshape(y.shape[0], 1)\n",
    "    return x, y"
   ]
  },
  {
   "cell_type": "code",
   "execution_count": 5,
   "metadata": {},
   "outputs": [],
   "source": [
    "# get bin edges and likelihood\n",
    "def create_likelihood(y):\n",
    "    bin_edges = np.array(np.arange(np.unique(y).size + 1), dtype=float)\n",
    "    # Need to check in on this, tutorial does the below which ends up with negative bins\n",
    "    # bin_edges = bin_edges - bin_edges.mean()\n",
    "    bin_edges = bin_edges - .5\n",
    "    return gpflow.likelihoods.Ordinal(bin_edges)"
   ]
  },
  {
   "cell_type": "code",
   "execution_count": 6,
   "metadata": {},
   "outputs": [],
   "source": [
    "# build a model with this likelihood\n",
    "def build_model(x_train, y_train, likelihood, kernel):\n",
    "    gaussian_model = gpflow.models.VGP(tf.cast(x_train, tf.float64), \n",
    "                                       y_train, \n",
    "                                       kern=kernel,\n",
    "                                       likelihood=likelihood)\n",
    "    # fit the model\n",
    "    gpflow.train.ScipyOptimizer().minimize(gaussian_model)\n",
    "    return gaussian_model"
   ]
  },
  {
   "cell_type": "code",
   "execution_count": 7,
   "metadata": {},
   "outputs": [],
   "source": [
    "# get predictive densities\n",
    "def test_model(model, x_test):\n",
    "    densities = []\n",
    "    # Predictive density for a single input x\n",
    "    for x in x_test:\n",
    "        ys = np.arange(np.max(model.Y.value+1)).reshape([-1, 1])\n",
    "        x_new_vec = x*np.ones_like(ys)\n",
    "        # for predict_density x and y need to have the same number of rows\n",
    "        dens = np.exp(model.predict_density(x_new_vec, ys))\n",
    "        densities.append(dens)\n",
    "    return densities"
   ]
  },
  {
   "cell_type": "code",
   "execution_count": 8,
   "metadata": {},
   "outputs": [],
   "source": [
    "# get accuracy\n",
    "def accuracy(y_test, densities):\n",
    "    score = 0\n",
    "    for index, y in enumerate(y_test):\n",
    "        if y == np.argmax(densities[index]): score += 1\n",
    "    return score/len(y_test)"
   ]
  },
  {
   "cell_type": "code",
   "execution_count": 9,
   "metadata": {},
   "outputs": [],
   "source": [
    "# do cross validation\n",
    "def cv(x, y, x_all, y_all, kern, var_type):\n",
    "    kf = KFold(n_splits=5)\n",
    "    scores = []\n",
    "    results = []\n",
    "\n",
    "    for train_index, test_index in kf.split(x):\n",
    "        start = time.time()\n",
    "        x_train, x_test = x[train_index], x[test_index]\n",
    "        y_train, y_test = y[train_index], y[test_index]\n",
    "        kernel = get_kern(kern)\n",
    "        likelihood = create_likelihood(y_all)\n",
    "        model = build_model(x_train, y_train, likelihood, kernel)\n",
    "        densities = test_model(model, x_test)\n",
    "        scores.append(accuracy(y_test, densities))\n",
    "        results.append(create_results(x_test, densities))\n",
    "        end = time.time()\n",
    "        print('Fold tested in (sec):', end - start)\n",
    "        del kernel, likelihood, model\n",
    "\n",
    "    return {'Avg. score':  sum(scores)/len(scores),\n",
    "            'All scores':  scores,\n",
    "            'All results': results}"
   ]
  },
  {
   "cell_type": "code",
   "execution_count": 10,
   "metadata": {},
   "outputs": [],
   "source": [
    "def pickle_results(results, params):\n",
    "    with open('gp_results/{}.pkl'.format(params), 'wb') as f:\n",
    "        pickle.dump(results, f)"
   ]
  },
  {
   "cell_type": "code",
   "execution_count": 11,
   "metadata": {},
   "outputs": [],
   "source": [
    "def organize_results(results):\n",
    "    best_result = {'Matern12': ['', 0],\n",
    "                   'Matern32': ['', 0],\n",
    "                   'Matern52': ['', 0],\n",
    "                   'RBF':      ['', 0]}\n",
    "\n",
    "    for kern in results:\n",
    "        for agg_name in results[kern]:\n",
    "            for var_type in results[kern][agg_name]:\n",
    "                for result_dist in results[kern][agg_name][var_type]:\n",
    "                    params = ' '.join([kern, agg_name, var_type, result_dist])\n",
    "                    score = results[kern][agg_name][var_type][result_dist]['Avg. score']\n",
    "                    if score == best_result[kern][1]: \n",
    "                        best_result[kern][0] += ', ' + params\n",
    "                    if score > best_result[kern][1]: \n",
    "                        best_result[kern] = [params, score]\n",
    "        \n",
    "    return best_result"
   ]
  },
  {
   "cell_type": "code",
   "execution_count": 12,
   "metadata": {
    "scrolled": true
   },
   "outputs": [],
   "source": [
    "def grid_search(agg_level):\n",
    "    def rec_dd():\n",
    "        return collections.defaultdict(rec_dd)\n",
    "    \n",
    "    results = rec_dd()\n",
    "\n",
    "    for kern in kernels:\n",
    "        for agg_name, top_level in datasets.items():\n",
    "            if agg_level != 'both' and agg_level != agg_name:\n",
    "                continue\n",
    "            for var_type, x_all in top_level['x'].items():\n",
    "                for result_dist, y_all in top_level['y'].items():\n",
    "                    params = '_'.join([kern, agg_name, var_type, result_dist])\n",
    "                    print('Testing:', params)\n",
    "                    start = time.time()\n",
    "                    x, y = x_and_y(x_all, y_all)\n",
    "                    result = cv(x, y, x_all, y_all, kern, var_type)\n",
    "                    results[kern][agg_name][var_type][result_dist] = result\n",
    "                    end = time.time()\n",
    "                    print('Accuracy:', result['Avg. score'])\n",
    "                    print('Time elapsed (sec):', end - start)\n",
    "                    pickle_results(result, params)\n",
    "                    print('Results saved to disk')\n",
    "    \n",
    "    return results"
   ]
  },
  {
   "cell_type": "code",
   "execution_count": 13,
   "metadata": {},
   "outputs": [],
   "source": [
    "def create_results(x_test, densities):\n",
    "    results = {}\n",
    "    for index, x in enumerate(x_test):\n",
    "        results[(tuple(x))] = densities[index]\n",
    "    return results"
   ]
  },
  {
   "cell_type": "markdown",
   "metadata": {},
   "source": [
    "## Run through"
   ]
  },
  {
   "cell_type": "code",
   "execution_count": 14,
   "metadata": {
    "scrolled": false
   },
   "outputs": [
    {
     "name": "stderr",
     "output_type": "stream",
     "text": [
      "W0730 15:39:58.209649 139766515070720 deprecation_wrapper.py:119] From /home/ubuntu/anaconda3/envs/python3/lib/python3.7/site-packages/gpflow/core/node.py:109: The name tf.get_default_graph is deprecated. Please use tf.compat.v1.get_default_graph instead.\n",
      "\n",
      "W0730 15:39:58.232968 139766515070720 deprecation_wrapper.py:119] From /home/ubuntu/anaconda3/envs/python3/lib/python3.7/site-packages/gpflow/params/parameter.py:388: The name tf.placeholder is deprecated. Please use tf.compat.v1.placeholder instead.\n",
      "\n",
      "W0730 15:39:58.237183 139766515070720 deprecation_wrapper.py:119] From /home/ubuntu/anaconda3/envs/python3/lib/python3.7/site-packages/gpflow/params/parameter.py:394: The name tf.get_variable is deprecated. Please use tf.compat.v1.get_variable instead.\n",
      "\n"
     ]
    },
    {
     "name": "stdout",
     "output_type": "stream",
     "text": [
      "Testing: Matern12_agg_cont_share\n"
     ]
    },
    {
     "name": "stderr",
     "output_type": "stream",
     "text": [
      "W0730 15:39:58.972429 139766515070720 deprecation.py:323] From /home/ubuntu/anaconda3/envs/python3/lib/python3.7/site-packages/tensorflow/python/ops/array_grad.py:199: add_dispatch_support.<locals>.wrapper (from tensorflow.python.ops.array_ops) is deprecated and will be removed in a future version.\n",
      "Instructions for updating:\n",
      "Use tf.where in 2.0, which has the same broadcast rule as np.where\n"
     ]
    },
    {
     "name": "stdout",
     "output_type": "stream",
     "text": [
      "Fold tested in (sec): 3.0604515075683594\n",
      "Fold tested in (sec): 3.0964407920837402\n",
      "Fold tested in (sec): 4.364148855209351\n",
      "Fold tested in (sec): 4.925512790679932\n",
      "Fold tested in (sec): 5.727909326553345\n",
      "Accuracy: 0.2416666666666667\n",
      "Time elapsed (sec): 21.181183338165283\n",
      "Results saved to disk\n",
      "Testing: Matern12_agg_cont_share_binned\n",
      "Fold tested in (sec): 6.94967794418335\n",
      "Fold tested in (sec): 7.104523181915283\n",
      "Fold tested in (sec): 8.55574655532837\n",
      "Fold tested in (sec): 8.908057451248169\n",
      "Fold tested in (sec): 9.60049819946289\n",
      "Accuracy: 0.6666666666666666\n",
      "Time elapsed (sec): 41.126593828201294\n",
      "Results saved to disk\n",
      "Testing: Matern12_agg_disc_share\n",
      "Fold tested in (sec): 10.888101577758789\n",
      "Fold tested in (sec): 12.252338886260986\n",
      "Fold tested in (sec): 11.98802924156189\n",
      "Fold tested in (sec): 14.063151836395264\n",
      "Fold tested in (sec): 14.391908645629883\n",
      "Accuracy: 0.23333333333333334\n",
      "Time elapsed (sec): 63.587482929229736\n",
      "Results saved to disk\n",
      "Testing: Matern12_agg_disc_share_binned\n",
      "Fold tested in (sec): 13.552513599395752\n",
      "Fold tested in (sec): 14.435805797576904\n",
      "Fold tested in (sec): 13.995383501052856\n",
      "Fold tested in (sec): 17.306989669799805\n",
      "Fold tested in (sec): 18.39961075782776\n",
      "Accuracy: 0.7416666666666666\n",
      "Time elapsed (sec): 77.6941339969635\n",
      "Results saved to disk\n",
      "Testing: Matern12_ind_cont_share\n",
      "Fold tested in (sec): 488.0336573123932\n",
      "Fold tested in (sec): 471.392550945282\n",
      "Fold tested in (sec): 416.1607463359833\n",
      "Fold tested in (sec): 497.4329960346222\n",
      "Fold tested in (sec): 448.5709881782532\n",
      "Accuracy: 0.2918193795664151\n",
      "Time elapsed (sec): 2321.61243391037\n",
      "Results saved to disk\n",
      "Testing: Matern12_ind_cont_share_binned\n",
      "Fold tested in (sec): 890.0396301746368\n",
      "Fold tested in (sec): 746.8470482826233\n",
      "Fold tested in (sec): 868.1555502414703\n",
      "Fold tested in (sec): 993.885262966156\n",
      "Fold tested in (sec): 1148.5694861412048\n",
      "Accuracy: 0.6825873072908646\n",
      "Time elapsed (sec): 4647.520777463913\n",
      "Results saved to disk\n",
      "Testing: Matern12_ind_disc_share\n",
      "Fold tested in (sec): 489.10154724121094\n",
      "Fold tested in (sec): 486.98003005981445\n",
      "Fold tested in (sec): 427.48523473739624\n",
      "Fold tested in (sec): 500.4098811149597\n",
      "Fold tested in (sec): 449.2143249511719\n",
      "Accuracy: 0.2918193795664151\n",
      "Time elapsed (sec): 2353.1991539001465\n",
      "Results saved to disk\n",
      "Testing: Matern12_ind_disc_share_binned\n",
      "Fold tested in (sec): 880.9350140094757\n",
      "Fold tested in (sec): 754.7507495880127\n",
      "Fold tested in (sec): 876.5932011604309\n",
      "Fold tested in (sec): 976.2446382045746\n",
      "Fold tested in (sec): 1097.397668838501\n",
      "Accuracy: 0.6825873072908646\n",
      "Time elapsed (sec): 4585.947032690048\n",
      "Results saved to disk\n",
      "Testing: Matern32_agg_cont_share\n",
      "Fold tested in (sec): 65.88423991203308\n",
      "Fold tested in (sec): 58.95034456253052\n",
      "Fold tested in (sec): 63.54709768295288\n",
      "Fold tested in (sec): 65.0328688621521\n",
      "Fold tested in (sec): 61.792903900146484\n",
      "Accuracy: 0.16666666666666669\n",
      "Time elapsed (sec): 315.21073484420776\n",
      "Results saved to disk\n",
      "Testing: Matern32_agg_cont_share_binned\n",
      "Fold tested in (sec): 68.90171098709106\n",
      "Fold tested in (sec): 63.8568115234375\n",
      "Fold tested in (sec): 72.92493605613708\n",
      "Fold tested in (sec): 60.78089618682861\n",
      "Fold tested in (sec): 73.625985622406\n",
      "Accuracy: 0.6916666666666667\n",
      "Time elapsed (sec): 340.10719776153564\n",
      "Results saved to disk\n",
      "Testing: Matern32_agg_disc_share\n",
      "Fold tested in (sec): 63.07024383544922\n",
      "Fold tested in (sec): 75.4212167263031\n",
      "Fold tested in (sec): 65.64448165893555\n",
      "Fold tested in (sec): 78.94490551948547\n",
      "Fold tested in (sec): 59.1702139377594\n",
      "Accuracy: 0.23333333333333334\n",
      "Time elapsed (sec): 342.25380969047546\n",
      "Results saved to disk\n",
      "Testing: Matern32_agg_disc_share_binned\n",
      "Fold tested in (sec): 67.51343321800232\n",
      "Fold tested in (sec): 66.40373826026917\n",
      "Fold tested in (sec): 66.00018525123596\n",
      "Fold tested in (sec): 64.77229857444763\n",
      "Fold tested in (sec): 62.83148002624512\n",
      "Accuracy: 0.7416666666666666\n",
      "Time elapsed (sec): 327.5246090888977\n",
      "Results saved to disk\n",
      "Testing: Matern32_ind_cont_share\n",
      "Fold tested in (sec): 509.94450211524963\n",
      "Fold tested in (sec): 501.8833067417145\n",
      "Fold tested in (sec): 485.0503520965576\n",
      "Fold tested in (sec): 510.78296184539795\n",
      "Fold tested in (sec): 461.9592227935791\n",
      "Accuracy: 0.2918193795664151\n",
      "Time elapsed (sec): 2469.630311489105\n",
      "Results saved to disk\n",
      "Testing: Matern32_ind_cont_share_binned\n",
      "Fold tested in (sec): 832.4897713661194\n",
      "Fold tested in (sec): 843.6807353496552\n",
      "Fold tested in (sec): 774.542807340622\n",
      "Fold tested in (sec): 701.2429859638214\n",
      "Fold tested in (sec): 708.2733860015869\n",
      "Accuracy: 0.6825873072908646\n",
      "Time elapsed (sec): 3860.269137620926\n",
      "Results saved to disk\n",
      "Testing: Matern32_ind_disc_share\n",
      "Fold tested in (sec): 507.439115524292\n",
      "Fold tested in (sec): 494.7301640510559\n",
      "Fold tested in (sec): 485.57041335105896\n",
      "Fold tested in (sec): 513.9399576187134\n",
      "Fold tested in (sec): 457.4349105358124\n",
      "Accuracy: 0.2918193795664151\n",
      "Time elapsed (sec): 2459.137858390808\n",
      "Results saved to disk\n",
      "Testing: Matern32_ind_disc_share_binned\n",
      "Fold tested in (sec): 819.9395403862\n",
      "Fold tested in (sec): 845.566502571106\n",
      "Fold tested in (sec): 800.2471027374268\n",
      "Fold tested in (sec): 752.2039334774017\n",
      "Fold tested in (sec): 761.8061625957489\n",
      "Accuracy: 0.6825873072908646\n",
      "Time elapsed (sec): 3979.7756011486053\n",
      "Results saved to disk\n",
      "Testing: Matern52_agg_cont_share\n",
      "Fold tested in (sec): 111.6980094909668\n",
      "Fold tested in (sec): 125.67688059806824\n",
      "Fold tested in (sec): 115.87387442588806\n",
      "Fold tested in (sec): 120.17679691314697\n",
      "Fold tested in (sec): 123.99227380752563\n",
      "Accuracy: 0.16666666666666669\n",
      "Time elapsed (sec): 597.4211957454681\n",
      "Results saved to disk\n",
      "Testing: Matern52_agg_cont_share_binned\n",
      "Fold tested in (sec): 120.85080814361572\n",
      "Fold tested in (sec): 120.14042639732361\n",
      "Fold tested in (sec): 131.19794273376465\n",
      "Fold tested in (sec): 123.56009984016418\n",
      "Fold tested in (sec): 128.71369647979736\n",
      "Accuracy: 0.7416666666666666\n",
      "Time elapsed (sec): 624.4665229320526\n",
      "Results saved to disk\n",
      "Testing: Matern52_agg_disc_share\n",
      "Fold tested in (sec): 123.39078736305237\n",
      "Fold tested in (sec): 124.58898687362671\n",
      "Fold tested in (sec): 122.51181364059448\n",
      "Fold tested in (sec): 135.41569328308105\n",
      "Fold tested in (sec): 121.00216579437256\n",
      "Accuracy: 0.23333333333333334\n",
      "Time elapsed (sec): 626.9119300842285\n",
      "Results saved to disk\n",
      "Testing: Matern52_agg_disc_share_binned\n",
      "Fold tested in (sec): 133.90586709976196\n",
      "Fold tested in (sec): 127.3602442741394\n",
      "Fold tested in (sec): 133.28459239006042\n",
      "Fold tested in (sec): 127.94203090667725\n",
      "Fold tested in (sec): 138.91029691696167\n",
      "Accuracy: 0.7333333333333332\n",
      "Time elapsed (sec): 661.4063339233398\n",
      "Results saved to disk\n",
      "Testing: Matern52_ind_cont_share\n",
      "Fold tested in (sec): 553.1875574588776\n",
      "Fold tested in (sec): 525.369622707367\n",
      "Fold tested in (sec): 556.6123616695404\n",
      "Fold tested in (sec): 540.2777049541473\n",
      "Fold tested in (sec): 500.9362144470215\n",
      "Accuracy: 0.2918193795664151\n",
      "Time elapsed (sec): 2676.4202201366425\n",
      "Results saved to disk\n",
      "Testing: Matern52_ind_cont_share_binned\n",
      "Fold tested in (sec): 789.3420226573944\n",
      "Fold tested in (sec): 807.5210416316986\n",
      "Fold tested in (sec): 840.029114484787\n",
      "Fold tested in (sec): 1115.4048936367035\n",
      "Fold tested in (sec): 715.6508400440216\n",
      "Accuracy: 0.6825873072908646\n",
      "Time elapsed (sec): 4267.961030960083\n",
      "Results saved to disk\n",
      "Testing: Matern52_ind_disc_share\n",
      "Fold tested in (sec): 592.7096590995789\n",
      "Fold tested in (sec): 494.13870215415955\n",
      "Fold tested in (sec): 344.8820769786835\n",
      "Fold tested in (sec): 347.0338122844696\n",
      "Fold tested in (sec): 320.34038376808167\n",
      "Accuracy: 0.2918193795664151\n",
      "Time elapsed (sec): 2099.139045715332\n",
      "Results saved to disk\n",
      "Testing: Matern52_ind_disc_share_binned\n",
      "Fold tested in (sec): 445.2015190124512\n",
      "Fold tested in (sec): 436.1052815914154\n",
      "Fold tested in (sec): 473.96355390548706\n",
      "Fold tested in (sec): 644.5656628608704\n",
      "Fold tested in (sec): 427.3528940677643\n",
      "Accuracy: 0.6825873072908646\n",
      "Time elapsed (sec): 2427.1942658424377\n",
      "Results saved to disk\n",
      "Testing: RBF_agg_cont_share\n",
      "Fold tested in (sec): 120.92301273345947\n",
      "Fold tested in (sec): 123.08200788497925\n",
      "Fold tested in (sec): 121.92828631401062\n",
      "Fold tested in (sec): 123.1352334022522\n",
      "Fold tested in (sec): 123.21013879776001\n",
      "Accuracy: 0.20833333333333334\n",
      "Time elapsed (sec): 612.2814800739288\n",
      "Results saved to disk\n",
      "Testing: RBF_agg_cont_share_binned\n",
      "Fold tested in (sec): 125.35707759857178\n"
     ]
    },
    {
     "name": "stdout",
     "output_type": "stream",
     "text": [
      "Fold tested in (sec): 124.21686816215515\n",
      "Fold tested in (sec): 126.16918802261353\n",
      "Fold tested in (sec): 125.201908826828\n",
      "Fold tested in (sec): 126.81310081481934\n",
      "Accuracy: 0.7416666666666666\n",
      "Time elapsed (sec): 627.7611107826233\n",
      "Results saved to disk\n",
      "Testing: RBF_agg_disc_share\n",
      "Fold tested in (sec): 126.556312084198\n",
      "Fold tested in (sec): 128.01990509033203\n",
      "Fold tested in (sec): 127.65163612365723\n",
      "Fold tested in (sec): 129.75132179260254\n",
      "Fold tested in (sec): 128.52014136314392\n",
      "Accuracy: 0.23333333333333334\n",
      "Time elapsed (sec): 640.5022282600403\n",
      "Results saved to disk\n",
      "Testing: RBF_agg_disc_share_binned\n",
      "Fold tested in (sec): 129.8426640033722\n",
      "Fold tested in (sec): 129.83310866355896\n",
      "Fold tested in (sec): 131.13194608688354\n",
      "Fold tested in (sec): 130.0711522102356\n",
      "Fold tested in (sec): 131.87554669380188\n",
      "Accuracy: 0.7333333333333332\n",
      "Time elapsed (sec): 652.7569487094879\n",
      "Results saved to disk\n",
      "Testing: RBF_ind_cont_share\n",
      "Fold tested in (sec): 395.1233284473419\n",
      "Fold tested in (sec): 412.87451457977295\n",
      "Fold tested in (sec): 368.65966057777405\n",
      "Fold tested in (sec): 408.1754791736603\n",
      "Fold tested in (sec): 402.1080195903778\n",
      "Accuracy: 0.2918193795664151\n",
      "Time elapsed (sec): 1986.9467990398407\n",
      "Results saved to disk\n",
      "Testing: RBF_ind_cont_share_binned\n",
      "Fold tested in (sec): 473.0345904827118\n",
      "Fold tested in (sec): 479.48924827575684\n",
      "Fold tested in (sec): 474.55529141426086\n",
      "Fold tested in (sec): 477.83771419525146\n",
      "Fold tested in (sec): 533.6707050800323\n",
      "Accuracy: 0.6825873072908646\n",
      "Time elapsed (sec): 2438.5935401916504\n",
      "Results saved to disk\n",
      "Testing: RBF_ind_disc_share\n",
      "Fold tested in (sec): 406.6121940612793\n",
      "Fold tested in (sec): 428.8673675060272\n",
      "Fold tested in (sec): 382.92548871040344\n",
      "Fold tested in (sec): 421.6977858543396\n",
      "Fold tested in (sec): 414.87451672554016\n",
      "Accuracy: 0.2918193795664151\n",
      "Time elapsed (sec): 2054.982443332672\n",
      "Results saved to disk\n",
      "Testing: RBF_ind_disc_share_binned\n",
      "Fold tested in (sec): 489.43427538871765\n",
      "Fold tested in (sec): 496.2283842563629\n",
      "Fold tested in (sec): 492.4711480140686\n",
      "Fold tested in (sec): 495.80032777786255\n",
      "Fold tested in (sec): 551.355721950531\n",
      "Accuracy: 0.6825873072908646\n",
      "Time elapsed (sec): 2525.295116662979\n",
      "Results saved to disk\n"
     ]
    }
   ],
   "source": [
    "results = grid_search(agg_level)"
   ]
  },
  {
   "cell_type": "code",
   "execution_count": null,
   "metadata": {},
   "outputs": [],
   "source": [
    "best_result = organize_results(results)"
   ]
  },
  {
   "cell_type": "code",
   "execution_count": null,
   "metadata": {},
   "outputs": [],
   "source": [
    "pickle_results(best_results, 'best')"
   ]
  },
  {
   "cell_type": "markdown",
   "metadata": {},
   "source": [
    "## Scratchpad"
   ]
  },
  {
   "cell_type": "code",
   "execution_count": null,
   "metadata": {},
   "outputs": [],
   "source": [
    "with open('gp_results/Matern12_agg_cont_share.pkl', 'rb') as f:\n",
    "    results = pickle.load(f)"
   ]
  },
  {
   "cell_type": "code",
   "execution_count": null,
   "metadata": {},
   "outputs": [],
   "source": [
    "len(results[2][1])"
   ]
  },
  {
   "cell_type": "code",
   "execution_count": null,
   "metadata": {},
   "outputs": [],
   "source": [
    "len(results[2])"
   ]
  },
  {
   "cell_type": "code",
   "execution_count": null,
   "metadata": {},
   "outputs": [],
   "source": [
    "df = pd.DataFrame(results[2][0][1])\n",
    "df.head()"
   ]
  },
  {
   "cell_type": "code",
   "execution_count": null,
   "metadata": {},
   "outputs": [],
   "source": [
    "kern = gpflow.kernels.Matern32(1)"
   ]
  },
  {
   "cell_type": "code",
   "execution_count": null,
   "metadata": {},
   "outputs": [],
   "source": [
    "x = datasets[0][0][0] \n",
    "y = datasets[0][1][0]"
   ]
  },
  {
   "cell_type": "code",
   "execution_count": null,
   "metadata": {},
   "outputs": [],
   "source": [
    "x, y = x_and_y(x, y)"
   ]
  },
  {
   "cell_type": "code",
   "execution_count": null,
   "metadata": {},
   "outputs": [],
   "source": [
    "likelihood = create_likelihood(y_all)"
   ]
  },
  {
   "cell_type": "code",
   "execution_count": null,
   "metadata": {},
   "outputs": [],
   "source": [
    "kf = KFold(n_splits=5)\n",
    "scores = []\n",
    "all_densities = []\n",
    "\n",
    "for train_index, test_index in kf.split(x):\n",
    "    x_train, x_test = x[train_index], x[test_index]\n",
    "    y_train, y_test = y[train_index], y[test_index]\n",
    "    model = build_model(x_train, y_train, kern, likelihood)\n",
    "    densities = test_model(model, x_test)\n",
    "    scores.append(accuracy(y_test, densities))\n",
    "    all_densities.append((x_test, densities))"
   ]
  },
  {
   "cell_type": "code",
   "execution_count": null,
   "metadata": {
    "scrolled": true
   },
   "outputs": [],
   "source": [
    "for index, kern in enumerate(kernels):\n",
    "    for top_level in datasets:\n",
    "        for x_all in top_level[0]:\n",
    "            for y_all in top_level[1]:\n",
    "                print(index)\n",
    "                x, y = x_and_y(x_all, y_all)\n",
    "                x = [int(a) for a in x]\n",
    "                y = [int(a) for a in y]\n",
    "                print(pd.DataFrame(y).isstr().values.any())\n",
    "                break"
   ]
  },
  {
   "cell_type": "code",
   "execution_count": null,
   "metadata": {},
   "outputs": [],
   "source": [
    "# construct ordinal likelihood - bin_edges is the same as unique(Y) but centered\n",
    "\n",
    "bin_edges = np.array(np.arange(np.unique(y_share['y']).size + 1), dtype=float)\n",
    "# Need to check in on this, tutorial does the below which ends up with negative bins\n",
    "# bin_edges = bin_edges - bin_edges.mean()\n",
    "bin_edges = bin_edges - .5\n",
    "likelihood = gpflow.likelihoods.Ordinal(bin_edges)\n",
    "\n",
    "# create X and y\n",
    "\n",
    "X = np.array(x)\n",
    "y = np.array(y_share['y'].replace(['decrease', 'constant', 'increase'], [0, 1, 2])).reshape(120,1)"
   ]
  },
  {
   "cell_type": "code",
   "execution_count": null,
   "metadata": {},
   "outputs": [],
   "source": [
    "x[:1].shape"
   ]
  },
  {
   "cell_type": "code",
   "execution_count": null,
   "metadata": {},
   "outputs": [],
   "source": [
    "y_abs['y'][0]"
   ]
  },
  {
   "cell_type": "code",
   "execution_count": null,
   "metadata": {},
   "outputs": [],
   "source": [
    "mu, var = gaussian_model.predict_y(x[:1])"
   ]
  },
  {
   "cell_type": "code",
   "execution_count": null,
   "metadata": {},
   "outputs": [],
   "source": [
    "mu"
   ]
  },
  {
   "cell_type": "code",
   "execution_count": null,
   "metadata": {},
   "outputs": [],
   "source": [
    "var"
   ]
  },
  {
   "cell_type": "code",
   "execution_count": null,
   "metadata": {},
   "outputs": [],
   "source": [
    "bin_edges"
   ]
  },
  {
   "cell_type": "code",
   "execution_count": null,
   "metadata": {},
   "outputs": [],
   "source": [
    "mu = []\n",
    "var = []\n",
    "\n",
    "for x_test in np.array(x):\n",
    "    m, v = gaussian_model.predict_y([x_test])\n",
    "    mu.append(m)\n",
    "    var.append(v)"
   ]
  },
  {
   "cell_type": "code",
   "execution_count": null,
   "metadata": {},
   "outputs": [],
   "source": [
    "mu"
   ]
  },
  {
   "cell_type": "code",
   "execution_count": null,
   "metadata": {},
   "outputs": [],
   "source": [
    "gaussian_model"
   ]
  },
  {
   "cell_type": "code",
   "execution_count": null,
   "metadata": {},
   "outputs": [],
   "source": [
    "gaussian_model.Y.read_value()"
   ]
  },
  {
   "cell_type": "code",
   "execution_count": null,
   "metadata": {},
   "outputs": [],
   "source": [
    "import matplotlib\n",
    "%matplotlib inline\n",
    "plt = matplotlib.pyplot"
   ]
  },
  {
   "cell_type": "code",
   "execution_count": null,
   "metadata": {},
   "outputs": [],
   "source": [
    "m = gaussian_model\n",
    "\n",
    "# Predictive density for a single input x=0.5\n",
    "x_new = X[0]\n",
    "ys = np.arange(np.max(m.Y.value+1)).reshape([-1, 1])\n",
    "x_new_vec = x_new*np.ones_like(ys)\n",
    "# for predict_density x and y need to have the same number of rows\n",
    "dens_new = np.exp(m.predict_density(x_new_vec, ys))\n",
    "fig = plt.figure(figsize=(8, 4))\n",
    "plt.bar(x=ys.flatten(), height=dens_new.flatten())"
   ]
  },
  {
   "cell_type": "code",
   "execution_count": null,
   "metadata": {},
   "outputs": [],
   "source": [
    "dens_new"
   ]
  },
  {
   "cell_type": "code",
   "execution_count": null,
   "metadata": {},
   "outputs": [],
   "source": [
    "import time\n",
    "\n",
    "print('Testing: Matern12 ind disc share_binned')\n",
    "kern = 'Matern12'\n",
    "start = time.time()\n",
    "x, y = x_and_y(x_disc_ind, y_share_bin_ind)\n",
    "result = cv(x, y, y_share_bin_ind, kern)\n",
    "end = time.time()\n",
    "print('Accuracy:', result[0])\n",
    "print('Time elapsed (sec):', end - start)"
   ]
  },
  {
   "cell_type": "code",
   "execution_count": null,
   "metadata": {},
   "outputs": [],
   "source": []
  }
 ],
 "metadata": {
  "kernelspec": {
   "display_name": "Python 3",
   "language": "python",
   "name": "python3"
  },
  "language_info": {
   "codemirror_mode": {
    "name": "ipython",
    "version": 3
   },
   "file_extension": ".py",
   "mimetype": "text/x-python",
   "name": "python",
   "nbconvert_exporter": "python",
   "pygments_lexer": "ipython3",
   "version": "3.7.3"
  }
 },
 "nbformat": 4,
 "nbformat_minor": 2
}
