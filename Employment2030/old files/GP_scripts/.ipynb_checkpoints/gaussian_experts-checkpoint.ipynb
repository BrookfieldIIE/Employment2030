{
 "cells": [
  {
   "cell_type": "markdown",
   "metadata": {},
   "source": [
    "## Setup"
   ]
  },
  {
   "cell_type": "code",
   "execution_count": 1,
   "metadata": {},
   "outputs": [],
   "source": [
    "import os\n",
    "os.environ['TF_CPP_MIN_LOG_LEVEL'] = '3' "
   ]
  },
  {
   "cell_type": "code",
   "execution_count": 2,
   "metadata": {},
   "outputs": [
    {
     "name": "stderr",
     "output_type": "stream",
     "text": [
      "WARNING: Logging before flag parsing goes to stderr.\n",
      "W0823 16:28:00.654061 4486563264 deprecation_wrapper.py:119] From /Users/rob/.pyenv/versions/brookfield/lib/python3.5/site-packages/gpflow/session_manager.py:31: The name tf.Session is deprecated. Please use tf.compat.v1.Session instead.\n",
      "\n",
      "W0823 16:28:00.657891 4486563264 deprecation_wrapper.py:119] From /Users/rob/.pyenv/versions/brookfield/lib/python3.5/site-packages/gpflow/misc.py:27: The name tf.GraphKeys is deprecated. Please use tf.compat.v1.GraphKeys instead.\n",
      "\n",
      "W0823 16:28:00.756320 4486563264 deprecation_wrapper.py:119] From /Users/rob/.pyenv/versions/brookfield/lib/python3.5/site-packages/gpflow/training/tensorflow_optimizer.py:169: The name tf.train.AdadeltaOptimizer is deprecated. Please use tf.compat.v1.train.AdadeltaOptimizer instead.\n",
      "\n",
      "W0823 16:28:00.757165 4486563264 deprecation_wrapper.py:119] From /Users/rob/.pyenv/versions/brookfield/lib/python3.5/site-packages/gpflow/training/tensorflow_optimizer.py:156: The name tf.train.Optimizer is deprecated. Please use tf.compat.v1.train.Optimizer instead.\n",
      "\n",
      "W0823 16:28:00.758150 4486563264 deprecation_wrapper.py:119] From /Users/rob/.pyenv/versions/brookfield/lib/python3.5/site-packages/gpflow/training/tensorflow_optimizer.py:169: The name tf.train.AdagradDAOptimizer is deprecated. Please use tf.compat.v1.train.AdagradDAOptimizer instead.\n",
      "\n",
      "W0823 16:28:00.759752 4486563264 deprecation_wrapper.py:119] From /Users/rob/.pyenv/versions/brookfield/lib/python3.5/site-packages/gpflow/training/tensorflow_optimizer.py:169: The name tf.train.AdagradOptimizer is deprecated. Please use tf.compat.v1.train.AdagradOptimizer instead.\n",
      "\n",
      "W0823 16:28:00.763354 4486563264 deprecation_wrapper.py:119] From /Users/rob/.pyenv/versions/brookfield/lib/python3.5/site-packages/gpflow/training/tensorflow_optimizer.py:169: The name tf.train.AdamOptimizer is deprecated. Please use tf.compat.v1.train.AdamOptimizer instead.\n",
      "\n",
      "W0823 16:28:00.776151 4486563264 deprecation_wrapper.py:119] From /Users/rob/.pyenv/versions/brookfield/lib/python3.5/site-packages/gpflow/saver/coders.py:80: The name tf.data.Iterator is deprecated. Please use tf.compat.v1.data.Iterator instead.\n",
      "\n"
     ]
    }
   ],
   "source": [
    "%run gaussian_utils.ipynb\n",
    "\n",
    "from pathos.multiprocessing import ProcessingPool as Pool"
   ]
  },
  {
   "cell_type": "code",
   "execution_count": 3,
   "metadata": {},
   "outputs": [],
   "source": [
    "def test_with_experts(x_all, y_all, kern, name, agg_level, dist):\n",
    "    params = '_'.join([name, 'gp_experts'])\n",
    "    print('Testing:', params)\n",
    "    start = time.time()\n",
    "    x, y = x_and_y(x_all, y_all)\n",
    "    result = cv_experts(x, y, x_all, y_all, kern, agg_level, dist)\n",
    "    end = time.time()\n",
    "    print('Accuracy:', result['Avg. score'])\n",
    "    print('MSE:', result['Avg. mse'])\n",
    "    print('ROC:', result['Avg. roc'])\n",
    "    print('Confusion:', result['Confusion'])\n",
    "    print('Time elapsed (sec):', end - start)\n",
    "    pickle_results(result, params)\n",
    "    print('Results saved to disk')"
   ]
  },
  {
   "cell_type": "code",
   "execution_count": 4,
   "metadata": {},
   "outputs": [],
   "source": [
    "# do cross validation\n",
    "def cv_experts(x, y, x_all, y_all, kern, agg_level, dist):\n",
    "    x_all = x_all.drop(['noc', 'participant.id'], axis=1)\n",
    "    group = x_cont_ind['noc']\n",
    "    kf = GroupKFold(n_splits=5)\n",
    "    scores = []\n",
    "    results = []\n",
    "    mse = []\n",
    "    roc = []\n",
    "    total_confusion = defaultdict(lambda: defaultdict(int))\n",
    "\n",
    "    for train_index, test_index in kf.split(x, groups=group):\n",
    "        start = time.time()\n",
    "        x_train, x_test = x[train_index], x[test_index]\n",
    "        y_train, y_test = y[train_index], y[test_index]\n",
    "        x_test_all = x_all.iloc[test_index]\n",
    "        densities = gp_experts(x_train, y_train, y_all, kern, x_test)\n",
    "        scores.append(accuracy(y_test, densities))\n",
    "        mse_error, roc_error, confusion = calc_errors(x_test_all, densities, agg_level, dist)\n",
    "        mse.append(mse_error)\n",
    "        for y_t in confusion:\n",
    "            for y_p in confusion[y_t]:\n",
    "                total_confusion[y_t][y_p] += confusion[y_t][y_p]\n",
    "        results.append(create_results(x_test, densities))\n",
    "        end = time.time()\n",
    "        print('Fold tested in (sec):', end - start)\n",
    "\n",
    "    return {'Avg. score':  sum(scores)/len(scores),\n",
    "            'Avg. mse':    sum(mse)/len(mse),\n",
    "            'Avg. roc':    sum(roc)/len(roc),\n",
    "            'Confusion':   dict(total_confusion),\n",
    "            'All scores':  scores,\n",
    "            'All mse':     mse,\n",
    "            'All roc':     roc,\n",
    "            'All results': results}"
   ]
  },
  {
   "cell_type": "code",
   "execution_count": 7,
   "metadata": {},
   "outputs": [],
   "source": [
    "def gp_experts(x_train, y_train, y_all, kern, x_test):\n",
    "    def tester(model):\n",
    "        # Done to drop the first 3 rows of the data (workshop num, noc name and participant id)\n",
    "        xs = np.asarray([np.asarray(x[3:]).astype(float) for x in x_test])\n",
    "        densities = test_model(model, xs)\n",
    "        preds = [np.argmax(d) for d in densities]\n",
    "        return preds\n",
    "    \n",
    "    def builder(params):\n",
    "        expert, data = params\n",
    "        kernel = get_kern(kern)\n",
    "        likelihood = create_likelihood(y_all)\n",
    "        model = build_model(np.asarray(data),\n",
    "                            ys[workshop][expert],\n",
    "                            likelihood,\n",
    "                            kernel)\n",
    "        preds = tester(model)\n",
    "        classes = np.max(model.Y.value + 1)\n",
    "        del model\n",
    "        return workshop, expert, classes, preds\n",
    "    \n",
    "    xs = defaultdict(lambda: defaultdict(list))\n",
    "    ys = defaultdict(lambda: defaultdict(list))\n",
    "    for index, x in enumerate(x_train):\n",
    "        xs[x[0]][x[2]].append(np.asarray(x[3:]).astype(float))\n",
    "        ys[x[0]][x[2]].append(y_train[index])\n",
    "    for workshop in xs:\n",
    "        print('Training workshop:', workshop)\n",
    "        with Pool() as pool:\n",
    "            results = pool.map(builder, xs[workshop].items())\n",
    "        break\n",
    "    experts = 0\n",
    "    densities = []\n",
    "    for i in range(len(results[0][3])):\n",
    "        density = []\n",
    "        for j in range(int(results[0][2])):\n",
    "            density.append([0])\n",
    "        densities.append(density)\n",
    "    for workshop, expert, classes, preds in results:\n",
    "        experts += 1\n",
    "        for index, pred in enumerate(preds):\n",
    "            densities[index][pred][0] += 1\n",
    "    for row in densities:\n",
    "        for d in row:\n",
    "            d[0] = d[0] / experts\n",
    "    return densities"
   ]
  },
  {
   "cell_type": "markdown",
   "metadata": {},
   "source": [
    "## Run through - experts"
   ]
  },
  {
   "cell_type": "code",
   "execution_count": 8,
   "metadata": {
    "scrolled": false
   },
   "outputs": [
    {
     "name": "stdout",
     "output_type": "stream",
     "text": [
      "Testing: Matern52_ind_cont_share_gp_experts\n",
      "Training workshop: 1\n",
      "Fold tested in (sec): 174.71498799324036\n"
     ]
    },
    {
     "ename": "UnboundLocalError",
     "evalue": "local variable 'models' referenced before assignment",
     "output_type": "error",
     "traceback": [
      "\u001b[0;31m---------------------------------------------------------------------------\u001b[0m",
      "\u001b[0;31mUnboundLocalError\u001b[0m                         Traceback (most recent call last)",
      "\u001b[0;32m<ipython-input-8-95dede99bc04>\u001b[0m in \u001b[0;36m<module>\u001b[0;34m\u001b[0m\n\u001b[0;32m----> 1\u001b[0;31m \u001b[0mtest_with_experts\u001b[0m\u001b[0;34m(\u001b[0m\u001b[0mx_cont_ind\u001b[0m\u001b[0;34m,\u001b[0m \u001b[0my_share_ind\u001b[0m\u001b[0;34m,\u001b[0m \u001b[0;34m'Matern52'\u001b[0m\u001b[0;34m,\u001b[0m \u001b[0;34m'Matern52_ind_cont_share'\u001b[0m\u001b[0;34m,\u001b[0m \u001b[0;34m'ind'\u001b[0m\u001b[0;34m,\u001b[0m \u001b[0;34m'cont'\u001b[0m\u001b[0;34m)\u001b[0m\u001b[0;34m\u001b[0m\u001b[0m\n\u001b[0m",
      "\u001b[0;32m<ipython-input-3-03575f7d56d3>\u001b[0m in \u001b[0;36mtest_with_experts\u001b[0;34m(x_all, y_all, kern, name, agg_level, dist)\u001b[0m\n\u001b[1;32m      4\u001b[0m     \u001b[0mstart\u001b[0m \u001b[0;34m=\u001b[0m \u001b[0mtime\u001b[0m\u001b[0;34m.\u001b[0m\u001b[0mtime\u001b[0m\u001b[0;34m(\u001b[0m\u001b[0;34m)\u001b[0m\u001b[0;34m\u001b[0m\u001b[0m\n\u001b[1;32m      5\u001b[0m     \u001b[0mx\u001b[0m\u001b[0;34m,\u001b[0m \u001b[0my\u001b[0m \u001b[0;34m=\u001b[0m \u001b[0mx_and_y\u001b[0m\u001b[0;34m(\u001b[0m\u001b[0mx_all\u001b[0m\u001b[0;34m,\u001b[0m \u001b[0my_all\u001b[0m\u001b[0;34m)\u001b[0m\u001b[0;34m\u001b[0m\u001b[0m\n\u001b[0;32m----> 6\u001b[0;31m     \u001b[0mresult\u001b[0m \u001b[0;34m=\u001b[0m \u001b[0mcv_experts\u001b[0m\u001b[0;34m(\u001b[0m\u001b[0mx\u001b[0m\u001b[0;34m,\u001b[0m \u001b[0my\u001b[0m\u001b[0;34m,\u001b[0m \u001b[0mx_all\u001b[0m\u001b[0;34m,\u001b[0m \u001b[0my_all\u001b[0m\u001b[0;34m,\u001b[0m \u001b[0mkern\u001b[0m\u001b[0;34m,\u001b[0m \u001b[0magg_level\u001b[0m\u001b[0;34m,\u001b[0m \u001b[0mdist\u001b[0m\u001b[0;34m)\u001b[0m\u001b[0;34m\u001b[0m\u001b[0m\n\u001b[0m\u001b[1;32m      7\u001b[0m     \u001b[0mend\u001b[0m \u001b[0;34m=\u001b[0m \u001b[0mtime\u001b[0m\u001b[0;34m.\u001b[0m\u001b[0mtime\u001b[0m\u001b[0;34m(\u001b[0m\u001b[0;34m)\u001b[0m\u001b[0;34m\u001b[0m\u001b[0m\n\u001b[1;32m      8\u001b[0m     \u001b[0mprint\u001b[0m\u001b[0;34m(\u001b[0m\u001b[0;34m'Accuracy:'\u001b[0m\u001b[0;34m,\u001b[0m \u001b[0mresult\u001b[0m\u001b[0;34m[\u001b[0m\u001b[0;34m'Avg. score'\u001b[0m\u001b[0;34m]\u001b[0m\u001b[0;34m)\u001b[0m\u001b[0;34m\u001b[0m\u001b[0m\n",
      "\u001b[0;32m<ipython-input-4-42a57d2fb7aa>\u001b[0m in \u001b[0;36mcv_experts\u001b[0;34m(x, y, x_all, y_all, kern, agg_level, dist)\u001b[0m\n\u001b[1;32m     25\u001b[0m         \u001b[0mend\u001b[0m \u001b[0;34m=\u001b[0m \u001b[0mtime\u001b[0m\u001b[0;34m.\u001b[0m\u001b[0mtime\u001b[0m\u001b[0;34m(\u001b[0m\u001b[0;34m)\u001b[0m\u001b[0;34m\u001b[0m\u001b[0m\n\u001b[1;32m     26\u001b[0m         \u001b[0mprint\u001b[0m\u001b[0;34m(\u001b[0m\u001b[0;34m'Fold tested in (sec):'\u001b[0m\u001b[0;34m,\u001b[0m \u001b[0mend\u001b[0m \u001b[0;34m-\u001b[0m \u001b[0mstart\u001b[0m\u001b[0;34m)\u001b[0m\u001b[0;34m\u001b[0m\u001b[0m\n\u001b[0;32m---> 27\u001b[0;31m         \u001b[0;32mdel\u001b[0m \u001b[0mmodels\u001b[0m\u001b[0;34m\u001b[0m\u001b[0m\n\u001b[0m\u001b[1;32m     28\u001b[0m \u001b[0;34m\u001b[0m\u001b[0m\n\u001b[1;32m     29\u001b[0m     return {'Avg. score':  sum(scores)/len(scores),\n",
      "\u001b[0;31mUnboundLocalError\u001b[0m: local variable 'models' referenced before assignment"
     ]
    }
   ],
   "source": [
    "test_with_experts(x_cont_ind, y_share_ind, 'Matern52', 'Matern52_ind_cont_share', 'ind', 'cont')"
   ]
  },
  {
   "cell_type": "code",
   "execution_count": null,
   "metadata": {},
   "outputs": [],
   "source": [
    "test_with_experts(x_cont_ind, y_share_ind, 'RBF', 'RBF_ind_cont_share', 'ind', 'cont')"
   ]
  },
  {
   "cell_type": "code",
   "execution_count": null,
   "metadata": {},
   "outputs": [],
   "source": [
    "test_with_experts(x_cont_ind, y_share_bin_ind, 'Matern52', 'Matern52_ind_cont_share_binned', 'ind', 'cont')"
   ]
  },
  {
   "cell_type": "code",
   "execution_count": null,
   "metadata": {},
   "outputs": [],
   "source": [
    "test_with_experts(x_cont_ind, y_share_bin_ind, 'RBF', 'RBF_ind_cont_share_binned', 'ind', 'cont')"
   ]
  },
  {
   "cell_type": "code",
   "execution_count": null,
   "metadata": {},
   "outputs": [],
   "source": [
    "test_with_experts(x_disc_ind, y_share_ind, 'Matern52', 'Matern52_ind_disc_share', 'ind', 'disc')"
   ]
  },
  {
   "cell_type": "code",
   "execution_count": null,
   "metadata": {},
   "outputs": [],
   "source": [
    "test_with_experts(x_disc_ind, y_share_ind, 'RBF', 'RBF_ind_disc_share', 'ind', 'disc')"
   ]
  },
  {
   "cell_type": "code",
   "execution_count": null,
   "metadata": {},
   "outputs": [],
   "source": [
    "test_with_experts(x_disc_ind, y_share_bin_ind, 'Matern52', 'Matern52_ind_disc_share_binned', 'ind', 'disc')"
   ]
  },
  {
   "cell_type": "code",
   "execution_count": null,
   "metadata": {},
   "outputs": [],
   "source": [
    "test_with_experts(x_disc_ind, y_share_bin_ind, 'RBF', 'RBF_ind_disc_share_binned', 'ind', 'disc')"
   ]
  },
  {
   "cell_type": "markdown",
   "metadata": {},
   "source": [
    "## Scratchpad"
   ]
  },
  {
   "cell_type": "code",
   "execution_count": null,
   "metadata": {},
   "outputs": [],
   "source": []
  }
 ],
 "metadata": {
  "kernelspec": {
   "display_name": "brookfield",
   "language": "python",
   "name": "brookfield"
  },
  "language_info": {
   "codemirror_mode": {
    "name": "ipython",
    "version": 3
   },
   "file_extension": ".py",
   "mimetype": "text/x-python",
   "name": "python",
   "nbconvert_exporter": "python",
   "pygments_lexer": "ipython3",
   "version": "3.5.6"
  }
 },
 "nbformat": 4,
 "nbformat_minor": 2
}
