{
 "cells": [
  {
   "cell_type": "markdown",
   "metadata": {},
   "source": [
    "## Setup"
   ]
  },
  {
   "cell_type": "code",
   "execution_count": null,
   "metadata": {},
   "outputs": [],
   "source": [
    "%run gaussian_utils.ipynb"
   ]
  },
  {
   "cell_type": "code",
   "execution_count": null,
   "metadata": {},
   "outputs": [],
   "source": [
    "def tester(x_all, y_all, kern, name, agg_level, dist):\n",
    "    def run_test(scaler, normal):\n",
    "        start = time.time()\n",
    "        x, y = x_and_y(x_all, y_all)\n",
    "        scale_name = params\n",
    "        if scaler:\n",
    "            scale_name += '_' + scaler.__name__\n",
    "            x = scaler(x)\n",
    "        if normal: \n",
    "            x = normalize(x)\n",
    "            scale_name += '_' + normalize.__name__\n",
    "        print('Testing:', scale_name)\n",
    "        result = cv(x, y, x_all, y_all, kern, agg_level, dist, group)\n",
    "        end = time.time()\n",
    "        print('Accuracy:', result['Avg. score'])\n",
    "        print('MSE:', result['Avg. mse'])\n",
    "        print('MAE:', result['Avg. mae'])\n",
    "        print('ROC:', result['Avg. roc'])\n",
    "        print('Confusion:', result['Confusion'])\n",
    "        print('Time elapsed (sec):', end - start)\n",
    "        pickle_results(result, scale_name)\n",
    "        print('Results saved to disk')\n",
    "        \n",
    "    params = '/'.join(['full_model', 'all_features', name])\n",
    "    scales = [robust_scale, scale]\n",
    "    if agg_level == 'agg': \n",
    "        group = agg_nocs\n",
    "    else:                  \n",
    "        group = x_all['noc']\n",
    "#     for scaler in scales:\n",
    "#         for normal in range(2):\n",
    "#             run_test(scaler, normal)\n",
    "    run_test(scale, 1)"
   ]
  },
  {
   "cell_type": "markdown",
   "metadata": {},
   "source": [
    "## Run Through - Aggregate"
   ]
  },
  {
   "cell_type": "code",
   "execution_count": null,
   "metadata": {},
   "outputs": [],
   "source": [
    "tester(x_cont_agg, y_share_agg['y'], 'Matern52', 'Matern52_agg_cont_share', 'agg', 'cont')"
   ]
  },
  {
   "cell_type": "code",
   "execution_count": null,
   "metadata": {},
   "outputs": [],
   "source": [
    "tester(x_cont_agg, y_share_agg['y'], 'RBF', 'RBF_agg_cont_share', 'agg', 'cont')"
   ]
  },
  {
   "cell_type": "code",
   "execution_count": null,
   "metadata": {},
   "outputs": [],
   "source": [
    "tester(x_cont_agg, y_share_agg['binned_y'], 'Matern52', 'Matern52_agg_cont_share_binned', 'agg', 'cont')"
   ]
  },
  {
   "cell_type": "code",
   "execution_count": null,
   "metadata": {},
   "outputs": [],
   "source": [
    "# tester(x_cont_agg, y_share_agg['binned_y'], 'RBF', 'RBF_agg_cont_share_binned', 'agg', 'cont')"
   ]
  },
  {
   "cell_type": "code",
   "execution_count": null,
   "metadata": {},
   "outputs": [],
   "source": [
    "tester(x_disc_agg, y_share_agg['y'], 'Matern52', 'Matern52_agg_disc_share', 'agg', 'disc')"
   ]
  },
  {
   "cell_type": "code",
   "execution_count": null,
   "metadata": {},
   "outputs": [],
   "source": [
    "# tester(x_disc_agg, y_share_agg['y'], 'RBF', 'RBF_agg_disc_share', 'agg', 'disc')"
   ]
  },
  {
   "cell_type": "code",
   "execution_count": null,
   "metadata": {},
   "outputs": [],
   "source": [
    "# tester(x_disc_agg, y_share_agg['binned_y'], 'Matern52', 'Matern52_agg_disc_share_binned', 'agg', 'disc')"
   ]
  },
  {
   "cell_type": "code",
   "execution_count": null,
   "metadata": {},
   "outputs": [],
   "source": [
    "# tester(x_disc_agg, y_share_agg['binned_y'], 'RBF', 'RBF_agg_disc_share_binned', 'agg', 'disc')"
   ]
  },
  {
   "cell_type": "code",
   "execution_count": null,
   "metadata": {},
   "outputs": [],
   "source": []
  }
 ],
 "metadata": {
  "kernelspec": {
   "display_name": "brookfield",
   "language": "python",
   "name": "brookfield"
  },
  "language_info": {
   "codemirror_mode": {
    "name": "ipython",
    "version": 3
   },
   "file_extension": ".py",
   "mimetype": "text/x-python",
   "name": "python",
   "nbconvert_exporter": "python",
   "pygments_lexer": "ipython3",
   "version": "3.5.6"
  }
 },
 "nbformat": 4,
 "nbformat_minor": 2
}
