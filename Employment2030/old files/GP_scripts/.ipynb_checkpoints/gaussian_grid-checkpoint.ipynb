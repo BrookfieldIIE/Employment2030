{
 "cells": [
  {
   "cell_type": "markdown",
   "metadata": {},
   "source": [
    "## Setup"
   ]
  },
  {
   "cell_type": "code",
   "execution_count": 1,
   "metadata": {
    "scrolled": true
   },
   "outputs": [
    {
     "name": "stderr",
     "output_type": "stream",
     "text": [
      "WARNING: Logging before flag parsing goes to stderr.\n",
      "W0826 20:39:20.971848 139998766876416 deprecation_wrapper.py:119] From /home/ubuntu/anaconda3/envs/python3/lib/python3.7/site-packages/gpflow/session_manager.py:31: The name tf.Session is deprecated. Please use tf.compat.v1.Session instead.\n",
      "\n",
      "W0826 20:39:20.973255 139998766876416 deprecation_wrapper.py:119] From /home/ubuntu/anaconda3/envs/python3/lib/python3.7/site-packages/gpflow/misc.py:27: The name tf.GraphKeys is deprecated. Please use tf.compat.v1.GraphKeys instead.\n",
      "\n",
      "W0826 20:39:21.008322 139998766876416 deprecation_wrapper.py:119] From /home/ubuntu/anaconda3/envs/python3/lib/python3.7/site-packages/gpflow/saver/coders.py:80: The name tf.data.Iterator is deprecated. Please use tf.compat.v1.data.Iterator instead.\n",
      "\n"
     ]
    }
   ],
   "source": [
    "%run gaussian_utils.ipynb"
   ]
  },
  {
   "cell_type": "code",
   "execution_count": 2,
   "metadata": {
    "scrolled": true
   },
   "outputs": [],
   "source": [
    "def grid_search(agg_level):\n",
    "    results = rec_dd()\n",
    "\n",
    "    for kern in kernels:\n",
    "        for agg_name, top_level in datasets.items():\n",
    "            if agg_level != 'both' and agg_level != agg_name:\n",
    "                continue\n",
    "            for var_type, x_all in top_level['x'].items():\n",
    "                for result_dist, y_all in top_level['y'].items():\n",
    "                    params = '_'.join([kern, agg_name, var_type, result_dist])\n",
    "                    print('Testing:', params)\n",
    "                    start = time.time()\n",
    "                    x, y = x_and_y(x_all, y_all)\n",
    "                    result = cv(x, y, x_all, y_all, kern)\n",
    "                    results[kern][agg_name][var_type][result_dist] = result\n",
    "                    end = time.time()\n",
    "                    print('Accuracy:', result['Avg. score'])\n",
    "                    print('Time elapsed (sec):', end - start)\n",
    "                    pickle_results(result, params)\n",
    "                    print('Results saved to disk')\n",
    "    \n",
    "    return results"
   ]
  },
  {
   "cell_type": "code",
   "execution_count": 3,
   "metadata": {},
   "outputs": [],
   "source": [
    "def test_with_all(x_all, y_all, kern, name, agg_level, dist):\n",
    "    params = '_'.join([name, 'updated_mse'])\n",
    "    print('Testing:', params)\n",
    "    start = time.time()\n",
    "    if agg_level == 'ind': \n",
    "        cleaned_x = x_all.drop(['noc', 'participant.id'], axis=1)\n",
    "        group = x_all['noc']\n",
    "    else:                  \n",
    "        cleaned_x = x_all\n",
    "        group = agg_nocs\n",
    "    x, y = x_and_y(cleaned_x, y_all)\n",
    "    result = cv(x, y, x_all, y_all, kern, agg_level, dist, group)\n",
    "    end = time.time()\n",
    "    print('Accuracy:', result['Avg. score'])\n",
    "    print('MSE:', result['Avg. mse'])\n",
    "    print('ROC:', result['Avg. roc'])\n",
    "    print('Confusion:', result['Confusion'])\n",
    "    print('Time elapsed (sec):', end - start)\n",
    "    pickle_results(result, params)\n",
    "    print('Results saved to disk')"
   ]
  },
  {
   "cell_type": "markdown",
   "metadata": {},
   "source": [
    "## Run through - no feature selection"
   ]
  },
  {
   "cell_type": "markdown",
   "metadata": {},
   "source": [
    "### Aggregated"
   ]
  },
  {
   "cell_type": "code",
   "execution_count": 8,
   "metadata": {},
   "outputs": [
    {
     "name": "stderr",
     "output_type": "stream",
     "text": [
      "W0826 17:30:36.309441 139696683894528 deprecation_wrapper.py:119] From /home/ubuntu/anaconda3/envs/python3/lib/python3.7/site-packages/gpflow/core/node.py:109: The name tf.get_default_graph is deprecated. Please use tf.compat.v1.get_default_graph instead.\n",
      "\n",
      "W0826 17:30:36.327070 139696683894528 deprecation_wrapper.py:119] From /home/ubuntu/anaconda3/envs/python3/lib/python3.7/site-packages/gpflow/params/parameter.py:388: The name tf.placeholder is deprecated. Please use tf.compat.v1.placeholder instead.\n",
      "\n",
      "W0826 17:30:36.330123 139696683894528 deprecation_wrapper.py:119] From /home/ubuntu/anaconda3/envs/python3/lib/python3.7/site-packages/gpflow/params/parameter.py:394: The name tf.get_variable is deprecated. Please use tf.compat.v1.get_variable instead.\n",
      "\n"
     ]
    },
    {
     "name": "stdout",
     "output_type": "stream",
     "text": [
      "Testing: Matern52_agg_disc_share_updated_mse\n"
     ]
    },
    {
     "name": "stderr",
     "output_type": "stream",
     "text": [
      "W0826 17:30:36.979299 139696683894528 deprecation.py:323] From /home/ubuntu/anaconda3/envs/python3/lib/python3.7/site-packages/tensorflow/python/ops/math_grad.py:1205: add_dispatch_support.<locals>.wrapper (from tensorflow.python.ops.array_ops) is deprecated and will be removed in a future version.\n",
      "Instructions for updating:\n",
      "Use tf.where in 2.0, which has the same broadcast rule as np.where\n"
     ]
    },
    {
     "name": "stdout",
     "output_type": "stream",
     "text": [
      "Fold tested in (sec): 2.7493743896484375\n",
      "Fold tested in (sec): 3.139988422393799\n",
      "Fold tested in (sec): 3.9209039211273193\n",
      "Fold tested in (sec): 4.5041117668151855\n",
      "Fold tested in (sec): 5.453225135803223\n",
      "Accuracy: 0.2333333333333333\n",
      "MSE: 0.07036391737098222\n",
      "ROC: 0.5\n",
      "Confusion: {'increase': defaultdict(<class 'int'>, {'constant/not increase': 42}), 'decrease': defaultdict(<class 'int'>, {'constant/not increase': 52}), 'constant/not increase': defaultdict(<class 'int'>, {'constant/not increase': 26})}\n",
      "Time elapsed (sec): 19.770756483078003\n",
      "Results saved to disk\n"
     ]
    }
   ],
   "source": [
    "test_with_all(x_disc_agg, y_share_agg['y'], 'Matern52', 'Matern52_agg_disc_share', 'agg', 'disc')"
   ]
  },
  {
   "cell_type": "code",
   "execution_count": 9,
   "metadata": {},
   "outputs": [
    {
     "name": "stdout",
     "output_type": "stream",
     "text": [
      "Testing: RBF_agg_disc_share_updated_mse\n",
      "Fold tested in (sec): 6.26885199546814\n",
      "Fold tested in (sec): 7.182992219924927\n",
      "Fold tested in (sec): 7.607291221618652\n",
      "Fold tested in (sec): 8.498299360275269\n",
      "Fold tested in (sec): 9.566600322723389\n",
      "Accuracy: 0.2333333333333333\n",
      "MSE: 0.07036440153395393\n",
      "ROC: 0.5\n",
      "Confusion: {'increase': defaultdict(<class 'int'>, {'constant/not increase': 42}), 'decrease': defaultdict(<class 'int'>, {'constant/not increase': 52}), 'constant/not increase': defaultdict(<class 'int'>, {'constant/not increase': 26})}\n",
      "Time elapsed (sec): 39.127546548843384\n",
      "Results saved to disk\n"
     ]
    }
   ],
   "source": [
    "test_with_all(x_disc_agg, y_share_agg['y'], 'RBF', 'RBF_agg_disc_share', 'agg', 'disc')"
   ]
  },
  {
   "cell_type": "code",
   "execution_count": 10,
   "metadata": {},
   "outputs": [
    {
     "name": "stdout",
     "output_type": "stream",
     "text": [
      "Testing: Matern52_agg_cont_share_updated_mse\n",
      "Fold tested in (sec): 10.242303133010864\n",
      "Fold tested in (sec): 11.621914386749268\n",
      "Fold tested in (sec): 12.151954174041748\n",
      "Fold tested in (sec): 13.16329836845398\n",
      "Fold tested in (sec): 14.054580926895142\n",
      "Accuracy: 0.7416666666666667\n",
      "MSE: 0.08086280540523258\n",
      "ROC: 0.5\n",
      "Confusion: {'increase': defaultdict(<class 'int'>, {'constant/not increase': 31}), 'constant/not increase': defaultdict(<class 'int'>, {'constant/not increase': 89})}\n",
      "Time elapsed (sec): 61.23710751533508\n",
      "Results saved to disk\n"
     ]
    }
   ],
   "source": [
    "test_with_all(x_cont_agg, y_share_agg['binned_y'], 'Matern52', 'Matern52_agg_cont_share', 'agg', 'cont')"
   ]
  },
  {
   "cell_type": "code",
   "execution_count": 11,
   "metadata": {},
   "outputs": [
    {
     "name": "stdout",
     "output_type": "stream",
     "text": [
      "Testing: RBF_agg_cont_share_updated_mse\n",
      "Fold tested in (sec): 14.800757646560669\n",
      "Fold tested in (sec): 16.033303022384644\n",
      "Fold tested in (sec): 16.484281301498413\n",
      "Fold tested in (sec): 17.687464952468872\n",
      "Fold tested in (sec): 18.150896549224854\n",
      "Accuracy: 0.7416666666666667\n",
      "MSE: 0.07612497608829724\n",
      "ROC: 0.5\n",
      "Confusion: {'increase': defaultdict(<class 'int'>, {'constant/not increase': 31}), 'constant/not increase': defaultdict(<class 'int'>, {'constant/not increase': 89})}\n",
      "Time elapsed (sec): 83.15983963012695\n",
      "Results saved to disk\n"
     ]
    }
   ],
   "source": [
    "test_with_all(x_cont_agg, y_share_agg['binned_y'], 'RBF', 'RBF_agg_cont_share', 'agg', 'cont')"
   ]
  },
  {
   "cell_type": "markdown",
   "metadata": {},
   "source": [
    "### Individual"
   ]
  },
  {
   "cell_type": "code",
   "execution_count": 4,
   "metadata": {
    "scrolled": true
   },
   "outputs": [
    {
     "name": "stderr",
     "output_type": "stream",
     "text": [
      "W0826 17:35:59.066657 140275699226368 deprecation_wrapper.py:119] From /home/ubuntu/anaconda3/envs/python3/lib/python3.7/site-packages/gpflow/core/node.py:109: The name tf.get_default_graph is deprecated. Please use tf.compat.v1.get_default_graph instead.\n",
      "\n",
      "W0826 17:35:59.077606 140275699226368 deprecation_wrapper.py:119] From /home/ubuntu/anaconda3/envs/python3/lib/python3.7/site-packages/gpflow/params/parameter.py:388: The name tf.placeholder is deprecated. Please use tf.compat.v1.placeholder instead.\n",
      "\n",
      "W0826 17:35:59.078876 140275699226368 deprecation_wrapper.py:119] From /home/ubuntu/anaconda3/envs/python3/lib/python3.7/site-packages/gpflow/params/parameter.py:394: The name tf.get_variable is deprecated. Please use tf.compat.v1.get_variable instead.\n",
      "\n"
     ]
    },
    {
     "name": "stdout",
     "output_type": "stream",
     "text": [
      "Testing: Matern52_ind_cont_share_binned_updated_mse\n"
     ]
    },
    {
     "name": "stderr",
     "output_type": "stream",
     "text": [
      "W0826 17:36:06.277861 140275699226368 deprecation.py:323] From /home/ubuntu/anaconda3/envs/python3/lib/python3.7/site-packages/tensorflow/python/ops/math_grad.py:1205: add_dispatch_support.<locals>.wrapper (from tensorflow.python.ops.array_ops) is deprecated and will be removed in a future version.\n",
      "Instructions for updating:\n",
      "Use tf.where in 2.0, which has the same broadcast rule as np.where\n"
     ]
    },
    {
     "name": "stdout",
     "output_type": "stream",
     "text": [
      "Fold tested in (sec): 352.2125287055969\n",
      "Fold tested in (sec): 217.14490675926208\n",
      "Fold tested in (sec): 320.5730264186859\n",
      "Fold tested in (sec): 375.87993240356445\n",
      "Fold tested in (sec): 242.27882766723633\n",
      "Accuracy: 0.5833333333333333\n",
      "MSE: 0.0678128661977659\n",
      "ROC: 0.5\n",
      "Confusion: {'constant/not increase': defaultdict(<class 'int'>, {'constant/not increase': 89}), 'increase': defaultdict(<class 'int'>, {'constant/not increase': 31})}\n",
      "Time elapsed (sec): 1508.1031501293182\n",
      "Results saved to disk\n"
     ]
    }
   ],
   "source": [
    "test_with_all(x_cont_ind, y_share_bin_ind, 'Matern52', 'Matern52_ind_cont_share_binned', 'ind', 'cont')"
   ]
  },
  {
   "cell_type": "code",
   "execution_count": 4,
   "metadata": {
    "scrolled": false
   },
   "outputs": [
    {
     "name": "stderr",
     "output_type": "stream",
     "text": [
      "W0826 20:39:25.107213 139998766876416 deprecation_wrapper.py:119] From /home/ubuntu/anaconda3/envs/python3/lib/python3.7/site-packages/gpflow/core/node.py:109: The name tf.get_default_graph is deprecated. Please use tf.compat.v1.get_default_graph instead.\n",
      "\n",
      "W0826 20:39:25.118509 139998766876416 deprecation_wrapper.py:119] From /home/ubuntu/anaconda3/envs/python3/lib/python3.7/site-packages/gpflow/params/parameter.py:388: The name tf.placeholder is deprecated. Please use tf.compat.v1.placeholder instead.\n",
      "\n",
      "W0826 20:39:25.119846 139998766876416 deprecation_wrapper.py:119] From /home/ubuntu/anaconda3/envs/python3/lib/python3.7/site-packages/gpflow/params/parameter.py:394: The name tf.get_variable is deprecated. Please use tf.compat.v1.get_variable instead.\n",
      "\n"
     ]
    },
    {
     "name": "stdout",
     "output_type": "stream",
     "text": [
      "Testing: RBF_ind_cont_share_binned_updated_mse\n"
     ]
    },
    {
     "name": "stderr",
     "output_type": "stream",
     "text": [
      "W0826 20:39:32.292589 139998766876416 deprecation.py:323] From /home/ubuntu/anaconda3/envs/python3/lib/python3.7/site-packages/tensorflow/python/ops/math_grad.py:1205: add_dispatch_support.<locals>.wrapper (from tensorflow.python.ops.array_ops) is deprecated and will be removed in a future version.\n",
      "Instructions for updating:\n",
      "Use tf.where in 2.0, which has the same broadcast rule as np.where\n"
     ]
    },
    {
     "name": "stdout",
     "output_type": "stream",
     "text": [
      "Fold tested in (sec): 238.19343066215515\n",
      "Fold tested in (sec): 196.04676055908203\n",
      "Fold tested in (sec): 227.6608726978302\n",
      "Fold tested in (sec): 310.33424735069275\n",
      "Fold tested in (sec): 247.25179362297058\n",
      "Accuracy: 0.5833333333333333\n",
      "MSE: 0.06778212368068212\n",
      "ROC: 0.5\n",
      "Confusion: {'constant/not increase': defaultdict(<class 'int'>, {'constant/not increase': 89}), 'increase': defaultdict(<class 'int'>, {'constant/not increase': 31})}\n",
      "Time elapsed (sec): 1219.5011496543884\n",
      "Results saved to disk\n"
     ]
    }
   ],
   "source": [
    "test_with_all(x_cont_ind, y_share_bin_ind, 'RBF', 'RBF_ind_cont_share_binned', 'ind', 'cont')"
   ]
  },
  {
   "cell_type": "code",
   "execution_count": 5,
   "metadata": {},
   "outputs": [
    {
     "name": "stdout",
     "output_type": "stream",
     "text": [
      "Testing: Matern52_ind_disc_share_binned_updated_mse\n",
      "Fold tested in (sec): 358.7418439388275\n",
      "Fold tested in (sec): 226.39099431037903\n",
      "Fold tested in (sec): 330.8912658691406\n",
      "Fold tested in (sec): 385.69666290283203\n",
      "Fold tested in (sec): 252.12888479232788\n",
      "Accuracy: 0.5833333333333333\n",
      "MSE: 0.0678128661977659\n",
      "ROC: 0.5\n",
      "Confusion: {'constant/not increase': defaultdict(<class 'int'>, {'constant/not increase': 89}), 'increase': defaultdict(<class 'int'>, {'constant/not increase': 31})}\n",
      "Time elapsed (sec): 1553.857804775238\n",
      "Results saved to disk\n"
     ]
    }
   ],
   "source": [
    "test_with_all(x_disc_ind, y_share_bin_ind, 'Matern52', 'Matern52_ind_disc_share_binned', 'ind', 'disc')"
   ]
  },
  {
   "cell_type": "code",
   "execution_count": 6,
   "metadata": {},
   "outputs": [
    {
     "name": "stdout",
     "output_type": "stream",
     "text": [
      "Testing: RBF_ind_disc_share_binned_updated_mse\n",
      "Fold tested in (sec): 254.97671699523926\n",
      "Fold tested in (sec): 214.56244206428528\n",
      "Fold tested in (sec): 245.26549792289734\n",
      "Fold tested in (sec): 324.7868700027466\n",
      "Fold tested in (sec): 264.19947481155396\n",
      "Accuracy: 0.5833333333333333\n",
      "MSE: 0.06778212368068212\n",
      "ROC: 0.5\n",
      "Confusion: {'constant/not increase': defaultdict(<class 'int'>, {'constant/not increase': 89}), 'increase': defaultdict(<class 'int'>, {'constant/not increase': 31})}\n",
      "Time elapsed (sec): 1303.7993268966675\n",
      "Results saved to disk\n"
     ]
    }
   ],
   "source": [
    "test_with_all(x_disc_ind, y_share_bin_ind, 'RBF', 'RBF_ind_disc_share_binned', 'ind', 'disc')"
   ]
  },
  {
   "cell_type": "markdown",
   "metadata": {},
   "source": [
    "## Run through - full grid"
   ]
  },
  {
   "cell_type": "code",
   "execution_count": null,
   "metadata": {
    "scrolled": true
   },
   "outputs": [],
   "source": [
    "# results = grid_search(agg_level)"
   ]
  },
  {
   "cell_type": "markdown",
   "metadata": {},
   "source": [
    "## Scratchpad"
   ]
  },
  {
   "cell_type": "code",
   "execution_count": null,
   "metadata": {},
   "outputs": [],
   "source": []
  }
 ],
 "metadata": {
  "kernelspec": {
   "display_name": "brookfield",
   "language": "python",
   "name": "brookfield"
  },
  "language_info": {
   "codemirror_mode": {
    "name": "ipython",
    "version": 3
   },
   "file_extension": ".py",
   "mimetype": "text/x-python",
   "name": "python",
   "nbconvert_exporter": "python",
   "pygments_lexer": "ipython3",
   "version": "3.5.6"
  }
 },
 "nbformat": 4,
 "nbformat_minor": 2
}
