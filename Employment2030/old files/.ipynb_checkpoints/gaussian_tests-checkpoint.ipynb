{
 "cells": [
  {
   "cell_type": "code",
   "execution_count": 248,
   "metadata": {},
   "outputs": [],
   "source": [
    "%run utils.ipynb\n",
    "\n",
    "import pickle\n",
    "import numpy as np\n",
    "\n",
    "from os import listdir, path\n",
    "from collections import defaultdict\n",
    "from sklearn.metrics import mean_squared_error, explained_variance_score, mean_absolute_error"
   ]
  },
  {
   "cell_type": "code",
   "execution_count": 81,
   "metadata": {},
   "outputs": [],
   "source": [
    "datasets = {'agg': {'x': {'cont':         x_cont_agg, \n",
    "                          'disc':         x_disc_agg}, \n",
    "                    'y': {# 'abs':          y_abs_agg['y'],\n",
    "                          # 'abs_binned':   y_abs_agg['binned_y'],\n",
    "                          'share':        y_share_agg['y'],\n",
    "                          'share_binned': y_share_agg['binned_y']}\n",
    "                   },\n",
    "            'ind': {'x': {'cont':         x_cont_ind,\n",
    "                          'disc':         x_disc_ind},\n",
    "                    'y': {# 'abs':          y_abs_ind,\n",
    "                          # 'abs_binned':   y_abs_bin_ind,\n",
    "                          'share':        y_share_ind,\n",
    "                          'share_binned': y_share_bin_ind}\n",
    "                   }\n",
    "           }\n",
    "\n",
    "results_dir = 'gp_results'"
   ]
  },
  {
   "cell_type": "code",
   "execution_count": 82,
   "metadata": {},
   "outputs": [],
   "source": [
    "files = [f for f in listdir(results_dir) if f != '.ipynb_checkpoints']"
   ]
  },
  {
   "cell_type": "code",
   "execution_count": 265,
   "metadata": {},
   "outputs": [],
   "source": [
    "def scale_pred(pred):\n",
    "    factor = 1/sum(pred)\n",
    "    scaled = []\n",
    "    for p in pred:\n",
    "        scaled.append(p * factor)\n",
    "    return tuple(scaled)"
   ]
  },
  {
   "cell_type": "code",
   "execution_count": 262,
   "metadata": {},
   "outputs": [],
   "source": [
    "def parse_results(file):\n",
    "    all_mse = []\n",
    "    all_results = []\n",
    "    all_var = []\n",
    "    filename = path.splitext(file)[0].split('_')\n",
    "    agg_level = filename[1]\n",
    "    dist = filename[2]\n",
    "\n",
    "    with open(path.join(results_dir, file), 'rb') as f:\n",
    "        results = pickle.load(f)\n",
    "    \n",
    "    for fold in results['All results']:\n",
    "        y_true = []\n",
    "        y_pred = []\n",
    "        results = {}\n",
    "        for x in fold:\n",
    "            pred = tuple([p for [p] in fold[x]])\n",
    "            pred = scale_pred(pred)\n",
    "            if agg_level == 'ind': x = tuple(list(x[1:]) + [x[0]])\n",
    "            true_info = noc_dict[dist][x]\n",
    "            noc = true_info['noc']\n",
    "            if len(pred) == 3: true_dist = true_info['share']\n",
    "            else:              true_dist = true_info['share_binned']\n",
    "            y_true.append(true_dist)\n",
    "            y_pred.append(pred)\n",
    "            results[noc + ', ' + str(int(x[-1]))] = ({'y_true': true_dist,\n",
    "                                                      'y_pred': pred})    \n",
    "        mse = mean_squared_error(y_true, y_pred)\n",
    "        var = explained_variance_score(y_true, y_pred)\n",
    "        all_mse.append(mse)\n",
    "        all_results.append(results)\n",
    "        all_var.append(var)\n",
    "        \n",
    "    return all_mse, all_results, all_var"
   ]
  },
  {
   "cell_type": "code",
   "execution_count": 263,
   "metadata": {},
   "outputs": [],
   "source": [
    "def check_results(file):\n",
    "    mapping = {2: 'increase',\n",
    "               1: 'constant',\n",
    "               0: 'decrease'}\n",
    "    wrong_noc = defaultdict(int)\n",
    "    wrong_preds = defaultdict(list)\n",
    "    correct = defaultdict(int)\n",
    "    # first key is true, second key is predicted, value is number of times\n",
    "    missed = {'decrease': defaultdict(int),\n",
    "              'constant': defaultdict(int),\n",
    "              'increase': defaultdict(int)}\n",
    "\n",
    "    for fold in results[file]:\n",
    "        for noc in fold:\n",
    "            pred = mapping[np.argmax(fold[noc]['y_pred'])]\n",
    "            true = mapping[np.argmax(fold[noc]['y_true'])]\n",
    "            if pred != true: \n",
    "                wrong_noc[noc.split(',')[0]] += 1\n",
    "                wrong_preds[noc.split(',')[0]].append(mean_absolute_error(\n",
    "                    (fold[noc]['y_true']), (fold[noc]['y_pred'])\n",
    "                ))\n",
    "                missed[true][pred] += 1\n",
    "            else: correct[true] += 1\n",
    "    \n",
    "    for key in wrong_preds:\n",
    "        val = wrong_preds[key]\n",
    "        wrong_preds[key] = sum(val)/len(val)\n",
    "    \n",
    "    return wrong_noc, correct, missed, wrong_preds"
   ]
  },
  {
   "cell_type": "code",
   "execution_count": 158,
   "metadata": {},
   "outputs": [],
   "source": [
    "def get_top(n): return sorted(model_mse, key=model_mse.get)[:n]"
   ]
  },
  {
   "cell_type": "code",
   "execution_count": 266,
   "metadata": {},
   "outputs": [],
   "source": [
    "model_mse = {}\n",
    "results = {}\n",
    "\n",
    "for file in files:\n",
    "    mse, result, var = parse_results(file)\n",
    "    avg_mse = sum(mse)/len(mse)\n",
    "    avg_var = sum(var)/len(var)\n",
    "    model_mse[file] = (avg_mse, avg_var)\n",
    "    results[file] = result"
   ]
  },
  {
   "cell_type": "code",
   "execution_count": 267,
   "metadata": {},
   "outputs": [
    {
     "name": "stdout",
     "output_type": "stream",
     "text": [
      "RBF_agg_cont_share.pkl\n",
      "Number correct:\n",
      "('constant', 22)\n",
      "('increase', 1)\n",
      "True: constant Pred: decrease Num: 2\n",
      "True: constant Pred: increase Num: 2\n",
      "True: decrease Pred: constant Num: 37\n",
      "True: decrease Pred: increase Num: 5\n",
      "True: increase Pred: constant Num: 47\n",
      "True: increase Pred: decrease Num: 4\n",
      "Matern52_agg_disc_share.pkl\n",
      "Number correct:\n",
      "('constant', 26)\n",
      "True: decrease Pred: constant Num: 42\n",
      "True: increase Pred: constant Num: 52\n",
      "RBF_agg_disc_share.pkl\n",
      "Number correct:\n",
      "('constant', 26)\n",
      "True: decrease Pred: constant Num: 42\n",
      "True: increase Pred: constant Num: 52\n",
      "Matern32_agg_disc_share.pkl\n",
      "Number correct:\n",
      "('constant', 26)\n",
      "True: decrease Pred: constant Num: 42\n",
      "True: increase Pred: constant Num: 52\n",
      "Matern12_agg_disc_share.pkl\n",
      "Number correct:\n",
      "('constant', 26)\n",
      "True: decrease Pred: constant Num: 42\n",
      "True: increase Pred: constant Num: 52\n"
     ]
    }
   ],
   "source": [
    "for file in get_top(5):\n",
    "    print(file)\n",
    "    wrong_noc, correct, missed, wrong_preds = check_results(file)\n",
    "    print('Number correct:')\n",
    "    for item in correct.items():\n",
    "        print(item)\n",
    "    for true in missed:\n",
    "        for pred in missed[true]:\n",
    "            print('True:', true, 'Pred:', pred, 'Num:', missed[true][pred])"
   ]
  },
  {
   "cell_type": "markdown",
   "metadata": {},
   "source": [
    "## Scratchpad"
   ]
  },
  {
   "cell_type": "code",
   "execution_count": null,
   "metadata": {},
   "outputs": [],
   "source": [
    "# check which ones it's bad at"
   ]
  },
  {
   "cell_type": "code",
   "execution_count": 268,
   "metadata": {
    "scrolled": false
   },
   "outputs": [
    {
     "name": "stdout",
     "output_type": "stream",
     "text": [
      "RBF_agg_cont_share.pkl : (0.0668662270074651, -0.0670994265851075)\n",
      "Matern52_agg_disc_share.pkl : (0.06758139983618208, -0.0640736796970455)\n",
      "RBF_agg_disc_share.pkl : (0.0675821149832898, -0.06409487904270102)\n",
      "Matern32_agg_disc_share.pkl : (0.06758309596655827, -0.06405143590509274)\n",
      "Matern12_agg_disc_share.pkl : (0.067588693196657, -0.06403916208368224)\n",
      "RBF_ind_disc_share_binned.pkl : (0.06812075990703201, 0.02940764305215563)\n",
      "RBF_ind_cont_share_binned.pkl : (0.06812075990703201, 0.029407643052155708)\n",
      "Matern52_ind_disc_share_binned.pkl : (0.06851196691297687, 0.008539976301254725)\n",
      "Matern52_ind_cont_share_binned.pkl : (0.0685119669129769, 0.008539976301254804)\n",
      "Matern32_ind_disc_share_binned.pkl : (0.06868473112836478, 0.009923170047500818)\n",
      "Matern32_ind_cont_share_binned.pkl : (0.06868473112836478, 0.009923170047500906)\n",
      "Matern12_ind_disc_share_binned.pkl : (0.06912622731861667, 0.0021023057102859677)\n",
      "Matern12_ind_cont_share_binned.pkl : (0.06912622731861667, 0.0021023057102861342)\n",
      "Matern12_agg_disc_share_binned.pkl : (0.06953627590677829, -0.11878671194614002)\n",
      "RBF_agg_cont_share_binned.pkl : (0.07028683550489728, -0.1150558908654475)\n",
      "Matern52_agg_cont_share_binned.pkl : (0.07051486507787733, -0.12020735692379181)\n",
      "Matern32_agg_disc_share_binned.pkl : (0.07114329049565711, -0.15035325241458725)\n",
      "Matern52_agg_disc_share_binned.pkl : (0.07160510760675598, -0.159674335988664)\n",
      "RBF_agg_disc_share_binned.pkl : (0.07210182896780953, -0.16967299094739974)\n",
      "Matern32_ind_disc_share.pkl : (0.07271862844790389, 0.00021343654786136688)\n",
      "Matern32_ind_cont_share.pkl : (0.07271862844790389, 0.00021343654786156705)\n",
      "Matern52_ind_disc_share.pkl : (0.07272174430303391, 0.00011996314082097365)\n",
      "Matern52_ind_cont_share.pkl : (0.07272174430303391, 0.00011996314082104824)\n",
      "RBF_ind_disc_share.pkl : (0.07272350377904141, -0.00011051380448629314)\n",
      "RBF_ind_cont_share.pkl : (0.07272350377904141, -0.00011051380448625497)\n",
      "Matern12_ind_disc_share.pkl : (0.07275460572930402, 0.0006167386606012792)\n",
      "Matern12_ind_cont_share.pkl : (0.07275460572930403, 0.0006167386606013902)\n",
      "Matern32_agg_cont_share.pkl : (0.07612272092295039, -0.20010177575094903)\n",
      "Matern52_agg_cont_share.pkl : (0.07624010478245499, -0.19717615442948405)\n",
      "Matern32_agg_cont_share_binned.pkl : (0.0789461201482294, -0.29578409454768934)\n",
      "Matern12_agg_cont_share.pkl : (0.08479670558950457, -0.34677935725196624)\n",
      "Matern12_agg_cont_share_binned.pkl : (0.10423072996242108, -0.6227124780936519)\n"
     ]
    }
   ],
   "source": [
    "top = sorted(model_mse, key=model_mse.get)\n",
    "for key in top:\n",
    "    print(key, ':', model_mse[key])"
   ]
  },
  {
   "cell_type": "code",
   "execution_count": 269,
   "metadata": {},
   "outputs": [
    {
     "name": "stdout",
     "output_type": "stream",
     "text": [
      "RBF_agg_disc_share.pkl : 0.23333333333333334\n",
      "RBF_agg_cont_share_binned.pkl : 0.7416666666666666\n",
      "Matern12_ind_disc_share_binned.pkl : 0.6825873072908646\n",
      "Matern52_agg_disc_share.pkl : 0.23333333333333334\n",
      "Matern12_agg_cont_share.pkl : 0.2416666666666667\n",
      "Matern32_agg_disc_share_binned.pkl : 0.7416666666666666\n",
      "Matern32_agg_cont_share.pkl : 0.16666666666666669\n",
      "Matern12_agg_cont_share_binned.pkl : 0.6666666666666666\n",
      "Matern52_agg_cont_share.pkl : 0.16666666666666669\n",
      "Matern12_agg_disc_share.pkl : 0.23333333333333334\n",
      "RBF_ind_disc_share_binned.pkl : 0.6825873072908646\n",
      "RBF_agg_cont_share.pkl : 0.20833333333333334\n",
      "Matern32_agg_disc_share.pkl : 0.23333333333333334\n",
      "Matern32_ind_cont_share_binned.pkl : 0.6825873072908646\n",
      "Matern52_agg_disc_share_binned.pkl : 0.7333333333333332\n",
      "Matern52_ind_cont_share_binned.pkl : 0.6825873072908646\n",
      "Matern52_ind_disc_share_binned.pkl : 0.6825873072908646\n",
      "Matern52_agg_cont_share_binned.pkl : 0.7416666666666666\n",
      "Matern52_ind_disc_share.pkl : 0.2918193795664151\n",
      "Matern12_ind_cont_share.pkl : 0.2918193795664151\n",
      "RBF_ind_disc_share.pkl : 0.2918193795664151\n",
      "Matern32_ind_disc_share_binned.pkl : 0.6825873072908646\n",
      "Matern32_ind_cont_share.pkl : 0.2918193795664151\n",
      "RBF_ind_cont_share_binned.pkl : 0.6825873072908646\n",
      "Matern12_agg_disc_share_binned.pkl : 0.7416666666666666\n",
      "RBF_ind_cont_share.pkl : 0.2918193795664151\n",
      "Matern32_agg_cont_share_binned.pkl : 0.6916666666666667\n",
      "Matern52_ind_cont_share.pkl : 0.2918193795664151\n",
      "Matern12_ind_disc_share.pkl : 0.2918193795664151\n",
      "Matern32_ind_disc_share.pkl : 0.2918193795664151\n",
      "Matern12_ind_cont_share_binned.pkl : 0.6825873072908646\n",
      "RBF_agg_disc_share_binned.pkl : 0.7333333333333332\n"
     ]
    }
   ],
   "source": [
    "for file in files:\n",
    "    with open(path.join(results_dir, file), 'rb') as f:\n",
    "        res = pickle.load(f)\n",
    "    print(file, ':', res['Avg. score'])"
   ]
  },
  {
   "cell_type": "code",
   "execution_count": 270,
   "metadata": {},
   "outputs": [],
   "source": [
    "wrong_noc, correct, missed, wrong_preds = check_results('RBF_agg_cont_share.pkl')"
   ]
  },
  {
   "cell_type": "code",
   "execution_count": 271,
   "metadata": {},
   "outputs": [
    {
     "data": {
      "text/plain": [
       "defaultdict(int,\n",
       "            {'Accounting technicians and bookkeepers': 1,\n",
       "             'Air transport ramp attendants': 1,\n",
       "             'Airline ticket and service agents': 1,\n",
       "             'Carpenters': 1,\n",
       "             'Central control and process operators': 1,\n",
       "             'Chefs': 1,\n",
       "             'Computer network technicians': 6,\n",
       "             'Cooks': 1,\n",
       "             'Court clerks': 5,\n",
       "             'Electrical mechanics': 6,\n",
       "             'Financial managers': 6,\n",
       "             'Fish and seafood plant workers': 1,\n",
       "             'Fishermen/women': 1,\n",
       "             'Forestry technologists and technicians': 4,\n",
       "             'Furniture and fixture assemblers and inspectors': 6,\n",
       "             'General farm workers': 1,\n",
       "             'Graphic designers and illustrators': 1,\n",
       "             'Health policy researchers': 1,\n",
       "             'Industrial and manufacturing engineers': 5,\n",
       "             'Instructors of persons with disabilities': 6,\n",
       "             'Labourers in food': 5,\n",
       "             'Light duty cleaners': 1,\n",
       "             'Managers in agriculture': 1,\n",
       "             'Medical administrative assistants': 4,\n",
       "             'Oil and gas well drillers': 1,\n",
       "             'Operators and attendants in amusement': 5,\n",
       "             'Painters and decorators (except interior decorators)': 1,\n",
       "             'Paramedical occupations': 1,\n",
       "             'Plastics processing machine operators': 6,\n",
       "             'Registered nurses and registered psychiatric nurses': 1,\n",
       "             'Restaurant and food service managers': 1,\n",
       "             'Senior managers - financial': 2,\n",
       "             'Shippers and receivers': 1,\n",
       "             'Store shelf stockers': 1,\n",
       "             'Supervisors': 3,\n",
       "             'Technical sales specialists - wholesale trade': 1,\n",
       "             'Underground production and development miners': 6})"
      ]
     },
     "execution_count": 271,
     "metadata": {},
     "output_type": "execute_result"
    }
   ],
   "source": [
    "wrong_noc"
   ]
  },
  {
   "cell_type": "code",
   "execution_count": 272,
   "metadata": {},
   "outputs": [
    {
     "data": {
      "text/plain": [
       "defaultdict(int, {'constant': 22, 'increase': 1})"
      ]
     },
     "execution_count": 272,
     "metadata": {},
     "output_type": "execute_result"
    }
   ],
   "source": [
    "correct"
   ]
  },
  {
   "cell_type": "code",
   "execution_count": 273,
   "metadata": {},
   "outputs": [
    {
     "data": {
      "text/plain": [
       "{'constant': defaultdict(int, {'decrease': 2, 'increase': 2}),\n",
       " 'decrease': defaultdict(int, {'constant': 37, 'increase': 5}),\n",
       " 'increase': defaultdict(int, {'constant': 47, 'decrease': 4})}"
      ]
     },
     "execution_count": 273,
     "metadata": {},
     "output_type": "execute_result"
    }
   ],
   "source": [
    "missed"
   ]
  },
  {
   "cell_type": "code",
   "execution_count": 278,
   "metadata": {},
   "outputs": [
    {
     "name": "stdout",
     "output_type": "stream",
     "text": [
      "Chefs : 0.48120432064878615\n",
      "Graphic designers and illustrators : 0.41891504293436715\n",
      "Light duty cleaners : 0.4169030906144027\n",
      "Fishermen/women : 0.3867865792733272\n",
      "Furniture and fixture assemblers and inspectors : 0.35649530930799106\n",
      "Cooks : 0.35120417677475696\n",
      "Registered nurses and registered psychiatric nurses : 0.33544756207022886\n",
      "Health policy researchers : 0.325241617043669\n",
      "Shippers and receivers : 0.298938258722563\n",
      "Technical sales specialists - wholesale trade : 0.2914329545347268\n",
      "Airline ticket and service agents : 0.2838346841366573\n",
      "Plastics processing machine operators : 0.27912561439084754\n",
      "Operators and attendants in amusement : 0.2778199072013778\n",
      "Electrical mechanics : 0.2667312503407426\n",
      "Computer network technicians : 0.2601658052208458\n",
      "Paramedical occupations : 0.25668144323786274\n",
      "Medical administrative assistants : 0.25369024581704963\n",
      "Painters and decorators (except interior decorators) : 0.247360303423348\n",
      "Oil and gas well drillers : 0.24337949422069793\n",
      "Supervisors : 0.23466270186136587\n",
      "Financial managers : 0.2312027005222069\n",
      "Store shelf stockers : 0.21561745778341468\n",
      "Court clerks : 0.2139901738799425\n",
      "Underground production and development miners : 0.21170327812460452\n",
      "Central control and process operators : 0.206235233448307\n",
      "Industrial and manufacturing engineers : 0.20442104406617786\n",
      "Labourers in food : 0.19855459264053682\n",
      "Forestry technologists and technicians : 0.19816568747408786\n",
      "Managers in agriculture : 0.19589451875266584\n",
      "Carpenters : 0.18990272533120445\n",
      "General farm workers : 0.15733956571260097\n",
      "Restaurant and food service managers : 0.14674817523387465\n",
      "Air transport ramp attendants : 0.1363851319424104\n",
      "Instructors of persons with disabilities : 0.11206766480890433\n",
      "Accounting technicians and bookkeepers : 0.09532279622224622\n",
      "Fish and seafood plant workers : 0.0940439910790274\n",
      "Senior managers - financial : 0.08532298630634076\n"
     ]
    }
   ],
   "source": [
    "for key in sorted(wrong_preds, key=wrong_preds.get, reverse=True):\n",
    "    print(key, ':', wrong_preds[key])"
   ]
  },
  {
   "cell_type": "code",
   "execution_count": null,
   "metadata": {},
   "outputs": [],
   "source": []
  }
 ],
 "metadata": {
  "kernelspec": {
   "display_name": "Python 3",
   "language": "python",
   "name": "python3"
  },
  "language_info": {
   "codemirror_mode": {
    "name": "ipython",
    "version": 3
   },
   "file_extension": ".py",
   "mimetype": "text/x-python",
   "name": "python",
   "nbconvert_exporter": "python",
   "pygments_lexer": "ipython3",
   "version": "3.7.3"
  }
 },
 "nbformat": 4,
 "nbformat_minor": 2
}
