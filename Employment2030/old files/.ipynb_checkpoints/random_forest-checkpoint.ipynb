{
 "cells": [
  {
   "cell_type": "code",
   "execution_count": 15,
   "metadata": {},
   "outputs": [],
   "source": [
    "%run utils.ipynb\n",
    "\n",
    "import numpy as np\n",
    "import pandas as pd\n",
    "from sklearn.ensemble import RandomForestClassifier"
   ]
  },
  {
   "cell_type": "code",
   "execution_count": 2,
   "metadata": {},
   "outputs": [],
   "source": [
    "## Utils\n",
    "\n",
    "def get_features(search):\n",
    "    return pd.DataFrame(search.best_estimator_.feature_importances_, \n",
    "                        index=x.columns, \n",
    "                        columns=['importance']).sort_values(by=['importance'], ascending=False)"
   ]
  },
  {
   "cell_type": "code",
   "execution_count": 3,
   "metadata": {},
   "outputs": [],
   "source": [
    "## Setup classifier\n",
    "\n",
    "random_forest = RandomForestClassifier()"
   ]
  },
  {
   "cell_type": "code",
   "execution_count": 4,
   "metadata": {},
   "outputs": [],
   "source": [
    "## Setup RandomSearchCV\n",
    "\n",
    "# TODO: These are currently some basic examples from a tutorial, need to tweak these\n",
    "# Number of trees in random forest\n",
    "n_estimators = [int(x) for x in np.linspace(start = 200, stop = 2000, num = 10)]\n",
    "# Number of features to consider at every split\n",
    "max_features = ['auto', 'sqrt']\n",
    "# Maximum number of levels in tree\n",
    "max_depth = [int(x) for x in np.linspace(10, 110, num = 11)]\n",
    "max_depth.append(None)\n",
    "# Minimum number of samples required to split a node\n",
    "min_samples_split = [2, 5, 10]\n",
    "# Minimum number of samples required at each leaf node\n",
    "min_samples_leaf = [1, 2, 4]\n",
    "# Method of selecting samples for training each tree\n",
    "bootstrap = [True, False]\n",
    "# How to measure quality of split\n",
    "criterion = ['gini', 'entropy']\n",
    "\n",
    "# Create the params grid\n",
    "params_grid = {'n_estimators': n_estimators,\n",
    "               'max_features': max_features,\n",
    "               'max_depth': max_depth,\n",
    "               'min_samples_split': min_samples_split,\n",
    "               'min_samples_leaf': min_samples_leaf,\n",
    "               'bootstrap': bootstrap,\n",
    "               'criterion': criterion}"
   ]
  },
  {
   "cell_type": "code",
   "execution_count": 5,
   "metadata": {},
   "outputs": [
    {
     "name": "stdout",
     "output_type": "stream",
     "text": [
      "Fitting 5 folds for each of 100 candidates, totalling 500 fits\n"
     ]
    },
    {
     "name": "stderr",
     "output_type": "stream",
     "text": [
      "[Parallel(n_jobs=-1)]: Using backend LokyBackend with 4 concurrent workers.\n",
      "[Parallel(n_jobs=-1)]: Done  42 tasks      | elapsed:   16.8s\n",
      "[Parallel(n_jobs=-1)]: Done 192 tasks      | elapsed:  1.6min\n",
      "[Parallel(n_jobs=-1)]: Done 442 tasks      | elapsed:  3.8min\n",
      "[Parallel(n_jobs=-1)]: Done 500 out of 500 | elapsed:  4.3min finished\n"
     ]
    }
   ],
   "source": [
    "## Run RandomSearchCV (for binned y)\n",
    "\n",
    "random_search_bins = run_random_search(random_forest, params_grid, x, y_abs['binned_y'])"
   ]
  },
  {
   "cell_type": "code",
   "execution_count": 6,
   "metadata": {},
   "outputs": [
    {
     "name": "stdout",
     "output_type": "stream",
     "text": [
      "Best accuracy: 0.7161304347826086\n",
      "Best params: {'n_estimators': 1400, 'min_samples_leaf': 2, 'criterion': 'entropy', 'bootstrap': True, 'min_samples_split': 5, 'max_depth': 60, 'max_features': 'sqrt'}\n"
     ]
    }
   ],
   "source": [
    "print('Best accuracy:', random_search_bins.best_score_)\n",
    "print('Best params:', random_search_bins.best_params_)"
   ]
  },
  {
   "cell_type": "code",
   "execution_count": 8,
   "metadata": {},
   "outputs": [
    {
     "name": "stdout",
     "output_type": "stream",
     "text": [
      "Fitting 5 folds for each of 100 candidates, totalling 500 fits\n"
     ]
    },
    {
     "name": "stderr",
     "output_type": "stream",
     "text": [
      "[Parallel(n_jobs=-1)]: Using backend LokyBackend with 4 concurrent workers.\n",
      "[Parallel(n_jobs=-1)]: Done  42 tasks      | elapsed:   25.4s\n",
      "[Parallel(n_jobs=-1)]: Done 192 tasks      | elapsed:  1.6min\n",
      "[Parallel(n_jobs=-1)]: Done 442 tasks      | elapsed:  3.7min\n",
      "[Parallel(n_jobs=-1)]: Done 500 out of 500 | elapsed:  4.2min finished\n"
     ]
    }
   ],
   "source": [
    "## Run RandomSearchCV (for all y)\n",
    "\n",
    "random_search_all = run_random_search(random_forest, params_grid, x, y_abs['y'])"
   ]
  },
  {
   "cell_type": "code",
   "execution_count": 9,
   "metadata": {},
   "outputs": [
    {
     "name": "stdout",
     "output_type": "stream",
     "text": [
      "Best accuracy: 0.617144927536232\n",
      "Best params: {'n_estimators': 200, 'min_samples_leaf': 4, 'criterion': 'gini', 'bootstrap': True, 'min_samples_split': 5, 'max_depth': 20, 'max_features': 'auto'}\n"
     ]
    }
   ],
   "source": [
    "print('Best accuracy:', random_search_all.best_score_)\n",
    "print('Best params:', random_search_all.best_params_)"
   ]
  },
  {
   "cell_type": "code",
   "execution_count": 10,
   "metadata": {},
   "outputs": [
    {
     "name": "stdout",
     "output_type": "stream",
     "text": [
      "Binned features:                                  importance\n",
      "work_num                           0.042604\n",
      "value.Fluency of Ideas             0.040680\n",
      "value.Computers and Electronics    0.038838\n",
      "value.Memorization                 0.034062\n",
      "value.Technology Design            0.026440\n",
      "All features:                                      importance\n",
      "value.Service Orientation              0.049277\n",
      "value.Persuasion                       0.048918\n",
      "value.Systems Evaluation               0.047835\n",
      "value.Fluency of Ideas                 0.042264\n",
      "value.Customer and Personal Service    0.032433\n"
     ]
    }
   ],
   "source": [
    "## Check features\n",
    "\n",
    "binned_features = get_features(random_search_bins)\n",
    "all_features = get_features(random_search_all)\n",
    "\n",
    "print('Binned features:', binned_features.head())\n",
    "print('All features:', all_features.head())"
   ]
  },
  {
   "cell_type": "code",
   "execution_count": 16,
   "metadata": {},
   "outputs": [
    {
     "name": "stdout",
     "output_type": "stream",
     "text": [
      "Fitting 5 folds for each of 8640 candidates, totalling 43200 fits\n"
     ]
    },
    {
     "name": "stderr",
     "output_type": "stream",
     "text": [
      "[Parallel(n_jobs=-1)]: Using backend LokyBackend with 4 concurrent workers.\n",
      "[Parallel(n_jobs=-1)]: Done  42 tasks      | elapsed:   18.4s\n",
      "[Parallel(n_jobs=-1)]: Done 192 tasks      | elapsed:  1.4min\n",
      "[Parallel(n_jobs=-1)]: Done 442 tasks      | elapsed:  3.1min\n",
      "[Parallel(n_jobs=-1)]: Done 792 tasks      | elapsed:  5.4min\n",
      "[Parallel(n_jobs=-1)]: Done 1242 tasks      | elapsed:  8.5min\n",
      "[Parallel(n_jobs=-1)]: Done 1792 tasks      | elapsed: 12.3min\n",
      "[Parallel(n_jobs=-1)]: Done 2442 tasks      | elapsed: 16.7min\n",
      "[Parallel(n_jobs=-1)]: Done 3192 tasks      | elapsed: 21.8min\n",
      "[Parallel(n_jobs=-1)]: Done 4042 tasks      | elapsed: 27.5min\n",
      "[Parallel(n_jobs=-1)]: Done 4992 tasks      | elapsed: 34.1min\n",
      "[Parallel(n_jobs=-1)]: Done 6042 tasks      | elapsed: 41.5min\n",
      "[Parallel(n_jobs=-1)]: Done 7192 tasks      | elapsed: 49.5min\n",
      "[Parallel(n_jobs=-1)]: Done 8442 tasks      | elapsed: 58.2min\n",
      "[Parallel(n_jobs=-1)]: Done 9792 tasks      | elapsed: 67.6min\n",
      "[Parallel(n_jobs=-1)]: Done 11242 tasks      | elapsed: 77.7min\n",
      "[Parallel(n_jobs=-1)]: Done 12792 tasks      | elapsed: 88.7min\n",
      "[Parallel(n_jobs=-1)]: Done 14442 tasks      | elapsed: 100.3min\n",
      "[Parallel(n_jobs=-1)]: Done 16192 tasks      | elapsed: 112.6min\n",
      "[Parallel(n_jobs=-1)]: Done 18042 tasks      | elapsed: 125.4min\n",
      "[Parallel(n_jobs=-1)]: Done 19992 tasks      | elapsed: 138.9min\n",
      "[Parallel(n_jobs=-1)]: Done 22042 tasks      | elapsed: 153.1min\n",
      "[Parallel(n_jobs=-1)]: Done 24192 tasks      | elapsed: 167.7min\n",
      "[Parallel(n_jobs=-1)]: Done 26442 tasks      | elapsed: 182.9min\n",
      "[Parallel(n_jobs=-1)]: Done 28792 tasks      | elapsed: 198.8min\n",
      "[Parallel(n_jobs=-1)]: Done 31242 tasks      | elapsed: 215.5min\n",
      "[Parallel(n_jobs=-1)]: Done 33792 tasks      | elapsed: 232.9min\n",
      "[Parallel(n_jobs=-1)]: Done 36442 tasks      | elapsed: 251.1min\n",
      "[Parallel(n_jobs=-1)]: Done 39192 tasks      | elapsed: 270.1min\n",
      "[Parallel(n_jobs=-1)]: Done 42042 tasks      | elapsed: 289.7min\n",
      "[Parallel(n_jobs=-1)]: Done 43200 out of 43200 | elapsed: 297.7min finished\n"
     ]
    }
   ],
   "source": [
    "## Run Grid Search (because why not)\n",
    "\n",
    "grid_search_bins = run_grid_search(random_forest, params_grid, x, y_abs['binned_y'])"
   ]
  },
  {
   "cell_type": "code",
   "execution_count": 17,
   "metadata": {},
   "outputs": [
    {
     "name": "stdout",
     "output_type": "stream",
     "text": [
      "Fitting 5 folds for each of 8640 candidates, totalling 43200 fits\n"
     ]
    },
    {
     "name": "stderr",
     "output_type": "stream",
     "text": [
      "[Parallel(n_jobs=-1)]: Using backend LokyBackend with 4 concurrent workers.\n",
      "[Parallel(n_jobs=-1)]: Done  42 tasks      | elapsed:   16.6s\n",
      "[Parallel(n_jobs=-1)]: Done 192 tasks      | elapsed:  1.3min\n",
      "[Parallel(n_jobs=-1)]: Done 442 tasks      | elapsed:  3.1min\n",
      "[Parallel(n_jobs=-1)]: Done 792 tasks      | elapsed:  5.5min\n",
      "[Parallel(n_jobs=-1)]: Done 1242 tasks      | elapsed:  8.6min\n",
      "[Parallel(n_jobs=-1)]: Done 1792 tasks      | elapsed: 12.4min\n",
      "[Parallel(n_jobs=-1)]: Done 2442 tasks      | elapsed: 17.0min\n",
      "[Parallel(n_jobs=-1)]: Done 3192 tasks      | elapsed: 22.2min\n",
      "[Parallel(n_jobs=-1)]: Done 4042 tasks      | elapsed: 28.0min\n",
      "[Parallel(n_jobs=-1)]: Done 4992 tasks      | elapsed: 34.6min\n",
      "[Parallel(n_jobs=-1)]: Done 6042 tasks      | elapsed: 41.9min\n",
      "[Parallel(n_jobs=-1)]: Done 7192 tasks      | elapsed: 49.9min\n",
      "[Parallel(n_jobs=-1)]: Done 8442 tasks      | elapsed: 58.5min\n",
      "[Parallel(n_jobs=-1)]: Done 9792 tasks      | elapsed: 67.9min\n",
      "[Parallel(n_jobs=-1)]: Done 11242 tasks      | elapsed: 78.0min\n",
      "[Parallel(n_jobs=-1)]: Done 12792 tasks      | elapsed: 88.9min\n",
      "[Parallel(n_jobs=-1)]: Done 14442 tasks      | elapsed: 100.4min\n",
      "[Parallel(n_jobs=-1)]: Done 16192 tasks      | elapsed: 112.7min\n",
      "[Parallel(n_jobs=-1)]: Done 18042 tasks      | elapsed: 125.7min\n",
      "[Parallel(n_jobs=-1)]: Done 19992 tasks      | elapsed: 139.4min\n",
      "[Parallel(n_jobs=-1)]: Done 22042 tasks      | elapsed: 153.6min\n",
      "[Parallel(n_jobs=-1)]: Done 24192 tasks      | elapsed: 168.4min\n",
      "[Parallel(n_jobs=-1)]: Done 26442 tasks      | elapsed: 183.9min\n",
      "[Parallel(n_jobs=-1)]: Done 28792 tasks      | elapsed: 200.0min\n",
      "[Parallel(n_jobs=-1)]: Done 31242 tasks      | elapsed: 217.0min\n",
      "[Parallel(n_jobs=-1)]: Done 33792 tasks      | elapsed: 234.6min\n",
      "[Parallel(n_jobs=-1)]: Done 36442 tasks      | elapsed: 253.4min\n",
      "[Parallel(n_jobs=-1)]: Done 39192 tasks      | elapsed: 272.9min\n",
      "[Parallel(n_jobs=-1)]: Done 42042 tasks      | elapsed: 293.2min\n",
      "[Parallel(n_jobs=-1)]: Done 43200 out of 43200 | elapsed: 301.4min finished\n"
     ]
    }
   ],
   "source": [
    "grid_search_all = run_grid_search(random_forest, params_grid, x, y_abs['y'])"
   ]
  },
  {
   "cell_type": "code",
   "execution_count": 18,
   "metadata": {},
   "outputs": [
    {
     "name": "stdout",
     "output_type": "stream",
     "text": [
      "Best accuracy (bins): 0.732463768115942\n",
      "Best params (bins): {'n_estimators': 200, 'max_depth': 20, 'min_samples_leaf': 2, 'criterion': 'gini', 'min_samples_split': 10, 'bootstrap': False, 'max_features': 'auto'}\n"
     ]
    }
   ],
   "source": [
    "print('Best accuracy (bins):', grid_search_bins.best_score_)\n",
    "print('Best params (bins):', grid_search_bins.best_params_)"
   ]
  },
  {
   "cell_type": "code",
   "execution_count": 19,
   "metadata": {},
   "outputs": [
    {
     "name": "stdout",
     "output_type": "stream",
     "text": [
      "Best accuracy (all): 0.641840579710145\n",
      "Best params (all): {'n_estimators': 200, 'max_depth': 40, 'min_samples_leaf': 4, 'criterion': 'gini', 'min_samples_split': 2, 'bootstrap': True, 'max_features': 'auto'}\n"
     ]
    }
   ],
   "source": [
    "print('Best accuracy (all):', grid_search_all.best_score_)\n",
    "print('Best params (all):', grid_search_all.best_params_)"
   ]
  },
  {
   "cell_type": "code",
   "execution_count": 20,
   "metadata": {},
   "outputs": [
    {
     "name": "stdout",
     "output_type": "stream",
     "text": [
      "Binned features:                                  importance\n",
      "value.Computers and Electronics    0.059780\n",
      "value.Memorization                 0.047503\n",
      "value.Fluency of Ideas             0.040716\n",
      "value.Technology Design            0.036253\n",
      "value.Static Strength              0.030326\n",
      "All features:                                      importance\n",
      "value.Persuasion                       0.061186\n",
      "value.Fluency of Ideas                 0.055118\n",
      "value.Systems Evaluation               0.044734\n",
      "value.Service Orientation              0.040202\n",
      "value.Customer and Personal Service    0.032836\n"
     ]
    }
   ],
   "source": [
    "binned_features = get_features(grid_search_bins)\n",
    "all_features = get_features(grid_search_all)\n",
    "\n",
    "print('Binned features:', binned_features.head())\n",
    "print('All features:', all_features.head())"
   ]
  },
  {
   "cell_type": "code",
   "execution_count": 68,
   "metadata": {},
   "outputs": [],
   "source": [
    "model = grid_search_bins.best_estimator_\n",
    "\n",
    "per_tree_pred = [tree.predict(x) for tree in model.estimators_]\n",
    "\n",
    "per_sample_pred = [[]]*120\n",
    "for tree in per_tree_pred:\n",
    "    for index, pred in enumerate(tree):\n",
    "        per_sample_pred[index].append(pred)\n",
    "    \n",
    "# confidence = []    \n",
    "# for sample in per_sample_pred:\n",
    "#     confidence.append(sum(sample)/len(sample))"
   ]
  },
  {
   "cell_type": "code",
   "execution_count": 86,
   "metadata": {},
   "outputs": [
    {
     "name": "stdout",
     "output_type": "stream",
     "text": [
      "0.0\n",
      "1.0\n",
      "0.0\n",
      "1.0\n",
      "0.0\n",
      "0.0\n",
      "1.0\n",
      "0.0\n",
      "0.0\n",
      "0.0\n",
      "0.0\n",
      "0.0\n",
      "0.0\n",
      "0.0\n",
      "0.0\n",
      "1.0\n",
      "1.0\n",
      "1.0\n",
      "1.0\n",
      "1.0\n",
      "1.0\n",
      "1.0\n",
      "1.0\n",
      "0.0\n",
      "0.0\n",
      "0.0\n",
      "0.0\n",
      "0.0\n",
      "0.0\n",
      "1.0\n",
      "1.0\n",
      "1.0\n",
      "1.0\n",
      "1.0\n",
      "1.0\n",
      "1.0\n",
      "1.0\n",
      "1.0\n",
      "1.0\n",
      "1.0\n",
      "1.0\n",
      "1.0\n",
      "1.0\n",
      "1.0\n",
      "1.0\n",
      "1.0\n",
      "1.0\n",
      "1.0\n",
      "1.0\n",
      "0.0\n",
      "0.0\n",
      "0.0\n",
      "1.0\n",
      "0.0\n",
      "0.0\n",
      "0.0\n",
      "0.0\n",
      "0.0\n",
      "0.0\n",
      "0.0\n",
      "0.0\n",
      "0.0\n",
      "0.0\n",
      "0.0\n",
      "0.0\n",
      "1.0\n",
      "1.0\n",
      "1.0\n",
      "1.0\n",
      "1.0\n",
      "1.0\n",
      "1.0\n",
      "0.0\n",
      "0.0\n",
      "1.0\n",
      "1.0\n",
      "1.0\n",
      "1.0\n",
      "1.0\n",
      "1.0\n",
      "1.0\n",
      "0.0\n",
      "0.0\n",
      "0.0\n",
      "0.0\n",
      "0.0\n",
      "0.0\n",
      "0.0\n",
      "0.0\n",
      "1.0\n",
      "1.0\n",
      "1.0\n",
      "1.0\n",
      "1.0\n",
      "1.0\n",
      "1.0\n",
      "0.0\n",
      "0.0\n",
      "1.0\n",
      "1.0\n",
      "1.0\n",
      "1.0\n",
      "1.0\n",
      "1.0\n",
      "1.0\n",
      "1.0\n",
      "1.0\n",
      "1.0\n",
      "1.0\n",
      "1.0\n",
      "1.0\n",
      "1.0\n",
      "1.0\n",
      "0.0\n",
      "1.0\n",
      "1.0\n",
      "1.0\n",
      "1.0\n",
      "1.0\n",
      "1.0\n"
     ]
    },
    {
     "data": {
      "text/plain": [
       "list"
      ]
     },
     "execution_count": 86,
     "metadata": {},
     "output_type": "execute_result"
    }
   ],
   "source": [
    "sample = [[]]*120\n",
    "for index, pred in enumerate(per_tree_pred[0]):\n",
    "    print(pred)\n",
    "    \n",
    "type(sample[0])"
   ]
  },
  {
   "cell_type": "code",
   "execution_count": 55,
   "metadata": {},
   "outputs": [],
   "source": [
    "preds = model.predict(x)\n",
    "\n",
    "predictions = {'predictions': preds,\n",
    "               'confidence': confidence}"
   ]
  },
  {
   "cell_type": "code",
   "execution_count": 60,
   "metadata": {},
   "outputs": [
    {
     "data": {
      "text/plain": [
       "{'confidence': [0.6410833333333333,\n",
       "  0.6410833333333333,\n",
       "  0.6410833333333333,\n",
       "  0.6410833333333333,\n",
       "  0.6410833333333333,\n",
       "  0.6410833333333333,\n",
       "  0.6410833333333333,\n",
       "  0.6410833333333333,\n",
       "  0.6410833333333333,\n",
       "  0.6410833333333333,\n",
       "  0.6410833333333333,\n",
       "  0.6410833333333333,\n",
       "  0.6410833333333333,\n",
       "  0.6410833333333333,\n",
       "  0.6410833333333333,\n",
       "  0.6410833333333333,\n",
       "  0.6410833333333333,\n",
       "  0.6410833333333333,\n",
       "  0.6410833333333333,\n",
       "  0.6410833333333333,\n",
       "  0.6410833333333333,\n",
       "  0.6410833333333333,\n",
       "  0.6410833333333333,\n",
       "  0.6410833333333333,\n",
       "  0.6410833333333333,\n",
       "  0.6410833333333333,\n",
       "  0.6410833333333333,\n",
       "  0.6410833333333333,\n",
       "  0.6410833333333333,\n",
       "  0.6410833333333333,\n",
       "  0.6410833333333333,\n",
       "  0.6410833333333333,\n",
       "  0.6410833333333333,\n",
       "  0.6410833333333333,\n",
       "  0.6410833333333333,\n",
       "  0.6410833333333333,\n",
       "  0.6410833333333333,\n",
       "  0.6410833333333333,\n",
       "  0.6410833333333333,\n",
       "  0.6410833333333333,\n",
       "  0.6410833333333333,\n",
       "  0.6410833333333333,\n",
       "  0.6410833333333333,\n",
       "  0.6410833333333333,\n",
       "  0.6410833333333333,\n",
       "  0.6410833333333333,\n",
       "  0.6410833333333333,\n",
       "  0.6410833333333333,\n",
       "  0.6410833333333333,\n",
       "  0.6410833333333333,\n",
       "  0.6410833333333333,\n",
       "  0.6410833333333333,\n",
       "  0.6410833333333333,\n",
       "  0.6410833333333333,\n",
       "  0.6410833333333333,\n",
       "  0.6410833333333333,\n",
       "  0.6410833333333333,\n",
       "  0.6410833333333333,\n",
       "  0.6410833333333333,\n",
       "  0.6410833333333333,\n",
       "  0.6410833333333333,\n",
       "  0.6410833333333333,\n",
       "  0.6410833333333333,\n",
       "  0.6410833333333333,\n",
       "  0.6410833333333333,\n",
       "  0.6410833333333333,\n",
       "  0.6410833333333333,\n",
       "  0.6410833333333333,\n",
       "  0.6410833333333333,\n",
       "  0.6410833333333333,\n",
       "  0.6410833333333333,\n",
       "  0.6410833333333333,\n",
       "  0.6410833333333333,\n",
       "  0.6410833333333333,\n",
       "  0.6410833333333333,\n",
       "  0.6410833333333333,\n",
       "  0.6410833333333333,\n",
       "  0.6410833333333333,\n",
       "  0.6410833333333333,\n",
       "  0.6410833333333333,\n",
       "  0.6410833333333333,\n",
       "  0.6410833333333333,\n",
       "  0.6410833333333333,\n",
       "  0.6410833333333333,\n",
       "  0.6410833333333333,\n",
       "  0.6410833333333333,\n",
       "  0.6410833333333333,\n",
       "  0.6410833333333333,\n",
       "  0.6410833333333333,\n",
       "  0.6410833333333333,\n",
       "  0.6410833333333333,\n",
       "  0.6410833333333333,\n",
       "  0.6410833333333333,\n",
       "  0.6410833333333333,\n",
       "  0.6410833333333333,\n",
       "  0.6410833333333333,\n",
       "  0.6410833333333333,\n",
       "  0.6410833333333333,\n",
       "  0.6410833333333333,\n",
       "  0.6410833333333333,\n",
       "  0.6410833333333333,\n",
       "  0.6410833333333333,\n",
       "  0.6410833333333333,\n",
       "  0.6410833333333333,\n",
       "  0.6410833333333333,\n",
       "  0.6410833333333333,\n",
       "  0.6410833333333333,\n",
       "  0.6410833333333333,\n",
       "  0.6410833333333333,\n",
       "  0.6410833333333333,\n",
       "  0.6410833333333333,\n",
       "  0.6410833333333333,\n",
       "  0.6410833333333333,\n",
       "  0.6410833333333333,\n",
       "  0.6410833333333333,\n",
       "  0.6410833333333333,\n",
       "  0.6410833333333333,\n",
       "  0.6410833333333333,\n",
       "  0.6410833333333333,\n",
       "  0.6410833333333333],\n",
       " 'predictions': array(['more', 'not_increase', 'more', 'not_increase', 'not_increase',\n",
       "        'more', 'not_increase', 'more', 'more', 'more', 'more', 'more',\n",
       "        'more', 'more', 'more', 'not_increase', 'not_increase',\n",
       "        'not_increase', 'not_increase', 'not_increase', 'not_increase',\n",
       "        'not_increase', 'not_increase', 'more', 'more', 'more', 'more',\n",
       "        'more', 'more', 'not_increase', 'not_increase', 'not_increase',\n",
       "        'not_increase', 'not_increase', 'not_increase', 'not_increase',\n",
       "        'not_increase', 'not_increase', 'not_increase', 'not_increase',\n",
       "        'not_increase', 'not_increase', 'not_increase', 'not_increase',\n",
       "        'not_increase', 'not_increase', 'not_increase', 'not_increase',\n",
       "        'not_increase', 'not_increase', 'more', 'more', 'not_increase',\n",
       "        'more', 'more', 'more', 'more', 'more', 'more', 'more', 'more',\n",
       "        'more', 'more', 'more', 'more', 'not_increase', 'not_increase',\n",
       "        'not_increase', 'not_increase', 'not_increase', 'not_increase',\n",
       "        'not_increase', 'more', 'not_increase', 'not_increase',\n",
       "        'not_increase', 'not_increase', 'not_increase', 'not_increase',\n",
       "        'not_increase', 'not_increase', 'more', 'more', 'more', 'more',\n",
       "        'more', 'more', 'more', 'more', 'not_increase', 'not_increase',\n",
       "        'not_increase', 'not_increase', 'not_increase', 'not_increase',\n",
       "        'not_increase', 'more', 'more', 'not_increase', 'not_increase',\n",
       "        'not_increase', 'not_increase', 'not_increase', 'not_increase',\n",
       "        'not_increase', 'not_increase', 'not_increase', 'not_increase',\n",
       "        'not_increase', 'not_increase', 'not_increase', 'not_increase',\n",
       "        'not_increase', 'more', 'not_increase', 'not_increase',\n",
       "        'not_increase', 'not_increase', 'not_increase', 'not_increase'],\n",
       "       dtype=object)}"
      ]
     },
     "execution_count": 60,
     "metadata": {},
     "output_type": "execute_result"
    }
   ],
   "source": [
    "predictions"
   ]
  },
  {
   "cell_type": "code",
   "execution_count": null,
   "metadata": {},
   "outputs": [],
   "source": [
    "pd.DataFrame(predictions, index=x.index)"
   ]
  },
  {
   "cell_type": "code",
   "execution_count": null,
   "metadata": {},
   "outputs": [],
   "source": []
  }
 ],
 "metadata": {
  "kernelspec": {
   "display_name": "Python 3",
   "language": "python",
   "name": "python3"
  },
  "language_info": {
   "codemirror_mode": {
    "name": "ipython",
    "version": 3
   },
   "file_extension": ".py",
   "mimetype": "text/x-python",
   "name": "python",
   "nbconvert_exporter": "python",
   "pygments_lexer": "ipython3",
   "version": "3.7.3"
  }
 },
 "nbformat": 4,
 "nbformat_minor": 2
}
