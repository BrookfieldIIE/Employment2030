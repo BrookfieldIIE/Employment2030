{
 "cells": [
  {
   "cell_type": "code",
   "execution_count": 1,
   "metadata": {},
   "outputs": [],
   "source": [
    "import pickle\n",
    "from collections import defaultdict\n",
    "%run utils_rf"
   ]
  },
  {
   "cell_type": "code",
   "execution_count": 2,
   "metadata": {},
   "outputs": [],
   "source": [
    "with open('mae_results_cont.pkl','rb') as f:\n",
    "    mae_results = pickle.load(f)"
   ]
  },
  {
   "cell_type": "code",
   "execution_count": 7,
   "metadata": {},
   "outputs": [],
   "source": [
    "def get_summaries(results):\n",
    "    scores = defaultdict(list)\n",
    "    for i in range(10):\n",
    "        for run in results[i]:\n",
    "            score = results[i][run]['avg_score']\n",
    "            features = results[i][run]['feature_names']\n",
    "            scores[features].append(score)\n",
    "    score_summaries = defaultdict(dict)\n",
    "    for features in scores:\n",
    "        score_summaries[features]['mean'] = np.mean(scores[features])\n",
    "        score_summaries[features]['std'] = np.std(scores[features])\n",
    "        score_summaries[features]['count'] = len(scores[features])\n",
    "    return score_summaries"
   ]
  },
  {
   "cell_type": "code",
   "execution_count": 4,
   "metadata": {},
   "outputs": [],
   "source": [
    "def find_best(results, n):\n",
    "    score_summaries = get_summaries(results)\n",
    "    best_dict = defaultdict(dict)\n",
    "    for i in range(n):\n",
    "        score_summaries_filtered = defaultdict(dict)\n",
    "        for features in score_summaries:\n",
    "            if score_summaries[features]['count']>i:\n",
    "                score_summaries_filtered[features]=score_summaries[features]\n",
    "        best = -1\n",
    "        best_features = []\n",
    "        for features in score_summaries_filtered:\n",
    "            if score_summaries_filtered[features]['mean']>best:\n",
    "                best = score_summaries_filtered[features]['mean']\n",
    "                best_features = features\n",
    "        best_dict[i + 1]['score'] = best\n",
    "        best_dict[i + 1]['features'] = best_features\n",
    "    return best_dict"
   ]
  },
  {
   "cell_type": "code",
   "execution_count": 8,
   "metadata": {
    "scrolled": true
   },
   "outputs": [
    {
     "data": {
      "text/plain": [
       "defaultdict(dict,\n",
       "            {1: {'score': -0.12321756456848706,\n",
       "              'features': ('value.Critical Thinking',\n",
       "               'value.Monitoring',\n",
       "               'value.Service Orientation',\n",
       "               'value.Equipment Selection',\n",
       "               'value.Programming',\n",
       "               'value.Systems Analysis',\n",
       "               'value.Problem Sensitivity',\n",
       "               'value.Computers and Electronics',\n",
       "               'work_num')},\n",
       "             2: {'score': -0.13595014888024132,\n",
       "              'features': ('value.Technology Design',\n",
       "               'value.Programming',\n",
       "               'value.Production and Processing',\n",
       "               'value.Computers and Electronics',\n",
       "               'value.Design',\n",
       "               'value.Medicine and Dentistry',\n",
       "               'value.Law and Government',\n",
       "               'value.Communications and Media',\n",
       "               'work_num')},\n",
       "             3: {'score': -0.15026076244953382,\n",
       "              'features': ('value.Technology Design',\n",
       "               'value.Computers and Electronics',\n",
       "               'value.Design',\n",
       "               'value.Communications and Media')},\n",
       "             4: {'score': -0.15454244011256008,\n",
       "              'features': ('value.Night Vision',\n",
       "               'value.Design',\n",
       "               'value.Communications and Media')},\n",
       "             5: {'score': -0.17497335486590995,\n",
       "              'features': ('value.Design', 'value.Communications and Media')},\n",
       "             6: {'score': -0.17497335486590995,\n",
       "              'features': ('value.Design', 'value.Communications and Media')}})"
      ]
     },
     "execution_count": 8,
     "metadata": {},
     "output_type": "execute_result"
    }
   ],
   "source": [
    "find_best(mae_results,6)"
   ]
  },
  {
   "cell_type": "code",
   "execution_count": 11,
   "metadata": {},
   "outputs": [],
   "source": [
    "def find_best_in_run(results):\n",
    "    best_dict = defaultdict(dict)\n",
    "    \n",
    "    for i in range(10):\n",
    "        best = -1\n",
    "        best_features = []\n",
    "        for run in results[i]:\n",
    "            score = results[i][run]['avg_score']\n",
    "            features = results[i][run]['feature_names']\n",
    "            if score>best:\n",
    "                best=score\n",
    "                best_features = features\n",
    "        best_dict[i]['score'] = best\n",
    "        best_dict[i]['features'] = best_features \n",
    "    return best_dict"
   ]
  },
  {
   "cell_type": "code",
   "execution_count": 12,
   "metadata": {
    "scrolled": true
   },
   "outputs": [],
   "source": [
    "run_bests = find_best_in_run(mae_results)\n",
    "best_lens = []\n",
    "for i in range(10):\n",
    "    best_lens.append(len(run_bests[i]['features']))"
   ]
  },
  {
   "cell_type": "code",
   "execution_count": 14,
   "metadata": {},
   "outputs": [
    {
     "data": {
      "text/plain": [
       "defaultdict(dict,\n",
       "            {0: {'score': -0.12321756456848706,\n",
       "              'features': ('value.Critical Thinking',\n",
       "               'value.Monitoring',\n",
       "               'value.Service Orientation',\n",
       "               'value.Equipment Selection',\n",
       "               'value.Programming',\n",
       "               'value.Systems Analysis',\n",
       "               'value.Problem Sensitivity',\n",
       "               'value.Computers and Electronics',\n",
       "               'work_num')},\n",
       "             1: {'score': -0.12990046551254453,\n",
       "              'features': ('value.Complex Problem Solving',\n",
       "               'value.Equipment Selection',\n",
       "               'value.Programming',\n",
       "               'value.Systems Analysis',\n",
       "               'value.Problem Sensitivity',\n",
       "               'value.Speed of Closure',\n",
       "               'value.Perceptual Speed',\n",
       "               'value.Time Sharing',\n",
       "               'value.Explosive Strength',\n",
       "               'value.Personnel and Human Resources',\n",
       "               'value.Computers and Electronics',\n",
       "               'value.Design',\n",
       "               'value.Mathematics Knowledge',\n",
       "               'value.Chemistry',\n",
       "               'value.Fine Arts',\n",
       "               'work_num')},\n",
       "             2: {'score': -0.12652081354572475,\n",
       "              'features': ('value.Persuasion',\n",
       "               'value.Technology Design',\n",
       "               'value.Programming',\n",
       "               'value.Speed of Closure',\n",
       "               'value.Time Sharing',\n",
       "               'value.Manual Dexterity',\n",
       "               'value.Explosive Strength',\n",
       "               'value.Near Vision',\n",
       "               'value.Peripheral Vision',\n",
       "               'value.Customer and Personal Service',\n",
       "               'value.Computers and Electronics',\n",
       "               'value.Fine Arts',\n",
       "               'work_num')},\n",
       "             3: {'score': -0.12578709663735826,\n",
       "              'features': ('value.Critical Thinking',\n",
       "               'value.Persuasion',\n",
       "               'value.Programming',\n",
       "               'value.Problem Sensitivity',\n",
       "               'value.Time Sharing',\n",
       "               'value.Explosive Strength',\n",
       "               'value.Far Vision',\n",
       "               'value.Customer and Personal Service',\n",
       "               'value.Personnel and Human Resources',\n",
       "               'work_num')},\n",
       "             4: {'score': -0.1271158081324137,\n",
       "              'features': ('value.Persuasion',\n",
       "               'value.Service Orientation',\n",
       "               'value.Technology Design',\n",
       "               'value.Equipment Selection',\n",
       "               'value.Programming',\n",
       "               'value.Problem Sensitivity',\n",
       "               'value.Speed of Closure',\n",
       "               'value.Perceptual Speed',\n",
       "               'value.Selective Attention',\n",
       "               'value.Time Sharing',\n",
       "               'value.Explosive Strength',\n",
       "               'value.Near Vision',\n",
       "               'value.Customer and Personal Service',\n",
       "               'value.Personnel and Human Resources',\n",
       "               'value.Computers and Electronics',\n",
       "               'value.Design',\n",
       "               'value.Fine Arts',\n",
       "               'value.Law and Government',\n",
       "               'work_num')},\n",
       "             5: {'score': -0.1270961974617844,\n",
       "              'features': ('value.Service Orientation',\n",
       "               'value.Technology Design',\n",
       "               'value.Explosive Strength',\n",
       "               'value.Dynamic Flexibility',\n",
       "               'value.Near Vision',\n",
       "               'value.Night Vision',\n",
       "               'value.Peripheral Vision',\n",
       "               'value.Production and Processing',\n",
       "               'value.Computers and Electronics')},\n",
       "             6: {'score': -0.1284712698728665,\n",
       "              'features': ('value.Complex Problem Solving',\n",
       "               'value.Technology Design',\n",
       "               'value.Equipment Selection',\n",
       "               'value.Programming',\n",
       "               'value.Speed of Closure',\n",
       "               'value.Speed of Limb Movement',\n",
       "               'value.Dynamic Strength',\n",
       "               'value.Stamina',\n",
       "               'value.Near Vision',\n",
       "               'value.Night Vision',\n",
       "               'value.Sound Localization',\n",
       "               'value.Customer and Personal Service',\n",
       "               'value.Computers and Electronics',\n",
       "               'value.Design',\n",
       "               'value.Medicine and Dentistry',\n",
       "               'value.Fine Arts',\n",
       "               'value.Law and Government',\n",
       "               'work_num')},\n",
       "             7: {'score': -0.13404452251178173,\n",
       "              'features': ('value.Technology Design',\n",
       "               'value.Equipment Selection',\n",
       "               'value.Installation',\n",
       "               'value.Programming',\n",
       "               'value.Perceptual Speed',\n",
       "               'value.Time Sharing',\n",
       "               'value.Production and Processing',\n",
       "               'value.Engineering and Technology',\n",
       "               'value.Design',\n",
       "               'value.Physics',\n",
       "               'value.Communications and Media')},\n",
       "             8: {'score': -0.12968643442872577,\n",
       "              'features': ('value.Service Orientation',\n",
       "               'value.Complex Problem Solving',\n",
       "               'value.Technology Design',\n",
       "               'value.Programming',\n",
       "               'value.Problem Sensitivity',\n",
       "               'value.Information Ordering',\n",
       "               'value.Perceptual Speed',\n",
       "               'value.Explosive Strength',\n",
       "               'value.Dynamic Flexibility',\n",
       "               'value.Near Vision',\n",
       "               'value.Customer and Personal Service',\n",
       "               'value.Personnel and Human Resources',\n",
       "               'value.Production and Processing',\n",
       "               'value.Computers and Electronics',\n",
       "               'value.Design',\n",
       "               'value.Fine Arts',\n",
       "               'value.Law and Government',\n",
       "               'work_num')},\n",
       "             9: {'score': -0.1268445529791756,\n",
       "              'features': ('value.Service Orientation',\n",
       "               'value.Technology Design',\n",
       "               'value.Equipment Selection',\n",
       "               'value.Programming',\n",
       "               'value.Problem Sensitivity',\n",
       "               'value.Perceptual Speed',\n",
       "               'value.Selective Attention',\n",
       "               'value.Time Sharing',\n",
       "               'value.Near Vision',\n",
       "               'value.Customer and Personal Service',\n",
       "               'value.Production and Processing',\n",
       "               'value.Computers and Electronics',\n",
       "               'value.Fine Arts',\n",
       "               'work_num')}})"
      ]
     },
     "execution_count": 14,
     "metadata": {},
     "output_type": "execute_result"
    }
   ],
   "source": [
    "run_bests"
   ]
  },
  {
   "cell_type": "code",
   "execution_count": 13,
   "metadata": {},
   "outputs": [
    {
     "data": {
      "text/plain": [
       "(array([2., 0., 1., 0., 1., 0., 0., 0., 1., 0., 1., 0., 0., 0., 1., 0., 0.,\n",
       "        0., 2., 1.]),\n",
       " array([ 9. ,  9.5, 10. , 10.5, 11. , 11.5, 12. , 12.5, 13. , 13.5, 14. ,\n",
       "        14.5, 15. , 15.5, 16. , 16.5, 17. , 17.5, 18. , 18.5, 19. ]),\n",
       " <a list of 20 Patch objects>)"
      ]
     },
     "execution_count": 13,
     "metadata": {},
     "output_type": "execute_result"
    },
    {
     "data": {
      "image/png": "[encoded data removed]",
      "text/plain": [
       "<Figure size 432x288 with 1 Axes>"
      ]
     },
     "metadata": {
      "needs_background": "light"
     },
     "output_type": "display_data"
    }
   ],
   "source": [
    "plt.hist(best_lens,bins=20)"
   ]
  },
  {
   "cell_type": "code",
   "execution_count": 15,
   "metadata": {},
   "outputs": [],
   "source": [
    "performance = []\n",
    "for i in range(10):\n",
    "    feature_count_scores = np.zeros(30)\n",
    "    for run in mae_results[i]:\n",
    "        feature_count = len(mae_results[i][run]['feature_idx'])\n",
    "        score = abs(mae_results[i][run]['avg_score'])\n",
    "        if score > feature_count_scores[feature_count-1]:\n",
    "            feature_count_scores[feature_count-1]=score\n",
    "    performance.append(feature_count_scores)"
   ]
  },
  {
   "cell_type": "code",
   "execution_count": 16,
   "metadata": {
    "scrolled": true
   },
   "outputs": [
    {
     "data": {
      "image/png": "[encoded data removed]",
      "text/plain": [
       "<Figure size 432x288 with 1 Axes>"
      ]
     },
     "metadata": {
      "needs_background": "light"
     },
     "output_type": "display_data"
    }
   ],
   "source": [
    "performance = pd.DataFrame(performance)\n",
    "avg_score = performance.mean(axis=0)\n",
    "std_score = performance.std(axis=0)\n",
    "plt.plot(avg_score)\n",
    "plt.fill_between(range(0,30),avg_score-std_score,avg_score+std_score,alpha=0.5)\n",
    "plt.show()"
   ]
  },
  {
   "cell_type": "code",
   "execution_count": 17,
   "metadata": {
    "scrolled": true
   },
   "outputs": [],
   "source": [
    "#consitency in bests!\n",
    "all_best_features = np.asarray(run_bests[0]['features'])\n",
    "for i in range(1,10):\n",
    "    new = np.asarray(run_bests[i]['features'])\n",
    "    all_best_features = np.append(all_best_features,new)"
   ]
  },
  {
   "cell_type": "code",
   "execution_count": 18,
   "metadata": {
    "scrolled": true
   },
   "outputs": [
    {
     "data": {
      "text/plain": [
       "value.Programming                      9\n",
       "work_num                               8\n",
       "value.Computers and Electronics        8\n",
       "value.Technology Design                7\n",
       "value.Fine Arts                        6\n",
       "value.Customer and Personal Service    6\n",
       "value.Time Sharing                     6\n",
       "value.Near Vision                      6\n",
       "value.Explosive Strength               6\n",
       "value.Problem Sensitivity              6\n",
       "value.Equipment Selection              6\n",
       "value.Service Orientation              5\n",
       "value.Design                           5\n",
       "value.Perceptual Speed                 5\n",
       "value.Production and Processing        4\n",
       "value.Speed of Closure                 4\n",
       "value.Personnel and Human Resources    4\n",
       "value.Law and Government               3\n",
       "value.Complex Problem Solving          3\n",
       "value.Persuasion                       3\n",
       "value.Night Vision                     2\n",
       "value.Selective Attention              2\n",
       "value.Peripheral Vision                2\n",
       "value.Dynamic Flexibility              2\n",
       "value.Critical Thinking                2\n",
       "value.Systems Analysis                 2\n",
       "value.Communications and Media         1\n",
       "value.Dynamic Strength                 1\n",
       "value.Engineering and Technology       1\n",
       "value.Monitoring                       1\n",
       "value.Far Vision                       1\n",
       "value.Information Ordering             1\n",
       "value.Installation                     1\n",
       "value.Manual Dexterity                 1\n",
       "value.Mathematics Knowledge            1\n",
       "value.Medicine and Dentistry           1\n",
       "value.Physics                          1\n",
       "value.Sound Localization               1\n",
       "value.Speed of Limb Movement           1\n",
       "value.Stamina                          1\n",
       "value.Chemistry                        1\n",
       "dtype: int64"
      ]
     },
     "execution_count": 18,
     "metadata": {},
     "output_type": "execute_result"
    }
   ],
   "source": [
    "unique, counts = np.unique(all_best_features, return_counts=True)\n",
    "best_feature_counts = dict(zip(unique, counts))\n",
    "pd.Series(best_feature_counts).sort_values(ascending=False)"
   ]
  },
  {
   "cell_type": "code",
   "execution_count": 19,
   "metadata": {},
   "outputs": [],
   "source": [
    "chosen = ['value.Critical Thinking',\n",
    "               'value.Monitoring',\n",
    "               'value.Service Orientation',\n",
    "               'value.Equipment Selection',\n",
    "               'value.Programming',\n",
    "               'value.Systems Analysis',\n",
    "               'value.Problem Sensitivity',\n",
    "               'value.Computers and Electronics',\n",
    "               'work_num']"
   ]
  },
  {
   "cell_type": "code",
   "execution_count": 20,
   "metadata": {
    "scrolled": false
   },
   "outputs": [
    {
     "name": "stdout",
     "output_type": "stream",
     "text": [
      "value.Critical Thinking\n",
      "2\n",
      "value.Monitoring\n",
      "1\n",
      "value.Service Orientation\n",
      "5\n",
      "value.Equipment Selection\n",
      "6\n",
      "value.Programming\n",
      "9\n",
      "value.Systems Analysis\n",
      "2\n",
      "value.Problem Sensitivity\n",
      "6\n",
      "value.Computers and Electronics\n",
      "8\n",
      "work_num\n",
      "8\n"
     ]
    }
   ],
   "source": [
    "for feature in chosen:\n",
    "    print(feature)\n",
    "    print(best_feature_counts[feature])"
   ]
  }
 ],
 "metadata": {
  "kernelspec": {
   "display_name": "Python 3",
   "language": "python",
   "name": "python3"
  },
  "language_info": {
   "codemirror_mode": {
    "name": "ipython",
    "version": 3
   },
   "file_extension": ".py",
   "mimetype": "text/x-python",
   "name": "python",
   "nbconvert_exporter": "python",
   "pygments_lexer": "ipython3",
   "version": "3.7.3"
  }
 },
 "nbformat": 4,
 "nbformat_minor": 2
}
