{
 "cells": [
  {
   "cell_type": "code",
   "execution_count": 1,
   "metadata": {},
   "outputs": [
    {
     "name": "stderr",
     "output_type": "stream",
     "text": [
      "/home/joshua/anaconda3/lib/python3.7/site-packages/sklearn/externals/joblib/__init__.py:15: DeprecationWarning: sklearn.externals.joblib is deprecated in 0.21 and will be removed in 0.23. Please import this functionality directly from joblib, which can be installed with: pip install joblib. If this warning is raised when loading pickled models, you may need to re-serialize those models with scikit-learn 0.21+.\n",
      "  warnings.warn(msg, category=DeprecationWarning)\n"
     ]
    }
   ],
   "source": [
    "import pickle\n",
    "from collections import defaultdict\n",
    "%run utils_rf"
   ]
  },
  {
   "cell_type": "code",
   "execution_count": 2,
   "metadata": {},
   "outputs": [],
   "source": [
    "with open('mae_results_ws_drop3.pkl','rb') as f:\n",
    "    mae_results = pickle.load(f)"
   ]
  },
  {
   "cell_type": "code",
   "execution_count": 3,
   "metadata": {},
   "outputs": [],
   "source": [
    "def get_summaries(results):\n",
    "    scores = defaultdict(list)\n",
    "    for i in range(10):\n",
    "        for run in results[i]:\n",
    "            score = results[i][run]['avg_score']\n",
    "            features = results[i][run]['feature_names']\n",
    "            scores[features].append(score)\n",
    "    score_summaries = defaultdict(dict)\n",
    "    for features in scores:\n",
    "        score_summaries[features]['mean'] = np.mean(scores[features])\n",
    "        score_summaries[features]['std'] = np.std(scores[features])\n",
    "        score_summaries[features]['count'] = len(scores[features])\n",
    "    return score_summaries"
   ]
  },
  {
   "cell_type": "code",
   "execution_count": 4,
   "metadata": {},
   "outputs": [],
   "source": [
    "def find_best(results, n):\n",
    "    score_summaries = get_summaries(results)\n",
    "    best_dict = defaultdict(dict)\n",
    "    for i in range(n):\n",
    "        score_summaries_filtered = defaultdict(dict)\n",
    "        for features in score_summaries:\n",
    "            if score_summaries[features]['count']>i:\n",
    "                score_summaries_filtered[features]=score_summaries[features]\n",
    "        best = -1\n",
    "        best_features = []\n",
    "        for features in score_summaries_filtered:\n",
    "            if score_summaries_filtered[features]['mean']>best:\n",
    "                best = score_summaries_filtered[features]['mean']\n",
    "                best_features = features\n",
    "        best_dict[i + 1]['score'] = best\n",
    "        best_dict[i + 1]['features'] = best_features\n",
    "    return best_dict"
   ]
  },
  {
   "cell_type": "code",
   "execution_count": 5,
   "metadata": {
    "scrolled": true
   },
   "outputs": [
    {
     "data": {
      "text/plain": [
       "defaultdict(dict,\n",
       "            {1: {'score': -0.20909069044634868,\n",
       "              'features': ('value.Operation Monitoring',\n",
       "               'value.Quality Control Analysis',\n",
       "               'value.Problem Sensitivity',\n",
       "               'value.Perceptual Speed',\n",
       "               'value.Control Precision',\n",
       "               'value.Mechanical',\n",
       "               'value.English Language',\n",
       "               'value.Fine Arts',\n",
       "               'value.Telecommunications')},\n",
       "             2: {'score': -0.2419125707517888,\n",
       "              'features': ('value.Writing',\n",
       "               'value.Problem Sensitivity',\n",
       "               'value.Speed of Closure',\n",
       "               'value.Selective Attention',\n",
       "               'value.Control Precision',\n",
       "               'value.Personnel and Human Resources',\n",
       "               'value.Geography',\n",
       "               'value.Telecommunications')},\n",
       "             3: {'score': -0.28181500598544423,\n",
       "              'features': ('value.Problem Sensitivity',\n",
       "               'value.Control Precision',\n",
       "               'value.Rate Control',\n",
       "               'value.Fine Arts',\n",
       "               'value.Telecommunications')},\n",
       "             4: {'score': -0.28181500598544423,\n",
       "              'features': ('value.Problem Sensitivity',\n",
       "               'value.Control Precision',\n",
       "               'value.Rate Control',\n",
       "               'value.Fine Arts',\n",
       "               'value.Telecommunications')},\n",
       "             5: {'score': -0.30678000253761467,\n",
       "              'features': ('value.Problem Sensitivity',\n",
       "               'value.Control Precision',\n",
       "               'value.Telecommunications')},\n",
       "             6: {'score': -0.30678000253761467,\n",
       "              'features': ('value.Problem Sensitivity',\n",
       "               'value.Control Precision',\n",
       "               'value.Telecommunications')}})"
      ]
     },
     "execution_count": 5,
     "metadata": {},
     "output_type": "execute_result"
    }
   ],
   "source": [
    "find_best(mae_results,6)"
   ]
  },
  {
   "cell_type": "code",
   "execution_count": 6,
   "metadata": {},
   "outputs": [],
   "source": [
    "def find_best_in_run(results):\n",
    "    best_dict = defaultdict(dict)\n",
    "    \n",
    "    for i in range(10):\n",
    "        best = -1\n",
    "        best_features = []\n",
    "        for run in results[i]:\n",
    "            score = results[i][run]['avg_score']\n",
    "            features = results[i][run]['feature_names']\n",
    "            if score>best:\n",
    "                best=score\n",
    "                best_features = features\n",
    "        best_dict[i]['score'] = best\n",
    "        best_dict[i]['features'] = best_features \n",
    "    return best_dict"
   ]
  },
  {
   "cell_type": "code",
   "execution_count": 7,
   "metadata": {
    "scrolled": true
   },
   "outputs": [],
   "source": [
    "run_bests = find_best_in_run(mae_results)\n",
    "best_lens = []\n",
    "for i in range(5):\n",
    "    best_lens.append(len(run_bests[i]['features']))"
   ]
  },
  {
   "cell_type": "code",
   "execution_count": 8,
   "metadata": {
    "scrolled": true
   },
   "outputs": [
    {
     "data": {
      "text/plain": [
       "defaultdict(dict,\n",
       "            {0: {'score': -0.2241706145664492,\n",
       "              'features': ('value.Active Listening',\n",
       "               'value.Monitoring',\n",
       "               'value.Coordination',\n",
       "               'value.Quality Control Analysis',\n",
       "               'value.Management of Material Resources',\n",
       "               'value.Management of Personnel Resources',\n",
       "               'value.Perceptual Speed',\n",
       "               'value.Spatial Orientation',\n",
       "               'value.Control Precision',\n",
       "               'value.Response Orientation',\n",
       "               'value.Rate Control',\n",
       "               'value.Night Vision',\n",
       "               'value.Peripheral Vision',\n",
       "               'value.Speech Recognition',\n",
       "               'value.Personnel and Human Resources',\n",
       "               'value.Food Production',\n",
       "               'value.Geography',\n",
       "               'value.English Language',\n",
       "               'value.Fine Arts')},\n",
       "             1: {'score': -0.20909069044634868,\n",
       "              'features': ('value.Operation Monitoring',\n",
       "               'value.Quality Control Analysis',\n",
       "               'value.Problem Sensitivity',\n",
       "               'value.Perceptual Speed',\n",
       "               'value.Control Precision',\n",
       "               'value.Mechanical',\n",
       "               'value.English Language',\n",
       "               'value.Fine Arts',\n",
       "               'value.Telecommunications')},\n",
       "             2: {'score': -0.22597257036749738,\n",
       "              'features': ('value.Speaking',\n",
       "               'value.Critical Thinking',\n",
       "               'value.Monitoring',\n",
       "               'value.Coordination',\n",
       "               'value.Quality Control Analysis',\n",
       "               'value.Written Comprehension',\n",
       "               'value.Oral Expression',\n",
       "               'value.Written Expression',\n",
       "               'value.Inductive Reasoning',\n",
       "               'value.Category Flexibility',\n",
       "               'value.Speed of Closure',\n",
       "               'value.Perceptual Speed',\n",
       "               'value.Selective Attention',\n",
       "               'value.Finger Dexterity',\n",
       "               'value.Control Precision',\n",
       "               'value.Response Orientation',\n",
       "               'value.Dynamic Flexibility',\n",
       "               'value.Far Vision',\n",
       "               'value.Speech Recognition',\n",
       "               'value.Speech Clarity',\n",
       "               'value.Personnel and Human Resources',\n",
       "               'value.Geography',\n",
       "               'value.English Language',\n",
       "               'value.Fine Arts',\n",
       "               'value.Telecommunications')},\n",
       "             3: {'score': -0.22234550613676402,\n",
       "              'features': ('value.Operation Monitoring',\n",
       "               'value.Quality Control Analysis',\n",
       "               'value.Category Flexibility',\n",
       "               'value.Spatial Orientation',\n",
       "               'value.Control Precision',\n",
       "               'value.Rate Control',\n",
       "               'value.Peripheral Vision',\n",
       "               'value.Sound Localization',\n",
       "               'value.Sales and Marketing',\n",
       "               'value.Food Production',\n",
       "               'value.Engineering and Technology',\n",
       "               'value.Design',\n",
       "               'value.Mechanical',\n",
       "               'value.Fine Arts',\n",
       "               'value.Telecommunications',\n",
       "               'value.Transportation')},\n",
       "             4: {'score': -0.22044112157633355,\n",
       "              'features': ('value.Science',\n",
       "               'value.Operations Analysis',\n",
       "               'value.Quality Control Analysis',\n",
       "               'value.Category Flexibility',\n",
       "               'value.Speed of Closure',\n",
       "               'value.Selective Attention',\n",
       "               'value.Control Precision',\n",
       "               'value.Response Orientation',\n",
       "               'value.Rate Control',\n",
       "               'value.Speed of Limb Movement',\n",
       "               'value.Dynamic Strength',\n",
       "               'value.Stamina',\n",
       "               'value.Far Vision',\n",
       "               'value.Geography',\n",
       "               'value.English Language',\n",
       "               'value.Telecommunications')},\n",
       "             5: {'score': -0.22967671406819684,\n",
       "              'features': ('value.Speaking',\n",
       "               'value.Quality Control Analysis',\n",
       "               'value.Management of Material Resources',\n",
       "               'value.Category Flexibility',\n",
       "               'value.Perceptual Speed',\n",
       "               'value.Spatial Orientation',\n",
       "               'value.Selective Attention',\n",
       "               'value.Control Precision',\n",
       "               'value.Rate Control',\n",
       "               'value.Glare Sensitivity',\n",
       "               'value.Sound Localization',\n",
       "               'value.Food Production',\n",
       "               'value.Mechanical',\n",
       "               'value.Fine Arts',\n",
       "               'value.History and Archeology',\n",
       "               'value.Telecommunications',\n",
       "               'value.Transportation')},\n",
       "             6: {'score': -0.2201080137119531,\n",
       "              'features': ('value.Writing',\n",
       "               'value.Critical Thinking',\n",
       "               'value.Problem Sensitivity',\n",
       "               'value.Perceptual Speed',\n",
       "               'value.Selective Attention',\n",
       "               'value.Control Precision',\n",
       "               'value.Personnel and Human Resources',\n",
       "               'value.Geography',\n",
       "               'value.English Language',\n",
       "               'value.Telecommunications')},\n",
       "             7: {'score': -0.22357503523269986,\n",
       "              'features': ('value.Reading Comprehension',\n",
       "               'value.Active Listening',\n",
       "               'value.Critical Thinking',\n",
       "               'value.Monitoring',\n",
       "               'value.Coordination',\n",
       "               'value.Operation and Control',\n",
       "               'value.Quality Control Analysis',\n",
       "               'value.Judgment and Decision Making',\n",
       "               'value.Written Comprehension',\n",
       "               'value.Category Flexibility',\n",
       "               'value.Speed of Closure',\n",
       "               'value.Perceptual Speed',\n",
       "               'value.Selective Attention',\n",
       "               'value.Control Precision',\n",
       "               'value.Dynamic Flexibility',\n",
       "               'value.Far Vision',\n",
       "               'value.Speech Recognition',\n",
       "               'value.English Language',\n",
       "               'value.Fine Arts',\n",
       "               'value.Telecommunications',\n",
       "               'value.Communications and Media')},\n",
       "             8: {'score': -0.21065757893714115,\n",
       "              'features': ('value.Reading Comprehension',\n",
       "               'value.Operations Analysis',\n",
       "               'value.Quality Control Analysis',\n",
       "               'value.Oral Comprehension',\n",
       "               'value.Written Comprehension',\n",
       "               'value.Written Expression',\n",
       "               'value.Category Flexibility',\n",
       "               'value.Perceptual Speed',\n",
       "               'value.Spatial Orientation',\n",
       "               'value.Wrist-Finger Speed',\n",
       "               'value.Night Vision',\n",
       "               'value.Peripheral Vision',\n",
       "               'value.Engineering and Technology',\n",
       "               'value.English Language',\n",
       "               'value.Fine Arts',\n",
       "               'value.Public Safety and Security',\n",
       "               'value.Telecommunications',\n",
       "               'value.Communications and Media')},\n",
       "             9: {'score': -0.21778961765545013,\n",
       "              'features': ('value.Reading Comprehension',\n",
       "               'value.Speaking',\n",
       "               'value.Critical Thinking',\n",
       "               'value.Monitoring',\n",
       "               'value.Coordination',\n",
       "               'value.Quality Control Analysis',\n",
       "               'value.Time Management',\n",
       "               'value.Written Comprehension',\n",
       "               'value.Oral Expression',\n",
       "               'value.Problem Sensitivity',\n",
       "               'value.Category Flexibility',\n",
       "               'value.Speed of Closure',\n",
       "               'value.Perceptual Speed',\n",
       "               'value.Finger Dexterity',\n",
       "               'value.Control Precision',\n",
       "               'value.Speed of Limb Movement',\n",
       "               'value.Gross Body Equilibrium',\n",
       "               'value.Far Vision',\n",
       "               'value.Speech Recognition',\n",
       "               'value.Speech Clarity',\n",
       "               'value.Clerical',\n",
       "               'value.Geography',\n",
       "               'value.English Language',\n",
       "               'value.Fine Arts',\n",
       "               'value.History and Archeology',\n",
       "               'value.Telecommunications')}})"
      ]
     },
     "execution_count": 8,
     "metadata": {},
     "output_type": "execute_result"
    }
   ],
   "source": [
    "run_bests"
   ]
  },
  {
   "cell_type": "code",
   "execution_count": 9,
   "metadata": {
    "scrolled": false
   },
   "outputs": [
    {
     "data": {
      "text/plain": [
       "(array([1., 0., 0., 0., 0., 0., 0., 0., 2., 0., 0., 0., 1., 0., 0., 0., 0.,\n",
       "        0., 0., 1.]),\n",
       " array([ 9. ,  9.8, 10.6, 11.4, 12.2, 13. , 13.8, 14.6, 15.4, 16.2, 17. ,\n",
       "        17.8, 18.6, 19.4, 20.2, 21. , 21.8, 22.6, 23.4, 24.2, 25. ]),\n",
       " <a list of 20 Patch objects>)"
      ]
     },
     "execution_count": 9,
     "metadata": {},
     "output_type": "execute_result"
    },
    {
     "data": {
      "image/png": "[encoded data removed]",
      "text/plain": [
       "<Figure size 432x288 with 1 Axes>"
      ]
     },
     "metadata": {
      "needs_background": "light"
     },
     "output_type": "display_data"
    }
   ],
   "source": [
    "plt.hist(best_lens,bins=20)"
   ]
  },
  {
   "cell_type": "code",
   "execution_count": 15,
   "metadata": {},
   "outputs": [],
   "source": [
    "performance = []\n",
    "for i in range(20):\n",
    "    feature_count_scores = np.zeros(30)\n",
    "    for run in mae_results[i]:\n",
    "        feature_count = len(mae_results[i][run]['feature_idx'])\n",
    "        score = abs(mae_results[i][run]['avg_score'])\n",
    "        if score > feature_count_scores[feature_count-1]:\n",
    "            feature_count_scores[feature_count-1]=score\n",
    "    performance.append(feature_count_scores)"
   ]
  },
  {
   "cell_type": "code",
   "execution_count": 16,
   "metadata": {
    "scrolled": true
   },
   "outputs": [
    {
     "data": {
      "image/png": "[encoded data removed]",
      "text/plain": [
       "<Figure size 432x288 with 1 Axes>"
      ]
     },
     "metadata": {
      "needs_background": "light"
     },
     "output_type": "display_data"
    }
   ],
   "source": [
    "performance = pd.DataFrame(performance)\n",
    "avg_score = performance.mean(axis=0)\n",
    "std_score = performance.std(axis=0)\n",
    "plt.plot(avg_score)\n",
    "plt.fill_between(range(0,30),avg_score-std_score,avg_score+std_score,alpha=0.5)\n",
    "plt.show()"
   ]
  },
  {
   "cell_type": "code",
   "execution_count": 17,
   "metadata": {
    "scrolled": true
   },
   "outputs": [
    {
     "ename": "KeyError",
     "evalue": "'features'",
     "output_type": "error",
     "traceback": [
      "\u001b[0;31m---------------------------------------------------------------------------\u001b[0m",
      "\u001b[0;31mKeyError\u001b[0m                                  Traceback (most recent call last)",
      "\u001b[0;32m<ipython-input-17-f5ef759691ef>\u001b[0m in \u001b[0;36m<module>\u001b[0;34m\u001b[0m\n\u001b[1;32m      2\u001b[0m \u001b[0mall_best_features\u001b[0m \u001b[0;34m=\u001b[0m \u001b[0mnp\u001b[0m\u001b[0;34m.\u001b[0m\u001b[0masarray\u001b[0m\u001b[0;34m(\u001b[0m\u001b[0mrun_bests\u001b[0m\u001b[0;34m[\u001b[0m\u001b[0;36m0\u001b[0m\u001b[0;34m]\u001b[0m\u001b[0;34m[\u001b[0m\u001b[0;34m'features'\u001b[0m\u001b[0;34m]\u001b[0m\u001b[0;34m)\u001b[0m\u001b[0;34m\u001b[0m\u001b[0m\n\u001b[1;32m      3\u001b[0m \u001b[0;32mfor\u001b[0m \u001b[0mi\u001b[0m \u001b[0;32min\u001b[0m \u001b[0mrange\u001b[0m\u001b[0;34m(\u001b[0m\u001b[0;36m1\u001b[0m\u001b[0;34m,\u001b[0m\u001b[0;36m20\u001b[0m\u001b[0;34m)\u001b[0m\u001b[0;34m:\u001b[0m\u001b[0;34m\u001b[0m\u001b[0m\n\u001b[0;32m----> 4\u001b[0;31m     \u001b[0mnew\u001b[0m \u001b[0;34m=\u001b[0m \u001b[0mnp\u001b[0m\u001b[0;34m.\u001b[0m\u001b[0masarray\u001b[0m\u001b[0;34m(\u001b[0m\u001b[0mrun_bests\u001b[0m\u001b[0;34m[\u001b[0m\u001b[0mi\u001b[0m\u001b[0;34m]\u001b[0m\u001b[0;34m[\u001b[0m\u001b[0;34m'features'\u001b[0m\u001b[0;34m]\u001b[0m\u001b[0;34m)\u001b[0m\u001b[0;34m\u001b[0m\u001b[0m\n\u001b[0m\u001b[1;32m      5\u001b[0m     \u001b[0mall_best_features\u001b[0m \u001b[0;34m=\u001b[0m \u001b[0mnp\u001b[0m\u001b[0;34m.\u001b[0m\u001b[0mappend\u001b[0m\u001b[0;34m(\u001b[0m\u001b[0mall_best_features\u001b[0m\u001b[0;34m,\u001b[0m\u001b[0mnew\u001b[0m\u001b[0;34m)\u001b[0m\u001b[0;34m\u001b[0m\u001b[0m\n",
      "\u001b[0;31mKeyError\u001b[0m: 'features'"
     ]
    }
   ],
   "source": [
    "#consitency in bests!\n",
    "all_best_features = np.asarray(run_bests[0]['features'])\n",
    "for i in range(1,20):\n",
    "    new = np.asarray(run_bests[i]['features'])\n",
    "    all_best_features = np.append(all_best_features,new)"
   ]
  },
  {
   "cell_type": "code",
   "execution_count": 13,
   "metadata": {
    "scrolled": true
   },
   "outputs": [
    {
     "data": {
      "text/plain": [
       "value.Quality Control Analysis             9\n",
       "value.Control Precision                    9\n",
       "value.Telecommunications                   9\n",
       "value.Perceptual Speed                     8\n",
       "value.Fine Arts                            8\n",
       "value.English Language                     8\n",
       "value.Category Flexibility                 7\n",
       "value.Geography                            5\n",
       "value.Selective Attention                  5\n",
       "value.Rate Control                         4\n",
       "value.Monitoring                           4\n",
       "value.Spatial Orientation                  4\n",
       "value.Far Vision                           4\n",
       "value.Speech Recognition                   4\n",
       "value.Speed of Closure                     4\n",
       "value.Critical Thinking                    4\n",
       "value.Coordination                         4\n",
       "value.Written Comprehension                4\n",
       "value.Problem Sensitivity                  3\n",
       "value.Peripheral Vision                    3\n",
       "value.Personnel and Human Resources        3\n",
       "value.Food Production                      3\n",
       "value.Mechanical                           3\n",
       "value.Reading Comprehension                3\n",
       "value.Response Orientation                 3\n",
       "value.Speaking                             3\n",
       "value.Finger Dexterity                     2\n",
       "value.Engineering and Technology           2\n",
       "value.Dynamic Flexibility                  2\n",
       "value.Communications and Media             2\n",
       "value.History and Archeology               2\n",
       "value.Management of Material Resources     2\n",
       "value.Written Expression                   2\n",
       "value.Operations Analysis                  2\n",
       "value.Night Vision                         2\n",
       "value.Oral Expression                      2\n",
       "value.Transportation                       2\n",
       "value.Speed of Limb Movement               2\n",
       "value.Speech Clarity                       2\n",
       "value.Sound Localization                   2\n",
       "value.Active Listening                     2\n",
       "value.Operation Monitoring                 2\n",
       "value.Glare Sensitivity                    1\n",
       "value.Oral Comprehension                   1\n",
       "value.Writing                              1\n",
       "value.Clerical                             1\n",
       "value.Wrist-Finger Speed                   1\n",
       "value.Time Management                      1\n",
       "value.Stamina                              1\n",
       "value.Design                               1\n",
       "value.Judgment and Decision Making         1\n",
       "value.Dynamic Strength                     1\n",
       "value.Inductive Reasoning                  1\n",
       "value.Operation and Control                1\n",
       "value.Management of Personnel Resources    1\n",
       "value.Sales and Marketing                  1\n",
       "value.Public Safety and Security           1\n",
       "value.Gross Body Equilibrium               1\n",
       "value.Science                              1\n",
       "dtype: int64"
      ]
     },
     "execution_count": 13,
     "metadata": {},
     "output_type": "execute_result"
    }
   ],
   "source": [
    "unique, counts = np.unique(all_best_features, return_counts=True)\n",
    "best_feature_counts = dict(zip(unique, counts))\n",
    "pd.Series(best_feature_counts).sort_values(ascending=False)"
   ]
  },
  {
   "cell_type": "code",
   "execution_count": 14,
   "metadata": {},
   "outputs": [],
   "source": [
    "chosen = ['value.Service Orientation',\n",
    "               'value.Operations Analysis',\n",
    "               'value.Technology Design',\n",
    "               'value.Systems Analysis',\n",
    "               'value.Problem Sensitivity',\n",
    "               'value.Time Sharing',\n",
    "               'value.Explosive Strength',\n",
    "               'value.Personnel and Human Resources',\n",
    "               'value.Computers and Electronics']"
   ]
  },
  {
   "cell_type": "code",
   "execution_count": 15,
   "metadata": {
    "scrolled": false
   },
   "outputs": [
    {
     "name": "stdout",
     "output_type": "stream",
     "text": [
      "value.Service Orientation\n",
      "13\n",
      "value.Operations Analysis\n",
      "1\n",
      "value.Technology Design\n",
      "17\n",
      "value.Systems Analysis\n",
      "4\n",
      "value.Problem Sensitivity\n",
      "9\n",
      "value.Time Sharing\n",
      "15\n",
      "value.Explosive Strength\n",
      "16\n",
      "value.Personnel and Human Resources\n",
      "7\n",
      "value.Computers and Electronics\n",
      "19\n"
     ]
    }
   ],
   "source": [
    "for feature in chosen:\n",
    "    print(feature)\n",
    "    print(best_feature_counts[feature])"
   ]
  }
 ],
 "metadata": {
  "kernelspec": {
   "display_name": "Python 3",
   "language": "python",
   "name": "python3"
  },
  "language_info": {
   "codemirror_mode": {
    "name": "ipython",
    "version": 3
   },
   "file_extension": ".py",
   "mimetype": "text/x-python",
   "name": "python",
   "nbconvert_exporter": "python",
   "pygments_lexer": "ipython3",
   "version": "3.7.0"
  }
 },
 "nbformat": 4,
 "nbformat_minor": 2
}
