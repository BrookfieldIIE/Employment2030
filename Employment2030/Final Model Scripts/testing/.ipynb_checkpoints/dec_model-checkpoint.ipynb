{
 "cells": [
  {
   "cell_type": "code",
   "execution_count": 8,
   "metadata": {
    "scrolled": false
   },
   "outputs": [],
   "source": [
    "%run ../utils_rf.py\n",
    "import csv"
   ]
  },
  {
   "cell_type": "code",
   "execution_count": 9,
   "metadata": {},
   "outputs": [],
   "source": [
    "#read training data\n",
    "file = \"../../tables/model_input/noc_answers.csv\"\n",
    "x, x_agg, y, y_agg, x_noclvl, y_noclvl = data_proccess(file,True)\n",
    "\n",
    "#grab just the noc codes to cut out test nocs from main noc table\n",
    "train_nocs = pd.read_csv(file,usecols=['noc_code']).drop_duplicates()"
   ]
  },
  {
   "cell_type": "code",
   "execution_count": 10,
   "metadata": {},
   "outputs": [],
   "source": [
    "#read full noc set\n",
    "file = \"../../tables/model_input/noc_scores.csv\"\n",
    "nocs = pd.read_csv(file,index_col=['noc'])\n",
    "nocs.sort_index(inplace=True)\n",
    "nocs.drop(['Unnamed: 0'],axis=1,inplace=True)\n",
    "nocs = np.round(nocs).astype(int)\n",
    "nocs.drop(train_nocs['noc_code'],inplace=True)"
   ]
  },
  {
   "cell_type": "markdown",
   "metadata": {},
   "source": [
    "*Test using Chosen Model in this script before full training and prediction*\n",
    "\n",
    "Also I should make the feature be read from a file"
   ]
  },
  {
   "cell_type": "code",
   "execution_count": 11,
   "metadata": {},
   "outputs": [],
   "source": [
    "f = open('../../tables/SFFS_output/dec_features.txt', 'r')\n",
    "sffs_prob_features = f.readlines()\n",
    "f.close()\n",
    "\n",
    "sffs_prob_features = [x[:-1] for x in sffs_prob_features]"
   ]
  },
  {
   "cell_type": "code",
   "execution_count": 12,
   "metadata": {},
   "outputs": [],
   "source": [
    "means = []\n",
    "models = []\n",
    "for i in range(10):    \n",
    "    dec_prob_sfs = run_k_fold(x.loc[:,sffs_prob_features],y['decrease'],init_params('cat'),x.index,True,'pred_probs')\n",
    "    means.append(abs(dec_prob_sfs.subtract(y_agg['decrease'],axis=0)).mean())\n",
    "    models.append(dec_prob_sfs)"
   ]
  },
  {
   "cell_type": "code",
   "execution_count": 13,
   "metadata": {},
   "outputs": [],
   "source": [
    "dec_prob_sfs = models[np.argmin(means)].copy()"
   ]
  },
  {
   "cell_type": "code",
   "execution_count": 14,
   "metadata": {},
   "outputs": [],
   "source": [
    "dec_prob_sfs.to_csv('dec_trainset_projections.csv')"
   ]
  },
  {
   "cell_type": "code",
   "execution_count": 15,
   "metadata": {
    "scrolled": false
   },
   "outputs": [
    {
     "data": {
      "text/plain": [
       "0.1258274713074707"
      ]
     },
     "execution_count": 15,
     "metadata": {},
     "output_type": "execute_result"
    }
   ],
   "source": [
    "np.mean(means)"
   ]
  },
  {
   "cell_type": "code",
   "execution_count": 16,
   "metadata": {
    "scrolled": false
   },
   "outputs": [
    {
     "data": {
      "text/plain": [
       "0.0008781894886934921"
      ]
     },
     "execution_count": 16,
     "metadata": {},
     "output_type": "execute_result"
    }
   ],
   "source": [
    "np.std(means)"
   ]
  },
  {
   "cell_type": "code",
   "execution_count": 17,
   "metadata": {
    "scrolled": true
   },
   "outputs": [
    {
     "data": {
      "image/png": "[encoded data removed]",
      "text/plain": [
       "<Figure size 432x288 with 1 Axes>"
      ]
     },
     "metadata": {
      "needs_background": "light"
     },
     "output_type": "display_data"
    }
   ],
   "source": [
    "bins=np.histogram(np.hstack((y_noclvl['decrease'],dec_prob_sfs[0])), bins=20)[1]\n",
    "\n",
    "fig, ax = plt.subplots()\n",
    "plt.hist(y_noclvl['decrease'],bins, alpha = 0.5, edgecolor = 'black',label='True')\n",
    "plt.hist(dec_prob_sfs[0],bins, alpha = 0.25, edgecolor = 'black',label='Pred')\n",
    "plt.legend(loc='upper right')\n",
    "ax.set_ylabel('Count')\n",
    "ax.set_title('Distibution True vs Predicted Decrease Portions - Decrease')\n",
    "\n",
    "plt.savefig('true vs pred error - dec.png')\n",
    "plt.show()"
   ]
  },
  {
   "cell_type": "code",
   "execution_count": 18,
   "metadata": {
    "scrolled": false
   },
   "outputs": [
    {
     "data": {
      "text/html": [
       "<div>\n",
       "<style scoped>\n",
       "    .dataframe tbody tr th:only-of-type {\n",
       "        vertical-align: middle;\n",
       "    }\n",
       "\n",
       "    .dataframe tbody tr th {\n",
       "        vertical-align: top;\n",
       "    }\n",
       "\n",
       "    .dataframe thead th {\n",
       "        text-align: right;\n",
       "    }\n",
       "</style>\n",
       "<table border=\"1\" class=\"dataframe\">\n",
       "  <thead>\n",
       "    <tr style=\"text-align: right;\">\n",
       "      <th></th>\n",
       "      <th>pred_increase</th>\n",
       "      <th>pred_decrease</th>\n",
       "    </tr>\n",
       "  </thead>\n",
       "  <tbody>\n",
       "    <tr>\n",
       "      <th>true_increase</th>\n",
       "      <td>9</td>\n",
       "      <td>5</td>\n",
       "    </tr>\n",
       "    <tr>\n",
       "      <th>true_decrease</th>\n",
       "      <td>3</td>\n",
       "      <td>28</td>\n",
       "    </tr>\n",
       "  </tbody>\n",
       "</table>\n",
       "</div>"
      ],
      "text/plain": [
       "               pred_increase  pred_decrease\n",
       "true_increase              9              5\n",
       "true_decrease              3             28"
      ]
     },
     "execution_count": 18,
     "metadata": {},
     "output_type": "execute_result"
    }
   ],
   "source": [
    "dec_prob_confusion = confusion_matrix(dec_prob_sfs[0],y_noclvl['decrease'],True)\n",
    "dec_prob_confusion"
   ]
  },
  {
   "cell_type": "code",
   "execution_count": 19,
   "metadata": {},
   "outputs": [
    {
     "data": {
      "text/plain": [
       "0.8222222222222222"
      ]
     },
     "execution_count": 19,
     "metadata": {},
     "output_type": "execute_result"
    }
   ],
   "source": [
    "correct_sum = 0\n",
    "for i in range(2):\n",
    "    correct_sum+=dec_prob_confusion.iloc[i,i]\n",
    "correct_sum/45"
   ]
  },
  {
   "cell_type": "code",
   "execution_count": 20,
   "metadata": {
    "scrolled": false
   },
   "outputs": [
    {
     "data": {
      "text/html": [
       "<div>\n",
       "<style scoped>\n",
       "    .dataframe tbody tr th:only-of-type {\n",
       "        vertical-align: middle;\n",
       "    }\n",
       "\n",
       "    .dataframe tbody tr th {\n",
       "        vertical-align: top;\n",
       "    }\n",
       "\n",
       "    .dataframe thead th {\n",
       "        text-align: right;\n",
       "    }\n",
       "</style>\n",
       "<table border=\"1\" class=\"dataframe\">\n",
       "  <thead>\n",
       "    <tr style=\"text-align: right;\">\n",
       "      <th></th>\n",
       "      <th>pred&gt;=0.7</th>\n",
       "      <th>0.5&lt;=pred&lt;0.7</th>\n",
       "      <th>0.3&lt;=pred&lt;0.5</th>\n",
       "      <th>pred&lt;0.3</th>\n",
       "    </tr>\n",
       "  </thead>\n",
       "  <tbody>\n",
       "    <tr>\n",
       "      <th>truth&gt;=0.7</th>\n",
       "      <td>3</td>\n",
       "      <td>1</td>\n",
       "      <td>1</td>\n",
       "      <td>1</td>\n",
       "    </tr>\n",
       "    <tr>\n",
       "      <th>0.5&lt;=truth&lt;0.7</th>\n",
       "      <td>0</td>\n",
       "      <td>5</td>\n",
       "      <td>3</td>\n",
       "      <td>0</td>\n",
       "    </tr>\n",
       "    <tr>\n",
       "      <th>0.3&lt;=truth&lt;0.5</th>\n",
       "      <td>0</td>\n",
       "      <td>2</td>\n",
       "      <td>4</td>\n",
       "      <td>1</td>\n",
       "    </tr>\n",
       "    <tr>\n",
       "      <th>truth&lt;0.3</th>\n",
       "      <td>0</td>\n",
       "      <td>1</td>\n",
       "      <td>4</td>\n",
       "      <td>19</td>\n",
       "    </tr>\n",
       "  </tbody>\n",
       "</table>\n",
       "</div>"
      ],
      "text/plain": [
       "                pred>=0.7  0.5<=pred<0.7  0.3<=pred<0.5  pred<0.3\n",
       "truth>=0.7              3              1              1         1\n",
       "0.5<=truth<0.7          0              5              3         0\n",
       "0.3<=truth<0.5          0              2              4         1\n",
       "truth<0.3               0              1              4        19"
      ]
     },
     "execution_count": 20,
     "metadata": {},
     "output_type": "execute_result"
    }
   ],
   "source": [
    "dec_prob_confusion = confusion_matrix(dec_prob_sfs[0],y_noclvl['decrease'],3)\n",
    "dec_prob_confusion"
   ]
  },
  {
   "cell_type": "code",
   "execution_count": 21,
   "metadata": {},
   "outputs": [
    {
     "data": {
      "text/plain": [
       "0.6888888888888889"
      ]
     },
     "execution_count": 21,
     "metadata": {},
     "output_type": "execute_result"
    }
   ],
   "source": [
    "correct_sum = 0\n",
    "for i in range(4):\n",
    "    correct_sum+=dec_prob_confusion.iloc[i,i]\n",
    "correct_sum/45"
   ]
  },
  {
   "cell_type": "code",
   "execution_count": 23,
   "metadata": {
    "scrolled": false
   },
   "outputs": [
    {
     "data": {
      "image/png": "[encoded data removed]",
      "text/plain": [
       "<Figure size 432x288 with 1 Axes>"
      ]
     },
     "metadata": {
      "needs_background": "light"
     },
     "output_type": "display_data"
    }
   ],
   "source": [
    "true_labels = y_noclvl['decrease'].where(y_noclvl['decrease']>=0.5,0).where(y_noclvl['decrease']<0.5,1)\n",
    "fpr, tpr, thresholds = roc_curve(true_labels,dec_prob_sfs[0])\n",
    "roc_auc = auc(fpr, tpr)\n",
    "plt.plot(fpr, tpr, lw=1,label='ROC fold %d (AUC = %0.2f)' % (5, roc_auc))\n",
    "plt.xlim([-0.05, 1.05])\n",
    "plt.ylim([-0.05, 1.05])\n",
    "plt.xlabel('False Positive Rate')\n",
    "plt.ylabel('True Positive Rate')\n",
    "plt.title('Receiver Operating Characteristic - Decrease Model')\n",
    "plt.legend(loc=\"lower right\")\n",
    "plt.savefig('roc_dec.png')\n",
    "plt.show()"
   ]
  },
  {
   "cell_type": "code",
   "execution_count": 25,
   "metadata": {},
   "outputs": [],
   "source": [
    "np.savetxt(\"../../tables/testing_output/dec_fpr.csv\", fpr, delimiter=\",\")\n",
    "np.savetxt(\"../../tables/testing_output/dec_tpr.csv\", tpr, delimiter=\",\")"
   ]
  },
  {
   "cell_type": "markdown",
   "metadata": {},
   "source": [
    "Next we will see what this model is bad at predicting"
   ]
  },
  {
   "cell_type": "code",
   "execution_count": 26,
   "metadata": {
    "scrolled": true
   },
   "outputs": [],
   "source": [
    "#need to fix this\n",
    "dec_prob_sfs_acc = abs(dec_prob_sfs.subtract(y_noclvl['decrease'],axis=0))\n",
    "dec_prob_sfs_acc.rename(columns={0: \"abs_error\"},inplace=True)\n",
    "dec_prob_sfs_acc['true'] = y_noclvl['decrease']\n",
    "dec_prob_sfs_acc['pred'] = dec_prob_sfs\n",
    "dec_prob_sfs_acc.sort_values('abs_error',ascending=False,inplace=True)"
   ]
  },
  {
   "cell_type": "code",
   "execution_count": 32,
   "metadata": {
    "scrolled": false
   },
   "outputs": [
    {
     "data": {
      "text/html": [
       "<div>\n",
       "<style scoped>\n",
       "    .dataframe tbody tr th:only-of-type {\n",
       "        vertical-align: middle;\n",
       "    }\n",
       "\n",
       "    .dataframe tbody tr th {\n",
       "        vertical-align: top;\n",
       "    }\n",
       "\n",
       "    .dataframe thead th {\n",
       "        text-align: right;\n",
       "    }\n",
       "</style>\n",
       "<table border=\"1\" class=\"dataframe\">\n",
       "  <thead>\n",
       "    <tr style=\"text-align: right;\">\n",
       "      <th></th>\n",
       "      <th></th>\n",
       "      <th>abs_error</th>\n",
       "      <th>true</th>\n",
       "      <th>pred</th>\n",
       "    </tr>\n",
       "    <tr>\n",
       "      <th>noc</th>\n",
       "      <th>noc_code</th>\n",
       "      <th></th>\n",
       "      <th></th>\n",
       "      <th></th>\n",
       "    </tr>\n",
       "  </thead>\n",
       "  <tbody>\n",
       "  </tbody>\n",
       "</table>\n",
       "</div>"
      ],
      "text/plain": [
       "Empty DataFrame\n",
       "Columns: [abs_error, true, pred]\n",
       "Index: []"
      ]
     },
     "execution_count": 32,
     "metadata": {},
     "output_type": "execute_result"
    }
   ],
   "source": [
    "#what is wrong as a classifier\n",
    "dec_prob_sfs_acc.loc[np.logical_or(\n",
    "    np.logical_and(dec_prob_sfs_acc.true>0.5,dec_prob_sfs_acc.pred<0.5),\n",
    "    np.logical_and(dec_prob_sfs_acc.true<0.5,dec_prob_sfs_acc.pred>0.5))]"
   ]
  },
  {
   "cell_type": "markdown",
   "metadata": {},
   "source": [
    "Next we train on the whole training set"
   ]
  },
  {
   "cell_type": "code",
   "execution_count": 33,
   "metadata": {
    "scrolled": false
   },
   "outputs": [],
   "source": [
    "nocs = nocs.loc[:,sffs_prob_features].copy()\n",
    "\n",
    "rf = RandomForestClassifier(**init_params('cat'))\n",
    "rf.fit(x.loc[:,sffs_prob_features],y['decrease'])\n",
    "noc_preds = pd.Series(rf.predict_proba(nocs)[:,0],index=nocs.index)"
   ]
  },
  {
   "cell_type": "code",
   "execution_count": 34,
   "metadata": {},
   "outputs": [
    {
     "data": {
      "text/plain": [
       "value.Critical Thinking                0.048845\n",
       "value.Systems Evaluation               0.104863\n",
       "value.Fluency of Ideas                 0.211714\n",
       "value.Category Flexibility             0.035044\n",
       "value.Memorization                     0.076726\n",
       "value.Flexibility of Closure           0.038449\n",
       "value.Selective Attention              0.002170\n",
       "value.Customer and Personal Service    0.248980\n",
       "value.Computers and Electronics        0.143106\n",
       "value.Chemistry                        0.090104\n",
       "dtype: float64"
      ]
     },
     "execution_count": 34,
     "metadata": {},
     "output_type": "execute_result"
    }
   ],
   "source": [
    "pd.Series(rf.feature_importances_,index=sffs_prob_features)"
   ]
  },
  {
   "cell_type": "code",
   "execution_count": 35,
   "metadata": {
    "scrolled": false
   },
   "outputs": [
    {
     "data": {
      "image/png": "[encoded data removed]",
      "text/plain": [
       "<Figure size 432x288 with 1 Axes>"
      ]
     },
     "metadata": {
      "needs_background": "light"
     },
     "output_type": "display_data"
    }
   ],
   "source": [
    "plt.plot(np.sort(noc_preds))\n",
    "plt.show()"
   ]
  },
  {
   "cell_type": "code",
   "execution_count": 36,
   "metadata": {
    "scrolled": false
   },
   "outputs": [
    {
     "data": {
      "image/png": "[encoded data removed]",
      "text/plain": [
       "<Figure size 432x288 with 1 Axes>"
      ]
     },
     "metadata": {
      "needs_background": "light"
     },
     "output_type": "display_data"
    }
   ],
   "source": [
    "plt.hist(np.sort(noc_preds),20, alpha = 0.5, edgecolor = 'black')\n",
    "plt.show()"
   ]
  },
  {
   "cell_type": "code",
   "execution_count": 37,
   "metadata": {
    "scrolled": false
   },
   "outputs": [
    {
     "name": "stdout",
     "output_type": "stream",
     "text": [
      "0.04090909090909091\n",
      "0.18636363636363637\n",
      "0.3\n",
      "0.4727272727272727\n"
     ]
    }
   ],
   "source": [
    "print(sum(noc_preds>=0.7)/noc_preds.shape[0])\n",
    "print(sum(np.logical_and(noc_preds>=0.5,noc_preds<0.7))/noc_preds.shape[0])\n",
    "print(sum(np.logical_and(noc_preds>=0.3,noc_preds<0.5))/noc_preds.shape[0])\n",
    "print(sum(noc_preds<0.3)/noc_preds.shape[0])"
   ]
  },
  {
   "cell_type": "code",
   "execution_count": 38,
   "metadata": {
    "scrolled": true
   },
   "outputs": [
    {
     "name": "stdout",
     "output_type": "stream",
     "text": [
      "0.13333333333333333\n",
      "0.17777777777777778\n",
      "0.15555555555555556\n",
      "0.5333333333333333\n"
     ]
    }
   ],
   "source": [
    "print(sum(y_noclvl['decrease']>=0.7)/y_noclvl['decrease'].shape[0])\n",
    "print(sum(np.logical_and(y_noclvl['decrease']>=0.5,y_noclvl['decrease']<0.7))/y_noclvl['decrease'].shape[0])\n",
    "print(sum(np.logical_and(y_noclvl['decrease']>=0.3,y_noclvl['decrease']<0.5))/y_noclvl['decrease'].shape[0])\n",
    "print(sum(y_noclvl['decrease']<0.3)/y_noclvl['decrease'].shape[0])"
   ]
  }
 ],
 "metadata": {
  "kernelspec": {
   "display_name": "Python 3",
   "language": "python",
   "name": "python3"
  },
  "language_info": {
   "codemirror_mode": {
    "name": "ipython",
    "version": 3
   },
   "file_extension": ".py",
   "mimetype": "text/x-python",
   "name": "python",
   "nbconvert_exporter": "python",
   "pygments_lexer": "ipython3",
   "version": "3.7.3"
  }
 },
 "nbformat": 4,
 "nbformat_minor": 2
}
