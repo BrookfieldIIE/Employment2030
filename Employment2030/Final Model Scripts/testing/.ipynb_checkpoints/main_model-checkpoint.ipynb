{
 "cells": [
  {
   "cell_type": "code",
   "execution_count": 55,
   "metadata": {
    "scrolled": true
   },
   "outputs": [],
   "source": [
    "%run ../utils_rf.py\n",
    "import csv"
   ]
  },
  {
   "cell_type": "code",
   "execution_count": 56,
   "metadata": {
    "scrolled": false
   },
   "outputs": [],
   "source": [
    "#read training data\n",
    "file = \"../../tables/model_input/noc_answers.csv\"\n",
    "x, x_agg, y, y_agg, x_noclvl, y_noclvl = data_proccess(file,True)\n",
    "\n",
    "#grab just the noc codes to cut out test nocs from main noc table\n",
    "train_nocs = pd.read_csv(file,usecols=['noc_code']).drop_duplicates()"
   ]
  },
  {
   "cell_type": "code",
   "execution_count": 57,
   "metadata": {},
   "outputs": [],
   "source": [
    "y_noclvl.to_csv(r'../../tables/model_output/train_occupation_probs.csv'\n",
    "                 ,index=True,header=True)"
   ]
  },
  {
   "cell_type": "code",
   "execution_count": 58,
   "metadata": {},
   "outputs": [],
   "source": [
    "#read full noc set\n",
    "file =\"../../tables/model_input/noc_scores.csv\"\n",
    "nocs = pd.read_csv(file,index_col=['noc'])\n",
    "nocs.sort_index(inplace=True)\n",
    "nocs.drop(['Unnamed: 0'],axis=1,inplace=True)\n",
    "nocs = np.round(nocs).astype(int)\n",
    "nocs.drop(train_nocs['noc_code'],inplace=True)"
   ]
  },
  {
   "cell_type": "markdown",
   "metadata": {},
   "source": [
    "*Test using Chosen Model in this script before full training and prediction*\n",
    "\n",
    "Also I should make the feature be read from a file"
   ]
  },
  {
   "cell_type": "code",
   "execution_count": 59,
   "metadata": {},
   "outputs": [],
   "source": [
    "f = open('../../tables/SFFS_output/inc_features.txt', 'r')\n",
    "sffs_prob_features = f.readlines()\n",
    "f.close()\n",
    "\n",
    "sffs_prob_features = [x[:-1] for x in sffs_prob_features]"
   ]
  },
  {
   "cell_type": "code",
   "execution_count": 60,
   "metadata": {
    "scrolled": true
   },
   "outputs": [],
   "source": [
    "#run 10 times to get an average error rate\n",
    "means = []\n",
    "models = []\n",
    "for i in range(10):    \n",
    "    inc_prob_sfs = run_k_fold(x.loc[:,sffs_prob_features],y['increase'],init_params('cat'),x.index,True,'pred_probs')\n",
    "    means.append(abs(inc_prob_sfs.subtract(y_noclvl['increase'],axis=0)).mean())\n",
    "    models.append(inc_prob_sfs)"
   ]
  },
  {
   "cell_type": "code",
   "execution_count": 61,
   "metadata": {},
   "outputs": [],
   "source": [
    "inc_prob_sfs = models[np.argmin(means)].copy()"
   ]
  },
  {
   "cell_type": "code",
   "execution_count": 62,
   "metadata": {
    "scrolled": false
   },
   "outputs": [
    {
     "data": {
      "text/plain": [
       "0.12541005898984137"
      ]
     },
     "execution_count": 62,
     "metadata": {},
     "output_type": "execute_result"
    }
   ],
   "source": [
    "np.mean(means)"
   ]
  },
  {
   "cell_type": "code",
   "execution_count": 63,
   "metadata": {
    "scrolled": true
   },
   "outputs": [
    {
     "data": {
      "image/png": "[encoded data removed]",
      "text/plain": [
       "<Figure size 432x288 with 1 Axes>"
      ]
     },
     "metadata": {
      "needs_background": "light"
     },
     "output_type": "display_data"
    }
   ],
   "source": [
    "bins=np.histogram(np.hstack((y_noclvl['increase'],inc_prob_sfs[0])), bins=20)[1]#switch to y_agg if doing workshop lvl\n",
    "\n",
    "fig, ax = plt.subplots()\n",
    "plt.hist(y_noclvl['increase'],bins, alpha = 0.5, edgecolor = 'black',label='True')\n",
    "#plt.hist(inc_prob_sfs[0],bins, alpha = 0.25, edgecolor = 'black',label='Pred')\n",
    "plt.legend(loc='upper right')\n",
    "ax.set_ylabel('Count')\n",
    "ax.set_title('Distibution True vs Predicted Increase Portions - Increase')\n",
    "\n",
    "plt.savefig('true vs pred error.png')\n",
    "plt.show()"
   ]
  },
  {
   "cell_type": "code",
   "execution_count": 64,
   "metadata": {},
   "outputs": [],
   "source": [
    "inc_prob_sfs.to_csv('inc_trainset_projections.csv')"
   ]
  },
  {
   "cell_type": "code",
   "execution_count": 65,
   "metadata": {
    "scrolled": true
   },
   "outputs": [
    {
     "data": {
      "text/html": [
       "<div>\n",
       "<style scoped>\n",
       "    .dataframe tbody tr th:only-of-type {\n",
       "        vertical-align: middle;\n",
       "    }\n",
       "\n",
       "    .dataframe tbody tr th {\n",
       "        vertical-align: top;\n",
       "    }\n",
       "\n",
       "    .dataframe thead th {\n",
       "        text-align: right;\n",
       "    }\n",
       "</style>\n",
       "<table border=\"1\" class=\"dataframe\">\n",
       "  <thead>\n",
       "    <tr style=\"text-align: right;\">\n",
       "      <th></th>\n",
       "      <th>pred_increase</th>\n",
       "      <th>pred_decrease</th>\n",
       "    </tr>\n",
       "  </thead>\n",
       "  <tbody>\n",
       "    <tr>\n",
       "      <th>true_increase</th>\n",
       "      <td>7</td>\n",
       "      <td>5</td>\n",
       "    </tr>\n",
       "    <tr>\n",
       "      <th>true_decrease</th>\n",
       "      <td>1</td>\n",
       "      <td>32</td>\n",
       "    </tr>\n",
       "  </tbody>\n",
       "</table>\n",
       "</div>"
      ],
      "text/plain": [
       "               pred_increase  pred_decrease\n",
       "true_increase              7              5\n",
       "true_decrease              1             32"
      ]
     },
     "execution_count": 65,
     "metadata": {},
     "output_type": "execute_result"
    }
   ],
   "source": [
    "inc_prob_confusion = confusion_matrix(inc_prob_sfs[0],y_noclvl['increase'],True)\n",
    "inc_prob_confusion"
   ]
  },
  {
   "cell_type": "code",
   "execution_count": 66,
   "metadata": {},
   "outputs": [
    {
     "data": {
      "text/plain": [
       "0.8666666666666667"
      ]
     },
     "execution_count": 66,
     "metadata": {},
     "output_type": "execute_result"
    }
   ],
   "source": [
    "correct_sum = 0\n",
    "for i in range(2):\n",
    "    correct_sum+=inc_prob_confusion.iloc[i,i]\n",
    "correct_sum/45"
   ]
  },
  {
   "cell_type": "code",
   "execution_count": 67,
   "metadata": {
    "scrolled": false
   },
   "outputs": [
    {
     "data": {
      "text/html": [
       "<div>\n",
       "<style scoped>\n",
       "    .dataframe tbody tr th:only-of-type {\n",
       "        vertical-align: middle;\n",
       "    }\n",
       "\n",
       "    .dataframe tbody tr th {\n",
       "        vertical-align: top;\n",
       "    }\n",
       "\n",
       "    .dataframe thead th {\n",
       "        text-align: right;\n",
       "    }\n",
       "</style>\n",
       "<table border=\"1\" class=\"dataframe\">\n",
       "  <thead>\n",
       "    <tr style=\"text-align: right;\">\n",
       "      <th></th>\n",
       "      <th>pred&gt;=0.7</th>\n",
       "      <th>0.5&lt;=pred&lt;0.7</th>\n",
       "      <th>0.3&lt;=pred&lt;0.5</th>\n",
       "      <th>pred&lt;0.3</th>\n",
       "    </tr>\n",
       "  </thead>\n",
       "  <tbody>\n",
       "    <tr>\n",
       "      <th>truth&gt;=0.7</th>\n",
       "      <td>0</td>\n",
       "      <td>2</td>\n",
       "      <td>4</td>\n",
       "      <td>1</td>\n",
       "    </tr>\n",
       "    <tr>\n",
       "      <th>0.5&lt;=truth&lt;0.7</th>\n",
       "      <td>0</td>\n",
       "      <td>5</td>\n",
       "      <td>0</td>\n",
       "      <td>0</td>\n",
       "    </tr>\n",
       "    <tr>\n",
       "      <th>0.3&lt;=truth&lt;0.5</th>\n",
       "      <td>0</td>\n",
       "      <td>1</td>\n",
       "      <td>4</td>\n",
       "      <td>3</td>\n",
       "    </tr>\n",
       "    <tr>\n",
       "      <th>truth&lt;0.3</th>\n",
       "      <td>0</td>\n",
       "      <td>0</td>\n",
       "      <td>5</td>\n",
       "      <td>20</td>\n",
       "    </tr>\n",
       "  </tbody>\n",
       "</table>\n",
       "</div>"
      ],
      "text/plain": [
       "                pred>=0.7  0.5<=pred<0.7  0.3<=pred<0.5  pred<0.3\n",
       "truth>=0.7              0              2              4         1\n",
       "0.5<=truth<0.7          0              5              0         0\n",
       "0.3<=truth<0.5          0              1              4         3\n",
       "truth<0.3               0              0              5        20"
      ]
     },
     "execution_count": 67,
     "metadata": {},
     "output_type": "execute_result"
    }
   ],
   "source": [
    "inc_prob_confusion = confusion_matrix(inc_prob_sfs[0],y_noclvl['increase'],3)\n",
    "inc_prob_confusion"
   ]
  },
  {
   "cell_type": "code",
   "execution_count": 68,
   "metadata": {
    "scrolled": true
   },
   "outputs": [
    {
     "data": {
      "text/plain": [
       "0.6444444444444445"
      ]
     },
     "execution_count": 68,
     "metadata": {},
     "output_type": "execute_result"
    }
   ],
   "source": [
    "correct_sum = 0\n",
    "for i in range(4):\n",
    "    correct_sum+=inc_prob_confusion.iloc[i,i]\n",
    "correct_sum/45"
   ]
  },
  {
   "cell_type": "code",
   "execution_count": 69,
   "metadata": {
    "scrolled": false
   },
   "outputs": [
    {
     "data": {
      "image/png": "[encoded data removed]",
      "text/plain": [
       "<Figure size 432x288 with 1 Axes>"
      ]
     },
     "metadata": {
      "needs_background": "light"
     },
     "output_type": "display_data"
    }
   ],
   "source": [
    "true_labels = y_noclvl['increase'].where(y_noclvl['increase']>=0.5,0).where(y_noclvl['increase']<0.5,1)\n",
    "fpr, tpr, thresholds = roc_curve(true_labels,inc_prob_sfs[0])\n",
    "roc_auc = auc(fpr, tpr)\n",
    "plt.plot(fpr, tpr, lw=1,label='ROC fold %d (AUC = %0.2f)' % (5, roc_auc))\n",
    "plt.xlim([-0.05, 1.05])\n",
    "plt.ylim([-0.05, 1.05])\n",
    "plt.xlabel('False Positive Rate')\n",
    "plt.ylabel('True Positive Rate')\n",
    "plt.title('Receiver Operating Characteristic - Increase Model')\n",
    "plt.legend(loc=\"lower right\")\n",
    "plt.savefig('roc.png')\n",
    "plt.show()"
   ]
  },
  {
   "cell_type": "code",
   "execution_count": 70,
   "metadata": {},
   "outputs": [],
   "source": [
    "np.savetxt(\"../../tables/testing_output/inc_fpr.csv\", fpr, delimiter=\",\")\n",
    "np.savetxt(\"../../tables/testing_output/inc_tpr.csv\", tpr, delimiter=\",\")"
   ]
  },
  {
   "cell_type": "markdown",
   "metadata": {},
   "source": [
    "Next we will see what this model is bad at predicting"
   ]
  },
  {
   "cell_type": "code",
   "execution_count": 94,
   "metadata": {},
   "outputs": [],
   "source": [
    "#need to fix this\n",
    "inc_prob_sfs_acc = abs(inc_prob_sfs.subtract(y_noclvl['increase'],axis=0))\n",
    "inc_prob_sfs_acc.rename(columns={0: \"abs_error\"},inplace=True)\n",
    "inc_prob_sfs_acc['true'] = y_noclvl['increase']\n",
    "inc_prob_sfs_acc['pred'] = inc_prob_sfs\n",
    "inc_prob_sfs_acc.sort_values('abs_error',ascending=False,inplace=True)"
   ]
  },
  {
   "cell_type": "code",
   "execution_count": 38,
   "metadata": {
    "scrolled": false
   },
   "outputs": [
    {
     "data": {
      "text/html": [
       "<div>\n",
       "<style scoped>\n",
       "    .dataframe tbody tr th:only-of-type {\n",
       "        vertical-align: middle;\n",
       "    }\n",
       "\n",
       "    .dataframe tbody tr th {\n",
       "        vertical-align: top;\n",
       "    }\n",
       "\n",
       "    .dataframe thead th {\n",
       "        text-align: right;\n",
       "    }\n",
       "</style>\n",
       "<table border=\"1\" class=\"dataframe\">\n",
       "  <thead>\n",
       "    <tr style=\"text-align: right;\">\n",
       "      <th></th>\n",
       "      <th></th>\n",
       "      <th>abs_error</th>\n",
       "      <th>true</th>\n",
       "      <th>pred</th>\n",
       "    </tr>\n",
       "    <tr>\n",
       "      <th>noc</th>\n",
       "      <th>noc_code</th>\n",
       "      <th></th>\n",
       "      <th></th>\n",
       "      <th></th>\n",
       "    </tr>\n",
       "  </thead>\n",
       "  <tbody>\n",
       "    <tr>\n",
       "      <th>Light duty cleaners</th>\n",
       "      <th>6731</th>\n",
       "      <td>0.553231</td>\n",
       "      <td>0.733333</td>\n",
       "      <td>NaN</td>\n",
       "    </tr>\n",
       "    <tr>\n",
       "      <th>Graphic designers and illustrators</th>\n",
       "      <th>5241</th>\n",
       "      <td>0.428424</td>\n",
       "      <td>0.894737</td>\n",
       "      <td>NaN</td>\n",
       "    </tr>\n",
       "    <tr>\n",
       "      <th>Airline ticket and service agents</th>\n",
       "      <th>6523</th>\n",
       "      <td>0.421413</td>\n",
       "      <td>0.050000</td>\n",
       "      <td>NaN</td>\n",
       "    </tr>\n",
       "    <tr>\n",
       "      <th>Chefs</th>\n",
       "      <th>6321</th>\n",
       "      <td>0.389205</td>\n",
       "      <td>0.894737</td>\n",
       "      <td>NaN</td>\n",
       "    </tr>\n",
       "    <tr>\n",
       "      <th>Technical sales specialists - wholesale trade</th>\n",
       "      <th>6221</th>\n",
       "      <td>0.347245</td>\n",
       "      <td>0.739130</td>\n",
       "      <td>NaN</td>\n",
       "    </tr>\n",
       "    <tr>\n",
       "      <th>Cooks</th>\n",
       "      <th>6322</th>\n",
       "      <td>0.315393</td>\n",
       "      <td>0.733333</td>\n",
       "      <td>NaN</td>\n",
       "    </tr>\n",
       "    <tr>\n",
       "      <th>Carpenters</th>\n",
       "      <th>7271</th>\n",
       "      <td>0.282311</td>\n",
       "      <td>0.450000</td>\n",
       "      <td>NaN</td>\n",
       "    </tr>\n",
       "    <tr>\n",
       "      <th>Health policy researchers, consultants and program officers</th>\n",
       "      <th>4165</th>\n",
       "      <td>0.232221</td>\n",
       "      <td>0.782609</td>\n",
       "      <td>NaN</td>\n",
       "    </tr>\n",
       "    <tr>\n",
       "      <th>Oil and gas well drillers, servicers, testers and related workers</th>\n",
       "      <th>8232</th>\n",
       "      <td>0.222953</td>\n",
       "      <td>0.047619</td>\n",
       "      <td>NaN</td>\n",
       "    </tr>\n",
       "    <tr>\n",
       "      <th>Registered nurses and registered psychiatric nurses</th>\n",
       "      <th>3012</th>\n",
       "      <td>0.210074</td>\n",
       "      <td>0.826087</td>\n",
       "      <td>NaN</td>\n",
       "    </tr>\n",
       "  </tbody>\n",
       "</table>\n",
       "</div>"
      ],
      "text/plain": [
       "                                                             abs_error  \\\n",
       "noc                                                noc_code              \n",
       "Light duty cleaners                                6731       0.553231   \n",
       "Graphic designers and illustrators                 5241       0.428424   \n",
       "Airline ticket and service agents                  6523       0.421413   \n",
       "Chefs                                              6321       0.389205   \n",
       "Technical sales specialists - wholesale trade      6221       0.347245   \n",
       "Cooks                                              6322       0.315393   \n",
       "Carpenters                                         7271       0.282311   \n",
       "Health policy researchers, consultants and prog... 4165       0.232221   \n",
       "Oil and gas well drillers, servicers, testers a... 8232       0.222953   \n",
       "Registered nurses and registered psychiatric nu... 3012       0.210074   \n",
       "\n",
       "                                                                 true  pred  \n",
       "noc                                                noc_code                  \n",
       "Light duty cleaners                                6731      0.733333   NaN  \n",
       "Graphic designers and illustrators                 5241      0.894737   NaN  \n",
       "Airline ticket and service agents                  6523      0.050000   NaN  \n",
       "Chefs                                              6321      0.894737   NaN  \n",
       "Technical sales specialists - wholesale trade      6221      0.739130   NaN  \n",
       "Cooks                                              6322      0.733333   NaN  \n",
       "Carpenters                                         7271      0.450000   NaN  \n",
       "Health policy researchers, consultants and prog... 4165      0.782609   NaN  \n",
       "Oil and gas well drillers, servicers, testers a... 8232      0.047619   NaN  \n",
       "Registered nurses and registered psychiatric nu... 3012      0.826087   NaN  "
      ]
     },
     "execution_count": 38,
     "metadata": {},
     "output_type": "execute_result"
    }
   ],
   "source": [
    "#the highest absolute error\n",
    "inc_prob_sfs_acc[0:10]"
   ]
  },
  {
   "cell_type": "code",
   "execution_count": 39,
   "metadata": {
    "scrolled": false
   },
   "outputs": [
    {
     "data": {
      "text/html": [
       "<div>\n",
       "<style scoped>\n",
       "    .dataframe tbody tr th:only-of-type {\n",
       "        vertical-align: middle;\n",
       "    }\n",
       "\n",
       "    .dataframe tbody tr th {\n",
       "        vertical-align: top;\n",
       "    }\n",
       "\n",
       "    .dataframe thead th {\n",
       "        text-align: right;\n",
       "    }\n",
       "</style>\n",
       "<table border=\"1\" class=\"dataframe\">\n",
       "  <thead>\n",
       "    <tr style=\"text-align: right;\">\n",
       "      <th></th>\n",
       "      <th></th>\n",
       "      <th>abs_error</th>\n",
       "      <th>true</th>\n",
       "      <th>pred</th>\n",
       "    </tr>\n",
       "    <tr>\n",
       "      <th>noc</th>\n",
       "      <th>noc_code</th>\n",
       "      <th></th>\n",
       "      <th></th>\n",
       "      <th></th>\n",
       "    </tr>\n",
       "  </thead>\n",
       "  <tbody>\n",
       "  </tbody>\n",
       "</table>\n",
       "</div>"
      ],
      "text/plain": [
       "Empty DataFrame\n",
       "Columns: [abs_error, true, pred]\n",
       "Index: []"
      ]
     },
     "execution_count": 39,
     "metadata": {},
     "output_type": "execute_result"
    }
   ],
   "source": [
    "#what is wrong as a classifier\n",
    "inc_prob_sfs_acc.loc[np.logical_or(\n",
    "    np.logical_and(inc_prob_sfs_acc.true>=0.5,inc_prob_sfs_acc.pred<0.5),\n",
    "    np.logical_and(inc_prob_sfs_acc.true<0.5,inc_prob_sfs_acc.pred>=0.5))]"
   ]
  },
  {
   "cell_type": "markdown",
   "metadata": {},
   "source": [
    "Next we train on the whole training set"
   ]
  },
  {
   "cell_type": "code",
   "execution_count": 30,
   "metadata": {
    "scrolled": false
   },
   "outputs": [],
   "source": [
    "nocs = nocs.loc[:,sffs_prob_features].copy()\n",
    "\n",
    "rf = RandomForestClassifier(**init_params('cat'))\n",
    "rf.fit(x.loc[:,sffs_prob_features],y['increase'])\n",
    "noc_preds = pd.Series(rf.predict_proba(nocs)[:,0],index=nocs.index)"
   ]
  },
  {
   "cell_type": "code",
   "execution_count": 31,
   "metadata": {
    "scrolled": false
   },
   "outputs": [
    {
     "data": {
      "image/png": "[encoded data removed]",
      "text/plain": [
       "<Figure size 432x288 with 1 Axes>"
      ]
     },
     "metadata": {
      "needs_background": "light"
     },
     "output_type": "display_data"
    }
   ],
   "source": [
    "plt.plot(np.sort(noc_preds))\n",
    "plt.show()"
   ]
  },
  {
   "cell_type": "code",
   "execution_count": 32,
   "metadata": {
    "scrolled": true
   },
   "outputs": [
    {
     "data": {
      "image/png": "[encoded data removed]",
      "text/plain": [
       "<Figure size 432x288 with 1 Axes>"
      ]
     },
     "metadata": {
      "needs_background": "light"
     },
     "output_type": "display_data"
    }
   ],
   "source": [
    "plt.hist(np.sort(noc_preds),20, alpha = 0.5, edgecolor = 'black')\n",
    "plt.show()"
   ]
  },
  {
   "cell_type": "code",
   "execution_count": 33,
   "metadata": {
    "scrolled": false
   },
   "outputs": [
    {
     "name": "stdout",
     "output_type": "stream",
     "text": [
      "0.031818181818181815\n",
      "0.14772727272727273\n",
      "0.4772727272727273\n",
      "0.3431818181818182\n"
     ]
    }
   ],
   "source": [
    "print(sum(noc_preds>=0.7)/noc_preds.shape[0])\n",
    "print(sum(np.logical_and(noc_preds>=0.5,noc_preds<0.7))/noc_preds.shape[0])\n",
    "print(sum(np.logical_and(noc_preds>=0.3,noc_preds<0.5))/noc_preds.shape[0])\n",
    "print(sum(noc_preds<0.3)/noc_preds.shape[0])"
   ]
  },
  {
   "cell_type": "code",
   "execution_count": 34,
   "metadata": {
    "scrolled": true
   },
   "outputs": [
    {
     "name": "stdout",
     "output_type": "stream",
     "text": [
      "0.15555555555555556\n",
      "0.1111111111111111\n",
      "0.17777777777777778\n",
      "0.5555555555555556\n"
     ]
    }
   ],
   "source": [
    "print(sum(y_noclvl['increase']>=0.7)/y_noclvl['increase'].shape[0])\n",
    "print(sum(np.logical_and(y_noclvl['increase']>=0.5,y_noclvl['increase']<0.7))/y_noclvl['increase'].shape[0])\n",
    "print(sum(np.logical_and(y_noclvl['increase']>=0.3,y_noclvl['increase']<0.5))/y_noclvl['increase'].shape[0])\n",
    "print(sum(y_noclvl['increase']<0.3)/y_noclvl['increase'].shape[0])"
   ]
  },
  {
   "cell_type": "markdown",
   "metadata": {},
   "source": [
    "ok now for some robustness we will run the model 10 times and see if there is a signifiant difference in predictions and ordering of nocs"
   ]
  },
  {
   "cell_type": "code",
   "execution_count": 46,
   "metadata": {},
   "outputs": [],
   "source": [
    "robust_check = pd.DataFrame()\n",
    "\n",
    "for i in range(10):\n",
    "    rf = RandomForestClassifier(**init_params('cat'))\n",
    "    rf.fit(x.loc[:,sffs_prob_features],y['increase'])\n",
    "    robust_check[i] = pd.Series(rf.predict_proba(nocs.loc[:,sffs_prob_features])[:,0],index=nocs.index)"
   ]
  },
  {
   "cell_type": "code",
   "execution_count": 47,
   "metadata": {
    "scrolled": true
   },
   "outputs": [],
   "source": [
    "diffs = []\n",
    "\n",
    "for i in range(10):\n",
    "    for j in range(i+1,10):\n",
    "            diffs.append(abs(robust_check[i]-robust_check[j]))\n",
    "\n",
    "diffs = pd.DataFrame(diffs).T"
   ]
  },
  {
   "cell_type": "code",
   "execution_count": 48,
   "metadata": {},
   "outputs": [
    {
     "data": {
      "text/plain": [
       "0.03381395572165104"
      ]
     },
     "execution_count": 48,
     "metadata": {},
     "output_type": "execute_result"
    }
   ],
   "source": [
    "diffs.mean(axis = 1).max()"
   ]
  },
  {
   "cell_type": "code",
   "execution_count": 49,
   "metadata": {
    "scrolled": false
   },
   "outputs": [
    {
     "data": {
      "text/plain": [
       "0.012663584949982687"
      ]
     },
     "execution_count": 49,
     "metadata": {},
     "output_type": "execute_result"
    }
   ],
   "source": [
    "diffs.mean(axis = 1).mean()"
   ]
  },
  {
   "cell_type": "code",
   "execution_count": 50,
   "metadata": {
    "scrolled": true
   },
   "outputs": [
    {
     "data": {
      "text/plain": [
       "0.006374130449266317"
      ]
     },
     "execution_count": 50,
     "metadata": {},
     "output_type": "execute_result"
    }
   ],
   "source": [
    "diffs.mean(axis = 1).std()"
   ]
  },
  {
   "cell_type": "code",
   "execution_count": 52,
   "metadata": {},
   "outputs": [],
   "source": [
    "rank_diffs = []\n",
    "\n",
    "robust_check_ranks = robust_check.rank(axis=0)\n",
    "\n",
    "for i in range(10):\n",
    "    for j in range(i+1,10):\n",
    "        rank_diffs.append(abs(robust_check_ranks[i]-robust_check_ranks[j]))\n",
    "\n",
    "rank_diffs = pd.DataFrame(rank_diffs).T        "
   ]
  },
  {
   "cell_type": "code",
   "execution_count": 53,
   "metadata": {},
   "outputs": [
    {
     "data": {
      "text/plain": [
       "10.193838383838381"
      ]
     },
     "execution_count": 53,
     "metadata": {},
     "output_type": "execute_result"
    }
   ],
   "source": [
    "rank_diffs.mean(axis=1).mean()"
   ]
  },
  {
   "cell_type": "code",
   "execution_count": 45,
   "metadata": {},
   "outputs": [
    {
     "data": {
      "text/plain": [
       "7.187448476777346"
      ]
     },
     "execution_count": 45,
     "metadata": {},
     "output_type": "execute_result"
    }
   ],
   "source": [
    "rank_diffs.mean(axis=1).std()"
   ]
  },
  {
   "cell_type": "code",
   "execution_count": 54,
   "metadata": {},
   "outputs": [
    {
     "data": {
      "image/png": "[encoded data removed]",
      "text/plain": [
       "<Figure size 432x288 with 1 Axes>"
      ]
     },
     "metadata": {
      "needs_background": "light"
     },
     "output_type": "display_data"
    }
   ],
   "source": [
    "plt.hist(rank_diffs.mean(axis=1))\n",
    "plt.title('Rank variation between runs for NOCs')\n",
    "plt.xlabel('Mean Absolute Difference')\n",
    "plt.ylabel('frequency')\n",
    "plt.savefig('rank variation across runs')\n",
    "plt.show()"
   ]
  }
 ],
 "metadata": {
  "kernelspec": {
   "display_name": "Python 3",
   "language": "python",
   "name": "python3"
  },
  "language_info": {
   "codemirror_mode": {
    "name": "ipython",
    "version": 3
   },
   "file_extension": ".py",
   "mimetype": "text/x-python",
   "name": "python",
   "nbconvert_exporter": "python",
   "pygments_lexer": "ipython3",
   "version": "3.7.3"
  }
 },
 "nbformat": 4,
 "nbformat_minor": 2
}
