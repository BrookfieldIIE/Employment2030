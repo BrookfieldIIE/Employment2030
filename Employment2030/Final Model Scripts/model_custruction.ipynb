{
 "cells": [
  {
   "cell_type": "code",
   "execution_count": 23,
   "metadata": {
    "scrolled": true
   },
   "outputs": [],
   "source": [
    "%run utils_rf.py"
   ]
  },
  {
   "cell_type": "code",
   "execution_count": 24,
   "metadata": {
    "scrolled": false
   },
   "outputs": [],
   "source": [
    "#read training data\n",
    "file = \"../tables/model_input/noc_answers.csv\"\n",
    "x, x_agg, y, y_agg, x_noclvl, y_noclvl = data_proccess(file,True)\n",
    "\n",
    "#grab just the noc codes to cut out test nocs from main noc table\n",
    "train_nocs = pd.read_csv(file,usecols=['noc_code']).drop_duplicates()"
   ]
  },
  {
   "cell_type": "code",
   "execution_count": 25,
   "metadata": {},
   "outputs": [],
   "source": [
    "#read full noc set\n",
    "file =\"../tables/model_input/noc_scores.csv\"\n",
    "nocs = pd.read_csv(file,index_col=['noc'])\n",
    "nocs.sort_index(inplace=True)\n",
    "nocs.drop(['Unnamed: 0'],axis=1,inplace=True)\n",
    "nocs = np.round(nocs).astype(int)\n",
    "nocs.drop(train_nocs['noc_code'],inplace=True)"
   ]
  },
  {
   "cell_type": "code",
   "execution_count": 26,
   "metadata": {},
   "outputs": [],
   "source": [
    "f = open('../tables/SFFS_output/inc_features.txt', 'r')\n",
    "sffs_prob_features = f.readlines()\n",
    "f.close()\n",
    "\n",
    "sffs_prob_features = [x[:-1] for x in sffs_prob_features]"
   ]
  },
  {
   "cell_type": "markdown",
   "metadata": {},
   "source": [
    "Train on whole training set (see testing files for k_fold tests)"
   ]
  },
  {
   "cell_type": "code",
   "execution_count": 27,
   "metadata": {
    "scrolled": false
   },
   "outputs": [],
   "source": [
    "nocs_inc_features = nocs.loc[:,sffs_prob_features].copy()\n",
    "\n",
    "rf = RandomForestClassifier(**init_params('cat'))\n",
    "rf.fit(x.loc[:,sffs_prob_features],y['increase'])\n",
    "noc_preds = pd.Series(rf.predict_proba(nocs_inc_features)[:,0],index=nocs.index)"
   ]
  },
  {
   "cell_type": "code",
   "execution_count": 28,
   "metadata": {},
   "outputs": [],
   "source": [
    "noc_preds.to_csv(r'../tables/model_output/inc_projections.csv'\n",
    "                 ,index=True,header=True)"
   ]
  },
  {
   "cell_type": "markdown",
   "metadata": {},
   "source": [
    "Now for the decrease model"
   ]
  },
  {
   "cell_type": "code",
   "execution_count": 29,
   "metadata": {},
   "outputs": [],
   "source": [
    "f = open('../tables/SFFS_output/dec_features.txt', 'r')\n",
    "sffs_prob_features = f.readlines()\n",
    "f.close()\n",
    "\n",
    "sffs_prob_features = [x[:-1] for x in sffs_prob_features]"
   ]
  },
  {
   "cell_type": "code",
   "execution_count": 30,
   "metadata": {
    "scrolled": false
   },
   "outputs": [],
   "source": [
    "nocs_dec_features = nocs.loc[:,sffs_prob_features].copy()\n",
    "\n",
    "rf = RandomForestClassifier(**init_params('cat'))\n",
    "rf.fit(x.loc[:,sffs_prob_features],y['decrease'])\n",
    "noc_preds = pd.Series(rf.predict_proba(nocs_dec_features)[:,0],index=nocs.index)"
   ]
  },
  {
   "cell_type": "code",
   "execution_count": 31,
   "metadata": {},
   "outputs": [],
   "source": [
    "noc_preds.to_csv(r'../tables/model_output/dec_projections.csv'\n",
    "                 ,index=True,header=True)"
   ]
  }
 ],
 "metadata": {
  "kernelspec": {
   "display_name": "Python 3",
   "language": "python",
   "name": "python3"
  },
  "language_info": {
   "codemirror_mode": {
    "name": "ipython",
    "version": 3
   },
   "file_extension": ".py",
   "mimetype": "text/x-python",
   "name": "python",
   "nbconvert_exporter": "python",
   "pygments_lexer": "ipython3",
   "version": "3.7.3"
  }
 },
 "nbformat": 4,
 "nbformat_minor": 2
}
