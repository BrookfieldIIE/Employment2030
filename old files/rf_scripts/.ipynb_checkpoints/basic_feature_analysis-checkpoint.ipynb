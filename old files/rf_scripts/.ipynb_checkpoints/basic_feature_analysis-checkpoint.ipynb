{
 "cells": [
  {
   "cell_type": "code",
   "execution_count": 1,
   "metadata": {},
   "outputs": [],
   "source": [
    "%run utils_rf\n",
    "from sklearn import tree\n",
    "\n",
    "#read training data\n",
    "file = \"../../tables/noc_answers.csv\"\n",
    "x, x_agg, y, y_agg, x_noclvl, y_noclvl = data_proccess(file,True)\n",
    "x.drop(['work_num_1','work_num_2','work_num_3','work_num_4','work_num_5','work_num_6'],axis=1,inplace=True)\n",
    "\n",
    "#grab just the noc codes to cut out test nocs from main noc table\n",
    "train_nocs = pd.read_csv(file,usecols=['noc_code']).drop_duplicates()\n",
    "\n",
    "# reading projections and tieing to O*NET set to do complete correlation check\n",
    "file =\"../../tables/noc_scores.csv\"\n",
    "nocs = pd.read_csv(file,index_col=['noc'])\n",
    "nocs.sort_index(inplace=True)\n",
    "nocs.drop(['Unnamed: 0'],axis=1,inplace=True)\n",
    "nocs = np.round(nocs).astype(int)\n",
    "nocs.drop(train_nocs['noc_code'],inplace=True)\n",
    "\n",
    "full_x = pd.concat([nocs,x_noclvl.droplevel(0)],axis=0,join='inner')\n",
    "\n",
    "full_projections = pd.read_csv('../../tables/RF full set.csv',index_col=['noc'])"
   ]
  },
  {
   "cell_type": "code",
   "execution_count": 2,
   "metadata": {},
   "outputs": [],
   "source": [
    "full_nocs = pd.merge(full_x,full_projections,left_index=True,right_index=True)"
   ]
  },
  {
   "cell_type": "code",
   "execution_count": 4,
   "metadata": {},
   "outputs": [
    {
     "data": {
      "text/plain": [
       "12      4\n",
       "14      4\n",
       "15      3\n",
       "16      4\n",
       "112     4\n",
       "113     4\n",
       "114     3\n",
       "121     3\n",
       "122     3\n",
       "124     4\n",
       "125     3\n",
       "131     3\n",
       "132     3\n",
       "211     4\n",
       "212     4\n",
       "213     3\n",
       "311     3\n",
       "414     4\n",
       "421     4\n",
       "422     4\n",
       "423     3\n",
       "431     3\n",
       "432     3\n",
       "512     4\n",
       "513     3\n",
       "601     4\n",
       "621     3\n",
       "651     4\n",
       "711     3\n",
       "712     3\n",
       "       ..\n",
       "9463    2\n",
       "8262    2\n",
       "2223    3\n",
       "9532    2\n",
       "8431    2\n",
       "5241    4\n",
       "4165    3\n",
       "7312    3\n",
       "2141    3\n",
       "4215    3\n",
       "9617    2\n",
       "4112    4\n",
       "6731    2\n",
       "821     3\n",
       "1243    3\n",
       "8232    3\n",
       "6722    3\n",
       "7294    2\n",
       "3234    3\n",
       "9422    2\n",
       "6232    3\n",
       "3012    3\n",
       "631     3\n",
       "13      4\n",
       "1521    2\n",
       "7252    3\n",
       "6622    2\n",
       "9212    3\n",
       "6221    3\n",
       "8231    2\n",
       "Name: value.Fluency of Ideas, Length: 485, dtype: int32"
      ]
     },
     "execution_count": 4,
     "metadata": {},
     "output_type": "execute_result"
    }
   ],
   "source": [
    "full_nocs['value.Fluency of Ideas']"
   ]
  }
 ],
 "metadata": {
  "kernelspec": {
   "display_name": "Python 3",
   "language": "python",
   "name": "python3"
  },
  "language_info": {
   "codemirror_mode": {
    "name": "ipython",
    "version": 3
   },
   "file_extension": ".py",
   "mimetype": "text/x-python",
   "name": "python",
   "nbconvert_exporter": "python",
   "pygments_lexer": "ipython3",
   "version": "3.7.3"
  }
 },
 "nbformat": 4,
 "nbformat_minor": 2
}
