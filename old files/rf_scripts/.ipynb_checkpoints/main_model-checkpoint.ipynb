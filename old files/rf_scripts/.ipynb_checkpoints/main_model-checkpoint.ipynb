{
 "cells": [
  {
   "cell_type": "code",
   "execution_count": 3,
   "metadata": {
    "scrolled": true
   },
   "outputs": [
    {
     "name": "stderr",
     "output_type": "stream",
     "text": [
      "/home/joshua/anaconda3/lib/python3.7/site-packages/sklearn/externals/joblib/__init__.py:15: DeprecationWarning: sklearn.externals.joblib is deprecated in 0.21 and will be removed in 0.23. Please import this functionality directly from joblib, which can be installed with: pip install joblib. If this warning is raised when loading pickled models, you may need to re-serialize those models with scikit-learn 0.21+.\n",
      "  warnings.warn(msg, category=DeprecationWarning)\n"
     ]
    }
   ],
   "source": [
    "%run utils_rf\n",
    "import csv"
   ]
  },
  {
   "cell_type": "code",
   "execution_count": 4,
   "metadata": {},
   "outputs": [],
   "source": [
    "#read training data\n",
    "file = \"../../tables/noc_answers.csv\"\n",
    "x, x_agg, y, y_agg, x_noclvl, y_noclvl = data_proccess(file,True)\n",
    "\n",
    "#grab just the noc codes to cut out test nocs from main noc table\n",
    "train_nocs = pd.read_csv(file,usecols=['noc_code']).drop_duplicates()"
   ]
  },
  {
   "cell_type": "code",
   "execution_count": 5,
   "metadata": {},
   "outputs": [],
   "source": [
    "y_noclvl.to_csv(r'../../tables/train_occupation_probs.csv'\n",
    "                 ,index=True,header=True)"
   ]
  },
  {
   "cell_type": "code",
   "execution_count": 6,
   "metadata": {},
   "outputs": [],
   "source": [
    "#read full noc set\n",
    "file =\"../../tables/noc_scores.csv\"\n",
    "nocs = pd.read_csv(file,index_col=['noc'])\n",
    "nocs.sort_index(inplace=True)\n",
    "nocs.drop(['Unnamed: 0'],axis=1,inplace=True)\n",
    "nocs = np.round(nocs).astype(int)\n",
    "nocs.drop(train_nocs['noc_code'],inplace=True)"
   ]
  },
  {
   "cell_type": "markdown",
   "metadata": {},
   "source": [
    "*Test using Chosen Model in this script before full training and prediction*\n",
    "\n",
    "Also I should make the feature be read from a file"
   ]
  },
  {
   "cell_type": "code",
   "execution_count": 25,
   "metadata": {},
   "outputs": [],
   "source": [
    "sffs_prob_features = ('value.Service Orientation',\n",
    "'value.Computers and Electronics',\n",
    "'value.Chemistry',\n",
    "'value.Information Ordering',\n",
    "'value.Monitoring',\n",
    "'value.Time Sharing',\n",
    "'value.Management of Material Resources',\n",
    "'value.Flexibility of Closure',\n",
    "'value.Persuasion',\n",
    "'value.Memorization',\n",
    "'value.Finger Dexterity',\n",
    "'value.Learning Strategies',\n",
    "'value.Far Vision',\n",
    "'value.Biology')"
   ]
  },
  {
   "cell_type": "code",
   "execution_count": 28,
   "metadata": {
    "scrolled": true
   },
   "outputs": [],
   "source": [
    "means = []\n",
    "models = []\n",
    "for i in range(10):    \n",
    "    inc_prob_sfs = run_k_fold(x.loc[:,sffs_prob_features],y['increase'],init_params('cat'),x.index,True,'pred_probs')\n",
    "    means.append(abs(inc_prob_sfs.subtract(y_noclvl['increase'],axis=0)).mean())\n",
    "    models.append(inc_prob_sfs)"
   ]
  },
  {
   "cell_type": "code",
   "execution_count": 32,
   "metadata": {},
   "outputs": [],
   "source": [
    "inc_prob_sfs = models[np.argmin(means)].copy()"
   ]
  },
  {
   "cell_type": "code",
   "execution_count": 29,
   "metadata": {
    "scrolled": false
   },
   "outputs": [
    {
     "data": {
      "text/plain": [
       "0.12489415726215167"
      ]
     },
     "execution_count": 29,
     "metadata": {},
     "output_type": "execute_result"
    }
   ],
   "source": [
    "np.mean(means)"
   ]
  },
  {
   "cell_type": "code",
   "execution_count": 8,
   "metadata": {
    "scrolled": true
   },
   "outputs": [
    {
     "data": {
      "text/plain": [
       "0.0014490693837320573"
      ]
     },
     "execution_count": 8,
     "metadata": {},
     "output_type": "execute_result"
    }
   ],
   "source": [
    "np.std(means)"
   ]
  },
  {
   "cell_type": "code",
   "execution_count": 33,
   "metadata": {
    "scrolled": true
   },
   "outputs": [
    {
     "data": {
      "image/png": "[encoded data removed]",
      "text/plain": [
       "<Figure size 432x288 with 1 Axes>"
      ]
     },
     "metadata": {
      "needs_background": "light"
     },
     "output_type": "display_data"
    }
   ],
   "source": [
    "bins=np.histogram(np.hstack((y_noclvl['increase'],inc_prob_sfs[0])), bins=20)[1]#switch to y_agg if doing workshop lvl\n",
    "\n",
    "fig, ax = plt.subplots()\n",
    "plt.hist(y_noclvl['increase'],bins, alpha = 0.5, edgecolor = 'black',label='True')\n",
    "plt.hist(inc_prob_sfs[0],bins, alpha = 0.25, edgecolor = 'black',label='Pred')\n",
    "plt.legend(loc='upper right')\n",
    "ax.set_ylabel('Count')\n",
    "ax.set_title('Distibution True vs Predicted Increase Portions - Increase')\n",
    "\n",
    "plt.savefig('true vs pred error.png')\n",
    "plt.show()"
   ]
  },
  {
   "cell_type": "code",
   "execution_count": 34,
   "metadata": {
    "scrolled": true
   },
   "outputs": [
    {
     "data": {
      "text/html": [
       "<div>\n",
       "<style scoped>\n",
       "    .dataframe tbody tr th:only-of-type {\n",
       "        vertical-align: middle;\n",
       "    }\n",
       "\n",
       "    .dataframe tbody tr th {\n",
       "        vertical-align: top;\n",
       "    }\n",
       "\n",
       "    .dataframe thead th {\n",
       "        text-align: right;\n",
       "    }\n",
       "</style>\n",
       "<table border=\"1\" class=\"dataframe\">\n",
       "  <thead>\n",
       "    <tr style=\"text-align: right;\">\n",
       "      <th></th>\n",
       "      <th>pred_increase</th>\n",
       "      <th>pred_decrease</th>\n",
       "    </tr>\n",
       "  </thead>\n",
       "  <tbody>\n",
       "    <tr>\n",
       "      <th>true_increase</th>\n",
       "      <td>7</td>\n",
       "      <td>5</td>\n",
       "    </tr>\n",
       "    <tr>\n",
       "      <th>true_decrease</th>\n",
       "      <td>0</td>\n",
       "      <td>33</td>\n",
       "    </tr>\n",
       "  </tbody>\n",
       "</table>\n",
       "</div>"
      ],
      "text/plain": [
       "               pred_increase  pred_decrease\n",
       "true_increase              7              5\n",
       "true_decrease              0             33"
      ]
     },
     "execution_count": 34,
     "metadata": {},
     "output_type": "execute_result"
    }
   ],
   "source": [
    "inc_prob_confusion = confusion_matrix(inc_prob_sfs[0],y_noclvl['increase'],True)\n",
    "inc_prob_confusion"
   ]
  },
  {
   "cell_type": "code",
   "execution_count": 11,
   "metadata": {},
   "outputs": [
    {
     "data": {
      "text/plain": [
       "0.8666666666666667"
      ]
     },
     "execution_count": 11,
     "metadata": {},
     "output_type": "execute_result"
    }
   ],
   "source": [
    "correct_sum = 0\n",
    "for i in range(2):\n",
    "    correct_sum+=inc_prob_confusion.iloc[i,i]\n",
    "correct_sum/45"
   ]
  },
  {
   "cell_type": "code",
   "execution_count": 35,
   "metadata": {
    "scrolled": false
   },
   "outputs": [
    {
     "data": {
      "text/html": [
       "<div>\n",
       "<style scoped>\n",
       "    .dataframe tbody tr th:only-of-type {\n",
       "        vertical-align: middle;\n",
       "    }\n",
       "\n",
       "    .dataframe tbody tr th {\n",
       "        vertical-align: top;\n",
       "    }\n",
       "\n",
       "    .dataframe thead th {\n",
       "        text-align: right;\n",
       "    }\n",
       "</style>\n",
       "<table border=\"1\" class=\"dataframe\">\n",
       "  <thead>\n",
       "    <tr style=\"text-align: right;\">\n",
       "      <th></th>\n",
       "      <th>pred&gt;=0.7</th>\n",
       "      <th>0.5&lt;=pred&lt;0.7</th>\n",
       "      <th>0.3&lt;=pred&lt;0.5</th>\n",
       "      <th>pred&lt;0.3</th>\n",
       "    </tr>\n",
       "  </thead>\n",
       "  <tbody>\n",
       "    <tr>\n",
       "      <th>truth&gt;=0.7</th>\n",
       "      <td>0</td>\n",
       "      <td>3</td>\n",
       "      <td>3</td>\n",
       "      <td>1</td>\n",
       "    </tr>\n",
       "    <tr>\n",
       "      <th>0.5&lt;=truth&lt;0.7</th>\n",
       "      <td>0</td>\n",
       "      <td>4</td>\n",
       "      <td>1</td>\n",
       "      <td>0</td>\n",
       "    </tr>\n",
       "    <tr>\n",
       "      <th>0.3&lt;=truth&lt;0.5</th>\n",
       "      <td>0</td>\n",
       "      <td>0</td>\n",
       "      <td>6</td>\n",
       "      <td>2</td>\n",
       "    </tr>\n",
       "    <tr>\n",
       "      <th>truth&lt;0.3</th>\n",
       "      <td>0</td>\n",
       "      <td>0</td>\n",
       "      <td>7</td>\n",
       "      <td>18</td>\n",
       "    </tr>\n",
       "  </tbody>\n",
       "</table>\n",
       "</div>"
      ],
      "text/plain": [
       "                pred>=0.7  0.5<=pred<0.7  0.3<=pred<0.5  pred<0.3\n",
       "truth>=0.7              0              3              3         1\n",
       "0.5<=truth<0.7          0              4              1         0\n",
       "0.3<=truth<0.5          0              0              6         2\n",
       "truth<0.3               0              0              7        18"
      ]
     },
     "execution_count": 35,
     "metadata": {},
     "output_type": "execute_result"
    }
   ],
   "source": [
    "inc_prob_confusion = confusion_matrix(inc_prob_sfs[0],y_noclvl['increase'],3)\n",
    "inc_prob_confusion"
   ]
  },
  {
   "cell_type": "code",
   "execution_count": 36,
   "metadata": {},
   "outputs": [
    {
     "data": {
      "text/plain": [
       "0.6222222222222222"
      ]
     },
     "execution_count": 36,
     "metadata": {},
     "output_type": "execute_result"
    }
   ],
   "source": [
    "correct_sum = 0\n",
    "for i in range(4):\n",
    "    correct_sum+=inc_prob_confusion.iloc[i,i]\n",
    "correct_sum/45"
   ]
  },
  {
   "cell_type": "code",
   "execution_count": 14,
   "metadata": {
    "scrolled": false
   },
   "outputs": [
    {
     "data": {
      "image/png": "[encoded data removed]",
      "text/plain": [
       "<Figure size 432x288 with 1 Axes>"
      ]
     },
     "metadata": {
      "needs_background": "light"
     },
     "output_type": "display_data"
    }
   ],
   "source": [
    "true_labels = y_noclvl['increase'].where(y_noclvl['increase']>=0.5,0).where(y_noclvl['increase']<0.5,1)\n",
    "fpr, tpr, thresholds = roc_curve(true_labels,inc_prob_sfs[0])\n",
    "roc_auc = auc(fpr, tpr)\n",
    "plt.plot(fpr, tpr, lw=1,label='ROC fold %d (AUC = %0.2f)' % (5, roc_auc))\n",
    "plt.xlim([-0.05, 1.05])\n",
    "plt.ylim([-0.05, 1.05])\n",
    "plt.xlabel('False Positive Rate')\n",
    "plt.ylabel('True Positive Rate')\n",
    "plt.title('Receiver operating characteristic')\n",
    "plt.legend(loc=\"lower right\")\n",
    "plt.savefig('roc.png')\n",
    "plt.show()"
   ]
  },
  {
   "cell_type": "markdown",
   "metadata": {},
   "source": [
    "Next we will see what this model is bad at predicting"
   ]
  },
  {
   "cell_type": "code",
   "execution_count": 15,
   "metadata": {
    "scrolled": true
   },
   "outputs": [],
   "source": [
    "inc_prob_sfs_acc = abs(inc_prob_sfs.subtract(y_noclvl['increase'],axis=0))\n",
    "inc_prob_sfs_acc['true'] = y_noclvl['increase']\n",
    "inc_prob_sfs_acc['pred'] = inc_prob_sfs\n",
    "inc_prob_sfs_acc.rename(columns={0: \"abs_error\"},inplace=True)\n",
    "inc_prob_sfs_acc.sort_values('abs_error',ascending=False,inplace=True)"
   ]
  },
  {
   "cell_type": "code",
   "execution_count": 16,
   "metadata": {
    "scrolled": false
   },
   "outputs": [
    {
     "data": {
      "text/html": [
       "<div>\n",
       "<style scoped>\n",
       "    .dataframe tbody tr th:only-of-type {\n",
       "        vertical-align: middle;\n",
       "    }\n",
       "\n",
       "    .dataframe tbody tr th {\n",
       "        vertical-align: top;\n",
       "    }\n",
       "\n",
       "    .dataframe thead th {\n",
       "        text-align: right;\n",
       "    }\n",
       "</style>\n",
       "<table border=\"1\" class=\"dataframe\">\n",
       "  <thead>\n",
       "    <tr style=\"text-align: right;\">\n",
       "      <th></th>\n",
       "      <th>abs_error</th>\n",
       "      <th>true</th>\n",
       "      <th>pred</th>\n",
       "    </tr>\n",
       "    <tr>\n",
       "      <th>noc</th>\n",
       "      <th></th>\n",
       "      <th></th>\n",
       "      <th></th>\n",
       "    </tr>\n",
       "  </thead>\n",
       "  <tbody>\n",
       "    <tr>\n",
       "      <th>Light duty cleaners</th>\n",
       "      <td>0.542506</td>\n",
       "      <td>0.733333</td>\n",
       "      <td>0.190827</td>\n",
       "    </tr>\n",
       "    <tr>\n",
       "      <th>Chefs</th>\n",
       "      <td>0.425140</td>\n",
       "      <td>0.894737</td>\n",
       "      <td>0.469597</td>\n",
       "    </tr>\n",
       "    <tr>\n",
       "      <th>Airline ticket and service agents</th>\n",
       "      <td>0.416688</td>\n",
       "      <td>0.050000</td>\n",
       "      <td>0.466688</td>\n",
       "    </tr>\n",
       "    <tr>\n",
       "      <th>Graphic designers and illustrators</th>\n",
       "      <td>0.415725</td>\n",
       "      <td>0.894737</td>\n",
       "      <td>0.479012</td>\n",
       "    </tr>\n",
       "    <tr>\n",
       "      <th>Technical sales specialists - wholesale trade</th>\n",
       "      <td>0.379214</td>\n",
       "      <td>0.739130</td>\n",
       "      <td>0.359916</td>\n",
       "    </tr>\n",
       "    <tr>\n",
       "      <th>Cooks</th>\n",
       "      <td>0.332645</td>\n",
       "      <td>0.733333</td>\n",
       "      <td>0.400688</td>\n",
       "    </tr>\n",
       "    <tr>\n",
       "      <th>Carpenters</th>\n",
       "      <td>0.281667</td>\n",
       "      <td>0.450000</td>\n",
       "      <td>0.168333</td>\n",
       "    </tr>\n",
       "    <tr>\n",
       "      <th>Health policy researchers, consultants and program officers</th>\n",
       "      <td>0.240479</td>\n",
       "      <td>0.782609</td>\n",
       "      <td>0.542130</td>\n",
       "    </tr>\n",
       "    <tr>\n",
       "      <th>Oil and gas well drillers, servicers, testers and related workers</th>\n",
       "      <td>0.213660</td>\n",
       "      <td>0.047619</td>\n",
       "      <td>0.261279</td>\n",
       "    </tr>\n",
       "    <tr>\n",
       "      <th>Store shelf stockers, clerks and order fillers</th>\n",
       "      <td>0.209462</td>\n",
       "      <td>0.066667</td>\n",
       "      <td>0.276129</td>\n",
       "    </tr>\n",
       "  </tbody>\n",
       "</table>\n",
       "</div>"
      ],
      "text/plain": [
       "                                                    abs_error      true  \\\n",
       "noc                                                                       \n",
       "Light duty cleaners                                  0.542506  0.733333   \n",
       "Chefs                                                0.425140  0.894737   \n",
       "Airline ticket and service agents                    0.416688  0.050000   \n",
       "Graphic designers and illustrators                   0.415725  0.894737   \n",
       "Technical sales specialists - wholesale trade        0.379214  0.739130   \n",
       "Cooks                                                0.332645  0.733333   \n",
       "Carpenters                                           0.281667  0.450000   \n",
       "Health policy researchers, consultants and prog...   0.240479  0.782609   \n",
       "Oil and gas well drillers, servicers, testers a...   0.213660  0.047619   \n",
       "Store shelf stockers, clerks and order fillers       0.209462  0.066667   \n",
       "\n",
       "                                                        pred  \n",
       "noc                                                           \n",
       "Light duty cleaners                                 0.190827  \n",
       "Chefs                                               0.469597  \n",
       "Airline ticket and service agents                   0.466688  \n",
       "Graphic designers and illustrators                  0.479012  \n",
       "Technical sales specialists - wholesale trade       0.359916  \n",
       "Cooks                                               0.400688  \n",
       "Carpenters                                          0.168333  \n",
       "Health policy researchers, consultants and prog...  0.542130  \n",
       "Oil and gas well drillers, servicers, testers a...  0.261279  \n",
       "Store shelf stockers, clerks and order fillers      0.276129  "
      ]
     },
     "execution_count": 16,
     "metadata": {},
     "output_type": "execute_result"
    }
   ],
   "source": [
    "#the highest absolute error\n",
    "inc_prob_sfs_acc[0:10]"
   ]
  },
  {
   "cell_type": "code",
   "execution_count": 17,
   "metadata": {
    "scrolled": false
   },
   "outputs": [
    {
     "data": {
      "text/html": [
       "<div>\n",
       "<style scoped>\n",
       "    .dataframe tbody tr th:only-of-type {\n",
       "        vertical-align: middle;\n",
       "    }\n",
       "\n",
       "    .dataframe tbody tr th {\n",
       "        vertical-align: top;\n",
       "    }\n",
       "\n",
       "    .dataframe thead th {\n",
       "        text-align: right;\n",
       "    }\n",
       "</style>\n",
       "<table border=\"1\" class=\"dataframe\">\n",
       "  <thead>\n",
       "    <tr style=\"text-align: right;\">\n",
       "      <th></th>\n",
       "      <th>abs_error</th>\n",
       "      <th>true</th>\n",
       "      <th>pred</th>\n",
       "    </tr>\n",
       "    <tr>\n",
       "      <th>noc</th>\n",
       "      <th></th>\n",
       "      <th></th>\n",
       "      <th></th>\n",
       "    </tr>\n",
       "  </thead>\n",
       "  <tbody>\n",
       "    <tr>\n",
       "      <th>Light duty cleaners</th>\n",
       "      <td>0.542506</td>\n",
       "      <td>0.733333</td>\n",
       "      <td>0.190827</td>\n",
       "    </tr>\n",
       "    <tr>\n",
       "      <th>Chefs</th>\n",
       "      <td>0.425140</td>\n",
       "      <td>0.894737</td>\n",
       "      <td>0.469597</td>\n",
       "    </tr>\n",
       "    <tr>\n",
       "      <th>Graphic designers and illustrators</th>\n",
       "      <td>0.415725</td>\n",
       "      <td>0.894737</td>\n",
       "      <td>0.479012</td>\n",
       "    </tr>\n",
       "    <tr>\n",
       "      <th>Technical sales specialists - wholesale trade</th>\n",
       "      <td>0.379214</td>\n",
       "      <td>0.739130</td>\n",
       "      <td>0.359916</td>\n",
       "    </tr>\n",
       "    <tr>\n",
       "      <th>Cooks</th>\n",
       "      <td>0.332645</td>\n",
       "      <td>0.733333</td>\n",
       "      <td>0.400688</td>\n",
       "    </tr>\n",
       "    <tr>\n",
       "      <th>Air pilots, flight engineers and flying instructors</th>\n",
       "      <td>0.100588</td>\n",
       "      <td>0.400000</td>\n",
       "      <td>0.500588</td>\n",
       "    </tr>\n",
       "  </tbody>\n",
       "</table>\n",
       "</div>"
      ],
      "text/plain": [
       "                                                    abs_error      true  \\\n",
       "noc                                                                       \n",
       "Light duty cleaners                                  0.542506  0.733333   \n",
       "Chefs                                                0.425140  0.894737   \n",
       "Graphic designers and illustrators                   0.415725  0.894737   \n",
       "Technical sales specialists - wholesale trade        0.379214  0.739130   \n",
       "Cooks                                                0.332645  0.733333   \n",
       "Air pilots, flight engineers and flying instruc...   0.100588  0.400000   \n",
       "\n",
       "                                                        pred  \n",
       "noc                                                           \n",
       "Light duty cleaners                                 0.190827  \n",
       "Chefs                                               0.469597  \n",
       "Graphic designers and illustrators                  0.479012  \n",
       "Technical sales specialists - wholesale trade       0.359916  \n",
       "Cooks                                               0.400688  \n",
       "Air pilots, flight engineers and flying instruc...  0.500588  "
      ]
     },
     "execution_count": 17,
     "metadata": {},
     "output_type": "execute_result"
    }
   ],
   "source": [
    "#what is wrong as a classifier\n",
    "inc_prob_sfs_acc.loc[np.logical_or(\n",
    "    np.logical_and(inc_prob_sfs_acc.true>=0.5,inc_prob_sfs_acc.pred<0.5),\n",
    "    np.logical_and(inc_prob_sfs_acc.true<0.5,inc_prob_sfs_acc.pred>=0.5))]"
   ]
  },
  {
   "cell_type": "markdown",
   "metadata": {},
   "source": [
    "Next we train on the whole training set"
   ]
  },
  {
   "cell_type": "code",
   "execution_count": 18,
   "metadata": {
    "scrolled": false
   },
   "outputs": [],
   "source": [
    "nocs = nocs.loc[:,sffs_prob_features].copy()\n",
    "\n",
    "rf = RandomForestClassifier(**init_params('cat'))\n",
    "rf.fit(x.loc[:,sffs_prob_features],y['increase'])\n",
    "noc_preds = pd.Series(rf.predict_proba(nocs)[:,0],index=nocs.index)"
   ]
  },
  {
   "cell_type": "code",
   "execution_count": 19,
   "metadata": {
    "scrolled": false
   },
   "outputs": [
    {
     "data": {
      "image/png": "[encoded data removed]",
      "text/plain": [
       "<Figure size 432x288 with 1 Axes>"
      ]
     },
     "metadata": {
      "needs_background": "light"
     },
     "output_type": "display_data"
    }
   ],
   "source": [
    "plt.plot(np.sort(noc_preds))\n",
    "plt.show()"
   ]
  },
  {
   "cell_type": "code",
   "execution_count": 20,
   "metadata": {
    "scrolled": true
   },
   "outputs": [
    {
     "data": {
      "image/png": "[encoded data removed]",
      "text/plain": [
       "<Figure size 432x288 with 1 Axes>"
      ]
     },
     "metadata": {
      "needs_background": "light"
     },
     "output_type": "display_data"
    }
   ],
   "source": [
    "plt.hist(np.sort(noc_preds),20, alpha = 0.5, edgecolor = 'black')\n",
    "plt.show()"
   ]
  },
  {
   "cell_type": "code",
   "execution_count": 21,
   "metadata": {
    "scrolled": false
   },
   "outputs": [
    {
     "name": "stdout",
     "output_type": "stream",
     "text": [
      "0.029545454545454545\n",
      "0.1590909090909091\n",
      "0.46136363636363636\n",
      "0.35\n"
     ]
    }
   ],
   "source": [
    "print(sum(noc_preds>=0.7)/noc_preds.shape[0])\n",
    "print(sum(np.logical_and(noc_preds>=0.5,noc_preds<0.7))/noc_preds.shape[0])\n",
    "print(sum(np.logical_and(noc_preds>=0.3,noc_preds<0.5))/noc_preds.shape[0])\n",
    "print(sum(noc_preds<0.3)/noc_preds.shape[0])"
   ]
  },
  {
   "cell_type": "code",
   "execution_count": 22,
   "metadata": {
    "scrolled": true
   },
   "outputs": [
    {
     "name": "stdout",
     "output_type": "stream",
     "text": [
      "0.15555555555555556\n",
      "0.1111111111111111\n",
      "0.17777777777777778\n",
      "0.5555555555555556\n"
     ]
    }
   ],
   "source": [
    "print(sum(y_noclvl['increase']>=0.7)/y_noclvl['increase'].shape[0])\n",
    "print(sum(np.logical_and(y_noclvl['increase']>=0.5,y_noclvl['increase']<0.7))/y_noclvl['increase'].shape[0])\n",
    "print(sum(np.logical_and(y_noclvl['increase']>=0.3,y_noclvl['increase']<0.5))/y_noclvl['increase'].shape[0])\n",
    "print(sum(y_noclvl['increase']<0.3)/y_noclvl['increase'].shape[0])"
   ]
  },
  {
   "cell_type": "code",
   "execution_count": 23,
   "metadata": {
    "scrolled": true
   },
   "outputs": [
    {
     "data": {
      "text/plain": [
       "noc\n",
       "8252    0.841524\n",
       "3131    0.836523\n",
       "3111    0.826728\n",
       "8211    0.825357\n",
       "5221    0.809459\n",
       "3221    0.776229\n",
       "3113    0.776229\n",
       "2143    0.736249\n",
       "2144    0.736249\n",
       "2145    0.734025\n",
       "3214    0.733419\n",
       "211     0.711524\n",
       "3132    0.711125\n",
       "1113    0.696058\n",
       "2147    0.687551\n",
       "5223    0.685993\n",
       "2263    0.682359\n",
       "2134    0.667260\n",
       "2121    0.666673\n",
       "4167    0.661948\n",
       "1423    0.654491\n",
       "2175    0.653445\n",
       "2242    0.647095\n",
       "2255    0.642946\n",
       "2161    0.641094\n",
       "2233    0.638063\n",
       "2112    0.638063\n",
       "1114    0.633292\n",
       "432     0.631492\n",
       "1314    0.631060\n",
       "          ...   \n",
       "1432    0.105749\n",
       "9441    0.100169\n",
       "9445    0.100169\n",
       "7531    0.099215\n",
       "9432    0.097653\n",
       "9411    0.090843\n",
       "9231    0.090843\n",
       "9235    0.085042\n",
       "7611    0.085042\n",
       "8615    0.075830\n",
       "7372    0.067478\n",
       "7373    0.067478\n",
       "6332    0.066106\n",
       "9537    0.066106\n",
       "9535    0.066106\n",
       "9415    0.066106\n",
       "9527    0.066106\n",
       "9525    0.066106\n",
       "9416    0.066106\n",
       "9523    0.066106\n",
       "2262    0.066106\n",
       "9447    0.066106\n",
       "9465    0.066106\n",
       "7442    0.057112\n",
       "9526    0.047113\n",
       "9522    0.047113\n",
       "9418    0.047113\n",
       "9413    0.047113\n",
       "8261    0.001709\n",
       "8441    0.001709\n",
       "Length: 440, dtype: float64"
      ]
     },
     "execution_count": 23,
     "metadata": {},
     "output_type": "execute_result"
    }
   ],
   "source": [
    "noc_preds.sort_values(ascending=False)"
   ]
  },
  {
   "cell_type": "code",
   "execution_count": 24,
   "metadata": {},
   "outputs": [
    {
     "data": {
      "text/plain": [
       "0.06610554846120446"
      ]
     },
     "execution_count": 24,
     "metadata": {},
     "output_type": "execute_result"
    }
   ],
   "source": [
    "noc_preds[2262]"
   ]
  },
  {
   "cell_type": "code",
   "execution_count": 25,
   "metadata": {},
   "outputs": [],
   "source": [
    "noc_preds.to_csv(r'../../tables/preojections.csv'\n",
    "                 ,index=True,header=True)"
   ]
  },
  {
   "cell_type": "markdown",
   "metadata": {},
   "source": [
    "ok now for some robustness we will run the model 10 times and see if there is a signifiant difference in predictions and ordering of nocs"
   ]
  },
  {
   "cell_type": "code",
   "execution_count": 26,
   "metadata": {},
   "outputs": [],
   "source": [
    "robust_check = pd.DataFrame()\n",
    "\n",
    "for i in range(10):\n",
    "    rf = RandomForestClassifier(**init_params('cat'))\n",
    "    rf.fit(x.loc[:,sffs_prob_features],y['increase'])\n",
    "    robust_check[i] = pd.Series(rf.predict_proba(nocs)[:,0],index=nocs.index)"
   ]
  },
  {
   "cell_type": "code",
   "execution_count": 27,
   "metadata": {
    "scrolled": true
   },
   "outputs": [
    {
     "data": {
      "text/plain": [
       "0.013721531799149393"
      ]
     },
     "execution_count": 27,
     "metadata": {},
     "output_type": "execute_result"
    }
   ],
   "source": [
    "diffs = []\n",
    "\n",
    "for i in range(10):\n",
    "    for j in range(i+1,10):\n",
    "            diffs.append(abs(robust_check[i]-robust_check[j]))\n",
    "\n",
    "diffs = np.hstack(diffs)            \n",
    "np.mean(diffs)"
   ]
  },
  {
   "cell_type": "code",
   "execution_count": 28,
   "metadata": {
    "scrolled": true
   },
   "outputs": [
    {
     "data": {
      "text/plain": [
       "0.012247051569398306"
      ]
     },
     "execution_count": 28,
     "metadata": {},
     "output_type": "execute_result"
    }
   ],
   "source": [
    "np.std(diffs)"
   ]
  },
  {
   "cell_type": "code",
   "execution_count": 29,
   "metadata": {},
   "outputs": [
    {
     "data": {
      "image/png": "[encoded data removed]",
      "text/plain": [
       "<Figure size 432x288 with 1 Axes>"
      ]
     },
     "metadata": {
      "needs_background": "light"
     },
     "output_type": "display_data"
    }
   ],
   "source": [
    "plt.hist(diffs)\n",
    "plt.show()"
   ]
  },
  {
   "cell_type": "code",
   "execution_count": 30,
   "metadata": {},
   "outputs": [
    {
     "data": {
      "text/plain": [
       "11.315656565656566"
      ]
     },
     "execution_count": 30,
     "metadata": {},
     "output_type": "execute_result"
    }
   ],
   "source": [
    "rank_diffs = []\n",
    "\n",
    "robust_check_ranks = robust_check.rank(axis=0)\n",
    "\n",
    "for i in range(10):\n",
    "    for j in range(i+1,10):\n",
    "        rank_diffs.append(abs(robust_check_ranks[i]-robust_check_ranks[j]))\n",
    "\n",
    "rank_diffs = np.hstack(rank_diffs)           \n",
    "np.mean(rank_diffs)"
   ]
  },
  {
   "cell_type": "code",
   "execution_count": 31,
   "metadata": {},
   "outputs": [
    {
     "data": {
      "text/plain": [
       "12.115602984582841"
      ]
     },
     "execution_count": 31,
     "metadata": {},
     "output_type": "execute_result"
    }
   ],
   "source": [
    "np.std(rank_diffs)"
   ]
  },
  {
   "cell_type": "code",
   "execution_count": 32,
   "metadata": {},
   "outputs": [
    {
     "data": {
      "image/png": "[encoded data removed]",
      "text/plain": [
       "<Figure size 432x288 with 1 Axes>"
      ]
     },
     "metadata": {
      "needs_background": "light"
     },
     "output_type": "display_data"
    }
   ],
   "source": [
    "plt.hist(rank_diffs)\n",
    "plt.show()"
   ]
  }
 ],
 "metadata": {
  "kernelspec": {
   "display_name": "Python 3",
   "language": "python",
   "name": "python3"
  },
  "language_info": {
   "codemirror_mode": {
    "name": "ipython",
    "version": 3
   },
   "file_extension": ".py",
   "mimetype": "text/x-python",
   "name": "python",
   "nbconvert_exporter": "python",
   "pygments_lexer": "ipython3",
   "version": "3.7.3"
  }
 },
 "nbformat": 4,
 "nbformat_minor": 2
}
