{
 "cells": [
  {
   "cell_type": "code",
   "execution_count": 1,
   "metadata": {
    "scrolled": true
   },
   "outputs": [
    {
     "name": "stderr",
     "output_type": "stream",
     "text": [
      "/home/joshua/anaconda3/lib/python3.7/site-packages/sklearn/externals/joblib/__init__.py:15: DeprecationWarning: sklearn.externals.joblib is deprecated in 0.21 and will be removed in 0.23. Please import this functionality directly from joblib, which can be installed with: pip install joblib. If this warning is raised when loading pickled models, you may need to re-serialize those models with scikit-learn 0.21+.\n",
      "  warnings.warn(msg, category=DeprecationWarning)\n"
     ]
    }
   ],
   "source": [
    "%run utils_rf\n",
    "import csv"
   ]
  },
  {
   "cell_type": "code",
   "execution_count": 2,
   "metadata": {},
   "outputs": [],
   "source": [
    "#read training data\n",
    "file = \"../../tables/noc_answers.csv\"\n",
    "x, x_agg, y, y_agg, x_noclvl, y_noclvl = data_proccess(file,True)\n",
    "\n",
    "#grab just the noc codes to cut out test nocs from main noc table\n",
    "train_nocs = pd.read_csv(file,usecols=['noc_code']).drop_duplicates()"
   ]
  },
  {
   "cell_type": "code",
   "execution_count": 3,
   "metadata": {},
   "outputs": [],
   "source": [
    "#read full noc set\n",
    "file = \"../../tables/noc_scores.csv\"\n",
    "nocs = pd.read_csv(file,index_col=['noc'])\n",
    "nocs.sort_index(inplace=True)\n",
    "nocs.drop(['Unnamed: 0'],axis=1,inplace=True)\n",
    "nocs = np.round(nocs).astype(int)\n",
    "nocs.drop(train_nocs['noc_code'],inplace=True)"
   ]
  },
  {
   "cell_type": "markdown",
   "metadata": {},
   "source": [
    "*Test using Chosen Model in this script before full training and prediction*\n",
    "\n",
    "Also I should make the feature be read from a file"
   ]
  },
  {
   "cell_type": "code",
   "execution_count": 4,
   "metadata": {},
   "outputs": [],
   "source": [
    "sffs_prob_features = ('value.Critical Thinking',\n",
    "               'value.Monitoring',\n",
    "               'value.Service Orientation',\n",
    "               'value.Technology Design',\n",
    "               'value.Time Management',\n",
    "               'value.Management of Financial Resources',\n",
    "               'value.Fluency of Ideas',\n",
    "               'value.Originality',\n",
    "               'value.Inductive Reasoning',\n",
    "               'value.Category Flexibility',\n",
    "               'value.Administration and Management',\n",
    "               'value.Personnel and Human Resources',\n",
    "               'value.Computers and Electronics')"
   ]
  },
  {
   "cell_type": "code",
   "execution_count": 5,
   "metadata": {},
   "outputs": [],
   "source": [
    "means = []\n",
    "models = []\n",
    "for i in range(10):    \n",
    "    dec_prob_sfs = run_k_fold(x.loc[:,sffs_prob_features],y['decrease'],init_params('cat'),x.index,True,'pred_probs')\n",
    "    means.append(abs(dec_prob_sfs.subtract(y_agg['decrease'],axis=0)).mean())\n",
    "    models.append(dec_prob_sfs)"
   ]
  },
  {
   "cell_type": "code",
   "execution_count": 6,
   "metadata": {},
   "outputs": [],
   "source": [
    "dec_prob_sfs = models[np.argmin(means)].copy()"
   ]
  },
  {
   "cell_type": "code",
   "execution_count": 7,
   "metadata": {
    "scrolled": true
   },
   "outputs": [
    {
     "data": {
      "text/plain": [
       "0.12653357991971176"
      ]
     },
     "execution_count": 7,
     "metadata": {},
     "output_type": "execute_result"
    }
   ],
   "source": [
    "np.mean(means)"
   ]
  },
  {
   "cell_type": "code",
   "execution_count": 8,
   "metadata": {
    "scrolled": false
   },
   "outputs": [
    {
     "data": {
      "text/plain": [
       "0.0012074480876366107"
      ]
     },
     "execution_count": 8,
     "metadata": {},
     "output_type": "execute_result"
    }
   ],
   "source": [
    "np.std(means)"
   ]
  },
  {
   "cell_type": "code",
   "execution_count": 9,
   "metadata": {
    "scrolled": true
   },
   "outputs": [
    {
     "data": {
      "image/png": "[encoded data removed]",
      "text/plain": [
       "<Figure size 432x288 with 1 Axes>"
      ]
     },
     "metadata": {
      "needs_background": "light"
     },
     "output_type": "display_data"
    }
   ],
   "source": [
    "bins=np.histogram(np.hstack((y_noclvl['decrease'],dec_prob_sfs[0])), bins=20)[1]\n",
    "\n",
    "fig, ax = plt.subplots()\n",
    "plt.hist(y_noclvl['decrease'],bins, alpha = 0.5, edgecolor = 'black',label='True')\n",
    "plt.hist(dec_prob_sfs[0],bins, alpha = 0.25, edgecolor = 'black',label='Pred')\n",
    "plt.legend(loc='upper right')\n",
    "ax.set_ylabel('Count')\n",
    "ax.set_title('Distibution True vs Predicted Decrease Portions - Pred Prob')\n",
    "\n",
    "plt.savefig('true vs pred error - dec.png')\n",
    "plt.show()"
   ]
  },
  {
   "cell_type": "code",
   "execution_count": 10,
   "metadata": {
    "scrolled": false
   },
   "outputs": [
    {
     "data": {
      "text/html": [
       "<div>\n",
       "<style scoped>\n",
       "    .dataframe tbody tr th:only-of-type {\n",
       "        vertical-align: middle;\n",
       "    }\n",
       "\n",
       "    .dataframe tbody tr th {\n",
       "        vertical-align: top;\n",
       "    }\n",
       "\n",
       "    .dataframe thead th {\n",
       "        text-align: right;\n",
       "    }\n",
       "</style>\n",
       "<table border=\"1\" class=\"dataframe\">\n",
       "  <thead>\n",
       "    <tr style=\"text-align: right;\">\n",
       "      <th></th>\n",
       "      <th>pred_increase</th>\n",
       "      <th>pred_decrease</th>\n",
       "    </tr>\n",
       "  </thead>\n",
       "  <tbody>\n",
       "    <tr>\n",
       "      <th>true_increase</th>\n",
       "      <td>9</td>\n",
       "      <td>5</td>\n",
       "    </tr>\n",
       "    <tr>\n",
       "      <th>true_decrease</th>\n",
       "      <td>1</td>\n",
       "      <td>30</td>\n",
       "    </tr>\n",
       "  </tbody>\n",
       "</table>\n",
       "</div>"
      ],
      "text/plain": [
       "               pred_increase  pred_decrease\n",
       "true_increase              9              5\n",
       "true_decrease              1             30"
      ]
     },
     "execution_count": 10,
     "metadata": {},
     "output_type": "execute_result"
    }
   ],
   "source": [
    "dec_prob_confusion = confusion_matrix(dec_prob_sfs[0],y_noclvl['decrease'],True)\n",
    "dec_prob_confusion"
   ]
  },
  {
   "cell_type": "code",
   "execution_count": 11,
   "metadata": {},
   "outputs": [
    {
     "data": {
      "text/plain": [
       "0.8666666666666667"
      ]
     },
     "execution_count": 11,
     "metadata": {},
     "output_type": "execute_result"
    }
   ],
   "source": [
    "correct_sum = 0\n",
    "for i in range(2):\n",
    "    correct_sum+=dec_prob_confusion.iloc[i,i]\n",
    "correct_sum/45"
   ]
  },
  {
   "cell_type": "code",
   "execution_count": 12,
   "metadata": {
    "scrolled": true
   },
   "outputs": [
    {
     "data": {
      "text/html": [
       "<div>\n",
       "<style scoped>\n",
       "    .dataframe tbody tr th:only-of-type {\n",
       "        vertical-align: middle;\n",
       "    }\n",
       "\n",
       "    .dataframe tbody tr th {\n",
       "        vertical-align: top;\n",
       "    }\n",
       "\n",
       "    .dataframe thead th {\n",
       "        text-align: right;\n",
       "    }\n",
       "</style>\n",
       "<table border=\"1\" class=\"dataframe\">\n",
       "  <thead>\n",
       "    <tr style=\"text-align: right;\">\n",
       "      <th></th>\n",
       "      <th>pred&gt;=0.7</th>\n",
       "      <th>0.5&lt;=pred&lt;0.7</th>\n",
       "      <th>0.3&lt;=pred&lt;0.5</th>\n",
       "      <th>pred&lt;0.3</th>\n",
       "    </tr>\n",
       "  </thead>\n",
       "  <tbody>\n",
       "    <tr>\n",
       "      <th>truth&gt;=0.7</th>\n",
       "      <td>4</td>\n",
       "      <td>0</td>\n",
       "      <td>1</td>\n",
       "      <td>1</td>\n",
       "    </tr>\n",
       "    <tr>\n",
       "      <th>0.5&lt;=truth&lt;0.7</th>\n",
       "      <td>1</td>\n",
       "      <td>4</td>\n",
       "      <td>3</td>\n",
       "      <td>0</td>\n",
       "    </tr>\n",
       "    <tr>\n",
       "      <th>0.3&lt;=truth&lt;0.5</th>\n",
       "      <td>0</td>\n",
       "      <td>1</td>\n",
       "      <td>5</td>\n",
       "      <td>1</td>\n",
       "    </tr>\n",
       "    <tr>\n",
       "      <th>truth&lt;0.3</th>\n",
       "      <td>0</td>\n",
       "      <td>0</td>\n",
       "      <td>4</td>\n",
       "      <td>20</td>\n",
       "    </tr>\n",
       "  </tbody>\n",
       "</table>\n",
       "</div>"
      ],
      "text/plain": [
       "                pred>=0.7  0.5<=pred<0.7  0.3<=pred<0.5  pred<0.3\n",
       "truth>=0.7              4              0              1         1\n",
       "0.5<=truth<0.7          1              4              3         0\n",
       "0.3<=truth<0.5          0              1              5         1\n",
       "truth<0.3               0              0              4        20"
      ]
     },
     "execution_count": 12,
     "metadata": {},
     "output_type": "execute_result"
    }
   ],
   "source": [
    "dec_prob_confusion = confusion_matrix(dec_prob_sfs[0],y_noclvl['decrease'],3)\n",
    "dec_prob_confusion"
   ]
  },
  {
   "cell_type": "code",
   "execution_count": 13,
   "metadata": {},
   "outputs": [
    {
     "data": {
      "text/plain": [
       "0.7333333333333333"
      ]
     },
     "execution_count": 13,
     "metadata": {},
     "output_type": "execute_result"
    }
   ],
   "source": [
    "correct_sum = 0\n",
    "for i in range(4):\n",
    "    correct_sum+=dec_prob_confusion.iloc[i,i]\n",
    "correct_sum/45"
   ]
  },
  {
   "cell_type": "code",
   "execution_count": 14,
   "metadata": {
    "scrolled": true
   },
   "outputs": [
    {
     "data": {
      "image/png": "[encoded data removed]",
      "text/plain": [
       "<Figure size 432x288 with 1 Axes>"
      ]
     },
     "metadata": {
      "needs_background": "light"
     },
     "output_type": "display_data"
    }
   ],
   "source": [
    "true_labels = y_noclvl['decrease'].where(y_noclvl['decrease']>=0.5,0).where(y_noclvl['decrease']<0.5,1)\n",
    "fpr, tpr, thresholds = roc_curve(true_labels,dec_prob_sfs[0])\n",
    "roc_auc = auc(fpr, tpr)\n",
    "plt.plot(fpr, tpr, lw=1,label='ROC fold %d (AUC = %0.2f)' % (5, roc_auc))\n",
    "plt.xlim([-0.05, 1.05])\n",
    "plt.ylim([-0.05, 1.05])\n",
    "plt.xlabel('False Positive Rate')\n",
    "plt.ylabel('True Positive Rate')\n",
    "plt.title('Receiver operating characteristic - Reg')\n",
    "plt.legend(loc=\"lower right\")\n",
    "plt.savefig('roc_reg.png')\n",
    "plt.show()"
   ]
  },
  {
   "cell_type": "markdown",
   "metadata": {},
   "source": [
    "Next we will see what this model is bad at predicting"
   ]
  },
  {
   "cell_type": "code",
   "execution_count": 15,
   "metadata": {
    "scrolled": true
   },
   "outputs": [],
   "source": [
    "dec_prob_sfs_acc = abs(dec_prob_sfs.subtract(y_noclvl['decrease'],axis=0))\n",
    "dec_prob_sfs_acc['true'] = y_noclvl['decrease']\n",
    "dec_prob_sfs_acc['pred'] = dec_prob_sfs\n",
    "dec_prob_sfs_acc.rename(columns={0: \"abs_error\"},inplace=True)\n",
    "dec_prob_sfs_acc.sort_values('abs_error',ascending=False,inplace=True)"
   ]
  },
  {
   "cell_type": "code",
   "execution_count": 16,
   "metadata": {
    "scrolled": true
   },
   "outputs": [
    {
     "data": {
      "text/html": [
       "<div>\n",
       "<style scoped>\n",
       "    .dataframe tbody tr th:only-of-type {\n",
       "        vertical-align: middle;\n",
       "    }\n",
       "\n",
       "    .dataframe tbody tr th {\n",
       "        vertical-align: top;\n",
       "    }\n",
       "\n",
       "    .dataframe thead th {\n",
       "        text-align: right;\n",
       "    }\n",
       "</style>\n",
       "<table border=\"1\" class=\"dataframe\">\n",
       "  <thead>\n",
       "    <tr style=\"text-align: right;\">\n",
       "      <th></th>\n",
       "      <th>abs_error</th>\n",
       "      <th>true</th>\n",
       "      <th>pred</th>\n",
       "    </tr>\n",
       "    <tr>\n",
       "      <th>noc</th>\n",
       "      <th></th>\n",
       "      <th></th>\n",
       "      <th></th>\n",
       "    </tr>\n",
       "  </thead>\n",
       "  <tbody>\n",
       "    <tr>\n",
       "      <th>Airline ticket and service agents</th>\n",
       "      <td>0.619930</td>\n",
       "      <td>0.700000</td>\n",
       "      <td>0.080070</td>\n",
       "    </tr>\n",
       "    <tr>\n",
       "      <th>Painters and decorators (except interior decorators)</th>\n",
       "      <td>0.394177</td>\n",
       "      <td>0.105263</td>\n",
       "      <td>0.499441</td>\n",
       "    </tr>\n",
       "    <tr>\n",
       "      <th>Cooks</th>\n",
       "      <td>0.376240</td>\n",
       "      <td>0.000000</td>\n",
       "      <td>0.376240</td>\n",
       "    </tr>\n",
       "    <tr>\n",
       "      <th>Oil and gas well drillers, servicers, testers and related workers</th>\n",
       "      <td>0.301712</td>\n",
       "      <td>0.761905</td>\n",
       "      <td>0.460193</td>\n",
       "    </tr>\n",
       "    <tr>\n",
       "      <th>Heavy-duty equipment mechanics</th>\n",
       "      <td>0.299291</td>\n",
       "      <td>0.000000</td>\n",
       "      <td>0.299291</td>\n",
       "    </tr>\n",
       "    <tr>\n",
       "      <th>Chefs</th>\n",
       "      <td>0.288269</td>\n",
       "      <td>0.000000</td>\n",
       "      <td>0.288269</td>\n",
       "    </tr>\n",
       "    <tr>\n",
       "      <th>Store shelf stockers, clerks and order fillers</th>\n",
       "      <td>0.224881</td>\n",
       "      <td>0.600000</td>\n",
       "      <td>0.375119</td>\n",
       "    </tr>\n",
       "    <tr>\n",
       "      <th>Air pilots, flight engineers and flying instructors</th>\n",
       "      <td>0.198424</td>\n",
       "      <td>0.100000</td>\n",
       "      <td>0.298424</td>\n",
       "    </tr>\n",
       "    <tr>\n",
       "      <th>Light duty cleaners</th>\n",
       "      <td>0.196276</td>\n",
       "      <td>0.066667</td>\n",
       "      <td>0.262943</td>\n",
       "    </tr>\n",
       "    <tr>\n",
       "      <th>Registered nurses and registered psychiatric nurses</th>\n",
       "      <td>0.160617</td>\n",
       "      <td>0.000000</td>\n",
       "      <td>0.160617</td>\n",
       "    </tr>\n",
       "  </tbody>\n",
       "</table>\n",
       "</div>"
      ],
      "text/plain": [
       "                                                    abs_error      true  \\\n",
       "noc                                                                       \n",
       "Airline ticket and service agents                    0.619930  0.700000   \n",
       "Painters and decorators (except interior decora...   0.394177  0.105263   \n",
       "Cooks                                                0.376240  0.000000   \n",
       "Oil and gas well drillers, servicers, testers a...   0.301712  0.761905   \n",
       "Heavy-duty equipment mechanics                       0.299291  0.000000   \n",
       "Chefs                                                0.288269  0.000000   \n",
       "Store shelf stockers, clerks and order fillers       0.224881  0.600000   \n",
       "Air pilots, flight engineers and flying instruc...   0.198424  0.100000   \n",
       "Light duty cleaners                                  0.196276  0.066667   \n",
       "Registered nurses and registered psychiatric nu...   0.160617  0.000000   \n",
       "\n",
       "                                                        pred  \n",
       "noc                                                           \n",
       "Airline ticket and service agents                   0.080070  \n",
       "Painters and decorators (except interior decora...  0.499441  \n",
       "Cooks                                               0.376240  \n",
       "Oil and gas well drillers, servicers, testers a...  0.460193  \n",
       "Heavy-duty equipment mechanics                      0.299291  \n",
       "Chefs                                               0.288269  \n",
       "Store shelf stockers, clerks and order fillers      0.375119  \n",
       "Air pilots, flight engineers and flying instruc...  0.298424  \n",
       "Light duty cleaners                                 0.262943  \n",
       "Registered nurses and registered psychiatric nu...  0.160617  "
      ]
     },
     "execution_count": 16,
     "metadata": {},
     "output_type": "execute_result"
    }
   ],
   "source": [
    "#the highest absolute error\n",
    "dec_prob_sfs_acc[0:10]"
   ]
  },
  {
   "cell_type": "code",
   "execution_count": 17,
   "metadata": {
    "scrolled": false
   },
   "outputs": [
    {
     "data": {
      "text/html": [
       "<div>\n",
       "<style scoped>\n",
       "    .dataframe tbody tr th:only-of-type {\n",
       "        vertical-align: middle;\n",
       "    }\n",
       "\n",
       "    .dataframe tbody tr th {\n",
       "        vertical-align: top;\n",
       "    }\n",
       "\n",
       "    .dataframe thead th {\n",
       "        text-align: right;\n",
       "    }\n",
       "</style>\n",
       "<table border=\"1\" class=\"dataframe\">\n",
       "  <thead>\n",
       "    <tr style=\"text-align: right;\">\n",
       "      <th></th>\n",
       "      <th>abs_error</th>\n",
       "      <th>true</th>\n",
       "      <th>pred</th>\n",
       "    </tr>\n",
       "    <tr>\n",
       "      <th>noc</th>\n",
       "      <th></th>\n",
       "      <th></th>\n",
       "      <th></th>\n",
       "    </tr>\n",
       "  </thead>\n",
       "  <tbody>\n",
       "    <tr>\n",
       "      <th>Airline ticket and service agents</th>\n",
       "      <td>0.619930</td>\n",
       "      <td>0.700000</td>\n",
       "      <td>0.080070</td>\n",
       "    </tr>\n",
       "    <tr>\n",
       "      <th>Oil and gas well drillers, servicers, testers and related workers</th>\n",
       "      <td>0.301712</td>\n",
       "      <td>0.761905</td>\n",
       "      <td>0.460193</td>\n",
       "    </tr>\n",
       "    <tr>\n",
       "      <th>Store shelf stockers, clerks and order fillers</th>\n",
       "      <td>0.224881</td>\n",
       "      <td>0.600000</td>\n",
       "      <td>0.375119</td>\n",
       "    </tr>\n",
       "    <tr>\n",
       "      <th>Air transport ramp attendants</th>\n",
       "      <td>0.086139</td>\n",
       "      <td>0.450000</td>\n",
       "      <td>0.536139</td>\n",
       "    </tr>\n",
       "    <tr>\n",
       "      <th>Court clerks</th>\n",
       "      <td>0.078930</td>\n",
       "      <td>0.553719</td>\n",
       "      <td>0.474789</td>\n",
       "    </tr>\n",
       "    <tr>\n",
       "      <th>General farm workers</th>\n",
       "      <td>0.024474</td>\n",
       "      <td>0.523810</td>\n",
       "      <td>0.499336</td>\n",
       "    </tr>\n",
       "  </tbody>\n",
       "</table>\n",
       "</div>"
      ],
      "text/plain": [
       "                                                    abs_error      true  \\\n",
       "noc                                                                       \n",
       "Airline ticket and service agents                    0.619930  0.700000   \n",
       "Oil and gas well drillers, servicers, testers a...   0.301712  0.761905   \n",
       "Store shelf stockers, clerks and order fillers       0.224881  0.600000   \n",
       "Air transport ramp attendants                        0.086139  0.450000   \n",
       "Court clerks                                         0.078930  0.553719   \n",
       "General farm workers                                 0.024474  0.523810   \n",
       "\n",
       "                                                        pred  \n",
       "noc                                                           \n",
       "Airline ticket and service agents                   0.080070  \n",
       "Oil and gas well drillers, servicers, testers a...  0.460193  \n",
       "Store shelf stockers, clerks and order fillers      0.375119  \n",
       "Air transport ramp attendants                       0.536139  \n",
       "Court clerks                                        0.474789  \n",
       "General farm workers                                0.499336  "
      ]
     },
     "execution_count": 17,
     "metadata": {},
     "output_type": "execute_result"
    }
   ],
   "source": [
    "#what is wrong as a classifier\n",
    "dec_prob_sfs_acc.loc[np.logical_or(\n",
    "    np.logical_and(dec_prob_sfs_acc.true>0.5,dec_prob_sfs_acc.pred<0.5),\n",
    "    np.logical_and(dec_prob_sfs_acc.true<0.5,dec_prob_sfs_acc.pred>0.5))]"
   ]
  },
  {
   "cell_type": "markdown",
   "metadata": {},
   "source": [
    "Next we train on the whole training set"
   ]
  },
  {
   "cell_type": "code",
   "execution_count": 18,
   "metadata": {
    "scrolled": false
   },
   "outputs": [],
   "source": [
    "nocs = nocs.loc[:,sffs_prob_features].copy()\n",
    "\n",
    "rf = RandomForestClassifier(**init_params('cat'))\n",
    "rf.fit(x.loc[:,sffs_prob_features],y['decrease'])\n",
    "noc_preds = pd.Series(rf.predict_proba(nocs)[:,0],index=nocs.index)"
   ]
  },
  {
   "cell_type": "code",
   "execution_count": 19,
   "metadata": {
    "scrolled": false
   },
   "outputs": [
    {
     "data": {
      "image/png": "[encoded data removed]",
      "text/plain": [
       "<Figure size 432x288 with 1 Axes>"
      ]
     },
     "metadata": {
      "needs_background": "light"
     },
     "output_type": "display_data"
    }
   ],
   "source": [
    "plt.plot(np.sort(noc_preds))\n",
    "plt.show()"
   ]
  },
  {
   "cell_type": "code",
   "execution_count": 20,
   "metadata": {
    "scrolled": false
   },
   "outputs": [
    {
     "data": {
      "image/png": "[encoded data removed]",
      "text/plain": [
       "<Figure size 432x288 with 1 Axes>"
      ]
     },
     "metadata": {
      "needs_background": "light"
     },
     "output_type": "display_data"
    }
   ],
   "source": [
    "plt.hist(np.sort(noc_preds),20, alpha = 0.5, edgecolor = 'black')\n",
    "plt.show()"
   ]
  },
  {
   "cell_type": "code",
   "execution_count": 21,
   "metadata": {
    "scrolled": false
   },
   "outputs": [
    {
     "name": "stdout",
     "output_type": "stream",
     "text": [
      "0.04090909090909091\n",
      "0.14545454545454545\n",
      "0.20681818181818182\n",
      "0.6068181818181818\n"
     ]
    }
   ],
   "source": [
    "print(sum(noc_preds>=0.7)/noc_preds.shape[0])\n",
    "print(sum(np.logical_and(noc_preds>=0.5,noc_preds<0.7))/noc_preds.shape[0])\n",
    "print(sum(np.logical_and(noc_preds>=0.3,noc_preds<0.5))/noc_preds.shape[0])\n",
    "print(sum(noc_preds<0.3)/noc_preds.shape[0])"
   ]
  },
  {
   "cell_type": "code",
   "execution_count": 22,
   "metadata": {
    "scrolled": true
   },
   "outputs": [
    {
     "name": "stdout",
     "output_type": "stream",
     "text": [
      "0.13333333333333333\n",
      "0.17777777777777778\n",
      "0.15555555555555556\n",
      "0.5333333333333333\n"
     ]
    }
   ],
   "source": [
    "print(sum(y_noclvl['decrease']>=0.7)/y_noclvl['decrease'].shape[0])\n",
    "print(sum(np.logical_and(y_noclvl['decrease']>=0.5,y_noclvl['decrease']<0.7))/y_noclvl['decrease'].shape[0])\n",
    "print(sum(np.logical_and(y_noclvl['decrease']>=0.3,y_noclvl['decrease']<0.5))/y_noclvl['decrease'].shape[0])\n",
    "print(sum(y_noclvl['decrease']<0.3)/y_noclvl['decrease'].shape[0])"
   ]
  },
  {
   "cell_type": "code",
   "execution_count": 23,
   "metadata": {
    "scrolled": true
   },
   "outputs": [
    {
     "data": {
      "text/plain": [
       "noc\n",
       "8261    0.888350\n",
       "9535    0.888350\n",
       "2262    0.888350\n",
       "9447    0.888350\n",
       "8441    0.888350\n",
       "9465    0.888350\n",
       "9415    0.888350\n",
       "9527    0.888350\n",
       "9413    0.797846\n",
       "9416    0.797846\n",
       "9418    0.779866\n",
       "7442    0.754175\n",
       "9523    0.754175\n",
       "9432    0.754175\n",
       "9526    0.754175\n",
       "9525    0.754175\n",
       "9522    0.754175\n",
       "9421    0.711903\n",
       "1252    0.688353\n",
       "9441    0.652069\n",
       "9445    0.652069\n",
       "8614    0.598159\n",
       "8615    0.598159\n",
       "8411    0.598159\n",
       "7621    0.585705\n",
       "1432    0.582266\n",
       "9423    0.578103\n",
       "9241    0.578103\n",
       "7322    0.578103\n",
       "8442    0.578103\n",
       "          ...   \n",
       "3144    0.117018\n",
       "2122    0.114311\n",
       "7318    0.114220\n",
       "1313    0.114220\n",
       "2132    0.112616\n",
       "7243    0.111920\n",
       "7241    0.111920\n",
       "2111    0.106311\n",
       "1423    0.104300\n",
       "3215    0.101114\n",
       "3219    0.100285\n",
       "6623    0.094795\n",
       "1454    0.094795\n",
       "7441    0.094795\n",
       "3237    0.094795\n",
       "3411    0.094795\n",
       "6421    0.085463\n",
       "6521    0.085463\n",
       "3125    0.083252\n",
       "2154    0.080240\n",
       "5121    0.080072\n",
       "6342    0.079480\n",
       "5221    0.058391\n",
       "4151    0.024135\n",
       "621     0.004225\n",
       "3212    0.003809\n",
       "2251    0.003809\n",
       "3124    0.001806\n",
       "3111    0.000000\n",
       "4152    0.000000\n",
       "Length: 440, dtype: float64"
      ]
     },
     "execution_count": 23,
     "metadata": {},
     "output_type": "execute_result"
    }
   ],
   "source": [
    "noc_preds.sort_values(ascending=False)"
   ]
  },
  {
   "cell_type": "code",
   "execution_count": 28,
   "metadata": {},
   "outputs": [],
   "source": [
    "noc_preds.to_csv(r'../../tables/dec_preojections.csv'\n",
    "                 ,index=True,header=True)"
   ]
  },
  {
   "cell_type": "markdown",
   "metadata": {},
   "source": [
    "ok now for some robustness we will run the model 10 times and see if there is a signifiant difference in predictions and ordering of nocs"
   ]
  },
  {
   "cell_type": "code",
   "execution_count": 25,
   "metadata": {},
   "outputs": [],
   "source": [
    "robust_check = pd.DataFrame()\n",
    "\n",
    "for i in range(10):\n",
    "    rf = RandomForestClassifier(**init_params('cat'))\n",
    "    rf.fit(x.loc[:,sffs_prob_features],y['increase'])\n",
    "    robust_check[i] = pd.Series(rf.predict_proba(nocs)[:,1],index=nocs.index)"
   ]
  },
  {
   "cell_type": "code",
   "execution_count": 26,
   "metadata": {},
   "outputs": [
    {
     "data": {
      "text/plain": [
       "0.013178239865728362"
      ]
     },
     "execution_count": 26,
     "metadata": {},
     "output_type": "execute_result"
    }
   ],
   "source": [
    "mean_diffs = []\n",
    "\n",
    "for i in range(10):\n",
    "    for j in range(i,10):\n",
    "        mean_diffs.append(np.mean(abs(robust_check[i]-robust_check[j])))\n",
    "\n",
    "np.mean(mean_diffs)"
   ]
  }
 ],
 "metadata": {
  "kernelspec": {
   "display_name": "Python 3",
   "language": "python",
   "name": "python3"
  },
  "language_info": {
   "codemirror_mode": {
    "name": "ipython",
    "version": 3
   },
   "file_extension": ".py",
   "mimetype": "text/x-python",
   "name": "python",
   "nbconvert_exporter": "python",
   "pygments_lexer": "ipython3",
   "version": "3.7.0"
  }
 },
 "nbformat": 4,
 "nbformat_minor": 2
}
