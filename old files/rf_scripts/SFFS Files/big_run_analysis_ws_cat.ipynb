{
 "cells": [
  {
   "cell_type": "code",
   "execution_count": 44,
   "metadata": {},
   "outputs": [],
   "source": [
    "import pickle\n",
    "from collections import defaultdict\n",
    "%run utils_rf"
   ]
  },
  {
   "cell_type": "code",
   "execution_count": 45,
   "metadata": {},
   "outputs": [],
   "source": [
    "with open('mae_results_ws_cat2.pkl','rb') as f:\n",
    "    mae_results = pickle.load(f)"
   ]
  },
  {
   "cell_type": "code",
   "execution_count": 46,
   "metadata": {},
   "outputs": [],
   "source": [
    "def get_summaries(results):\n",
    "    scores = defaultdict(list)\n",
    "    for i in range(15):\n",
    "        for run in results[i]:\n",
    "            score = results[i][run]['avg_score']\n",
    "            features = results[i][run]['feature_names']\n",
    "            scores[features].append(score)\n",
    "    score_summaries = defaultdict(dict)\n",
    "    for features in scores:\n",
    "        score_summaries[features]['mean'] = np.mean(scores[features])\n",
    "        score_summaries[features]['std'] = np.std(scores[features])\n",
    "        score_summaries[features]['count'] = len(scores[features])\n",
    "    return score_summaries"
   ]
  },
  {
   "cell_type": "code",
   "execution_count": 47,
   "metadata": {},
   "outputs": [],
   "source": [
    "def find_best(results, n):\n",
    "    score_summaries = get_summaries(results)\n",
    "    best_dict = defaultdict(dict)\n",
    "    for i in range(n):\n",
    "        score_summaries_filtered = defaultdict(dict)\n",
    "        for features in score_summaries:\n",
    "            if score_summaries[features]['count']>i:\n",
    "                score_summaries_filtered[features]=score_summaries[features]\n",
    "        best = -1\n",
    "        best_features = []\n",
    "        for features in score_summaries_filtered:\n",
    "            if score_summaries_filtered[features]['mean']>best:\n",
    "                best = score_summaries_filtered[features]['mean']\n",
    "                best_features = features\n",
    "        best_dict[i + 1]['score'] = best\n",
    "        best_dict[i + 1]['features'] = best_features\n",
    "    return best_dict"
   ]
  },
  {
   "cell_type": "code",
   "execution_count": 48,
   "metadata": {
    "scrolled": true
   },
   "outputs": [
    {
     "data": {
      "text/plain": [
       "defaultdict(dict,\n",
       "            {1: {'score': -0.12084578885992639,\n",
       "              'features': ('value.Critical Thinking',\n",
       "               'value.Service Orientation',\n",
       "               'value.Programming',\n",
       "               'value.Systems Analysis',\n",
       "               'value.Problem Sensitivity',\n",
       "               'value.Time Sharing',\n",
       "               'value.Computers and Electronics',\n",
       "               'work_num_1',\n",
       "               'work_num_3',\n",
       "               'work_num_4',\n",
       "               'work_num_5')},\n",
       "             2: {'score': -0.13892170796039816,\n",
       "              'features': ('value.Technology Design',\n",
       "               'value.Personnel and Human Resources',\n",
       "               'value.Production and Processing',\n",
       "               'value.Engineering and Technology',\n",
       "               'value.Communications and Media',\n",
       "               'work_num_1',\n",
       "               'work_num_5')},\n",
       "             3: {'score': -0.13892170796039816,\n",
       "              'features': ('value.Technology Design',\n",
       "               'value.Personnel and Human Resources',\n",
       "               'value.Production and Processing',\n",
       "               'value.Engineering and Technology',\n",
       "               'value.Communications and Media',\n",
       "               'work_num_1',\n",
       "               'work_num_5')},\n",
       "             4: {'score': -0.13892170796039816,\n",
       "              'features': ('value.Technology Design',\n",
       "               'value.Personnel and Human Resources',\n",
       "               'value.Production and Processing',\n",
       "               'value.Engineering and Technology',\n",
       "               'value.Communications and Media',\n",
       "               'work_num_1',\n",
       "               'work_num_5')},\n",
       "             5: {'score': -0.1525572656985946,\n",
       "              'features': ('value.Technology Design',\n",
       "               'value.Production and Processing',\n",
       "               'value.Communications and Media')},\n",
       "             6: {'score': -0.1525572656985946,\n",
       "              'features': ('value.Technology Design',\n",
       "               'value.Production and Processing',\n",
       "               'value.Communications and Media')}})"
      ]
     },
     "execution_count": 48,
     "metadata": {},
     "output_type": "execute_result"
    }
   ],
   "source": [
    "find_best(mae_results,6)"
   ]
  },
  {
   "cell_type": "code",
   "execution_count": 49,
   "metadata": {},
   "outputs": [],
   "source": [
    "def find_best_in_run(results):\n",
    "    best_dict = defaultdict(dict)\n",
    "    \n",
    "    for i in range(15):\n",
    "        best = -1\n",
    "        best_features = []\n",
    "        for run in results[i]:\n",
    "            score = results[i][run]['avg_score']\n",
    "            features = results[i][run]['feature_names']\n",
    "            if score>best:\n",
    "                best=score\n",
    "                best_features = features\n",
    "        best_dict[i]['score'] = best\n",
    "        best_dict[i]['features'] = best_features \n",
    "    return best_dict"
   ]
  },
  {
   "cell_type": "code",
   "execution_count": 50,
   "metadata": {
    "scrolled": true
   },
   "outputs": [],
   "source": [
    "run_bests = find_best_in_run(mae_results)\n",
    "best_lens = []\n",
    "for i in range(5):\n",
    "    best_lens.append(len(run_bests[i]['features']))"
   ]
  },
  {
   "cell_type": "code",
   "execution_count": 51,
   "metadata": {
    "scrolled": true
   },
   "outputs": [
    {
     "data": {
      "text/plain": [
       "defaultdict(dict,\n",
       "            {0: {'score': -0.12084578885992639,\n",
       "              'features': ('value.Critical Thinking',\n",
       "               'value.Service Orientation',\n",
       "               'value.Programming',\n",
       "               'value.Systems Analysis',\n",
       "               'value.Problem Sensitivity',\n",
       "               'value.Time Sharing',\n",
       "               'value.Computers and Electronics',\n",
       "               'work_num_1',\n",
       "               'work_num_3',\n",
       "               'work_num_4',\n",
       "               'work_num_5')},\n",
       "             1: {'score': -0.12804469223152926,\n",
       "              'features': ('value.Persuasion',\n",
       "               'value.Service Orientation',\n",
       "               'value.Technology Design',\n",
       "               'value.Equipment Selection',\n",
       "               'value.Programming',\n",
       "               'value.Problem Sensitivity',\n",
       "               'value.Speed of Closure',\n",
       "               'value.Selective Attention',\n",
       "               'value.Time Sharing',\n",
       "               'value.Explosive Strength',\n",
       "               'value.Near Vision',\n",
       "               'value.Far Vision',\n",
       "               'value.Speech Recognition',\n",
       "               'value.Customer and Personal Service',\n",
       "               'value.Personnel and Human Resources',\n",
       "               'value.Computers and Electronics',\n",
       "               'value.Design',\n",
       "               'value.Fine Arts',\n",
       "               'value.Law and Government',\n",
       "               'work_num_1',\n",
       "               'work_num_3',\n",
       "               'work_num_5')},\n",
       "             2: {'score': -0.12414647428634518,\n",
       "              'features': ('value.Critical Thinking',\n",
       "               'value.Service Orientation',\n",
       "               'value.Programming',\n",
       "               'value.Systems Analysis',\n",
       "               'value.Problem Sensitivity',\n",
       "               'value.Time Sharing',\n",
       "               'value.Near Vision',\n",
       "               'value.Far Vision',\n",
       "               'value.Computers and Electronics',\n",
       "               'work_num_1',\n",
       "               'work_num_6')},\n",
       "             3: {'score': -0.12419594346883174,\n",
       "              'features': ('value.Service Orientation',\n",
       "               'value.Technology Design',\n",
       "               'value.Programming',\n",
       "               'value.Speed of Closure',\n",
       "               'value.Perceptual Speed',\n",
       "               'value.Dynamic Flexibility',\n",
       "               'value.Near Vision',\n",
       "               'value.Customer and Personal Service',\n",
       "               'value.Computers and Electronics',\n",
       "               'value.Law and Government',\n",
       "               'work_num_1',\n",
       "               'work_num_3',\n",
       "               'work_num_4')},\n",
       "             4: {'score': -0.1330026316804338,\n",
       "              'features': ('value.Complex Problem Solving',\n",
       "               'value.Technology Design',\n",
       "               'value.Equipment Selection',\n",
       "               'value.Installation',\n",
       "               'value.Programming',\n",
       "               'value.Spatial Orientation',\n",
       "               'value.Time Sharing',\n",
       "               'value.Arm-Hand Steadiness',\n",
       "               'value.Finger Dexterity',\n",
       "               'value.Response Orientation',\n",
       "               'value.Explosive Strength',\n",
       "               'value.Dynamic Strength',\n",
       "               'value.Trunk Strength',\n",
       "               'value.Stamina',\n",
       "               'value.Extent Flexibility',\n",
       "               'value.Dynamic Flexibility',\n",
       "               'value.Near Vision',\n",
       "               'value.Night Vision',\n",
       "               'value.Sound Localization',\n",
       "               'value.Customer and Personal Service',\n",
       "               'value.Production and Processing',\n",
       "               'value.Food Production',\n",
       "               'value.Computers and Electronics',\n",
       "               'value.Therapy and Counseling',\n",
       "               'work_num_1',\n",
       "               'work_num_5')},\n",
       "             5: {'score': -0.12716682183940886,\n",
       "              'features': ('value.Service Orientation',\n",
       "               'value.Technology Design',\n",
       "               'value.Equipment Selection',\n",
       "               'value.Speed of Closure',\n",
       "               'value.Perceptual Speed',\n",
       "               'value.Selective Attention',\n",
       "               'value.Time Sharing',\n",
       "               'value.Customer and Personal Service',\n",
       "               'value.Computers and Electronics',\n",
       "               'value.Law and Government',\n",
       "               'work_num_1',\n",
       "               'work_num_3',\n",
       "               'work_num_5')},\n",
       "             6: {'score': -0.12563034305894494,\n",
       "              'features': ('value.Service Orientation',\n",
       "               'value.Technology Design',\n",
       "               'value.Explosive Strength',\n",
       "               'value.Dynamic Flexibility',\n",
       "               'value.Near Vision',\n",
       "               'value.Customer and Personal Service',\n",
       "               'value.Personnel and Human Resources',\n",
       "               'value.Computers and Electronics',\n",
       "               'work_num_1',\n",
       "               'work_num_5')},\n",
       "             7: {'score': -0.12679560880224292,\n",
       "              'features': ('value.Equipment Selection',\n",
       "               'value.Programming',\n",
       "               'value.Problem Sensitivity',\n",
       "               'value.Time Sharing',\n",
       "               'value.Near Vision',\n",
       "               'value.Production and Processing',\n",
       "               'value.Computers and Electronics',\n",
       "               'value.Design',\n",
       "               'value.Chemistry',\n",
       "               'value.Fine Arts',\n",
       "               'work_num_1',\n",
       "               'work_num_3',\n",
       "               'work_num_5')},\n",
       "             8: {'score': -0.12952340055297543,\n",
       "              'features': ('value.Technology Design',\n",
       "               'value.Equipment Selection',\n",
       "               'value.Programming',\n",
       "               'value.Time Sharing',\n",
       "               'value.Customer and Personal Service',\n",
       "               'value.Production and Processing',\n",
       "               'value.Computers and Electronics',\n",
       "               'value.Communications and Media',\n",
       "               'work_num_1',\n",
       "               'work_num_3',\n",
       "               'work_num_5')},\n",
       "             9: {'score': -0.1259066231733105,\n",
       "              'features': ('value.Persuasion',\n",
       "               'value.Programming',\n",
       "               'value.Problem Sensitivity',\n",
       "               'value.Time Sharing',\n",
       "               'value.Finger Dexterity',\n",
       "               'value.Explosive Strength',\n",
       "               'value.Stamina',\n",
       "               'value.Customer and Personal Service',\n",
       "               'value.Personnel and Human Resources',\n",
       "               'value.Production and Processing',\n",
       "               'value.Computers and Electronics',\n",
       "               'value.Design',\n",
       "               'value.Fine Arts',\n",
       "               'work_num_1',\n",
       "               'work_num_3',\n",
       "               'work_num_5')},\n",
       "             10: {'score': -0.1269492180461105,\n",
       "              'features': ('value.Service Orientation',\n",
       "               'value.Technology Design',\n",
       "               'value.Programming',\n",
       "               'value.Problem Sensitivity',\n",
       "               'value.Speed of Closure',\n",
       "               'value.Selective Attention',\n",
       "               'value.Time Sharing',\n",
       "               'value.Explosive Strength',\n",
       "               'value.Near Vision',\n",
       "               'value.Customer and Personal Service',\n",
       "               'value.Personnel and Human Resources',\n",
       "               'value.Computers and Electronics',\n",
       "               'value.Design',\n",
       "               'value.Fine Arts',\n",
       "               'work_num_1',\n",
       "               'work_num_2',\n",
       "               'work_num_3',\n",
       "               'work_num_4',\n",
       "               'work_num_5',\n",
       "               'work_num_6')},\n",
       "             11: {'score': -0.12649804861836583,\n",
       "              'features': ('value.Persuasion',\n",
       "               'value.Service Orientation',\n",
       "               'value.Technology Design',\n",
       "               'value.Programming',\n",
       "               'value.Problem Sensitivity',\n",
       "               'value.Speed of Closure',\n",
       "               'value.Perceptual Speed',\n",
       "               'value.Time Sharing',\n",
       "               'value.Explosive Strength',\n",
       "               'value.Near Vision',\n",
       "               'value.Computers and Electronics',\n",
       "               'value.Design',\n",
       "               'value.Fine Arts',\n",
       "               'value.Law and Government',\n",
       "               'work_num_1',\n",
       "               'work_num_5')},\n",
       "             12: {'score': -0.12788369238816033,\n",
       "              'features': ('value.Persuasion',\n",
       "               'value.Service Orientation',\n",
       "               'value.Technology Design',\n",
       "               'value.Equipment Selection',\n",
       "               'value.Programming',\n",
       "               'value.Problem Sensitivity',\n",
       "               'value.Perceptual Speed',\n",
       "               'value.Selective Attention',\n",
       "               'value.Time Sharing',\n",
       "               'value.Arm-Hand Steadiness',\n",
       "               'value.Near Vision',\n",
       "               'value.Production and Processing',\n",
       "               'value.Computers and Electronics',\n",
       "               'value.Fine Arts',\n",
       "               'value.Law and Government',\n",
       "               'work_num_1',\n",
       "               'work_num_3',\n",
       "               'work_num_5')},\n",
       "             13: {'score': -0.12461609941115885,\n",
       "              'features': ('value.Service Orientation',\n",
       "               'value.Technology Design',\n",
       "               'value.Explosive Strength',\n",
       "               'value.Dynamic Flexibility',\n",
       "               'value.Near Vision',\n",
       "               'value.Peripheral Vision',\n",
       "               'value.Computers and Electronics',\n",
       "               'work_num_1',\n",
       "               'work_num_3',\n",
       "               'work_num_5')},\n",
       "             14: {'score': -0.1297156168205831,\n",
       "              'features': ('value.Service Orientation',\n",
       "               'value.Technology Design',\n",
       "               'value.Equipment Selection',\n",
       "               'value.Installation',\n",
       "               'value.Programming',\n",
       "               'value.Systems Analysis',\n",
       "               'value.Selective Attention',\n",
       "               'value.Time Sharing',\n",
       "               'value.Finger Dexterity',\n",
       "               'value.Explosive Strength',\n",
       "               'value.Customer and Personal Service',\n",
       "               'value.Personnel and Human Resources',\n",
       "               'value.Production and Processing',\n",
       "               'value.Computers and Electronics',\n",
       "               'value.Design',\n",
       "               'value.Law and Government',\n",
       "               'work_num_1',\n",
       "               'work_num_5')}})"
      ]
     },
     "execution_count": 51,
     "metadata": {},
     "output_type": "execute_result"
    }
   ],
   "source": [
    "run_bests"
   ]
  },
  {
   "cell_type": "code",
   "execution_count": 52,
   "metadata": {
    "scrolled": true
   },
   "outputs": [
    {
     "data": {
      "text/plain": [
       "(array([2., 0., 1., 0., 0., 0., 0., 0., 0., 0., 0., 0., 0., 0., 1., 0., 0.,\n",
       "        0., 0., 1.]),\n",
       " array([11.  , 11.75, 12.5 , 13.25, 14.  , 14.75, 15.5 , 16.25, 17.  ,\n",
       "        17.75, 18.5 , 19.25, 20.  , 20.75, 21.5 , 22.25, 23.  , 23.75,\n",
       "        24.5 , 25.25, 26.  ]),\n",
       " <a list of 20 Patch objects>)"
      ]
     },
     "execution_count": 52,
     "metadata": {},
     "output_type": "execute_result"
    },
    {
     "data": {
      "image/png": "[encoded data removed]",
      "text/plain": [
       "<Figure size 432x288 with 1 Axes>"
      ]
     },
     "metadata": {
      "needs_background": "light"
     },
     "output_type": "display_data"
    }
   ],
   "source": [
    "plt.hist(best_lens,bins=20)"
   ]
  },
  {
   "cell_type": "code",
   "execution_count": 53,
   "metadata": {},
   "outputs": [],
   "source": [
    "performance = []\n",
    "for i in range(5):\n",
    "    feature_count_scores = np.zeros(40)\n",
    "    for run in mae_results[i]:\n",
    "        feature_count = len(mae_results[i][run]['feature_idx'])\n",
    "        score = abs(mae_results[i][run]['avg_score'])\n",
    "        if score > feature_count_scores[feature_count-1]:\n",
    "            feature_count_scores[feature_count-1]=score\n",
    "    performance.append(feature_count_scores)"
   ]
  },
  {
   "cell_type": "code",
   "execution_count": 54,
   "metadata": {
    "scrolled": true
   },
   "outputs": [
    {
     "data": {
      "image/png": "[encoded data removed]",
      "text/plain": [
       "<Figure size 432x288 with 1 Axes>"
      ]
     },
     "metadata": {
      "needs_background": "light"
     },
     "output_type": "display_data"
    }
   ],
   "source": [
    "performance = pd.DataFrame(performance)\n",
    "avg_score = performance.mean(axis=0)\n",
    "std_score = performance.std(axis=0)\n",
    "plt.plot(avg_score)\n",
    "plt.fill_between(range(0,40),avg_score-std_score,avg_score+std_score,alpha=0.5)\n",
    "plt.show()"
   ]
  },
  {
   "cell_type": "code",
   "execution_count": 55,
   "metadata": {
    "scrolled": true
   },
   "outputs": [],
   "source": [
    "#consitency in bests!\n",
    "all_best_features = np.asarray(run_bests[0]['features'])\n",
    "for i in range(1,15):\n",
    "    new = np.asarray(run_bests[i]['features'])\n",
    "    all_best_features = np.append(all_best_features,new)"
   ]
  },
  {
   "cell_type": "code",
   "execution_count": 56,
   "metadata": {
    "scrolled": true
   },
   "outputs": [
    {
     "data": {
      "text/plain": [
       "value.Computers and Electronics        15\n",
       "work_num_1                             15\n",
       "work_num_5                             13\n",
       "value.Time Sharing                     12\n",
       "value.Programming                      12\n",
       "value.Technology Design                11\n",
       "value.Service Orientation              11\n",
       "value.Near Vision                      10\n",
       "work_num_3                             10\n",
       "value.Customer and Personal Service     9\n",
       "value.Explosive Strength                8\n",
       "value.Problem Sensitivity               8\n",
       "value.Equipment Selection               7\n",
       "value.Fine Arts                         6\n",
       "value.Production and Processing         6\n",
       "value.Law and Government                6\n",
       "value.Design                            6\n",
       "value.Selective Attention               5\n",
       "value.Speed of Closure                  5\n",
       "value.Personnel and Human Resources     5\n",
       "value.Dynamic Flexibility               4\n",
       "value.Persuasion                        4\n",
       "value.Perceptual Speed                  4\n",
       "value.Systems Analysis                  3\n",
       "value.Finger Dexterity                  3\n",
       "work_num_4                              3\n",
       "value.Installation                      2\n",
       "value.Far Vision                        2\n",
       "value.Critical Thinking                 2\n",
       "work_num_6                              2\n",
       "value.Arm-Hand Steadiness               2\n",
       "value.Stamina                           2\n",
       "value.Chemistry                         1\n",
       "value.Communications and Media          1\n",
       "value.Complex Problem Solving           1\n",
       "work_num_2                              1\n",
       "value.Trunk Strength                    1\n",
       "value.Therapy and Counseling            1\n",
       "value.Food Production                   1\n",
       "value.Night Vision                      1\n",
       "value.Dynamic Strength                  1\n",
       "value.Spatial Orientation               1\n",
       "value.Sound Localization                1\n",
       "value.Extent Flexibility                1\n",
       "value.Response Orientation              1\n",
       "value.Peripheral Vision                 1\n",
       "value.Speech Recognition                1\n",
       "dtype: int64"
      ]
     },
     "execution_count": 56,
     "metadata": {},
     "output_type": "execute_result"
    }
   ],
   "source": [
    "unique, counts = np.unique(all_best_features, return_counts=True)\n",
    "best_feature_counts = dict(zip(unique, counts))\n",
    "pd.Series(best_feature_counts).sort_values(ascending=False)"
   ]
  },
  {
   "cell_type": "code",
   "execution_count": 57,
   "metadata": {},
   "outputs": [],
   "source": [
    "chosen = ['value.Critical Thinking',\n",
    "               'value.Service Orientation',\n",
    "               'value.Equipment Selection',\n",
    "               'value.Programming',\n",
    "               'value.Arm-Hand Steadiness',\n",
    "               'value.Computers and Electronics',\n",
    "               'work_num_1',\n",
    "               'work_num_3',\n",
    "               'work_num_5']"
   ]
  },
  {
   "cell_type": "code",
   "execution_count": 58,
   "metadata": {
    "scrolled": true
   },
   "outputs": [
    {
     "name": "stdout",
     "output_type": "stream",
     "text": [
      "value.Critical Thinking\n",
      "2\n",
      "value.Service Orientation\n",
      "11\n",
      "value.Equipment Selection\n",
      "7\n",
      "value.Programming\n",
      "12\n",
      "value.Arm-Hand Steadiness\n",
      "2\n",
      "value.Computers and Electronics\n",
      "15\n",
      "work_num_1\n",
      "15\n",
      "work_num_3\n",
      "10\n",
      "work_num_5\n",
      "13\n"
     ]
    }
   ],
   "source": [
    "for feature in chosen:\n",
    "    print(feature)\n",
    "    print(best_feature_counts[feature])"
   ]
  }
 ],
 "metadata": {
  "kernelspec": {
   "display_name": "Python 3",
   "language": "python",
   "name": "python3"
  },
  "language_info": {
   "codemirror_mode": {
    "name": "ipython",
    "version": 3
   },
   "file_extension": ".py",
   "mimetype": "text/x-python",
   "name": "python",
   "nbconvert_exporter": "python",
   "pygments_lexer": "ipython3",
   "version": "3.7.3"
  }
 },
 "nbformat": 4,
 "nbformat_minor": 2
}
