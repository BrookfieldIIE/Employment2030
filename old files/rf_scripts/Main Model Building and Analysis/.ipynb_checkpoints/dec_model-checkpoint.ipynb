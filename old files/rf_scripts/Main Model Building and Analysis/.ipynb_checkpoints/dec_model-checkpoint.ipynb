{
 "cells": [
  {
   "cell_type": "code",
   "execution_count": 1,
   "metadata": {
    "scrolled": false
   },
   "outputs": [],
   "source": [
    "%run ../utils_rf.py\n",
    "import csv"
   ]
  },
  {
   "cell_type": "code",
   "execution_count": 4,
   "metadata": {},
   "outputs": [],
   "source": [
    "#read training data\n",
    "file = \"../../../tables/model_input/noc_answers.csv\"\n",
    "x, x_agg, y, y_agg, x_noclvl, y_noclvl = data_proccess(file,True)\n",
    "\n",
    "#grab just the noc codes to cut out test nocs from main noc table\n",
    "train_nocs = pd.read_csv(file,usecols=['noc_code']).drop_duplicates()"
   ]
  },
  {
   "cell_type": "code",
   "execution_count": 5,
   "metadata": {},
   "outputs": [],
   "source": [
    "#read full noc set\n",
    "file = \"../../../tables/model_input/noc_scores.csv\"\n",
    "nocs = pd.read_csv(file,index_col=['noc'])\n",
    "nocs.sort_index(inplace=True)\n",
    "nocs.drop(['Unnamed: 0'],axis=1,inplace=True)\n",
    "nocs = np.round(nocs).astype(int)\n",
    "nocs.drop(train_nocs['noc_code'],inplace=True)"
   ]
  },
  {
   "cell_type": "markdown",
   "metadata": {},
   "source": [
    "*Test using Chosen Model in this script before full training and prediction*\n",
    "\n",
    "Also I should make the feature be read from a file"
   ]
  },
  {
   "cell_type": "code",
   "execution_count": 6,
   "metadata": {},
   "outputs": [],
   "source": [
    "sffs_prob_features = ('value.Critical Thinking',\n",
    "               'value.Systems Evaluation',\n",
    "               'value.Fluency of Ideas',\n",
    "               'value.Category Flexibility',\n",
    "               'value.Memorization',\n",
    "               'value.Flexibility of Closure',\n",
    "               'value.Selective Attention',\n",
    "               'value.Customer and Personal Service',\n",
    "               'value.Computers and Electronics',\n",
    "               'value.Chemistry')"
   ]
  },
  {
   "cell_type": "code",
   "execution_count": 7,
   "metadata": {},
   "outputs": [],
   "source": [
    "means = []\n",
    "models = []\n",
    "for i in range(10):    \n",
    "    dec_prob_sfs = run_k_fold(x.loc[:,sffs_prob_features],y['decrease'],init_params('cat'),x.index,True,'pred_probs')\n",
    "    means.append(abs(dec_prob_sfs.subtract(y_agg['decrease'],axis=0)).mean())\n",
    "    models.append(dec_prob_sfs)"
   ]
  },
  {
   "cell_type": "code",
   "execution_count": 8,
   "metadata": {},
   "outputs": [],
   "source": [
    "dec_prob_sfs = models[np.argmin(means)].copy()"
   ]
  },
  {
   "cell_type": "code",
   "execution_count": 9,
   "metadata": {},
   "outputs": [
    {
     "data": {
      "text/html": [
       "<div>\n",
       "<style scoped>\n",
       "    .dataframe tbody tr th:only-of-type {\n",
       "        vertical-align: middle;\n",
       "    }\n",
       "\n",
       "    .dataframe tbody tr th {\n",
       "        vertical-align: top;\n",
       "    }\n",
       "\n",
       "    .dataframe thead th {\n",
       "        text-align: right;\n",
       "    }\n",
       "</style>\n",
       "<table border=\"1\" class=\"dataframe\">\n",
       "  <thead>\n",
       "    <tr style=\"text-align: right;\">\n",
       "      <th></th>\n",
       "      <th>0</th>\n",
       "    </tr>\n",
       "    <tr>\n",
       "      <th>noc</th>\n",
       "      <th></th>\n",
       "    </tr>\n",
       "  </thead>\n",
       "  <tbody>\n",
       "    <tr>\n",
       "      <th>Accommodation service managers</th>\n",
       "      <td>0.107457</td>\n",
       "    </tr>\n",
       "    <tr>\n",
       "      <th>Accounting technicians and bookkeepers</th>\n",
       "      <td>0.573377</td>\n",
       "    </tr>\n",
       "    <tr>\n",
       "      <th>Air pilots, flight engineers and flying instructors</th>\n",
       "      <td>0.131941</td>\n",
       "    </tr>\n",
       "    <tr>\n",
       "      <th>Air transport ramp attendants</th>\n",
       "      <td>0.607239</td>\n",
       "    </tr>\n",
       "    <tr>\n",
       "      <th>Airline ticket and service agents</th>\n",
       "      <td>0.217998</td>\n",
       "    </tr>\n",
       "    <tr>\n",
       "      <th>Carpenters</th>\n",
       "      <td>0.371778</td>\n",
       "    </tr>\n",
       "    <tr>\n",
       "      <th>Central control and process operators, petroleum, gas and chemical processing</th>\n",
       "      <td>0.644752</td>\n",
       "    </tr>\n",
       "    <tr>\n",
       "      <th>Chefs</th>\n",
       "      <td>0.006522</td>\n",
       "    </tr>\n",
       "    <tr>\n",
       "      <th>Computer network technicians</th>\n",
       "      <td>0.169657</td>\n",
       "    </tr>\n",
       "    <tr>\n",
       "      <th>Cooks</th>\n",
       "      <td>0.285461</td>\n",
       "    </tr>\n",
       "    <tr>\n",
       "      <th>Correctional service officers</th>\n",
       "      <td>0.409165</td>\n",
       "    </tr>\n",
       "    <tr>\n",
       "      <th>Court clerks</th>\n",
       "      <td>0.471494</td>\n",
       "    </tr>\n",
       "    <tr>\n",
       "      <th>Delivery and courier service drivers</th>\n",
       "      <td>0.521928</td>\n",
       "    </tr>\n",
       "    <tr>\n",
       "      <th>Electrical mechanics</th>\n",
       "      <td>0.178490</td>\n",
       "    </tr>\n",
       "    <tr>\n",
       "      <th>Financial managers</th>\n",
       "      <td>0.264743</td>\n",
       "    </tr>\n",
       "    <tr>\n",
       "      <th>Fish and seafood plant workers</th>\n",
       "      <td>0.465511</td>\n",
       "    </tr>\n",
       "    <tr>\n",
       "      <th>Fishermen/women</th>\n",
       "      <td>0.838083</td>\n",
       "    </tr>\n",
       "    <tr>\n",
       "      <th>Forestry technologists and technicians</th>\n",
       "      <td>0.384265</td>\n",
       "    </tr>\n",
       "    <tr>\n",
       "      <th>Furniture and fixture assemblers and inspectors</th>\n",
       "      <td>0.820427</td>\n",
       "    </tr>\n",
       "    <tr>\n",
       "      <th>General farm workers</th>\n",
       "      <td>0.577755</td>\n",
       "    </tr>\n",
       "    <tr>\n",
       "      <th>Graphic designers and illustrators</th>\n",
       "      <td>0.224072</td>\n",
       "    </tr>\n",
       "    <tr>\n",
       "      <th>Health policy researchers, consultants and program officers</th>\n",
       "      <td>0.122008</td>\n",
       "    </tr>\n",
       "    <tr>\n",
       "      <th>Heavy-duty equipment mechanics</th>\n",
       "      <td>0.193515</td>\n",
       "    </tr>\n",
       "    <tr>\n",
       "      <th>Industrial and manufacturing engineers</th>\n",
       "      <td>0.193308</td>\n",
       "    </tr>\n",
       "    <tr>\n",
       "      <th>Instructors of persons with disabilities</th>\n",
       "      <td>0.298337</td>\n",
       "    </tr>\n",
       "    <tr>\n",
       "      <th>Labourers in food, beverage and associated products processing</th>\n",
       "      <td>0.513081</td>\n",
       "    </tr>\n",
       "    <tr>\n",
       "      <th>Lawyers and Quebec notaries</th>\n",
       "      <td>0.237584</td>\n",
       "    </tr>\n",
       "    <tr>\n",
       "      <th>Light duty cleaners</th>\n",
       "      <td>0.135363</td>\n",
       "    </tr>\n",
       "    <tr>\n",
       "      <th>Managers in agriculture</th>\n",
       "      <td>0.530673</td>\n",
       "    </tr>\n",
       "    <tr>\n",
       "      <th>Medical administrative assistants</th>\n",
       "      <td>0.366914</td>\n",
       "    </tr>\n",
       "    <tr>\n",
       "      <th>Oil and gas well drillers, servicers, testers and related workers</th>\n",
       "      <td>0.359599</td>\n",
       "    </tr>\n",
       "    <tr>\n",
       "      <th>Operators and attendants in amusement, recreation and sport</th>\n",
       "      <td>0.247088</td>\n",
       "    </tr>\n",
       "    <tr>\n",
       "      <th>Painters and decorators (except interior decorators)</th>\n",
       "      <td>0.327376</td>\n",
       "    </tr>\n",
       "    <tr>\n",
       "      <th>Paramedical occupations</th>\n",
       "      <td>0.025100</td>\n",
       "    </tr>\n",
       "    <tr>\n",
       "      <th>Plastics processing machine operators</th>\n",
       "      <td>0.888744</td>\n",
       "    </tr>\n",
       "    <tr>\n",
       "      <th>Real estate agents and salespersons</th>\n",
       "      <td>0.391074</td>\n",
       "    </tr>\n",
       "    <tr>\n",
       "      <th>Registered nurses and registered psychiatric nurses</th>\n",
       "      <td>0.009507</td>\n",
       "    </tr>\n",
       "    <tr>\n",
       "      <th>Restaurant and food service managers</th>\n",
       "      <td>0.186287</td>\n",
       "    </tr>\n",
       "    <tr>\n",
       "      <th>Senior managers - financial, communications and other business services</th>\n",
       "      <td>0.323959</td>\n",
       "    </tr>\n",
       "    <tr>\n",
       "      <th>Shippers and receivers</th>\n",
       "      <td>0.596873</td>\n",
       "    </tr>\n",
       "    <tr>\n",
       "      <th>Steamfitters, pipefitters and sprinkler system installers</th>\n",
       "      <td>0.225310</td>\n",
       "    </tr>\n",
       "    <tr>\n",
       "      <th>Store shelf stockers, clerks and order fillers</th>\n",
       "      <td>0.484110</td>\n",
       "    </tr>\n",
       "    <tr>\n",
       "      <th>Supervisors, petroleum, gas and chemical processing and utilities</th>\n",
       "      <td>0.352087</td>\n",
       "    </tr>\n",
       "    <tr>\n",
       "      <th>Technical sales specialists - wholesale trade</th>\n",
       "      <td>0.151907</td>\n",
       "    </tr>\n",
       "    <tr>\n",
       "      <th>Underground production and development miners</th>\n",
       "      <td>0.540474</td>\n",
       "    </tr>\n",
       "  </tbody>\n",
       "</table>\n",
       "</div>"
      ],
      "text/plain": [
       "                                                           0\n",
       "noc                                                         \n",
       "Accommodation service managers                      0.107457\n",
       "Accounting technicians and bookkeepers              0.573377\n",
       "Air pilots, flight engineers and flying instruc...  0.131941\n",
       "Air transport ramp attendants                       0.607239\n",
       "Airline ticket and service agents                   0.217998\n",
       "Carpenters                                          0.371778\n",
       "Central control and process operators, petroleu...  0.644752\n",
       "Chefs                                               0.006522\n",
       "Computer network technicians                        0.169657\n",
       "Cooks                                               0.285461\n",
       "Correctional service officers                       0.409165\n",
       "Court clerks                                        0.471494\n",
       "Delivery and courier service drivers                0.521928\n",
       "Electrical mechanics                                0.178490\n",
       "Financial managers                                  0.264743\n",
       "Fish and seafood plant workers                      0.465511\n",
       "Fishermen/women                                     0.838083\n",
       "Forestry technologists and technicians              0.384265\n",
       "Furniture and fixture assemblers and inspectors     0.820427\n",
       "General farm workers                                0.577755\n",
       "Graphic designers and illustrators                  0.224072\n",
       "Health policy researchers, consultants and prog...  0.122008\n",
       "Heavy-duty equipment mechanics                      0.193515\n",
       "Industrial and manufacturing engineers              0.193308\n",
       "Instructors of persons with disabilities            0.298337\n",
       "Labourers in food, beverage and associated prod...  0.513081\n",
       "Lawyers and Quebec notaries                         0.237584\n",
       "Light duty cleaners                                 0.135363\n",
       "Managers in agriculture                             0.530673\n",
       "Medical administrative assistants                   0.366914\n",
       "Oil and gas well drillers, servicers, testers a...  0.359599\n",
       "Operators and attendants in amusement, recreati...  0.247088\n",
       "Painters and decorators (except interior decora...  0.327376\n",
       "Paramedical occupations                             0.025100\n",
       "Plastics processing machine operators               0.888744\n",
       "Real estate agents and salespersons                 0.391074\n",
       "Registered nurses and registered psychiatric nu...  0.009507\n",
       "Restaurant and food service managers                0.186287\n",
       "Senior managers - financial, communications and...  0.323959\n",
       "Shippers and receivers                              0.596873\n",
       "Steamfitters, pipefitters and sprinkler system ...  0.225310\n",
       "Store shelf stockers, clerks and order fillers      0.484110\n",
       "Supervisors, petroleum, gas and chemical proces...  0.352087\n",
       "Technical sales specialists - wholesale trade       0.151907\n",
       "Underground production and development miners       0.540474"
      ]
     },
     "execution_count": 9,
     "metadata": {},
     "output_type": "execute_result"
    }
   ],
   "source": [
    "dec_prob_sfs.to_csv('')"
   ]
  },
  {
   "cell_type": "code",
   "execution_count": 14,
   "metadata": {
    "scrolled": false
   },
   "outputs": [
    {
     "data": {
      "text/plain": [
       "0.1257420353904261"
      ]
     },
     "execution_count": 14,
     "metadata": {},
     "output_type": "execute_result"
    }
   ],
   "source": [
    "np.mean(means)"
   ]
  },
  {
   "cell_type": "code",
   "execution_count": 15,
   "metadata": {
    "scrolled": false
   },
   "outputs": [
    {
     "data": {
      "text/plain": [
       "0.0011846336287333582"
      ]
     },
     "execution_count": 15,
     "metadata": {},
     "output_type": "execute_result"
    }
   ],
   "source": [
    "np.std(means)"
   ]
  },
  {
   "cell_type": "code",
   "execution_count": 16,
   "metadata": {
    "scrolled": true
   },
   "outputs": [
    {
     "data": {
      "image/png": "[encoded data removed]",
      "text/plain": [
       "<Figure size 432x288 with 1 Axes>"
      ]
     },
     "metadata": {
      "needs_background": "light"
     },
     "output_type": "display_data"
    }
   ],
   "source": [
    "bins=np.histogram(np.hstack((y_noclvl['decrease'],dec_prob_sfs[0])), bins=20)[1]\n",
    "\n",
    "fig, ax = plt.subplots()\n",
    "plt.hist(y_noclvl['decrease'],bins, alpha = 0.5, edgecolor = 'black',label='True')\n",
    "plt.hist(dec_prob_sfs[0],bins, alpha = 0.25, edgecolor = 'black',label='Pred')\n",
    "plt.legend(loc='upper right')\n",
    "ax.set_ylabel('Count')\n",
    "ax.set_title('Distibution True vs Predicted Decrease Portions - Decrease')\n",
    "\n",
    "plt.savefig('true vs pred error - dec.png')\n",
    "plt.show()"
   ]
  },
  {
   "cell_type": "code",
   "execution_count": 17,
   "metadata": {
    "scrolled": false
   },
   "outputs": [
    {
     "data": {
      "text/html": [
       "<div>\n",
       "<style scoped>\n",
       "    .dataframe tbody tr th:only-of-type {\n",
       "        vertical-align: middle;\n",
       "    }\n",
       "\n",
       "    .dataframe tbody tr th {\n",
       "        vertical-align: top;\n",
       "    }\n",
       "\n",
       "    .dataframe thead th {\n",
       "        text-align: right;\n",
       "    }\n",
       "</style>\n",
       "<table border=\"1\" class=\"dataframe\">\n",
       "  <thead>\n",
       "    <tr style=\"text-align: right;\">\n",
       "      <th></th>\n",
       "      <th>pred_increase</th>\n",
       "      <th>pred_decrease</th>\n",
       "    </tr>\n",
       "  </thead>\n",
       "  <tbody>\n",
       "    <tr>\n",
       "      <th>true_increase</th>\n",
       "      <td>9</td>\n",
       "      <td>5</td>\n",
       "    </tr>\n",
       "    <tr>\n",
       "      <th>true_decrease</th>\n",
       "      <td>2</td>\n",
       "      <td>29</td>\n",
       "    </tr>\n",
       "  </tbody>\n",
       "</table>\n",
       "</div>"
      ],
      "text/plain": [
       "               pred_increase  pred_decrease\n",
       "true_increase              9              5\n",
       "true_decrease              2             29"
      ]
     },
     "execution_count": 17,
     "metadata": {},
     "output_type": "execute_result"
    }
   ],
   "source": [
    "dec_prob_confusion = confusion_matrix(dec_prob_sfs[0],y_noclvl['decrease'],True)\n",
    "dec_prob_confusion"
   ]
  },
  {
   "cell_type": "code",
   "execution_count": 18,
   "metadata": {},
   "outputs": [
    {
     "data": {
      "text/plain": [
       "0.8444444444444444"
      ]
     },
     "execution_count": 18,
     "metadata": {},
     "output_type": "execute_result"
    }
   ],
   "source": [
    "correct_sum = 0\n",
    "for i in range(2):\n",
    "    correct_sum+=dec_prob_confusion.iloc[i,i]\n",
    "correct_sum/45"
   ]
  },
  {
   "cell_type": "code",
   "execution_count": 19,
   "metadata": {
    "scrolled": false
   },
   "outputs": [
    {
     "data": {
      "text/html": [
       "<div>\n",
       "<style scoped>\n",
       "    .dataframe tbody tr th:only-of-type {\n",
       "        vertical-align: middle;\n",
       "    }\n",
       "\n",
       "    .dataframe tbody tr th {\n",
       "        vertical-align: top;\n",
       "    }\n",
       "\n",
       "    .dataframe thead th {\n",
       "        text-align: right;\n",
       "    }\n",
       "</style>\n",
       "<table border=\"1\" class=\"dataframe\">\n",
       "  <thead>\n",
       "    <tr style=\"text-align: right;\">\n",
       "      <th></th>\n",
       "      <th>pred&gt;=0.7</th>\n",
       "      <th>0.5&lt;=pred&lt;0.7</th>\n",
       "      <th>0.3&lt;=pred&lt;0.5</th>\n",
       "      <th>pred&lt;0.3</th>\n",
       "    </tr>\n",
       "  </thead>\n",
       "  <tbody>\n",
       "    <tr>\n",
       "      <th>truth&gt;=0.7</th>\n",
       "      <td>3</td>\n",
       "      <td>1</td>\n",
       "      <td>1</td>\n",
       "      <td>1</td>\n",
       "    </tr>\n",
       "    <tr>\n",
       "      <th>0.5&lt;=truth&lt;0.7</th>\n",
       "      <td>0</td>\n",
       "      <td>5</td>\n",
       "      <td>3</td>\n",
       "      <td>0</td>\n",
       "    </tr>\n",
       "    <tr>\n",
       "      <th>0.3&lt;=truth&lt;0.5</th>\n",
       "      <td>0</td>\n",
       "      <td>2</td>\n",
       "      <td>4</td>\n",
       "      <td>1</td>\n",
       "    </tr>\n",
       "    <tr>\n",
       "      <th>truth&lt;0.3</th>\n",
       "      <td>0</td>\n",
       "      <td>0</td>\n",
       "      <td>5</td>\n",
       "      <td>19</td>\n",
       "    </tr>\n",
       "  </tbody>\n",
       "</table>\n",
       "</div>"
      ],
      "text/plain": [
       "                pred>=0.7  0.5<=pred<0.7  0.3<=pred<0.5  pred<0.3\n",
       "truth>=0.7              3              1              1         1\n",
       "0.5<=truth<0.7          0              5              3         0\n",
       "0.3<=truth<0.5          0              2              4         1\n",
       "truth<0.3               0              0              5        19"
      ]
     },
     "execution_count": 19,
     "metadata": {},
     "output_type": "execute_result"
    }
   ],
   "source": [
    "dec_prob_confusion = confusion_matrix(dec_prob_sfs[0],y_noclvl['decrease'],3)\n",
    "dec_prob_confusion"
   ]
  },
  {
   "cell_type": "code",
   "execution_count": 20,
   "metadata": {},
   "outputs": [
    {
     "data": {
      "text/plain": [
       "0.6888888888888889"
      ]
     },
     "execution_count": 20,
     "metadata": {},
     "output_type": "execute_result"
    }
   ],
   "source": [
    "correct_sum = 0\n",
    "for i in range(4):\n",
    "    correct_sum+=dec_prob_confusion.iloc[i,i]\n",
    "correct_sum/45"
   ]
  },
  {
   "cell_type": "code",
   "execution_count": 21,
   "metadata": {
    "scrolled": false
   },
   "outputs": [
    {
     "data": {
      "image/png": "[encoded data removed]",
      "text/plain": [
       "<Figure size 432x288 with 1 Axes>"
      ]
     },
     "metadata": {
      "needs_background": "light"
     },
     "output_type": "display_data"
    }
   ],
   "source": [
    "true_labels = y_noclvl['decrease'].where(y_noclvl['decrease']>=0.5,0).where(y_noclvl['decrease']<0.5,1)\n",
    "fpr, tpr, thresholds = roc_curve(true_labels,dec_prob_sfs[0])\n",
    "roc_auc = auc(fpr, tpr)\n",
    "plt.plot(fpr, tpr, lw=1,label='ROC fold %d (AUC = %0.2f)' % (5, roc_auc))\n",
    "plt.xlim([-0.05, 1.05])\n",
    "plt.ylim([-0.05, 1.05])\n",
    "plt.xlabel('False Positive Rate')\n",
    "plt.ylabel('True Positive Rate')\n",
    "plt.title('Receiver Operating Characteristic - Decrease Model')\n",
    "plt.legend(loc=\"lower right\")\n",
    "plt.savefig('roc_dec.png')\n",
    "plt.show()"
   ]
  },
  {
   "cell_type": "markdown",
   "metadata": {},
   "source": [
    "Next we will see what this model is bad at predicting"
   ]
  },
  {
   "cell_type": "code",
   "execution_count": 46,
   "metadata": {
    "scrolled": true
   },
   "outputs": [],
   "source": [
    "dec_prob_sfs_acc = abs(dec_prob_sfs.subtract(y_noclvl['decrease'],axis=0))\n",
    "dec_prob_sfs_acc['true'] = y_noclvl['decrease']\n",
    "dec_prob_sfs_acc['pred'] = dec_prob_sfs\n",
    "dec_prob_sfs_acc.rename(columns={0: \"abs_error\"},inplace=True)\n",
    "dec_prob_sfs_acc.sort_values('abs_error',ascending=False,inplace=True)"
   ]
  },
  {
   "cell_type": "code",
   "execution_count": 47,
   "metadata": {
    "scrolled": true
   },
   "outputs": [
    {
     "data": {
      "text/html": [
       "<div>\n",
       "<style scoped>\n",
       "    .dataframe tbody tr th:only-of-type {\n",
       "        vertical-align: middle;\n",
       "    }\n",
       "\n",
       "    .dataframe tbody tr th {\n",
       "        vertical-align: top;\n",
       "    }\n",
       "\n",
       "    .dataframe thead th {\n",
       "        text-align: right;\n",
       "    }\n",
       "</style>\n",
       "<table border=\"1\" class=\"dataframe\">\n",
       "  <thead>\n",
       "    <tr style=\"text-align: right;\">\n",
       "      <th></th>\n",
       "      <th>abs_error</th>\n",
       "      <th>true</th>\n",
       "      <th>pred</th>\n",
       "    </tr>\n",
       "    <tr>\n",
       "      <th>noc</th>\n",
       "      <th></th>\n",
       "      <th></th>\n",
       "      <th></th>\n",
       "    </tr>\n",
       "  </thead>\n",
       "  <tbody>\n",
       "    <tr>\n",
       "      <th>Airline ticket and service agents</th>\n",
       "      <td>0.480144</td>\n",
       "      <td>0.700000</td>\n",
       "      <td>0.219856</td>\n",
       "    </tr>\n",
       "    <tr>\n",
       "      <th>Oil and gas well drillers, servicers, testers and related workers</th>\n",
       "      <td>0.411883</td>\n",
       "      <td>0.761905</td>\n",
       "      <td>0.350021</td>\n",
       "    </tr>\n",
       "    <tr>\n",
       "      <th>Cooks</th>\n",
       "      <td>0.286555</td>\n",
       "      <td>0.000000</td>\n",
       "      <td>0.286555</td>\n",
       "    </tr>\n",
       "    <tr>\n",
       "      <th>Delivery and courier service drivers</th>\n",
       "      <td>0.230716</td>\n",
       "      <td>0.266667</td>\n",
       "      <td>0.497383</td>\n",
       "    </tr>\n",
       "    <tr>\n",
       "      <th>Graphic designers and illustrators</th>\n",
       "      <td>0.228716</td>\n",
       "      <td>0.000000</td>\n",
       "      <td>0.228716</td>\n",
       "    </tr>\n",
       "    <tr>\n",
       "      <th>Financial managers</th>\n",
       "      <td>0.220131</td>\n",
       "      <td>0.479339</td>\n",
       "      <td>0.259208</td>\n",
       "    </tr>\n",
       "    <tr>\n",
       "      <th>Heavy-duty equipment mechanics</th>\n",
       "      <td>0.200986</td>\n",
       "      <td>0.000000</td>\n",
       "      <td>0.200986</td>\n",
       "    </tr>\n",
       "    <tr>\n",
       "      <th>Carpenters</th>\n",
       "      <td>0.171319</td>\n",
       "      <td>0.200000</td>\n",
       "      <td>0.371319</td>\n",
       "    </tr>\n",
       "    <tr>\n",
       "      <th>Painters and decorators (except interior decorators)</th>\n",
       "      <td>0.166681</td>\n",
       "      <td>0.105263</td>\n",
       "      <td>0.271944</td>\n",
       "    </tr>\n",
       "    <tr>\n",
       "      <th>Shippers and receivers</th>\n",
       "      <td>0.151187</td>\n",
       "      <td>0.733333</td>\n",
       "      <td>0.582147</td>\n",
       "    </tr>\n",
       "  </tbody>\n",
       "</table>\n",
       "</div>"
      ],
      "text/plain": [
       "                                                    abs_error      true  \\\n",
       "noc                                                                       \n",
       "Airline ticket and service agents                    0.480144  0.700000   \n",
       "Oil and gas well drillers, servicers, testers a...   0.411883  0.761905   \n",
       "Cooks                                                0.286555  0.000000   \n",
       "Delivery and courier service drivers                 0.230716  0.266667   \n",
       "Graphic designers and illustrators                   0.228716  0.000000   \n",
       "Financial managers                                   0.220131  0.479339   \n",
       "Heavy-duty equipment mechanics                       0.200986  0.000000   \n",
       "Carpenters                                           0.171319  0.200000   \n",
       "Painters and decorators (except interior decora...   0.166681  0.105263   \n",
       "Shippers and receivers                               0.151187  0.733333   \n",
       "\n",
       "                                                        pred  \n",
       "noc                                                           \n",
       "Airline ticket and service agents                   0.219856  \n",
       "Oil and gas well drillers, servicers, testers a...  0.350021  \n",
       "Cooks                                               0.286555  \n",
       "Delivery and courier service drivers                0.497383  \n",
       "Graphic designers and illustrators                  0.228716  \n",
       "Financial managers                                  0.259208  \n",
       "Heavy-duty equipment mechanics                      0.200986  \n",
       "Carpenters                                          0.371319  \n",
       "Painters and decorators (except interior decora...  0.271944  \n",
       "Shippers and receivers                              0.582147  "
      ]
     },
     "execution_count": 47,
     "metadata": {},
     "output_type": "execute_result"
    }
   ],
   "source": [
    "#the highest absolute error\n",
    "dec_prob_sfs_acc[0:10]"
   ]
  },
  {
   "cell_type": "code",
   "execution_count": 48,
   "metadata": {
    "scrolled": false
   },
   "outputs": [
    {
     "data": {
      "text/html": [
       "<div>\n",
       "<style scoped>\n",
       "    .dataframe tbody tr th:only-of-type {\n",
       "        vertical-align: middle;\n",
       "    }\n",
       "\n",
       "    .dataframe tbody tr th {\n",
       "        vertical-align: top;\n",
       "    }\n",
       "\n",
       "    .dataframe thead th {\n",
       "        text-align: right;\n",
       "    }\n",
       "</style>\n",
       "<table border=\"1\" class=\"dataframe\">\n",
       "  <thead>\n",
       "    <tr style=\"text-align: right;\">\n",
       "      <th></th>\n",
       "      <th>abs_error</th>\n",
       "      <th>true</th>\n",
       "      <th>pred</th>\n",
       "    </tr>\n",
       "    <tr>\n",
       "      <th>noc</th>\n",
       "      <th></th>\n",
       "      <th></th>\n",
       "      <th></th>\n",
       "    </tr>\n",
       "  </thead>\n",
       "  <tbody>\n",
       "    <tr>\n",
       "      <th>Airline ticket and service agents</th>\n",
       "      <td>0.480144</td>\n",
       "      <td>0.700000</td>\n",
       "      <td>0.219856</td>\n",
       "    </tr>\n",
       "    <tr>\n",
       "      <th>Oil and gas well drillers, servicers, testers and related workers</th>\n",
       "      <td>0.411883</td>\n",
       "      <td>0.761905</td>\n",
       "      <td>0.350021</td>\n",
       "    </tr>\n",
       "    <tr>\n",
       "      <th>Air transport ramp attendants</th>\n",
       "      <td>0.150371</td>\n",
       "      <td>0.450000</td>\n",
       "      <td>0.600371</td>\n",
       "    </tr>\n",
       "    <tr>\n",
       "      <th>Store shelf stockers, clerks and order fillers</th>\n",
       "      <td>0.138003</td>\n",
       "      <td>0.600000</td>\n",
       "      <td>0.461997</td>\n",
       "    </tr>\n",
       "    <tr>\n",
       "      <th>Accounting technicians and bookkeepers</th>\n",
       "      <td>0.092512</td>\n",
       "      <td>0.473684</td>\n",
       "      <td>0.566197</td>\n",
       "    </tr>\n",
       "    <tr>\n",
       "      <th>Court clerks</th>\n",
       "      <td>0.087977</td>\n",
       "      <td>0.553719</td>\n",
       "      <td>0.465742</td>\n",
       "    </tr>\n",
       "    <tr>\n",
       "      <th>Fish and seafood plant workers</th>\n",
       "      <td>0.061654</td>\n",
       "      <td>0.521739</td>\n",
       "      <td>0.460085</td>\n",
       "    </tr>\n",
       "  </tbody>\n",
       "</table>\n",
       "</div>"
      ],
      "text/plain": [
       "                                                    abs_error      true  \\\n",
       "noc                                                                       \n",
       "Airline ticket and service agents                    0.480144  0.700000   \n",
       "Oil and gas well drillers, servicers, testers a...   0.411883  0.761905   \n",
       "Air transport ramp attendants                        0.150371  0.450000   \n",
       "Store shelf stockers, clerks and order fillers       0.138003  0.600000   \n",
       "Accounting technicians and bookkeepers               0.092512  0.473684   \n",
       "Court clerks                                         0.087977  0.553719   \n",
       "Fish and seafood plant workers                       0.061654  0.521739   \n",
       "\n",
       "                                                        pred  \n",
       "noc                                                           \n",
       "Airline ticket and service agents                   0.219856  \n",
       "Oil and gas well drillers, servicers, testers a...  0.350021  \n",
       "Air transport ramp attendants                       0.600371  \n",
       "Store shelf stockers, clerks and order fillers      0.461997  \n",
       "Accounting technicians and bookkeepers              0.566197  \n",
       "Court clerks                                        0.465742  \n",
       "Fish and seafood plant workers                      0.460085  "
      ]
     },
     "execution_count": 48,
     "metadata": {},
     "output_type": "execute_result"
    }
   ],
   "source": [
    "#what is wrong as a classifier\n",
    "dec_prob_sfs_acc.loc[np.logical_or(\n",
    "    np.logical_and(dec_prob_sfs_acc.true>0.5,dec_prob_sfs_acc.pred<0.5),\n",
    "    np.logical_and(dec_prob_sfs_acc.true<0.5,dec_prob_sfs_acc.pred>0.5))]"
   ]
  },
  {
   "cell_type": "markdown",
   "metadata": {},
   "source": [
    "Next we train on the whole training set"
   ]
  },
  {
   "cell_type": "code",
   "execution_count": 5,
   "metadata": {
    "scrolled": false
   },
   "outputs": [],
   "source": [
    "nocs = nocs.loc[:,sffs_prob_features].copy()\n",
    "\n",
    "rf = RandomForestClassifier(**init_params('cat'))\n",
    "rf.fit(x.loc[:,sffs_prob_features],y['decrease'])\n",
    "noc_preds = pd.Series(rf.predict_proba(nocs)[:,0],index=nocs.index)"
   ]
  },
  {
   "cell_type": "code",
   "execution_count": 9,
   "metadata": {},
   "outputs": [
    {
     "data": {
      "text/plain": [
       "value.Critical Thinking                0.051791\n",
       "value.Systems Evaluation               0.099581\n",
       "value.Fluency of Ideas                 0.228482\n",
       "value.Category Flexibility             0.037221\n",
       "value.Memorization                     0.073713\n",
       "value.Flexibility of Closure           0.036795\n",
       "value.Selective Attention              0.001959\n",
       "value.Customer and Personal Service    0.239128\n",
       "value.Computers and Electronics        0.140342\n",
       "value.Chemistry                        0.090988\n",
       "dtype: float64"
      ]
     },
     "execution_count": 9,
     "metadata": {},
     "output_type": "execute_result"
    }
   ],
   "source": [
    "pd.Series(rf.feature_importances_,index=sffs_prob_features)"
   ]
  },
  {
   "cell_type": "code",
   "execution_count": 19,
   "metadata": {
    "scrolled": false
   },
   "outputs": [
    {
     "data": {
      "image/png": "[encoded data removed]",
      "text/plain": [
       "<Figure size 432x288 with 1 Axes>"
      ]
     },
     "metadata": {
      "needs_background": "light"
     },
     "output_type": "display_data"
    }
   ],
   "source": [
    "plt.plot(np.sort(noc_preds))\n",
    "plt.show()"
   ]
  },
  {
   "cell_type": "code",
   "execution_count": 20,
   "metadata": {
    "scrolled": false
   },
   "outputs": [
    {
     "data": {
      "image/png": "[encoded data removed]",
      "text/plain": [
       "<Figure size 432x288 with 1 Axes>"
      ]
     },
     "metadata": {
      "needs_background": "light"
     },
     "output_type": "display_data"
    }
   ],
   "source": [
    "plt.hist(np.sort(noc_preds),20, alpha = 0.5, edgecolor = 'black')\n",
    "plt.show()"
   ]
  },
  {
   "cell_type": "code",
   "execution_count": 21,
   "metadata": {
    "scrolled": false
   },
   "outputs": [
    {
     "name": "stdout",
     "output_type": "stream",
     "text": [
      "0.045454545454545456\n",
      "0.14545454545454545\n",
      "0.19318181818181818\n",
      "0.615909090909091\n"
     ]
    }
   ],
   "source": [
    "print(sum(noc_preds>=0.7)/noc_preds.shape[0])\n",
    "print(sum(np.logical_and(noc_preds>=0.5,noc_preds<0.7))/noc_preds.shape[0])\n",
    "print(sum(np.logical_and(noc_preds>=0.3,noc_preds<0.5))/noc_preds.shape[0])\n",
    "print(sum(noc_preds<0.3)/noc_preds.shape[0])"
   ]
  },
  {
   "cell_type": "code",
   "execution_count": 22,
   "metadata": {
    "scrolled": true
   },
   "outputs": [
    {
     "name": "stdout",
     "output_type": "stream",
     "text": [
      "0.13333333333333333\n",
      "0.17777777777777778\n",
      "0.15555555555555556\n",
      "0.5333333333333333\n"
     ]
    }
   ],
   "source": [
    "print(sum(y_noclvl['decrease']>=0.7)/y_noclvl['decrease'].shape[0])\n",
    "print(sum(np.logical_and(y_noclvl['decrease']>=0.5,y_noclvl['decrease']<0.7))/y_noclvl['decrease'].shape[0])\n",
    "print(sum(np.logical_and(y_noclvl['decrease']>=0.3,y_noclvl['decrease']<0.5))/y_noclvl['decrease'].shape[0])\n",
    "print(sum(y_noclvl['decrease']<0.3)/y_noclvl['decrease'].shape[0])"
   ]
  },
  {
   "cell_type": "code",
   "execution_count": 23,
   "metadata": {
    "scrolled": true
   },
   "outputs": [
    {
     "data": {
      "text/plain": [
       "noc\n",
       "9535    0.886453\n",
       "8261    0.886453\n",
       "9447    0.886453\n",
       "9527    0.886453\n",
       "9465    0.886453\n",
       "2262    0.886453\n",
       "9415    0.886453\n",
       "8441    0.886453\n",
       "9413    0.788601\n",
       "9416    0.788601\n",
       "7442    0.768813\n",
       "9432    0.768813\n",
       "9526    0.768813\n",
       "9525    0.768813\n",
       "9523    0.768813\n",
       "9522    0.768813\n",
       "9418    0.753611\n",
       "9441    0.705145\n",
       "9445    0.705145\n",
       "9421    0.703873\n",
       "1252    0.668959\n",
       "1432    0.591514\n",
       "1451    0.585124\n",
       "5211    0.585124\n",
       "8614    0.578414\n",
       "8615    0.578414\n",
       "8411    0.578414\n",
       "9414    0.571433\n",
       "9423    0.571433\n",
       "7282    0.571433\n",
       "          ...   \n",
       "4033    0.106900\n",
       "4156    0.106900\n",
       "1313    0.104891\n",
       "7318    0.104891\n",
       "3144    0.102643\n",
       "3143    0.102643\n",
       "3214    0.101285\n",
       "3215    0.101146\n",
       "3219    0.097331\n",
       "2132    0.094020\n",
       "2111    0.091097\n",
       "7441    0.091022\n",
       "6623    0.091022\n",
       "3237    0.091022\n",
       "3411    0.091022\n",
       "1454    0.091022\n",
       "6521    0.088319\n",
       "6421    0.088319\n",
       "3125    0.082056\n",
       "5221    0.081812\n",
       "2154    0.078414\n",
       "5121    0.077720\n",
       "6342    0.073011\n",
       "4151    0.022886\n",
       "3124    0.008080\n",
       "621     0.003208\n",
       "2251    0.003079\n",
       "3212    0.003079\n",
       "4152    0.000838\n",
       "3111    0.000838\n",
       "Length: 440, dtype: float64"
      ]
     },
     "execution_count": 23,
     "metadata": {},
     "output_type": "execute_result"
    }
   ],
   "source": [
    "noc_preds.sort_values(ascending=False)"
   ]
  },
  {
   "cell_type": "code",
   "execution_count": 24,
   "metadata": {},
   "outputs": [],
   "source": [
    "noc_preds.to_csv(r'../../tables/dec_preojections.csv'\n",
    "                 ,index=True,header=True)"
   ]
  },
  {
   "cell_type": "markdown",
   "metadata": {},
   "source": [
    "ok now for some robustness we will run the model 10 times and see if there is a signifiant difference in predictions and ordering of nocs"
   ]
  },
  {
   "cell_type": "code",
   "execution_count": 25,
   "metadata": {},
   "outputs": [],
   "source": [
    "robust_check = pd.DataFrame()\n",
    "\n",
    "for i in range(10):\n",
    "    rf = RandomForestClassifier(**init_params('cat'))\n",
    "    rf.fit(x.loc[:,sffs_prob_features],y['increase'])\n",
    "    robust_check[i] = pd.Series(rf.predict_proba(nocs)[:,1],index=nocs.index)"
   ]
  },
  {
   "cell_type": "code",
   "execution_count": 26,
   "metadata": {},
   "outputs": [
    {
     "data": {
      "text/plain": [
       "0.010238823184727314"
      ]
     },
     "execution_count": 26,
     "metadata": {},
     "output_type": "execute_result"
    }
   ],
   "source": [
    "mean_diffs = []\n",
    "\n",
    "for i in range(10):\n",
    "    for j in range(i,10):\n",
    "        mean_diffs.append(np.mean(abs(robust_check[i]-robust_check[j])))\n",
    "\n",
    "np.mean(mean_diffs)"
   ]
  },
  {
   "cell_type": "code",
   "execution_count": 50,
   "metadata": {},
   "outputs": [
    {
     "data": {
      "text/plain": [
       "noc\n",
       "9535    0.886453\n",
       "8261    0.886453\n",
       "9447    0.886453\n",
       "9527    0.886453\n",
       "9465    0.886453\n",
       "2262    0.886453\n",
       "9415    0.886453\n",
       "8441    0.886453\n",
       "9413    0.788601\n",
       "9416    0.788601\n",
       "7442    0.768813\n",
       "9432    0.768813\n",
       "9526    0.768813\n",
       "9525    0.768813\n",
       "9523    0.768813\n",
       "9522    0.768813\n",
       "9418    0.753611\n",
       "9441    0.705145\n",
       "9445    0.705145\n",
       "9421    0.703873\n",
       "1252    0.668959\n",
       "1432    0.591514\n",
       "1451    0.585124\n",
       "5211    0.585124\n",
       "8614    0.578414\n",
       "8615    0.578414\n",
       "8411    0.578414\n",
       "9414    0.571433\n",
       "9423    0.571433\n",
       "7282    0.571433\n",
       "          ...   \n",
       "4033    0.106900\n",
       "4156    0.106900\n",
       "1313    0.104891\n",
       "7318    0.104891\n",
       "3144    0.102643\n",
       "3143    0.102643\n",
       "3214    0.101285\n",
       "3215    0.101146\n",
       "3219    0.097331\n",
       "2132    0.094020\n",
       "2111    0.091097\n",
       "7441    0.091022\n",
       "6623    0.091022\n",
       "3237    0.091022\n",
       "3411    0.091022\n",
       "1454    0.091022\n",
       "6521    0.088319\n",
       "6421    0.088319\n",
       "3125    0.082056\n",
       "5221    0.081812\n",
       "2154    0.078414\n",
       "5121    0.077720\n",
       "6342    0.073011\n",
       "4151    0.022886\n",
       "3124    0.008080\n",
       "621     0.003208\n",
       "2251    0.003079\n",
       "3212    0.003079\n",
       "4152    0.000838\n",
       "3111    0.000838\n",
       "Length: 440, dtype: float64"
      ]
     },
     "execution_count": 50,
     "metadata": {},
     "output_type": "execute_result"
    }
   ],
   "source": [
    "noc_preds.sort_values(ascending=False)"
   ]
  }
 ],
 "metadata": {
  "kernelspec": {
   "display_name": "Python 3",
   "language": "python",
   "name": "python3"
  },
  "language_info": {
   "codemirror_mode": {
    "name": "ipython",
    "version": 3
   },
   "file_extension": ".py",
   "mimetype": "text/x-python",
   "name": "python",
   "nbconvert_exporter": "python",
   "pygments_lexer": "ipython3",
   "version": "3.7.3"
  }
 },
 "nbformat": 4,
 "nbformat_minor": 2
}
