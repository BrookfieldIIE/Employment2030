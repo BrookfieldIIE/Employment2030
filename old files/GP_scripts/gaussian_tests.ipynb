{
 "cells": [
  {
   "cell_type": "code",
   "execution_count": 248,
   "metadata": {},
   "outputs": [],
   "source": [
    "%run utils.ipynb\n",
    "\n",
    "import pickle\n",
    "import numpy as np\n",
    "\n",
    "from os import listdir, path\n",
    "from collections import defaultdict\n",
    "from sklearn.metrics import mean_squared_error, explained_variance_score, mean_absolute_error"
   ]
  },
  {
   "cell_type": "code",
   "execution_count": 81,
   "metadata": {},
   "outputs": [],
   "source": [
    "datasets = {'agg': {'x': {'cont':         x_cont_agg, \n",
    "                          'disc':         x_disc_agg}, \n",
    "                    'y': {# 'abs':          y_abs_agg['y'],\n",
    "                          # 'abs_binned':   y_abs_agg['binned_y'],\n",
    "                          'share':        y_share_agg['y'],\n",
    "                          'share_binned': y_share_agg['binned_y']}\n",
    "                   },\n",
    "            'ind': {'x': {'cont':         x_cont_ind,\n",
    "                          'disc':         x_disc_ind},\n",
    "                    'y': {# 'abs':          y_abs_ind,\n",
    "                          # 'abs_binned':   y_abs_bin_ind,\n",
    "                          'share':        y_share_ind,\n",
    "                          'share_binned': y_share_bin_ind}\n",
    "                   }\n",
    "           }\n",
    "\n",
    "results_dir = 'gp_results'"
   ]
  },
  {
   "cell_type": "code",
   "execution_count": 82,
   "metadata": {},
   "outputs": [],
   "source": [
    "files = [f for f in listdir(results_dir) if f != '.ipynb_checkpoints']"
   ]
  },
  {
   "cell_type": "code",
   "execution_count": 265,
   "metadata": {},
   "outputs": [],
   "source": [
    "def scale_pred(pred):\n",
    "    factor = 1/sum(pred)\n",
    "    scaled = []\n",
    "    for p in pred:\n",
    "        scaled.append(p * factor)\n",
    "    return tuple(scaled)"
   ]
  },
  {
   "cell_type": "code",
   "execution_count": 262,
   "metadata": {},
   "outputs": [],
   "source": [
    "def parse_results(file):\n",
    "    all_mse = []\n",
    "    all_results = []\n",
    "    all_var = []\n",
    "    filename = path.splitext(file)[0].split('_')\n",
    "    agg_level = filename[1]\n",
    "    dist = filename[2]\n",
    "\n",
    "    with open(path.join(results_dir, file), 'rb') as f:\n",
    "        results = pickle.load(f)\n",
    "    \n",
    "    for fold in results['All results']:\n",
    "        y_true = []\n",
    "        y_pred = []\n",
    "        results = {}\n",
    "        for x in fold:\n",
    "            pred = tuple([p for [p] in fold[x]])\n",
    "            pred = scale_pred(pred)\n",
    "            if agg_level == 'ind': x = tuple(list(x[1:]) + [x[0]])\n",
    "            true_info = noc_dict[dist][x]\n",
    "            noc = true_info['noc']\n",
    "            if len(pred) == 3: true_dist = true_info['share']\n",
    "            else:              true_dist = true_info['share_binned']\n",
    "            y_true.append(true_dist)\n",
    "            y_pred.append(pred)\n",
    "            results[noc + ', ' + str(int(x[-1]))] = ({'y_true': true_dist,\n",
    "                                                      'y_pred': pred})    \n",
    "        mse = mean_squared_error(y_true, y_pred)\n",
    "        var = explained_variance_score(y_true, y_pred)\n",
    "        all_mse.append(mse)\n",
    "        all_results.append(results)\n",
    "        all_var.append(var)\n",
    "        \n",
    "    return all_mse, all_results, all_var"
   ]
  },
  {
   "cell_type": "code",
   "execution_count": 290,
   "metadata": {},
   "outputs": [],
   "source": [
    "def check_results(file):\n",
    "    mapping = {0: 'increase',\n",
    "               1: 'constant',\n",
    "               2: 'decrease'}\n",
    "    wrong_noc = defaultdict(int)\n",
    "    wrong_preds = defaultdict(list)\n",
    "    correct = defaultdict(int)\n",
    "    # first key is true, second key is predicted, value is number of times\n",
    "    missed = {'decrease': defaultdict(int),\n",
    "              'constant': defaultdict(int),\n",
    "              'increase': defaultdict(int)}\n",
    "\n",
    "    for fold in results[file]:\n",
    "        for noc in fold:\n",
    "            pred = mapping[np.argmax(fold[noc]['y_pred'])]\n",
    "            true = mapping[np.argmax(fold[noc]['y_true'])]\n",
    "            wrong_preds[noc].append(mean_absolute_error(\n",
    "                    (fold[noc]['y_true']), (fold[noc]['y_pred'])\n",
    "                ))\n",
    "            if pred != true: \n",
    "                wrong_noc[noc.split(',')[0]] += 1\n",
    "                missed[true][pred] += 1\n",
    "            else: correct[true] += 1\n",
    "    \n",
    "    for key in wrong_preds:\n",
    "        val = wrong_preds[key]\n",
    "        wrong_preds[key] = sum(val)/len(val)\n",
    "    \n",
    "    return wrong_noc, correct, missed, wrong_preds"
   ]
  },
  {
   "cell_type": "code",
   "execution_count": 158,
   "metadata": {},
   "outputs": [],
   "source": [
    "def get_top(n): return sorted(model_mse, key=model_mse.get)[:n]"
   ]
  },
  {
   "cell_type": "code",
   "execution_count": 291,
   "metadata": {},
   "outputs": [],
   "source": [
    "model_mse = {}\n",
    "results = {}\n",
    "\n",
    "for file in files:\n",
    "    mse, result, var = parse_results(file)\n",
    "    avg_mse = sum(mse)/len(mse)\n",
    "    avg_var = sum(var)/len(var)\n",
    "    model_mse[file] = (avg_mse, avg_var)\n",
    "    results[file] = result"
   ]
  },
  {
   "cell_type": "code",
   "execution_count": 267,
   "metadata": {
    "scrolled": true
   },
   "outputs": [
    {
     "name": "stdout",
     "output_type": "stream",
     "text": [
      "RBF_agg_cont_share.pkl\n",
      "Number correct:\n",
      "('constant', 22)\n",
      "('increase', 1)\n",
      "True: constant Pred: decrease Num: 2\n",
      "True: constant Pred: increase Num: 2\n",
      "True: decrease Pred: constant Num: 37\n",
      "True: decrease Pred: increase Num: 5\n",
      "True: increase Pred: constant Num: 47\n",
      "True: increase Pred: decrease Num: 4\n",
      "Matern52_agg_disc_share.pkl\n",
      "Number correct:\n",
      "('constant', 26)\n",
      "True: decrease Pred: constant Num: 42\n",
      "True: increase Pred: constant Num: 52\n",
      "RBF_agg_disc_share.pkl\n",
      "Number correct:\n",
      "('constant', 26)\n",
      "True: decrease Pred: constant Num: 42\n",
      "True: increase Pred: constant Num: 52\n",
      "Matern32_agg_disc_share.pkl\n",
      "Number correct:\n",
      "('constant', 26)\n",
      "True: decrease Pred: constant Num: 42\n",
      "True: increase Pred: constant Num: 52\n",
      "Matern12_agg_disc_share.pkl\n",
      "Number correct:\n",
      "('constant', 26)\n",
      "True: decrease Pred: constant Num: 42\n",
      "True: increase Pred: constant Num: 52\n"
     ]
    }
   ],
   "source": [
    "for file in get_top(5):\n",
    "    print(file)\n",
    "    wrong_noc, correct, missed, wrong_preds = check_results(file)\n",
    "    print('Number correct:')\n",
    "    for item in correct.items():\n",
    "        print(item)\n",
    "    for true in missed:\n",
    "        for pred in missed[true]:\n",
    "            print('True:', true, 'Pred:', pred, 'Num:', missed[true][pred])"
   ]
  },
  {
   "cell_type": "markdown",
   "metadata": {},
   "source": [
    "## Scratchpad"
   ]
  },
  {
   "cell_type": "code",
   "execution_count": null,
   "metadata": {},
   "outputs": [],
   "source": [
    "# check which ones it's bad at"
   ]
  },
  {
   "cell_type": "code",
   "execution_count": 268,
   "metadata": {
    "scrolled": false
   },
   "outputs": [
    {
     "name": "stdout",
     "output_type": "stream",
     "text": [
      "RBF_agg_cont_share.pkl : (0.0668662270074651, -0.0670994265851075)\n",
      "Matern52_agg_disc_share.pkl : (0.06758139983618208, -0.0640736796970455)\n",
      "RBF_agg_disc_share.pkl : (0.0675821149832898, -0.06409487904270102)\n",
      "Matern32_agg_disc_share.pkl : (0.06758309596655827, -0.06405143590509274)\n",
      "Matern12_agg_disc_share.pkl : (0.067588693196657, -0.06403916208368224)\n",
      "RBF_ind_disc_share_binned.pkl : (0.06812075990703201, 0.02940764305215563)\n",
      "RBF_ind_cont_share_binned.pkl : (0.06812075990703201, 0.029407643052155708)\n",
      "Matern52_ind_disc_share_binned.pkl : (0.06851196691297687, 0.008539976301254725)\n",
      "Matern52_ind_cont_share_binned.pkl : (0.0685119669129769, 0.008539976301254804)\n",
      "Matern32_ind_disc_share_binned.pkl : (0.06868473112836478, 0.009923170047500818)\n",
      "Matern32_ind_cont_share_binned.pkl : (0.06868473112836478, 0.009923170047500906)\n",
      "Matern12_ind_disc_share_binned.pkl : (0.06912622731861667, 0.0021023057102859677)\n",
      "Matern12_ind_cont_share_binned.pkl : (0.06912622731861667, 0.0021023057102861342)\n",
      "Matern12_agg_disc_share_binned.pkl : (0.06953627590677829, -0.11878671194614002)\n",
      "RBF_agg_cont_share_binned.pkl : (0.07028683550489728, -0.1150558908654475)\n",
      "Matern52_agg_cont_share_binned.pkl : (0.07051486507787733, -0.12020735692379181)\n",
      "Matern32_agg_disc_share_binned.pkl : (0.07114329049565711, -0.15035325241458725)\n",
      "Matern52_agg_disc_share_binned.pkl : (0.07160510760675598, -0.159674335988664)\n",
      "RBF_agg_disc_share_binned.pkl : (0.07210182896780953, -0.16967299094739974)\n",
      "Matern32_ind_disc_share.pkl : (0.07271862844790389, 0.00021343654786136688)\n",
      "Matern32_ind_cont_share.pkl : (0.07271862844790389, 0.00021343654786156705)\n",
      "Matern52_ind_disc_share.pkl : (0.07272174430303391, 0.00011996314082097365)\n",
      "Matern52_ind_cont_share.pkl : (0.07272174430303391, 0.00011996314082104824)\n",
      "RBF_ind_disc_share.pkl : (0.07272350377904141, -0.00011051380448629314)\n",
      "RBF_ind_cont_share.pkl : (0.07272350377904141, -0.00011051380448625497)\n",
      "Matern12_ind_disc_share.pkl : (0.07275460572930402, 0.0006167386606012792)\n",
      "Matern12_ind_cont_share.pkl : (0.07275460572930403, 0.0006167386606013902)\n",
      "Matern32_agg_cont_share.pkl : (0.07612272092295039, -0.20010177575094903)\n",
      "Matern52_agg_cont_share.pkl : (0.07624010478245499, -0.19717615442948405)\n",
      "Matern32_agg_cont_share_binned.pkl : (0.0789461201482294, -0.29578409454768934)\n",
      "Matern12_agg_cont_share.pkl : (0.08479670558950457, -0.34677935725196624)\n",
      "Matern12_agg_cont_share_binned.pkl : (0.10423072996242108, -0.6227124780936519)\n"
     ]
    }
   ],
   "source": [
    "top = sorted(model_mse, key=model_mse.get)\n",
    "for key in top:\n",
    "    print(key, ':', model_mse[key])"
   ]
  },
  {
   "cell_type": "code",
   "execution_count": 269,
   "metadata": {},
   "outputs": [
    {
     "name": "stdout",
     "output_type": "stream",
     "text": [
      "RBF_agg_disc_share.pkl : 0.23333333333333334\n",
      "RBF_agg_cont_share_binned.pkl : 0.7416666666666666\n",
      "Matern12_ind_disc_share_binned.pkl : 0.6825873072908646\n",
      "Matern52_agg_disc_share.pkl : 0.23333333333333334\n",
      "Matern12_agg_cont_share.pkl : 0.2416666666666667\n",
      "Matern32_agg_disc_share_binned.pkl : 0.7416666666666666\n",
      "Matern32_agg_cont_share.pkl : 0.16666666666666669\n",
      "Matern12_agg_cont_share_binned.pkl : 0.6666666666666666\n",
      "Matern52_agg_cont_share.pkl : 0.16666666666666669\n",
      "Matern12_agg_disc_share.pkl : 0.23333333333333334\n",
      "RBF_ind_disc_share_binned.pkl : 0.6825873072908646\n",
      "RBF_agg_cont_share.pkl : 0.20833333333333334\n",
      "Matern32_agg_disc_share.pkl : 0.23333333333333334\n",
      "Matern32_ind_cont_share_binned.pkl : 0.6825873072908646\n",
      "Matern52_agg_disc_share_binned.pkl : 0.7333333333333332\n",
      "Matern52_ind_cont_share_binned.pkl : 0.6825873072908646\n",
      "Matern52_ind_disc_share_binned.pkl : 0.6825873072908646\n",
      "Matern52_agg_cont_share_binned.pkl : 0.7416666666666666\n",
      "Matern52_ind_disc_share.pkl : 0.2918193795664151\n",
      "Matern12_ind_cont_share.pkl : 0.2918193795664151\n",
      "RBF_ind_disc_share.pkl : 0.2918193795664151\n",
      "Matern32_ind_disc_share_binned.pkl : 0.6825873072908646\n",
      "Matern32_ind_cont_share.pkl : 0.2918193795664151\n",
      "RBF_ind_cont_share_binned.pkl : 0.6825873072908646\n",
      "Matern12_agg_disc_share_binned.pkl : 0.7416666666666666\n",
      "RBF_ind_cont_share.pkl : 0.2918193795664151\n",
      "Matern32_agg_cont_share_binned.pkl : 0.6916666666666667\n",
      "Matern52_ind_cont_share.pkl : 0.2918193795664151\n",
      "Matern12_ind_disc_share.pkl : 0.2918193795664151\n",
      "Matern32_ind_disc_share.pkl : 0.2918193795664151\n",
      "Matern12_ind_cont_share_binned.pkl : 0.6825873072908646\n",
      "RBF_agg_disc_share_binned.pkl : 0.7333333333333332\n"
     ]
    }
   ],
   "source": [
    "for file in files:\n",
    "    with open(path.join(results_dir, file), 'rb') as f:\n",
    "        res = pickle.load(f)\n",
    "    print(file, ':', res['Avg. score'])"
   ]
  },
  {
   "cell_type": "code",
   "execution_count": 362,
   "metadata": {},
   "outputs": [],
   "source": [
    "wrong_noc, correct, missed, wrong_preds = check_results('RBF_agg_cont_share.pkl')"
   ]
  },
  {
   "cell_type": "code",
   "execution_count": 363,
   "metadata": {},
   "outputs": [
    {
     "data": {
      "text/plain": [
       "defaultdict(int,\n",
       "            {'Accounting technicians and bookkeepers': 1,\n",
       "             'Air transport ramp attendants': 1,\n",
       "             'Airline ticket and service agents': 1,\n",
       "             'Carpenters': 1,\n",
       "             'Central control and process operators': 1,\n",
       "             'Chefs': 1,\n",
       "             'Computer network technicians': 6,\n",
       "             'Cooks': 1,\n",
       "             'Court clerks': 5,\n",
       "             'Electrical mechanics': 6,\n",
       "             'Financial managers': 6,\n",
       "             'Fish and seafood plant workers': 1,\n",
       "             'Fishermen/women': 1,\n",
       "             'Forestry technologists and technicians': 4,\n",
       "             'Furniture and fixture assemblers and inspectors': 6,\n",
       "             'General farm workers': 1,\n",
       "             'Graphic designers and illustrators': 1,\n",
       "             'Health policy researchers': 1,\n",
       "             'Industrial and manufacturing engineers': 5,\n",
       "             'Instructors of persons with disabilities': 6,\n",
       "             'Labourers in food': 5,\n",
       "             'Light duty cleaners': 1,\n",
       "             'Managers in agriculture': 1,\n",
       "             'Medical administrative assistants': 4,\n",
       "             'Oil and gas well drillers': 1,\n",
       "             'Operators and attendants in amusement': 5,\n",
       "             'Painters and decorators (except interior decorators)': 1,\n",
       "             'Paramedical occupations': 1,\n",
       "             'Plastics processing machine operators': 6,\n",
       "             'Registered nurses and registered psychiatric nurses': 1,\n",
       "             'Restaurant and food service managers': 1,\n",
       "             'Senior managers - financial': 2,\n",
       "             'Shippers and receivers': 1,\n",
       "             'Store shelf stockers': 1,\n",
       "             'Supervisors': 3,\n",
       "             'Technical sales specialists - wholesale trade': 1,\n",
       "             'Underground production and development miners': 6})"
      ]
     },
     "execution_count": 363,
     "metadata": {},
     "output_type": "execute_result"
    }
   ],
   "source": [
    "wrong_noc"
   ]
  },
  {
   "cell_type": "code",
   "execution_count": 364,
   "metadata": {},
   "outputs": [
    {
     "data": {
      "text/plain": [
       "defaultdict(int, {'constant': 22, 'increase': 1})"
      ]
     },
     "execution_count": 364,
     "metadata": {},
     "output_type": "execute_result"
    }
   ],
   "source": [
    "correct"
   ]
  },
  {
   "cell_type": "code",
   "execution_count": 365,
   "metadata": {},
   "outputs": [
    {
     "data": {
      "text/plain": [
       "{'constant': defaultdict(int, {'decrease': 2, 'increase': 2}),\n",
       " 'decrease': defaultdict(int, {'constant': 37, 'increase': 5}),\n",
       " 'increase': defaultdict(int, {'constant': 47, 'decrease': 4})}"
      ]
     },
     "execution_count": 365,
     "metadata": {},
     "output_type": "execute_result"
    }
   ],
   "source": [
    "missed"
   ]
  },
  {
   "cell_type": "code",
   "execution_count": 321,
   "metadata": {},
   "outputs": [
    {
     "name": "stdout",
     "output_type": "stream",
     "text": [
      "Chefs, 4 : 0.48120432064878615\n",
      "Financial managers, 5 : 0.435616108813677\n",
      "Furniture and fixture assemblers and inspectors, 6 : 0.4328494214993772\n",
      "Graphic designers and illustrators, 4 : 0.41891504293436715\n",
      "Light duty cleaners, 5 : 0.4169030906144027\n",
      "Furniture and fixture assemblers and inspectors, 1 : 0.41546987427353965\n",
      "Furniture and fixture assemblers and inspectors, 5 : 0.41546987427353965\n",
      "Plastics processing machine operators, 1 : 0.40897763470759035\n",
      "Operators and attendants in amusement, recreation and sport, 4 : 0.40882478487345436\n",
      "Fishermen/women, 6 : 0.3867865792733272\n",
      "Plastics processing machine operators, 6 : 0.3799921274612135\n",
      "Financial managers, 6 : 0.3660508914223726\n",
      "Computer network technicians, 5 : 0.36213718563253355\n",
      "Underground production and development miners, 1 : 0.35415037149044687\n",
      "Cooks, 5 : 0.35120417677475696\n",
      "Medical administrative assistants, 2 : 0.34570197804617314\n",
      "Furniture and fixture assemblers and inspectors, 4 : 0.3452944356770484\n",
      "Electrical mechanics, 3 : 0.34426036096399865\n",
      "Plastics processing machine operators, 4 : 0.338802196111099\n",
      "Court clerks, 1 : 0.33596104308193303\n",
      "Registered nurses and registered psychiatric nurses, 6 : 0.33544756207022886\n",
      "Computer network technicians, 2 : 0.3350840455359152\n",
      "Health policy researchers, consultants and program officers, 2 : 0.325241617043669\n",
      "Supervisors, petroleum, gas and chemical processing and utilities, 5 : 0.3202685402399494\n",
      "Computer network technicians, 4 : 0.30356603956655265\n",
      "Furniture and fixture assemblers and inspectors, 2 : 0.29952784528803233\n",
      "Shippers and receivers, 5 : 0.298938258722563\n",
      "Electrical mechanics, 4 : 0.2986463258762793\n",
      "Technical sales specialists - wholesale trade, 2 : 0.2914329545347268\n",
      "Industrial and manufacturing engineers, 2 : 0.28866643829678645\n",
      "Medical administrative assistants, 6 : 0.28773096355341954\n",
      "Operators and attendants in amusement, recreation and sport, 3 : 0.2842633813646825\n",
      "Airline ticket and service agents, 3 : 0.2838346841366573\n",
      "Electrical mechanics, 2 : 0.28339079574660736\n",
      "Forestry technologists and technicians, 4 : 0.28014359406257583\n",
      "Plastics processing machine operators, 5 : 0.27564430137425694\n",
      "Forestry technologists and technicians, 5 : 0.26844768762982724\n",
      "Operators and attendants in amusement, recreation and sport, 2 : 0.2654228016545375\n",
      "Court clerks, 3 : 0.26135786847875836\n",
      "Operators and attendants in amusement, recreation and sport, 5 : 0.25902359944794506\n",
      "Underground production and development miners, 5 : 0.2589122762523515\n",
      "Paramedical occupations, 6 : 0.25668144323786274\n",
      "Medical administrative assistants, 5 : 0.25595251982714806\n",
      "Electrical mechanics, 6 : 0.2544052885002305\n",
      "Labourers in food, beverage and associated products processing, 1 : 0.2530168352034659\n",
      "Labourers in food, beverage and associated products processing, 5 : 0.25301683520346585\n",
      "Painters and decorators (except interior decorators), 4 : 0.247360303423348\n",
      "Oil and gas well drillers, servicers, testers and related workers, 1 : 0.24337949422069793\n",
      "Electrical mechanics, 5 : 0.23314924985288754\n",
      "Furniture and fixture assemblers and inspectors, 3 : 0.23036040483640927\n",
      "Computer network technicians, 1 : 0.22880385229920022\n",
      "Supervisors, petroleum, gas and chemical processing and utilities, 3 : 0.22012065223729152\n",
      "Store shelf stockers, clerks and order fillers, 5 : 0.21561745778341468\n",
      "Heavy-duty equipment mechanics, 1 : 0.21124491159288794\n",
      "Industrial and manufacturing engineers, 1 : 0.2086112278067934\n",
      "Instructors of persons with disabilities, 2 : 0.20727686207083973\n",
      "Central control and process operators, petroleum, gas and chemical processing, 1 : 0.206235233448307\n",
      "Plastics processing machine operators, 2 : 0.20607908398295263\n",
      "Industrial and manufacturing engineers, 5 : 0.20531313682519362\n",
      "Underground production and development miners, 4 : 0.2004327440886089\n",
      "Medical administrative assistants, 1 : 0.1993941795644616\n",
      "Managers in agriculture, 1 : 0.19589451875266584\n",
      "Underground production and development miners, 2 : 0.1912794260108057\n",
      "Carpenters, 3 : 0.18990272533120445\n",
      "Electrical mechanics, 1 : 0.1865354811044521\n",
      "Labourers in food, beverage and associated products processing, 2 : 0.18538398496192\n",
      "Medical administrative assistants, 3 : 0.1819338621041441\n",
      "Underground production and development miners, 3 : 0.18113449847457383\n",
      "Court clerks, 4 : 0.17890172812788116\n",
      "Court clerks, 2 : 0.17585062210194677\n",
      "Industrial and manufacturing engineers, 6 : 0.1727244093112792\n",
      "Operators and attendants in amusement, recreation and sport, 1 : 0.17156496866626977\n",
      "Computer network technicians, 3 : 0.1702327062332193\n",
      "Financial managers, 3 : 0.16894944214701038\n",
      "Supervisors, petroleum, gas and chemical processing and utilities, 6 : 0.16359891310685673\n",
      "Computer network technicians, 6 : 0.16117100205765433\n",
      "Labourers in food, beverage and associated products processing, 4 : 0.15944958374147758\n",
      "General farm workers, 1 : 0.15733956571260097\n",
      "Financial managers, 1 : 0.1562510294485977\n",
      "Financial managers, 4 : 0.15516740509660218\n",
      "Senior managers - financial, communications and other business services, 2 : 0.15062921303258628\n",
      "Industrial and manufacturing engineers, 4 : 0.14679000809083678\n",
      "Restaurant and food service managers, 2 : 0.14674817523387465\n",
      "Forestry technologists and technicians, 2 : 0.14284382289552777\n",
      "Court clerks, 5 : 0.14256498597867842\n",
      "Labourers in food, beverage and associated products processing, 3 : 0.1419057240923548\n",
      "Air transport ramp attendants, 3 : 0.1363851319424104\n",
      "Industrial and manufacturing engineers, 3 : 0.1350441227276315\n",
      "Instructors of persons with disabilities, 3 : 0.12839554229576747\n",
      "Supervisors, petroleum, gas and chemical processing and utilities, 1 : 0.12786477577672736\n",
      "Court clerks, 6 : 0.11787960760919314\n",
      "Senior managers - financial, communications and other business services, 4 : 0.10871479917183784\n",
      "Financial managers, 2 : 0.1051813262049814\n",
      "Steamfitters, pipefitters and sprinkler system installers, 6 : 0.10299410842719543\n",
      "Forestry technologists and technicians, 6 : 0.10122764530842061\n",
      "Senior managers - financial, communications and other business services, 5 : 0.10101960325061428\n",
      "Accounting technicians and bookkeepers, 4 : 0.09532279622224622\n",
      "Lawyers and Quebec notaries, 2 : 0.0949128002897756\n",
      "Fish and seafood plant workers, 6 : 0.0940439910790274\n",
      "Instructors of persons with disabilities, 6 : 0.09216365823779643\n",
      "Instructors of persons with disabilities, 1 : 0.08719404633585008\n",
      "Instructors of persons with disabilities, 4 : 0.08453589317296044\n",
      "Underground production and development miners, 6 : 0.08431035243084041\n",
      "Air pilots, flight engineers and flying instructors, 3 : 0.08079336828820316\n",
      "Medical administrative assistants, 4 : 0.08051392333592002\n",
      "Operators and attendants in amusement, recreation and sport, 6 : 0.07789678674765532\n",
      "Accommodation service managers, 4 : 0.07728459635837857\n",
      "Forestry technologists and technicians, 3 : 0.07599675681461718\n",
      "Delivery and courier service drivers, 5 : 0.07361884275336095\n",
      "Instructors of persons with disabilities, 5 : 0.0728399867402119\n",
      "Plastics processing machine operators, 3 : 0.06525834270797286\n",
      "Senior managers - financial, communications and other business services, 6 : 0.06367269129345583\n",
      "Senior managers - financial, communications and other business services, 1 : 0.06193117344084368\n",
      "Correctional service officers, 3 : 0.05050135080332396\n",
      "Forestry technologists and technicians, 1 : 0.05015794206480434\n",
      "Real estate agents and salespersons, 2 : 0.048913613854322684\n",
      "Supervisors, petroleum, gas and chemical processing and utilities, 4 : 0.04190596714053416\n",
      "Supervisors, petroleum, gas and chemical processing and utilities, 2 : 0.03929963761778096\n",
      "Senior managers - financial, communications and other business services, 3 : 0.03435293658394761\n",
      "Labourers in food, beverage and associated products processing, 6 : 0.023794577620026958\n"
     ]
    }
   ],
   "source": [
    "for key in sorted(wrong_preds, key=wrong_preds.get, reverse=True):\n",
    "    print(key, ':', wrong_preds[key])"
   ]
  },
  {
   "cell_type": "code",
   "execution_count": null,
   "metadata": {},
   "outputs": [],
   "source": []
  }
 ],
 "metadata": {
  "kernelspec": {
   "display_name": "Python 3",
   "language": "python",
   "name": "python3"
  },
  "language_info": {
   "codemirror_mode": {
    "name": "ipython",
    "version": 3
   },
   "file_extension": ".py",
   "mimetype": "text/x-python",
   "name": "python",
   "nbconvert_exporter": "python",
   "pygments_lexer": "ipython3",
   "version": "3.7.3"
  }
 },
 "nbformat": 4,
 "nbformat_minor": 2
}
