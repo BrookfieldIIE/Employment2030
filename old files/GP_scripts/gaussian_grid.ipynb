{
 "cells": [
  {
   "cell_type": "markdown",
   "metadata": {},
   "source": [
    "## Setup"
   ]
  },
  {
   "cell_type": "code",
   "execution_count": 1,
   "metadata": {
    "scrolled": true
   },
   "outputs": [
    {
     "name": "stderr",
     "output_type": "stream",
     "text": [
      "WARNING: Logging before flag parsing goes to stderr.\n",
      "W0819 00:47:50.160472 140254998771456 deprecation_wrapper.py:119] From /home/ubuntu/anaconda3/envs/python3/lib/python3.7/site-packages/gpflow/session_manager.py:31: The name tf.Session is deprecated. Please use tf.compat.v1.Session instead.\n",
      "\n",
      "W0819 00:47:50.162242 140254998771456 deprecation_wrapper.py:119] From /home/ubuntu/anaconda3/envs/python3/lib/python3.7/site-packages/gpflow/misc.py:27: The name tf.GraphKeys is deprecated. Please use tf.compat.v1.GraphKeys instead.\n",
      "\n",
      "W0819 00:47:50.226248 140254998771456 deprecation_wrapper.py:119] From /home/ubuntu/anaconda3/envs/python3/lib/python3.7/site-packages/gpflow/saver/coders.py:80: The name tf.data.Iterator is deprecated. Please use tf.compat.v1.data.Iterator instead.\n",
      "\n"
     ]
    }
   ],
   "source": [
    "%run gaussian_utils.ipynb"
   ]
  },
  {
   "cell_type": "code",
   "execution_count": 2,
   "metadata": {
    "scrolled": true
   },
   "outputs": [],
   "source": [
    "def grid_search(agg_level):\n",
    "    results = rec_dd()\n",
    "\n",
    "    for kern in kernels:\n",
    "        for agg_name, top_level in datasets.items():\n",
    "            if agg_level != 'both' and agg_level != agg_name:\n",
    "                continue\n",
    "            for var_type, x_all in top_level['x'].items():\n",
    "                for result_dist, y_all in top_level['y'].items():\n",
    "                    params = '_'.join([kern, agg_name, var_type, result_dist])\n",
    "                    print('Testing:', params)\n",
    "                    start = time.time()\n",
    "                    x, y = x_and_y(x_all, y_all)\n",
    "                    result = cv(x, y, x_all, y_all, kern)\n",
    "                    results[kern][agg_name][var_type][result_dist] = result\n",
    "                    end = time.time()\n",
    "                    print('Accuracy:', result['Avg. score'])\n",
    "                    print('Time elapsed (sec):', end - start)\n",
    "                    pickle_results(result, params)\n",
    "                    print('Results saved to disk')\n",
    "    \n",
    "    return results"
   ]
  },
  {
   "cell_type": "code",
   "execution_count": 3,
   "metadata": {},
   "outputs": [],
   "source": [
    "def test_with_all(x_all, y_all, kern, name, agg_level, dist):\n",
    "    params = '_'.join([name, 'updated_mse'])\n",
    "    print('Testing:', params)\n",
    "    start = time.time()\n",
    "    if agg_level == 'ind': cleaned_x = x_all.drop(['noc', 'participant.id'], axis=1)\n",
    "    else:                  cleaned_x = x_all\n",
    "    x, y = x_and_y(cleaned_x, y_all)\n",
    "    result = cv(x, y, x_all, y_all, kern, agg_level, dist)\n",
    "    end = time.time()\n",
    "    print('Accuracy:', result['Avg. score'])\n",
    "    print('MSE:', result['Avg. mse'])\n",
    "    print('ROC:', result['Avg. roc'])\n",
    "    print('Confusion:', result['Confusion'])\n",
    "    print('Time elapsed (sec):', end - start)\n",
    "    pickle_results(result, params)\n",
    "    print('Results saved to disk')"
   ]
  },
  {
   "cell_type": "markdown",
   "metadata": {},
   "source": [
    "## Run through - no feature selection"
   ]
  },
  {
   "cell_type": "markdown",
   "metadata": {},
   "source": [
    "### Aggregated"
   ]
  },
  {
   "cell_type": "code",
   "execution_count": 4,
   "metadata": {},
   "outputs": [
    {
     "name": "stderr",
     "output_type": "stream",
     "text": [
      "W0818 22:23:51.205079 139785285633792 deprecation_wrapper.py:119] From /home/ubuntu/anaconda3/envs/python3/lib/python3.7/site-packages/gpflow/core/node.py:109: The name tf.get_default_graph is deprecated. Please use tf.compat.v1.get_default_graph instead.\n",
      "\n",
      "W0818 22:23:51.217055 139785285633792 deprecation_wrapper.py:119] From /home/ubuntu/anaconda3/envs/python3/lib/python3.7/site-packages/gpflow/params/parameter.py:388: The name tf.placeholder is deprecated. Please use tf.compat.v1.placeholder instead.\n",
      "\n",
      "W0818 22:23:51.218327 139785285633792 deprecation_wrapper.py:119] From /home/ubuntu/anaconda3/envs/python3/lib/python3.7/site-packages/gpflow/params/parameter.py:394: The name tf.get_variable is deprecated. Please use tf.compat.v1.get_variable instead.\n",
      "\n"
     ]
    },
    {
     "name": "stdout",
     "output_type": "stream",
     "text": [
      "Testing: Matern52_agg_disc_share_updated_mse\n"
     ]
    },
    {
     "name": "stderr",
     "output_type": "stream",
     "text": [
      "W0818 22:23:51.797580 139785285633792 deprecation.py:323] From /home/ubuntu/anaconda3/envs/python3/lib/python3.7/site-packages/tensorflow/python/ops/math_grad.py:1205: add_dispatch_support.<locals>.wrapper (from tensorflow.python.ops.array_ops) is deprecated and will be removed in a future version.\n",
      "Instructions for updating:\n",
      "Use tf.where in 2.0, which has the same broadcast rule as np.where\n"
     ]
    },
    {
     "name": "stdout",
     "output_type": "stream",
     "text": [
      "Fold tested in (sec): 2.5716447830200195\n",
      "Fold tested in (sec): 3.19522762298584\n",
      "Fold tested in (sec): 4.193768739700317\n",
      "Fold tested in (sec): 4.564471483230591\n",
      "Fold tested in (sec): 5.4335527420043945\n",
      "Accuracy: 0.23333333333333334\n",
      "MSE: 0.06758287297133347\n",
      "Confusion: {'constant/not increase': defaultdict(<class 'int'>, {'constant/not increase': 26}), 'decrease': defaultdict(<class 'int'>, {'constant/not increase': 52}), 'increase': defaultdict(<class 'int'>, {'constant/not increase': 42})}\n",
      "Time elapsed (sec): 19.961930990219116\n",
      "Results saved to disk\n"
     ]
    }
   ],
   "source": [
    "test_with_all(x_disc_agg, y_share_agg['y'], 'Matern52', 'Matern52_agg_disc_share', 'agg', 'disc')"
   ]
  },
  {
   "cell_type": "code",
   "execution_count": 5,
   "metadata": {},
   "outputs": [
    {
     "name": "stdout",
     "output_type": "stream",
     "text": [
      "Testing: RBF_agg_disc_share_updated_mse\n",
      "Fold tested in (sec): 6.2504730224609375\n",
      "Fold tested in (sec): 6.870668411254883\n",
      "Fold tested in (sec): 8.009052991867065\n",
      "Fold tested in (sec): 8.523614645004272\n",
      "Fold tested in (sec): 9.528919219970703\n",
      "Accuracy: 0.23333333333333334\n",
      "MSE: 0.06758166164948036\n",
      "Confusion: {'constant/not increase': defaultdict(<class 'int'>, {'constant/not increase': 26}), 'decrease': defaultdict(<class 'int'>, {'constant/not increase': 52}), 'increase': defaultdict(<class 'int'>, {'constant/not increase': 42})}\n",
      "Time elapsed (sec): 39.185943365097046\n",
      "Results saved to disk\n"
     ]
    }
   ],
   "source": [
    "test_with_all(x_disc_agg, y_share_agg['y'], 'RBF', 'RBF_agg_disc_share', 'agg', 'disc')"
   ]
  },
  {
   "cell_type": "code",
   "execution_count": 6,
   "metadata": {},
   "outputs": [
    {
     "name": "stdout",
     "output_type": "stream",
     "text": [
      "Testing: Matern52_agg_disc_share_binned_updated_mse\n",
      "Fold tested in (sec): 10.718452215194702\n",
      "Fold tested in (sec): 11.47433066368103\n",
      "Fold tested in (sec): 12.459803342819214\n",
      "Fold tested in (sec): 13.103637218475342\n",
      "Fold tested in (sec): 14.65746021270752\n",
      "Accuracy: 0.7333333333333332\n",
      "MSE: 0.07160629086754146\n",
      "Confusion: {'constant/not increase': defaultdict(<class 'int'>, {'constant/not increase': 88, 'increase': 1}), 'increase': defaultdict(<class 'int'>, {'constant/not increase': 31})}\n",
      "Time elapsed (sec): 62.41689586639404\n",
      "Results saved to disk\n"
     ]
    }
   ],
   "source": [
    "test_with_all(x_disc_agg, y_share_agg['binned_y'], 'Matern52', 'Matern52_agg_disc_share_binned', 'agg', 'disc')"
   ]
  },
  {
   "cell_type": "code",
   "execution_count": 7,
   "metadata": {},
   "outputs": [
    {
     "name": "stdout",
     "output_type": "stream",
     "text": [
      "Testing: RBF_agg_disc_share_binned_updated_mse\n",
      "Fold tested in (sec): 15.043880224227905\n",
      "Fold tested in (sec): 15.75815224647522\n",
      "Fold tested in (sec): 16.98511266708374\n",
      "Fold tested in (sec): 17.55262780189514\n",
      "Fold tested in (sec): 19.28010869026184\n",
      "Accuracy: 0.7333333333333332\n",
      "MSE: 0.07210088639801991\n",
      "Confusion: {'constant/not increase': defaultdict(<class 'int'>, {'constant/not increase': 88, 'increase': 1}), 'increase': defaultdict(<class 'int'>, {'constant/not increase': 31})}\n",
      "Time elapsed (sec): 84.62256073951721\n",
      "Results saved to disk\n"
     ]
    }
   ],
   "source": [
    "test_with_all(x_disc_agg, y_share_agg['binned_y'], 'RBF', 'RBF_agg_disc_share_binned', 'agg', 'disc')"
   ]
  },
  {
   "cell_type": "markdown",
   "metadata": {},
   "source": [
    "### Individual"
   ]
  },
  {
   "cell_type": "code",
   "execution_count": 8,
   "metadata": {
    "scrolled": true
   },
   "outputs": [
    {
     "name": "stdout",
     "output_type": "stream",
     "text": [
      "Testing: Matern52_ind_cont_share_binned_updated_mse\n",
      "Fold tested in (sec): 403.11476373672485\n",
      "Fold tested in (sec): 395.3941011428833\n",
      "Fold tested in (sec): 366.4567177295685\n",
      "Fold tested in (sec): 325.536274433136\n",
      "Fold tested in (sec): 403.9964623451233\n",
      "Accuracy: 0.6826446280991736\n",
      "MSE: 0.06615183811265908\n",
      "Confusion: {'constant/not increase': defaultdict(<class 'int'>, {'constant/not increase': 1787}), 'increase': defaultdict(<class 'int'>, {'constant/not increase': 633})}\n",
      "Time elapsed (sec): 1894.5058982372284\n",
      "Results saved to disk\n"
     ]
    }
   ],
   "source": [
    "test_with_all(x_cont_ind, y_share_bin_ind, 'Matern52', 'Matern52_ind_cont_share_binned', 'ind', 'cont')"
   ]
  },
  {
   "cell_type": "code",
   "execution_count": 4,
   "metadata": {
    "scrolled": false
   },
   "outputs": [
    {
     "name": "stderr",
     "output_type": "stream",
     "text": [
      "W0819 00:48:35.374190 140254998771456 deprecation_wrapper.py:119] From /home/ubuntu/anaconda3/envs/python3/lib/python3.7/site-packages/gpflow/core/node.py:109: The name tf.get_default_graph is deprecated. Please use tf.compat.v1.get_default_graph instead.\n",
      "\n",
      "W0819 00:48:35.397005 140254998771456 deprecation_wrapper.py:119] From /home/ubuntu/anaconda3/envs/python3/lib/python3.7/site-packages/gpflow/params/parameter.py:388: The name tf.placeholder is deprecated. Please use tf.compat.v1.placeholder instead.\n",
      "\n",
      "W0819 00:48:35.403470 140254998771456 deprecation_wrapper.py:119] From /home/ubuntu/anaconda3/envs/python3/lib/python3.7/site-packages/gpflow/params/parameter.py:394: The name tf.get_variable is deprecated. Please use tf.compat.v1.get_variable instead.\n",
      "\n"
     ]
    },
    {
     "name": "stdout",
     "output_type": "stream",
     "text": [
      "Testing: RBF_ind_cont_share_binned_updated_mse\n"
     ]
    },
    {
     "name": "stderr",
     "output_type": "stream",
     "text": [
      "W0819 00:48:42.537402 140254998771456 deprecation.py:323] From /home/ubuntu/anaconda3/envs/python3/lib/python3.7/site-packages/tensorflow/python/ops/math_grad.py:1205: add_dispatch_support.<locals>.wrapper (from tensorflow.python.ops.array_ops) is deprecated and will be removed in a future version.\n",
      "Instructions for updating:\n",
      "Use tf.where in 2.0, which has the same broadcast rule as np.where\n"
     ]
    },
    {
     "name": "stdout",
     "output_type": "stream",
     "text": [
      "Fold tested in (sec): 323.05769419670105\n",
      "Fold tested in (sec): 339.87885904312134\n",
      "Fold tested in (sec): 321.94801902770996\n",
      "Fold tested in (sec): 390.61573600769043\n",
      "Fold tested in (sec): 353.9416153430939\n",
      "Accuracy: 0.6826446280991736\n",
      "MSE: 0.06550790913145779\n",
      "Confusion: {'constant/not increase': defaultdict(<class 'int'>, {'constant/not increase': 1787}), 'increase': defaultdict(<class 'int'>, {'constant/not increase': 633})}\n",
      "Time elapsed (sec): 1729.4539103507996\n",
      "Results saved to disk\n"
     ]
    }
   ],
   "source": [
    "test_with_all(x_cont_ind, y_share_bin_ind, 'RBF', 'RBF_ind_cont_share_binned', 'ind', 'cont')"
   ]
  },
  {
   "cell_type": "code",
   "execution_count": 9,
   "metadata": {},
   "outputs": [
    {
     "name": "stdout",
     "output_type": "stream",
     "text": [
      "Testing: Matern52_ind_disc_share_binned_updated_mse\n",
      "Fold tested in (sec): 412.80319237709045\n",
      "Fold tested in (sec): 402.1028447151184\n",
      "Fold tested in (sec): 374.7752089500427\n",
      "Fold tested in (sec): 332.7906153202057\n",
      "Fold tested in (sec): 409.14421033859253\n",
      "Accuracy: 0.6826446280991736\n",
      "MSE: 0.06615183811265908\n",
      "Confusion: {'constant/not increase': defaultdict(<class 'int'>, {'constant/not increase': 1787}), 'increase': defaultdict(<class 'int'>, {'constant/not increase': 633})}\n",
      "Time elapsed (sec): 1931.6235873699188\n",
      "Results saved to disk\n"
     ]
    }
   ],
   "source": [
    "test_with_all(x_disc_ind, y_share_bin_ind, 'Matern52', 'Matern52_ind_disc_share_binned', 'ind', 'disc')"
   ]
  },
  {
   "cell_type": "code",
   "execution_count": 11,
   "metadata": {},
   "outputs": [
    {
     "name": "stdout",
     "output_type": "stream",
     "text": [
      "Testing: RBF_ind_disc_share_binned_updated_mse\n",
      "Fold tested in (sec): 379.1797251701355\n",
      "Fold tested in (sec): 396.3410701751709\n",
      "Fold tested in (sec): 357.0380845069885\n",
      "Fold tested in (sec): 414.819299697876\n",
      "Fold tested in (sec): 406.18260288238525\n",
      "Accuracy: 0.6826446280991736\n",
      "MSE: 0.06550790913145779\n",
      "Confusion: {'constant/not increase': defaultdict(<class 'int'>, {'constant/not increase': 1787}), 'increase': defaultdict(<class 'int'>, {'constant/not increase': 633})}\n",
      "Time elapsed (sec): 1953.568521976471\n",
      "Results saved to disk\n"
     ]
    }
   ],
   "source": [
    "test_with_all(x_disc_ind, y_share_bin_ind, 'RBF', 'RBF_ind_disc_share_binned', 'ind', 'disc')"
   ]
  },
  {
   "cell_type": "markdown",
   "metadata": {},
   "source": [
    "## Run through - full grid"
   ]
  },
  {
   "cell_type": "code",
   "execution_count": null,
   "metadata": {
    "scrolled": true
   },
   "outputs": [],
   "source": [
    "# results = grid_search(agg_level)"
   ]
  },
  {
   "cell_type": "markdown",
   "metadata": {},
   "source": [
    "## Scratchpad"
   ]
  },
  {
   "cell_type": "code",
   "execution_count": null,
   "metadata": {},
   "outputs": [],
   "source": []
  }
 ],
 "metadata": {
  "kernelspec": {
   "display_name": "brookfield",
   "language": "python",
   "name": "brookfield"
  },
  "language_info": {
   "codemirror_mode": {
    "name": "ipython",
    "version": 3
   },
   "file_extension": ".py",
   "mimetype": "text/x-python",
   "name": "python",
   "nbconvert_exporter": "python",
   "pygments_lexer": "ipython3",
   "version": "3.5.6"
  }
 },
 "nbformat": 4,
 "nbformat_minor": 2
}
