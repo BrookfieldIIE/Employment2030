{
 "cells": [
  {
   "cell_type": "markdown",
   "metadata": {},
   "source": [
    "## Setup"
   ]
  },
  {
   "cell_type": "code",
   "execution_count": 20,
   "metadata": {},
   "outputs": [],
   "source": [
    "%run ../utils/utils.ipynb"
   ]
  },
  {
   "cell_type": "markdown",
   "metadata": {},
   "source": [
    "## For individual models"
   ]
  },
  {
   "cell_type": "code",
   "execution_count": 21,
   "metadata": {},
   "outputs": [],
   "source": [
    "# Sample (assumes transformations have already been made on dataset)\n",
    "# Create dataset accroding to these params:\n",
    "    # x: DataFrame or Numpy array, the data features\n",
    "    # y: DataFrame or Numpy array, the data labels (2 columns, 1st: distribution, 2nd: class)\n",
    "    # group: Array, the noc label for each skill vector\n",
    "    # agg_level: String, 'agg' or 'ind' for whether the data is aggregated\n",
    "    # value_type: String, 'disc' or 'cont' (discrete or continuous data)\n",
    "    # binned: String, 'binned' or 'not_binned' whether the data labels are binned\n",
    "# results = cv(datset, kernel_name)\n",
    "# pickle_results(results, 'individual_run/' + name_of_file)"
   ]
  }
 ],
 "metadata": {
  "kernelspec": {
   "display_name": "Environment (conda_python3)",
   "language": "python",
   "name": "conda_python3"
  },
  "language_info": {
   "codemirror_mode": {
    "name": "ipython",
    "version": 3
   },
   "file_extension": ".py",
   "mimetype": "text/x-python",
   "name": "python",
   "nbconvert_exporter": "python",
   "pygments_lexer": "ipython3",
   "version": "3.7.3"
  }
 },
 "nbformat": 4,
 "nbformat_minor": 2
}
