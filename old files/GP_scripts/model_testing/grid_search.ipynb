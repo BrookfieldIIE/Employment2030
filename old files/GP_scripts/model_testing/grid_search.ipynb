{
 "cells": [
  {
   "cell_type": "markdown",
   "metadata": {},
   "source": [
    "## Setup"
   ]
  },
  {
   "cell_type": "code",
   "execution_count": null,
   "metadata": {
    "scrolled": true
   },
   "outputs": [],
   "source": [
    "%run ../utils/utils.ipynb\n",
    "\n",
    "from copy import deepcopy\n",
    "from itertools import product\n",
    "\n",
    "from sklearn.preprocessing import scale, robust_scale, normalize"
   ]
  },
  {
   "cell_type": "code",
   "execution_count": null,
   "metadata": {},
   "outputs": [],
   "source": [
    "# Used to simulate no scaling or normalizing of the data\n",
    "def no_transform(data):\n",
    "    return data"
   ]
  },
  {
   "cell_type": "code",
   "execution_count": null,
   "metadata": {},
   "outputs": [],
   "source": [
    "## Constants\n",
    "# datasets is a list of all potential datasets created in data_processing.ipynb\n",
    "kernels = ['Matern12',\n",
    "           'Matern12_Linear',\n",
    "           'Matern32',\n",
    "           'Matern32_Linear',\n",
    "           'Matern52',\n",
    "           'Matern52_Linear',\n",
    "           'RBF',\n",
    "           'RBF_Linear']\n",
    "\n",
    "scaling_funcs = [scale, robust_scale, no_transform]\n",
    "\n",
    "# We experimented with normalizing the data as well, however we found that there lacked \n",
    "# a good theoretical reason for why it works and so dropped it\n",
    "# normalizing_funcs = [normalize, no_transform]"
   ]
  },
  {
   "cell_type": "code",
   "execution_count": null,
   "metadata": {
    "scrolled": true
   },
   "outputs": [],
   "source": [
    "# Emulates sklearn's grid_search over the parameter space with modifications for our use case\n",
    "# by simply searching over the potential datasets, kernels, scaling and normalizing options\n",
    "def grid_search(datasets, kernels, scaling):\n",
    "    results = {}\n",
    "    \n",
    "    # Product returns a generator over the cartesian product of input iterables\n",
    "    for dataset, kernel, scaler in product(datasets, kernels, scaling):\n",
    "        # It is necessary to deepcopy the dataset in order to perform the scaling changes\n",
    "        # or else scaling and normalizing changes would be performed on the original object\n",
    "        dataset = deepcopy(dataset)\n",
    "        name = \"_\".join([kernel, \n",
    "                         dataset.agg_level,\n",
    "                         dataset.value_type,\n",
    "                         dataset.binner,\n",
    "                         scaler.__name__])\n",
    "        print('Testing:', name)\n",
    "        start = time.time()\n",
    "        dataset.x = scaler(dataset.x)\n",
    "        results[name] = cv(dataset, kernel)\n",
    "        end = time.time()\n",
    "        print('Time elapsed (sec):', end - start)\n",
    "    \n",
    "    pickle_results(results, 'grid_search')\n",
    "    print('Results saved to disk')"
   ]
  },
  {
   "cell_type": "markdown",
   "metadata": {},
   "source": [
    "## Run through - full grid"
   ]
  },
  {
   "cell_type": "code",
   "execution_count": null,
   "metadata": {
    "scrolled": true
   },
   "outputs": [],
   "source": [
    "grid_search(datasets, kernels, scaling_funcs)"
   ]
  },
  {
   "cell_type": "markdown",
   "metadata": {},
   "source": [
    "## Scratchpad"
   ]
  },
  {
   "cell_type": "code",
   "execution_count": null,
   "metadata": {},
   "outputs": [],
   "source": []
  }
 ],
 "metadata": {
  "kernelspec": {
   "display_name": "Environment (conda_python3)",
   "language": "python",
   "name": "conda_python3"
  },
  "language_info": {
   "codemirror_mode": {
    "name": "ipython",
    "version": 3
   },
   "file_extension": ".py",
   "mimetype": "text/x-python",
   "name": "python",
   "nbconvert_exporter": "python",
   "pygments_lexer": "ipython3",
   "version": "3.7.3"
  }
 },
 "nbformat": 4,
 "nbformat_minor": 2
}
