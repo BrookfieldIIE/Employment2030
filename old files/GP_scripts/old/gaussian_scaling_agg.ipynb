{
 "cells": [
  {
   "cell_type": "markdown",
   "metadata": {},
   "source": [
    "## Setup"
   ]
  },
  {
   "cell_type": "code",
   "execution_count": 1,
   "metadata": {},
   "outputs": [
    {
     "name": "stderr",
     "output_type": "stream",
     "text": [
      "WARNING: Logging before flag parsing goes to stderr.\n",
      "W0903 11:26:44.416280 4561610176 deprecation_wrapper.py:119] From /Users/rob/.pyenv/versions/brookfield/lib/python3.5/site-packages/gpflow/session_manager.py:31: The name tf.Session is deprecated. Please use tf.compat.v1.Session instead.\n",
      "\n",
      "W0903 11:26:44.418251 4561610176 deprecation_wrapper.py:119] From /Users/rob/.pyenv/versions/brookfield/lib/python3.5/site-packages/gpflow/misc.py:27: The name tf.GraphKeys is deprecated. Please use tf.compat.v1.GraphKeys instead.\n",
      "\n",
      "W0903 11:26:44.487282 4561610176 deprecation_wrapper.py:119] From /Users/rob/.pyenv/versions/brookfield/lib/python3.5/site-packages/gpflow/training/tensorflow_optimizer.py:169: The name tf.train.AdadeltaOptimizer is deprecated. Please use tf.compat.v1.train.AdadeltaOptimizer instead.\n",
      "\n",
      "W0903 11:26:44.488095 4561610176 deprecation_wrapper.py:119] From /Users/rob/.pyenv/versions/brookfield/lib/python3.5/site-packages/gpflow/training/tensorflow_optimizer.py:156: The name tf.train.Optimizer is deprecated. Please use tf.compat.v1.train.Optimizer instead.\n",
      "\n",
      "W0903 11:26:44.489067 4561610176 deprecation_wrapper.py:119] From /Users/rob/.pyenv/versions/brookfield/lib/python3.5/site-packages/gpflow/training/tensorflow_optimizer.py:169: The name tf.train.AdagradDAOptimizer is deprecated. Please use tf.compat.v1.train.AdagradDAOptimizer instead.\n",
      "\n",
      "W0903 11:26:44.491053 4561610176 deprecation_wrapper.py:119] From /Users/rob/.pyenv/versions/brookfield/lib/python3.5/site-packages/gpflow/training/tensorflow_optimizer.py:169: The name tf.train.AdagradOptimizer is deprecated. Please use tf.compat.v1.train.AdagradOptimizer instead.\n",
      "\n",
      "W0903 11:26:44.492810 4561610176 deprecation_wrapper.py:119] From /Users/rob/.pyenv/versions/brookfield/lib/python3.5/site-packages/gpflow/training/tensorflow_optimizer.py:169: The name tf.train.AdamOptimizer is deprecated. Please use tf.compat.v1.train.AdamOptimizer instead.\n",
      "\n",
      "W0903 11:26:44.507957 4561610176 deprecation_wrapper.py:119] From /Users/rob/.pyenv/versions/brookfield/lib/python3.5/site-packages/gpflow/saver/coders.py:80: The name tf.data.Iterator is deprecated. Please use tf.compat.v1.data.Iterator instead.\n",
      "\n"
     ]
    }
   ],
   "source": [
    "%run ../utils/functions.ipynb"
   ]
  },
  {
   "cell_type": "code",
   "execution_count": 2,
   "metadata": {},
   "outputs": [],
   "source": [
    "def tester(x_all, y_all, kern, name, agg_level, dist):\n",
    "    def run_test(scaler, normal):\n",
    "        start = time.time()\n",
    "        x, y = x_and_y(x_all, y_all)\n",
    "        scale_name = params\n",
    "        if scaler:\n",
    "            scale_name += '_' + scaler.__name__\n",
    "            x = scaler(x)\n",
    "        if normal: \n",
    "            x = normalize(x)\n",
    "            scale_name += '_' + normalize.__name__\n",
    "        print('Testing:', scale_name)\n",
    "        result = cv(x, y, x_all, y_all, kern, agg_level, dist, group)\n",
    "        end = time.time()\n",
    "        print('Accuracy:', result['Avg. score'])\n",
    "        print('MSE:', result['Avg. mse'])\n",
    "        print('MAE:', result['Avg. mae'])\n",
    "        print('ROC:', result['Avg. roc'])\n",
    "        print('Confusion:', result['Confusion'])\n",
    "        print('Time elapsed (sec):', end - start)\n",
    "        pickle_results(result, scale_name)\n",
    "        print('Results saved to disk')\n",
    "        \n",
    "    params = '/'.join(['full_model', 'combined_kernel', name])\n",
    "    scales = [robust_scale, scale]\n",
    "    if agg_level == 'agg': \n",
    "        group = agg_nocs\n",
    "    else:                  \n",
    "        group = x_all['noc']\n",
    "#     for scaler in scales:\n",
    "#         for normal in range(2):\n",
    "#             run_test(scaler, normal)\n",
    "    run_test(scale, 1)"
   ]
  },
  {
   "cell_type": "markdown",
   "metadata": {},
   "source": [
    "## Run Through - Aggregate"
   ]
  },
  {
   "cell_type": "code",
   "execution_count": 3,
   "metadata": {},
   "outputs": [
    {
     "name": "stderr",
     "output_type": "stream",
     "text": [
      "W0903 11:26:44.624470 4561610176 deprecation_wrapper.py:119] From /Users/rob/.pyenv/versions/brookfield/lib/python3.5/site-packages/gpflow/core/node.py:109: The name tf.get_default_graph is deprecated. Please use tf.compat.v1.get_default_graph instead.\n",
      "\n",
      "W0903 11:26:44.646770 4561610176 deprecation_wrapper.py:119] From /Users/rob/.pyenv/versions/brookfield/lib/python3.5/site-packages/gpflow/params/parameter.py:388: The name tf.placeholder is deprecated. Please use tf.compat.v1.placeholder instead.\n",
      "\n",
      "W0903 11:26:44.649777 4561610176 deprecation_wrapper.py:119] From /Users/rob/.pyenv/versions/brookfield/lib/python3.5/site-packages/gpflow/params/parameter.py:394: The name tf.get_variable is deprecated. Please use tf.compat.v1.get_variable instead.\n",
      "\n"
     ]
    },
    {
     "name": "stdout",
     "output_type": "stream",
     "text": [
      "Testing: full_model/combined_kernel/Matern52_Linear_agg_cont_share_scale_normalize\n"
     ]
    },
    {
     "name": "stderr",
     "output_type": "stream",
     "text": [
      "W0903 11:26:45.550430 4561610176 deprecation.py:323] From /Users/rob/.pyenv/versions/brookfield/lib/python3.5/site-packages/tensorflow/python/ops/math_grad.py:1205: add_dispatch_support.<locals>.wrapper (from tensorflow.python.ops.array_ops) is deprecated and will be removed in a future version.\n",
      "Instructions for updating:\n",
      "Use tf.where in 2.0, which has the same broadcast rule as np.where\n"
     ]
    },
    {
     "name": "stdout",
     "output_type": "stream",
     "text": [
      "Fold tested in (sec): 5.016172885894775\n",
      "Fold tested in (sec): 5.3231360912323\n",
      "Fold tested in (sec): 6.230973958969116\n",
      "Fold tested in (sec): 7.430117130279541\n",
      "Fold tested in (sec): 8.442126989364624\n",
      "Accuracy: 0.4416666666666666\n",
      "MSE: 0.05910501657386943\n",
      "MAE: 0.19205554270042752\n",
      "ROC: 0.6050627462779165\n",
      "Confusion: {'constant/not increase': defaultdict(<class 'int'>, {'constant/not increase': 12, 'decrease': 3, 'increase': 11}), 'decrease': defaultdict(<class 'int'>, {'constant/not increase': 25, 'decrease': 19, 'increase': 8}), 'increase': defaultdict(<class 'int'>, {'constant/not increase': 20, 'decrease': 2, 'increase': 20})}\n",
      "Time elapsed (sec): 32.45401406288147\n",
      "Results saved to disk\n"
     ]
    }
   ],
   "source": [
    "tester(x_cont_agg, y_share_agg['y'], 'Matern52_Linear', 'Matern52_Linear_agg_cont_share', 'agg', 'cont')"
   ]
  },
  {
   "cell_type": "code",
   "execution_count": 4,
   "metadata": {},
   "outputs": [
    {
     "name": "stdout",
     "output_type": "stream",
     "text": [
      "Testing: full_model/combined_kernel/RBF_Linear_agg_cont_share_scale_normalize\n",
      "Fold tested in (sec): 10.027824878692627\n",
      "Fold tested in (sec): 9.747411966323853\n",
      "Fold tested in (sec): 10.009929895401001\n",
      "Fold tested in (sec): 11.923213958740234\n",
      "Fold tested in (sec): 12.77495813369751\n",
      "Accuracy: 0.4333333333333333\n",
      "MSE: 0.05731665978740663\n",
      "MAE: 0.1889602924978571\n",
      "ROC: 0.6173221827478794\n",
      "Confusion: {'constant/not increase': defaultdict(<class 'int'>, {'constant/not increase': 11, 'decrease': 4, 'increase': 11}), 'decrease': defaultdict(<class 'int'>, {'constant/not increase': 24, 'decrease': 20, 'increase': 8}), 'increase': defaultdict(<class 'int'>, {'constant/not increase': 16, 'decrease': 2, 'increase': 24})}\n",
      "Time elapsed (sec): 54.490633964538574\n",
      "Results saved to disk\n"
     ]
    }
   ],
   "source": [
    "tester(x_cont_agg, y_share_agg['y'], 'RBF_Linear', 'RBF_Linear_agg_cont_share', 'agg', 'cont')"
   ]
  },
  {
   "cell_type": "code",
   "execution_count": 5,
   "metadata": {},
   "outputs": [],
   "source": [
    "# tester(x_cont_agg, y_share_agg['binned_y'], 'Matern52', 'Matern52_agg_cont_share_binned', 'agg', 'cont')"
   ]
  },
  {
   "cell_type": "code",
   "execution_count": 6,
   "metadata": {},
   "outputs": [],
   "source": [
    "# tester(x_cont_agg, y_share_agg['binned_y'], 'RBF', 'RBF_agg_cont_share_binned', 'agg', 'cont')"
   ]
  },
  {
   "cell_type": "code",
   "execution_count": 7,
   "metadata": {},
   "outputs": [],
   "source": [
    "# tester(x_disc_agg, y_share_agg['y'], 'Matern52', 'Matern52_agg_disc_share', 'agg', 'disc')"
   ]
  },
  {
   "cell_type": "code",
   "execution_count": 8,
   "metadata": {},
   "outputs": [],
   "source": [
    "# tester(x_disc_agg, y_share_agg['y'], 'RBF', 'RBF_agg_disc_share', 'agg', 'disc')"
   ]
  },
  {
   "cell_type": "code",
   "execution_count": 9,
   "metadata": {},
   "outputs": [],
   "source": [
    "# tester(x_disc_agg, y_share_agg['binned_y'], 'Matern52', 'Matern52_agg_disc_share_binned', 'agg', 'disc')"
   ]
  },
  {
   "cell_type": "code",
   "execution_count": 10,
   "metadata": {},
   "outputs": [],
   "source": [
    "# tester(x_disc_agg, y_share_agg['binned_y'], 'RBF', 'RBF_agg_disc_share_binned', 'agg', 'disc')"
   ]
  },
  {
   "cell_type": "code",
   "execution_count": null,
   "metadata": {},
   "outputs": [],
   "source": []
  }
 ],
 "metadata": {
  "kernelspec": {
   "display_name": "brookfield",
   "language": "python",
   "name": "brookfield"
  },
  "language_info": {
   "codemirror_mode": {
    "name": "ipython",
    "version": 3
   },
   "file_extension": ".py",
   "mimetype": "text/x-python",
   "name": "python",
   "nbconvert_exporter": "python",
   "pygments_lexer": "ipython3",
   "version": "3.5.6"
  }
 },
 "nbformat": 4,
 "nbformat_minor": 2
}
