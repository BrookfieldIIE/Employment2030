{
 "cells": [
  {
   "cell_type": "markdown",
   "metadata": {},
   "source": [
    "## Setup"
   ]
  },
  {
   "cell_type": "code",
   "execution_count": 1,
   "metadata": {
    "scrolled": true
   },
   "outputs": [
    {
     "name": "stderr",
     "output_type": "stream",
     "text": [
      "WARNING: Logging before flag parsing goes to stderr.\n",
      "W0828 20:05:06.879539 139763387639552 deprecation_wrapper.py:119] From /home/ubuntu/anaconda3/envs/python3/lib/python3.7/site-packages/gpflow/session_manager.py:31: The name tf.Session is deprecated. Please use tf.compat.v1.Session instead.\n",
      "\n",
      "W0828 20:05:06.881120 139763387639552 deprecation_wrapper.py:119] From /home/ubuntu/anaconda3/envs/python3/lib/python3.7/site-packages/gpflow/misc.py:27: The name tf.GraphKeys is deprecated. Please use tf.compat.v1.GraphKeys instead.\n",
      "\n",
      "W0828 20:05:06.917277 139763387639552 deprecation_wrapper.py:119] From /home/ubuntu/anaconda3/envs/python3/lib/python3.7/site-packages/gpflow/saver/coders.py:80: The name tf.data.Iterator is deprecated. Please use tf.compat.v1.data.Iterator instead.\n",
      "\n"
     ]
    }
   ],
   "source": [
    "%run ../utils/functions.ipynb"
   ]
  },
  {
   "cell_type": "code",
   "execution_count": 2,
   "metadata": {},
   "outputs": [],
   "source": [
    "features = ['value.Mathematics Skill',\n",
    "            'value.Science',\n",
    "            'value.Service Orientation',\n",
    "            'value.Fluency of Ideas',\n",
    "            'value.Deductive Reasoning',\n",
    "            'value.Information Ordering',\n",
    "            'value.Flexibility of Closure',\n",
    "            'value.Perceptual Speed',\n",
    "            'value.Selective Attention',\n",
    "            'value.Time Sharing',\n",
    "            'value.Response Orientation',\n",
    "            'value.Explosive Strength',\n",
    "            'value.Computers and Electronics',\n",
    "            'value.Chemistry']"
   ]
  },
  {
   "cell_type": "code",
   "execution_count": 3,
   "metadata": {},
   "outputs": [],
   "source": [
    "def tester(x_all, y_all, kern, name, agg_level, dist, fs=True):\n",
    "    params = '/'.join(['full_model', 'feature_selection', name + '_scale_normalize'])\n",
    "    print('Testing:', params)\n",
    "    start = time.time()\n",
    "    if agg_level == 'agg': group = agg_nocs\n",
    "    else:                  group = x_all['noc']\n",
    "    x, y = x_and_y(x_all[features], y_all)\n",
    "    x = normalize(scale(x))\n",
    "    result = cv(x, y, x_all, y_all, kern, agg_level, dist, group)\n",
    "    end = time.time()\n",
    "    print('Accuracy:', result['Avg. score'])\n",
    "    print('MSE:', result['Avg. mse'])\n",
    "    print('MAE:', result['Avg. mae'])\n",
    "    print('ROC:', result['Avg. roc'])\n",
    "    print('Confusion:', result['Confusion'])\n",
    "    print('Time elapsed (sec):', end - start)\n",
    "    pickle_results(result, params)\n",
    "    print('Results saved to disk')"
   ]
  },
  {
   "cell_type": "markdown",
   "metadata": {},
   "source": [
    "## Run Through - feature selection"
   ]
  },
  {
   "cell_type": "markdown",
   "metadata": {},
   "source": [
    "### Individual"
   ]
  },
  {
   "cell_type": "code",
   "execution_count": null,
   "metadata": {},
   "outputs": [],
   "source": [
    "# tester(x_cont_ind, y_share_ind, 'Matern52', 'Matern52_ind_cont_share', 'ind', 'cont')"
   ]
  },
  {
   "cell_type": "code",
   "execution_count": null,
   "metadata": {},
   "outputs": [],
   "source": [
    "# tester(x_cont_ind, y_share_ind, 'RBF', 'RBF_ind_cont_share', 'ind', 'cont')"
   ]
  },
  {
   "cell_type": "code",
   "execution_count": null,
   "metadata": {
    "scrolled": true
   },
   "outputs": [],
   "source": [
    "tester(x_cont_ind, y_share_bin_ind, 'Matern52', 'Matern52_ind_cont_share_binned', 'ind', 'cont')"
   ]
  },
  {
   "cell_type": "code",
   "execution_count": null,
   "metadata": {
    "scrolled": true
   },
   "outputs": [],
   "source": [
    "tester(x_cont_ind, y_share_bin_ind, 'RBF', 'RBF_ind_cont_share_binned', 'ind', 'cont')"
   ]
  },
  {
   "cell_type": "code",
   "execution_count": null,
   "metadata": {
    "scrolled": true
   },
   "outputs": [],
   "source": [
    "tester(x_cont_ind, y_share_bin_ind, 'Matern52_Linear', 'Matern52_Linear_ind_cont_share_binned', 'ind', 'cont')"
   ]
  },
  {
   "cell_type": "code",
   "execution_count": null,
   "metadata": {
    "scrolled": true
   },
   "outputs": [],
   "source": [
    "tester(x_cont_ind, y_share_bin_ind, 'RBF_Linear', 'RBF_Linear_ind_cont_share_binned', 'ind', 'cont')"
   ]
  }
 ],
 "metadata": {
  "kernelspec": {
   "display_name": "brookfield",
   "language": "python",
   "name": "brookfield"
  },
  "language_info": {
   "codemirror_mode": {
    "name": "ipython",
    "version": 3
   },
   "file_extension": ".py",
   "mimetype": "text/x-python",
   "name": "python",
   "nbconvert_exporter": "python",
   "pygments_lexer": "ipython3",
   "version": "3.5.6"
  }
 },
 "nbformat": 4,
 "nbformat_minor": 2
}
