{
 "cells": [
  {
   "cell_type": "markdown",
   "metadata": {},
   "source": [
    "## Setup"
   ]
  },
  {
   "cell_type": "code",
   "execution_count": 1,
   "metadata": {
    "scrolled": true
   },
   "outputs": [
    {
     "name": "stderr",
     "output_type": "stream",
     "text": [
      "WARNING: Logging before flag parsing goes to stderr.\n",
      "W0903 11:33:59.619051 4749858240 deprecation_wrapper.py:119] From /Users/rob/.pyenv/versions/brookfield/lib/python3.5/site-packages/gpflow/session_manager.py:31: The name tf.Session is deprecated. Please use tf.compat.v1.Session instead.\n",
      "\n",
      "W0903 11:33:59.622463 4749858240 deprecation_wrapper.py:119] From /Users/rob/.pyenv/versions/brookfield/lib/python3.5/site-packages/gpflow/misc.py:27: The name tf.GraphKeys is deprecated. Please use tf.compat.v1.GraphKeys instead.\n",
      "\n",
      "W0903 11:33:59.704303 4749858240 deprecation_wrapper.py:119] From /Users/rob/.pyenv/versions/brookfield/lib/python3.5/site-packages/gpflow/training/tensorflow_optimizer.py:169: The name tf.train.AdadeltaOptimizer is deprecated. Please use tf.compat.v1.train.AdadeltaOptimizer instead.\n",
      "\n",
      "W0903 11:33:59.705120 4749858240 deprecation_wrapper.py:119] From /Users/rob/.pyenv/versions/brookfield/lib/python3.5/site-packages/gpflow/training/tensorflow_optimizer.py:156: The name tf.train.Optimizer is deprecated. Please use tf.compat.v1.train.Optimizer instead.\n",
      "\n",
      "W0903 11:33:59.705799 4749858240 deprecation_wrapper.py:119] From /Users/rob/.pyenv/versions/brookfield/lib/python3.5/site-packages/gpflow/training/tensorflow_optimizer.py:169: The name tf.train.AdagradDAOptimizer is deprecated. Please use tf.compat.v1.train.AdagradDAOptimizer instead.\n",
      "\n",
      "W0903 11:33:59.708026 4749858240 deprecation_wrapper.py:119] From /Users/rob/.pyenv/versions/brookfield/lib/python3.5/site-packages/gpflow/training/tensorflow_optimizer.py:169: The name tf.train.AdagradOptimizer is deprecated. Please use tf.compat.v1.train.AdagradOptimizer instead.\n",
      "\n",
      "W0903 11:33:59.710261 4749858240 deprecation_wrapper.py:119] From /Users/rob/.pyenv/versions/brookfield/lib/python3.5/site-packages/gpflow/training/tensorflow_optimizer.py:169: The name tf.train.AdamOptimizer is deprecated. Please use tf.compat.v1.train.AdamOptimizer instead.\n",
      "\n",
      "W0903 11:33:59.735871 4749858240 deprecation_wrapper.py:119] From /Users/rob/.pyenv/versions/brookfield/lib/python3.5/site-packages/gpflow/saver/coders.py:80: The name tf.data.Iterator is deprecated. Please use tf.compat.v1.data.Iterator instead.\n",
      "\n"
     ]
    }
   ],
   "source": [
    "%run ../utils/functions.ipynb"
   ]
  },
  {
   "cell_type": "code",
   "execution_count": 2,
   "metadata": {},
   "outputs": [],
   "source": [
    "features = ['value.Mathematics Skill',\n",
    "            'value.Science',\n",
    "            'value.Service Orientation',\n",
    "            'value.Fluency of Ideas',\n",
    "            'value.Deductive Reasoning',\n",
    "            'value.Information Ordering',\n",
    "            'value.Flexibility of Closure',\n",
    "            'value.Perceptual Speed',\n",
    "            'value.Selective Attention',\n",
    "            'value.Time Sharing',\n",
    "            'value.Response Orientation',\n",
    "            'value.Explosive Strength',\n",
    "            'value.Computers and Electronics',\n",
    "            'value.Chemistry']"
   ]
  },
  {
   "cell_type": "code",
   "execution_count": 3,
   "metadata": {},
   "outputs": [],
   "source": [
    "def tester(x_all, y_all, kern, name, agg_level, dist):\n",
    "    params = '/'.join(['full_model', 'feature_selection', name])\n",
    "    print('Testing:', params)\n",
    "    start = time.time()\n",
    "    if agg_level == 'agg': group = agg_nocs\n",
    "    else:                  group = x_all['noc']\n",
    "    x, y = x_and_y(x_all[features], y_all)\n",
    "    x = normalize(scale(x))\n",
    "    result = cv(x, y, x_all, y_all, kern, agg_level, dist, group)\n",
    "    end = time.time()\n",
    "    print('Accuracy:', result['Avg. score'])\n",
    "    print('MSE:', result['Avg. mse'])\n",
    "    print('MAE:', result['Avg. mae'])\n",
    "    print('ROC:', result['Avg. roc'])\n",
    "    print('Confusion:', result['Confusion'])\n",
    "    print('Time elapsed (sec):', end - start)\n",
    "    pickle_results(result, params)\n",
    "    print('Results saved to disk')"
   ]
  },
  {
   "cell_type": "markdown",
   "metadata": {},
   "source": [
    "## Run Through - feature selection"
   ]
  },
  {
   "cell_type": "markdown",
   "metadata": {},
   "source": [
    "### Aggregated"
   ]
  },
  {
   "cell_type": "code",
   "execution_count": 4,
   "metadata": {},
   "outputs": [
    {
     "name": "stderr",
     "output_type": "stream",
     "text": [
      "W0903 11:33:59.880543 4749858240 deprecation_wrapper.py:119] From /Users/rob/.pyenv/versions/brookfield/lib/python3.5/site-packages/gpflow/core/node.py:109: The name tf.get_default_graph is deprecated. Please use tf.compat.v1.get_default_graph instead.\n",
      "\n",
      "W0903 11:33:59.908011 4749858240 deprecation_wrapper.py:119] From /Users/rob/.pyenv/versions/brookfield/lib/python3.5/site-packages/gpflow/params/parameter.py:388: The name tf.placeholder is deprecated. Please use tf.compat.v1.placeholder instead.\n",
      "\n",
      "W0903 11:33:59.911145 4749858240 deprecation_wrapper.py:119] From /Users/rob/.pyenv/versions/brookfield/lib/python3.5/site-packages/gpflow/params/parameter.py:394: The name tf.get_variable is deprecated. Please use tf.compat.v1.get_variable instead.\n",
      "\n"
     ]
    },
    {
     "name": "stdout",
     "output_type": "stream",
     "text": [
      "Testing: full_model/feature_selection/Matern52_agg_cont_share\n"
     ]
    },
    {
     "name": "stderr",
     "output_type": "stream",
     "text": [
      "W0903 11:34:00.620373 4749858240 deprecation.py:323] From /Users/rob/.pyenv/versions/brookfield/lib/python3.5/site-packages/tensorflow/python/ops/math_grad.py:1205: add_dispatch_support.<locals>.wrapper (from tensorflow.python.ops.array_ops) is deprecated and will be removed in a future version.\n",
      "Instructions for updating:\n",
      "Use tf.where in 2.0, which has the same broadcast rule as np.where\n"
     ]
    },
    {
     "name": "stdout",
     "output_type": "stream",
     "text": [
      "Fold tested in (sec): 3.6151909828186035\n",
      "Fold tested in (sec): 3.7658231258392334\n",
      "Fold tested in (sec): 4.656821966171265\n",
      "Fold tested in (sec): 5.627488136291504\n",
      "Fold tested in (sec): 6.294580936431885\n",
      "Accuracy: 0.4\n",
      "MSE: 0.05538316765507436\n",
      "MAE: 0.18657611359049792\n",
      "ROC: 0.5836904761904762\n",
      "Confusion: {'increase': defaultdict(<class 'int'>, {'increase': 7, 'constant/not increase': 9}), 'constant/not increase': defaultdict(<class 'int'>, {'increase': 2, 'constant/not increase': 9}), 'decrease': defaultdict(<class 'int'>, {'decrease': 3, 'constant/not increase': 13, 'increase': 2})}\n",
      "Time elapsed (sec): 23.9735689163208\n",
      "Results saved to disk\n"
     ]
    }
   ],
   "source": [
    "tester(x_cont_agg, y_share_agg['y'], 'Matern52', 'Matern52_agg_cont_share', 'agg', 'cont')"
   ]
  },
  {
   "cell_type": "code",
   "execution_count": 5,
   "metadata": {
    "scrolled": false
   },
   "outputs": [
    {
     "name": "stdout",
     "output_type": "stream",
     "text": [
      "Testing: full_model/feature_selection/RBF_agg_cont_share\n",
      "Fold tested in (sec): 7.584772825241089\n",
      "Fold tested in (sec): 7.598614931106567\n",
      "Fold tested in (sec): 8.404154062271118\n",
      "Fold tested in (sec): 10.104877948760986\n",
      "Fold tested in (sec): 8.885432004928589\n",
      "Accuracy: 0.4444444444444445\n",
      "MSE: 0.05445793674886136\n",
      "MAE: 0.18421255040565185\n",
      "ROC: 0.6086904761904762\n",
      "Confusion: {'increase': defaultdict(<class 'int'>, {'increase': 8, 'constant/not increase': 8}), 'constant/not increase': defaultdict(<class 'int'>, {'increase': 2, 'constant/not increase': 9}), 'decrease': defaultdict(<class 'int'>, {'decrease': 4, 'constant/not increase': 12, 'increase': 2})}\n",
      "Time elapsed (sec): 42.585230112075806\n",
      "Results saved to disk\n"
     ]
    }
   ],
   "source": [
    "tester(x_cont_agg, y_share_agg['y'], 'RBF', 'RBF_agg_cont_share', 'agg', 'cont')"
   ]
  },
  {
   "cell_type": "code",
   "execution_count": 6,
   "metadata": {},
   "outputs": [
    {
     "name": "stdout",
     "output_type": "stream",
     "text": [
      "Testing: full_model/feature_selection/Matern52_Linear_agg_cont_share\n",
      "Fold tested in (sec): 10.544265985488892\n",
      "Fold tested in (sec): 13.507575988769531\n",
      "Fold tested in (sec): 17.19785499572754\n",
      "Fold tested in (sec): 13.010581970214844\n",
      "Fold tested in (sec): 13.93561315536499\n",
      "Accuracy: 0.4222222222222222\n",
      "MSE: 0.057749366903624075\n",
      "MAE: 0.19178964789602665\n",
      "ROC: 0.5784523809523809\n",
      "Confusion: {'increase': defaultdict(<class 'int'>, {'increase': 12, 'constant/not increase': 4}), 'constant/not increase': defaultdict(<class 'int'>, {'increase': 7, 'constant/not increase': 3, 'decrease': 1}), 'decrease': defaultdict(<class 'int'>, {'decrease': 5, 'constant/not increase': 9, 'increase': 4})}\n",
      "Time elapsed (sec): 68.20483803749084\n",
      "Results saved to disk\n"
     ]
    }
   ],
   "source": [
    "tester(x_cont_agg, y_share_agg['y'], 'Matern52_Linear', 'Matern52_Linear_agg_cont_share', 'agg', 'cont')"
   ]
  },
  {
   "cell_type": "code",
   "execution_count": null,
   "metadata": {
    "scrolled": false
   },
   "outputs": [
    {
     "name": "stdout",
     "output_type": "stream",
     "text": [
      "Testing: full_model/feature_selection/RBF_Linear_agg_cont_share\n",
      "Fold tested in (sec): 14.677968978881836\n",
      "Fold tested in (sec): 16.295952081680298\n"
     ]
    }
   ],
   "source": [
    "tester(x_cont_agg, y_share_agg['y'], 'RBF_Linear', 'RBF_Linear_agg_cont_share', 'agg', 'cont')"
   ]
  },
  {
   "cell_type": "code",
   "execution_count": null,
   "metadata": {
    "scrolled": false
   },
   "outputs": [],
   "source": [
    "# tester(x_cont_agg, y_share_agg['binned_y'], 'Matern52', 'Matern52_agg_cont_share_binned', 'agg', 'cont')"
   ]
  },
  {
   "cell_type": "code",
   "execution_count": null,
   "metadata": {
    "scrolled": false
   },
   "outputs": [],
   "source": [
    "# tester(x_cont_agg, y_share_agg['binned_y'], 'RBF', 'RBF_agg_cont_share_binned', 'agg', 'cont')"
   ]
  },
  {
   "cell_type": "code",
   "execution_count": null,
   "metadata": {},
   "outputs": [],
   "source": [
    "# tester(x_disc_agg, y_share_agg['y'], 'Matern52', 'Matern52_agg_disc_share', 'agg', 'disc')"
   ]
  },
  {
   "cell_type": "code",
   "execution_count": null,
   "metadata": {},
   "outputs": [],
   "source": [
    "# tester(x_disc_agg, y_share_agg['y'], 'RBF', 'RBF_agg_disc_share', 'agg', 'disc')"
   ]
  },
  {
   "cell_type": "code",
   "execution_count": null,
   "metadata": {},
   "outputs": [],
   "source": [
    "# tester(x_disc_agg, y_share_agg['binned_y'], 'Matern52', 'Matern52_agg_disc_share_binned', 'agg', 'disc')"
   ]
  },
  {
   "cell_type": "code",
   "execution_count": null,
   "metadata": {},
   "outputs": [],
   "source": [
    "# tester(x_disc_agg, y_share_agg['binned_y'], 'RBF', 'RBF_agg_disc_share_binned', 'agg', 'disc')"
   ]
  }
 ],
 "metadata": {
  "kernelspec": {
   "display_name": "brookfield",
   "language": "python",
   "name": "brookfield"
  },
  "language_info": {
   "codemirror_mode": {
    "name": "ipython",
    "version": 3
   },
   "file_extension": ".py",
   "mimetype": "text/x-python",
   "name": "python",
   "nbconvert_exporter": "python",
   "pygments_lexer": "ipython3",
   "version": "3.5.6"
  }
 },
 "nbformat": 4,
 "nbformat_minor": 2
}
