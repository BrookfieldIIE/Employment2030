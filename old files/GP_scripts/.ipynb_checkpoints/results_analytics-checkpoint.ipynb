{
 "cells": [
  {
   "cell_type": "code",
   "execution_count": 1,
   "metadata": {},
   "outputs": [],
   "source": [
    "import pickle\n",
    "import os\n",
    "from collections import defaultdict"
   ]
  },
  {
   "cell_type": "code",
   "execution_count": 2,
   "metadata": {},
   "outputs": [],
   "source": [
    "agg_dir =  'gp_results/scaling_agg'\n",
    "ind_dir =  'gp_results/scaling_ind'\n",
    "fs_dir =   'gp_results/feature_selection_scale_normalize'\n",
    "full_dir = 'gp_results/full_model/all_features'"
   ]
  },
  {
   "cell_type": "code",
   "execution_count": 3,
   "metadata": {},
   "outputs": [],
   "source": [
    "agg_files =  os.listdir(agg_dir)\n",
    "ind_files =  os.listdir(ind_dir)\n",
    "fs_files =   os.listdir(fs_dir)\n",
    "full_files = os.listdir(full_dir)"
   ]
  },
  {
   "cell_type": "code",
   "execution_count": 4,
   "metadata": {},
   "outputs": [],
   "source": [
    "def rec_dd():\n",
    "    return defaultdict(rec_dd)\n",
    "\n",
    "def build_results(directory, files):\n",
    "    models = rec_dd()\n",
    "    for file in files:\n",
    "        if file == '.DS_Store': continue\n",
    "        with open(os.path.join(directory, file), 'rb') as f:\n",
    "            results = pickle.load(f)\n",
    "        filename = os.path.splitext(file)[0]\n",
    "        # Slightly different naming conventions for non-scaled results\n",
    "        try:\n",
    "            model, scaling = filename.split('_scaling_')\n",
    "        except ValueError:\n",
    "            model = filename\n",
    "            scaling = ''\n",
    "        if scaling == 'scale_normalize' or scaling == '':\n",
    "            models[model] = (results['Avg. mse'], results['Avg. roc'])\n",
    "        # models[model][scaling]['ROC'] = results['Avg. roc']\n",
    "    # best = sorted(models.keys(), key=lambda x: models[x]['scale_normalize']['MSE'])\n",
    "    best = [(x, models[x]) for x in sorted(models, key=models.get)]\n",
    "    return models, best"
   ]
  },
  {
   "cell_type": "code",
   "execution_count": 5,
   "metadata": {},
   "outputs": [],
   "source": [
    "agg_models, agg_best =   build_results(agg_dir, agg_files)\n",
    "ind_models, ind_best =   build_results(ind_dir, ind_files)\n",
    "fs_models, fs_best =     build_results(fs_dir, fs_files)\n",
    "full_models, full_best = build_results(full_dir, full_files)"
   ]
  },
  {
   "cell_type": "code",
   "execution_count": 6,
   "metadata": {},
   "outputs": [
    {
     "data": {
      "text/plain": [
       "defaultdict(<function __main__.rec_dd()>,\n",
       "            {'Matern52_agg_cont_share': (0.05749827869031793,\n",
       "              0.5529691395635667),\n",
       "             'Matern52_agg_cont_share_binned': (0.05876195512020229,\n",
       "              0.6533239962651727),\n",
       "             'Matern52_agg_disc_share': (0.06064962982502218,\n",
       "              0.5796146592199224),\n",
       "             'Matern52_agg_disc_share_binned': (0.06673681794424709,\n",
       "              0.5603174603174603),\n",
       "             'RBF_agg_cont_share': (0.059157318533241875, 0.5889441562622676),\n",
       "             'RBF_agg_cont_share_binned': (0.06090645879157135,\n",
       "              0.6438001867413632),\n",
       "             'RBF_agg_disc_share': (0.06224310773357204, 0.5729739096186465),\n",
       "             'RBF_agg_disc_share_binned': (0.06878995714555314,\n",
       "              0.5603174603174603)})"
      ]
     },
     "execution_count": 6,
     "metadata": {},
     "output_type": "execute_result"
    }
   ],
   "source": [
    "agg_models"
   ]
  },
  {
   "cell_type": "code",
   "execution_count": 7,
   "metadata": {
    "scrolled": false
   },
   "outputs": [
    {
     "data": {
      "text/plain": [
       "[('Matern52_agg_cont_share', (0.05749827869031793, 0.5529691395635667)),\n",
       " ('Matern52_agg_cont_share_binned', (0.05876195512020229, 0.6533239962651727)),\n",
       " ('RBF_agg_cont_share', (0.059157318533241875, 0.5889441562622676)),\n",
       " ('Matern52_agg_disc_share', (0.06064962982502218, 0.5796146592199224)),\n",
       " ('RBF_agg_cont_share_binned', (0.06090645879157135, 0.6438001867413632)),\n",
       " ('RBF_agg_disc_share', (0.06224310773357204, 0.5729739096186465)),\n",
       " ('Matern52_agg_disc_share_binned', (0.06673681794424709, 0.5603174603174603)),\n",
       " ('RBF_agg_disc_share_binned', (0.06878995714555314, 0.5603174603174603))]"
      ]
     },
     "execution_count": 7,
     "metadata": {},
     "output_type": "execute_result"
    }
   ],
   "source": [
    "agg_best"
   ]
  },
  {
   "cell_type": "code",
   "execution_count": 8,
   "metadata": {},
   "outputs": [
    {
     "data": {
      "text/plain": [
       "defaultdict(<function __main__.rec_dd()>,\n",
       "            {'Matern52_ind_cont_share': (0.0627665777019118,\n",
       "              0.5262861811391223),\n",
       "             'Matern52_ind_cont_share_binned': (0.051557931692521944,\n",
       "              0.6907952746315917),\n",
       "             'Matern52_ind_disc_share': (0.06345882214894141,\n",
       "              0.5040343915343916),\n",
       "             'Matern52_ind_disc_share_binned': (0.06874470531204888,\n",
       "              0.48642512077294686),\n",
       "             'RBF_ind_cont_share': (0.06172024845399351, 0.5445540730912247),\n",
       "             'RBF_ind_cont_share_binned': (0.053363341577731906,\n",
       "              0.6808918929890797),\n",
       "             'RBF_ind_disc_share': (0.06240509320088754, 0.5232229675495929),\n",
       "             'RBF_ind_disc_share_binned': (0.07205504928064727,\n",
       "              0.5584200056834328)})"
      ]
     },
     "execution_count": 8,
     "metadata": {},
     "output_type": "execute_result"
    }
   ],
   "source": [
    "ind_models"
   ]
  },
  {
   "cell_type": "code",
   "execution_count": 9,
   "metadata": {},
   "outputs": [
    {
     "data": {
      "text/plain": [
       "[('Matern52_ind_cont_share_binned',\n",
       "  (0.051557931692521944, 0.6907952746315917)),\n",
       " ('RBF_ind_cont_share_binned', (0.053363341577731906, 0.6808918929890797)),\n",
       " ('RBF_ind_cont_share', (0.06172024845399351, 0.5445540730912247)),\n",
       " ('RBF_ind_disc_share', (0.06240509320088754, 0.5232229675495929)),\n",
       " ('Matern52_ind_cont_share', (0.0627665777019118, 0.5262861811391223)),\n",
       " ('Matern52_ind_disc_share', (0.06345882214894141, 0.5040343915343916)),\n",
       " ('Matern52_ind_disc_share_binned',\n",
       "  (0.06874470531204888, 0.48642512077294686)),\n",
       " ('RBF_ind_disc_share_binned', (0.07205504928064727, 0.5584200056834328))]"
      ]
     },
     "execution_count": 9,
     "metadata": {},
     "output_type": "execute_result"
    }
   ],
   "source": [
    "ind_best"
   ]
  },
  {
   "cell_type": "code",
   "execution_count": 10,
   "metadata": {},
   "outputs": [
    {
     "data": {
      "text/plain": [
       "defaultdict(<function __main__.rec_dd()>,\n",
       "            {'Matern52_agg_cont_share': (0.05613452013167133,\n",
       "              0.5391547205517794),\n",
       "             'Matern52_agg_cont_share_binned': (0.06223876971170592,\n",
       "              0.4472922502334267),\n",
       "             'Matern52_agg_disc_share': (0.045098105571889216,\n",
       "              0.5978984851004975),\n",
       "             'Matern52_agg_disc_share_binned': (0.049296998909970725,\n",
       "              0.542530345471522),\n",
       "             'Matern52_ind_cont_share': (0.057597840802190034,\n",
       "              0.5124143692564745),\n",
       "             'Matern52_ind_cont_share_binned': (0.04430813873419949,\n",
       "              0.5644638197835128),\n",
       "             'Matern52_ind_disc_share': (0.04972578512503397,\n",
       "              0.5741708437761069),\n",
       "             'Matern52_ind_disc_share_binned': (0.034844428308452975,\n",
       "              0.6014659197012138),\n",
       "             'RBF_agg_cont_share': (0.055038718225615915, 0.5404173468144057),\n",
       "             'RBF_agg_cont_share_binned': (0.06248987181772381,\n",
       "              0.4787208216619982),\n",
       "             'RBF_agg_disc_share': (0.04459332906322678, 0.5978984851004975),\n",
       "             'RBF_agg_disc_share_binned': (0.049119964970333475,\n",
       "              0.542530345471522),\n",
       "             'RBF_ind_cont_share': (0.06003441538276409, 0.5233305485937064),\n",
       "             'RBF_ind_cont_share_binned': (0.04298313462690708,\n",
       "              0.5821108786070424),\n",
       "             'RBF_ind_disc_share': (0.05145366220637594, 0.5691708437761069),\n",
       "             'RBF_ind_disc_share_binned': (0.03550797768372033,\n",
       "              0.6064909600203718)})"
      ]
     },
     "execution_count": 10,
     "metadata": {},
     "output_type": "execute_result"
    }
   ],
   "source": [
    "fs_models"
   ]
  },
  {
   "cell_type": "code",
   "execution_count": 11,
   "metadata": {},
   "outputs": [
    {
     "data": {
      "text/plain": [
       "[('Matern52_ind_disc_share_binned',\n",
       "  (0.034844428308452975, 0.6014659197012138)),\n",
       " ('RBF_ind_disc_share_binned', (0.03550797768372033, 0.6064909600203718)),\n",
       " ('RBF_ind_cont_share_binned', (0.04298313462690708, 0.5821108786070424)),\n",
       " ('Matern52_ind_cont_share_binned', (0.04430813873419949, 0.5644638197835128)),\n",
       " ('RBF_agg_disc_share', (0.04459332906322678, 0.5978984851004975)),\n",
       " ('Matern52_agg_disc_share', (0.045098105571889216, 0.5978984851004975)),\n",
       " ('RBF_agg_disc_share_binned', (0.049119964970333475, 0.542530345471522)),\n",
       " ('Matern52_agg_disc_share_binned', (0.049296998909970725, 0.542530345471522)),\n",
       " ('Matern52_ind_disc_share', (0.04972578512503397, 0.5741708437761069)),\n",
       " ('RBF_ind_disc_share', (0.05145366220637594, 0.5691708437761069)),\n",
       " ('RBF_agg_cont_share', (0.055038718225615915, 0.5404173468144057)),\n",
       " ('Matern52_agg_cont_share', (0.05613452013167133, 0.5391547205517794)),\n",
       " ('Matern52_ind_cont_share', (0.057597840802190034, 0.5124143692564745)),\n",
       " ('RBF_ind_cont_share', (0.06003441538276409, 0.5233305485937064)),\n",
       " ('Matern52_agg_cont_share_binned', (0.06223876971170592, 0.4472922502334267)),\n",
       " ('RBF_agg_cont_share_binned', (0.06248987181772381, 0.4787208216619982))]"
      ]
     },
     "execution_count": 11,
     "metadata": {},
     "output_type": "execute_result"
    }
   ],
   "source": [
    "fs_best"
   ]
  }
 ],
 "metadata": {
  "kernelspec": {
   "display_name": "brookfield",
   "language": "python",
   "name": "brookfield"
  },
  "language_info": {
   "codemirror_mode": {
    "name": "ipython",
    "version": 3
   },
   "file_extension": ".py",
   "mimetype": "text/x-python",
   "name": "python",
   "nbconvert_exporter": "python",
   "pygments_lexer": "ipython3",
   "version": "3.5.6"
  }
 },
 "nbformat": 4,
 "nbformat_minor": 2
}
