{
 "cells": [
  {
   "cell_type": "markdown",
   "metadata": {},
   "source": [
    "## Setup"
   ]
  },
  {
   "cell_type": "code",
   "execution_count": 1,
   "metadata": {
    "scrolled": true
   },
   "outputs": [
    {
     "name": "stderr",
     "output_type": "stream",
     "text": [
      "WARNING: Logging before flag parsing goes to stderr.\n",
      "W0822 11:16:52.677757 4689278400 deprecation_wrapper.py:119] From /Users/rob/.pyenv/versions/brookfield/lib/python3.5/site-packages/gpflow/session_manager.py:31: The name tf.Session is deprecated. Please use tf.compat.v1.Session instead.\n",
      "\n",
      "W0822 11:16:52.681268 4689278400 deprecation_wrapper.py:119] From /Users/rob/.pyenv/versions/brookfield/lib/python3.5/site-packages/gpflow/misc.py:27: The name tf.GraphKeys is deprecated. Please use tf.compat.v1.GraphKeys instead.\n",
      "\n",
      "W0822 11:16:52.767155 4689278400 deprecation_wrapper.py:119] From /Users/rob/.pyenv/versions/brookfield/lib/python3.5/site-packages/gpflow/training/tensorflow_optimizer.py:169: The name tf.train.AdadeltaOptimizer is deprecated. Please use tf.compat.v1.train.AdadeltaOptimizer instead.\n",
      "\n",
      "W0822 11:16:52.768030 4689278400 deprecation_wrapper.py:119] From /Users/rob/.pyenv/versions/brookfield/lib/python3.5/site-packages/gpflow/training/tensorflow_optimizer.py:156: The name tf.train.Optimizer is deprecated. Please use tf.compat.v1.train.Optimizer instead.\n",
      "\n",
      "W0822 11:16:52.768641 4689278400 deprecation_wrapper.py:119] From /Users/rob/.pyenv/versions/brookfield/lib/python3.5/site-packages/gpflow/training/tensorflow_optimizer.py:169: The name tf.train.AdagradDAOptimizer is deprecated. Please use tf.compat.v1.train.AdagradDAOptimizer instead.\n",
      "\n",
      "W0822 11:16:52.769594 4689278400 deprecation_wrapper.py:119] From /Users/rob/.pyenv/versions/brookfield/lib/python3.5/site-packages/gpflow/training/tensorflow_optimizer.py:169: The name tf.train.AdagradOptimizer is deprecated. Please use tf.compat.v1.train.AdagradOptimizer instead.\n",
      "\n",
      "W0822 11:16:52.770481 4689278400 deprecation_wrapper.py:119] From /Users/rob/.pyenv/versions/brookfield/lib/python3.5/site-packages/gpflow/training/tensorflow_optimizer.py:169: The name tf.train.AdamOptimizer is deprecated. Please use tf.compat.v1.train.AdamOptimizer instead.\n",
      "\n",
      "W0822 11:16:52.785418 4689278400 deprecation_wrapper.py:119] From /Users/rob/.pyenv/versions/brookfield/lib/python3.5/site-packages/gpflow/saver/coders.py:80: The name tf.data.Iterator is deprecated. Please use tf.compat.v1.data.Iterator instead.\n",
      "\n"
     ]
    }
   ],
   "source": [
    "%run gaussian_utils.ipynb"
   ]
  },
  {
   "cell_type": "code",
   "execution_count": 2,
   "metadata": {},
   "outputs": [],
   "source": [
    "features = ['value.Critical Thinking',\n",
    "            'value.Monitoring',\n",
    "            'value.Systems Evaluation',\n",
    "            'value.Management of Financial Resources',\n",
    "            'value.Time Sharing',\n",
    "            'value.Near Vision',\n",
    "            'value.Philosophy and Theology',\n",
    "            'value.Transportation']"
   ]
  },
  {
   "cell_type": "code",
   "execution_count": 3,
   "metadata": {},
   "outputs": [],
   "source": [
    "def test_with_fs(x_all, y_all, kern, name, agg_level, dist):\n",
    "    params = '_'.join([name, 'feature_selection'])\n",
    "    print('Testing:', params)\n",
    "    start = time.time()\n",
    "    x, y = x_and_y(x_all[features], y_all)\n",
    "    result = cv(x, y, x_all, y_all, kern, agg_level, dist)\n",
    "    end = time.time()\n",
    "    print('Accuracy:', result['Avg. score'])\n",
    "    print('MSE:', result['Avg. mse'])\n",
    "    print('ROC:', result['Avg. roc'])\n",
    "    print('Confusion:', result['Confusion'])\n",
    "    print('Time elapsed (sec):', end - start)\n",
    "    pickle_results(result, params)\n",
    "    print('Results saved to disk')"
   ]
  },
  {
   "cell_type": "markdown",
   "metadata": {},
   "source": [
    "## Run Through - feature selection"
   ]
  },
  {
   "cell_type": "markdown",
   "metadata": {},
   "source": [
    "### Aggregated"
   ]
  },
  {
   "cell_type": "code",
   "execution_count": 21,
   "metadata": {},
   "outputs": [
    {
     "name": "stderr",
     "output_type": "stream",
     "text": [
      "W0816 09:45:39.355336 4505249216 deprecation_wrapper.py:119] From /Users/rob/.pyenv/versions/brookfield/lib/python3.5/site-packages/gpflow/core/node.py:109: The name tf.get_default_graph is deprecated. Please use tf.compat.v1.get_default_graph instead.\n",
      "\n",
      "W0816 09:45:39.381283 4505249216 deprecation_wrapper.py:119] From /Users/rob/.pyenv/versions/brookfield/lib/python3.5/site-packages/gpflow/params/parameter.py:388: The name tf.placeholder is deprecated. Please use tf.compat.v1.placeholder instead.\n",
      "\n",
      "W0816 09:45:39.384881 4505249216 deprecation_wrapper.py:119] From /Users/rob/.pyenv/versions/brookfield/lib/python3.5/site-packages/gpflow/params/parameter.py:394: The name tf.get_variable is deprecated. Please use tf.compat.v1.get_variable instead.\n",
      "\n"
     ]
    },
    {
     "name": "stdout",
     "output_type": "stream",
     "text": [
      "Testing: Matern52_agg_cont_share_feature_selection\n"
     ]
    },
    {
     "name": "stderr",
     "output_type": "stream",
     "text": [
      "W0816 09:45:41.969372 4505249216 deprecation.py:323] From /Users/rob/.pyenv/versions/brookfield/lib/python3.5/site-packages/tensorflow/python/ops/math_grad.py:1205: add_dispatch_support.<locals>.wrapper (from tensorflow.python.ops.array_ops) is deprecated and will be removed in a future version.\n",
      "Instructions for updating:\n",
      "Use tf.where in 2.0, which has the same broadcast rule as np.where\n"
     ]
    },
    {
     "name": "stdout",
     "output_type": "stream",
     "text": [
      "Fold tested in (sec): 10.087422132492065\n",
      "Fold tested in (sec): 10.839558124542236\n",
      "Fold tested in (sec): 10.13279390335083\n",
      "Fold tested in (sec): 14.567816019058228\n",
      "Fold tested in (sec): 22.128480195999146\n",
      "Accuracy: 0.26666666666666666\n",
      "MSE: 0.06397323321693064\n",
      "Confusion: {'constant/not increase': defaultdict(<class 'int'>, {'constant/not increase': 18, 'increase': 3, 'decrease': 5}), 'increase': defaultdict(<class 'int'>, {'constant/not increase': 36, 'increase': 3, 'decrease': 3}), 'decrease': defaultdict(<class 'int'>, {'constant/not increase': 38, 'increase': 5, 'decrease': 9})}\n",
      "Time elapsed (sec): 67.76817584037781\n",
      "Results saved to disk\n"
     ]
    }
   ],
   "source": [
    "test_with_fs(x_cont_agg, y_share_agg['y'], 'Matern52', 'Matern52_agg_cont_share', 'agg', 'cont')"
   ]
  },
  {
   "cell_type": "code",
   "execution_count": 21,
   "metadata": {
    "scrolled": false
   },
   "outputs": [
    {
     "name": "stderr",
     "output_type": "stream",
     "text": [
      "W0815 12:45:56.375798 4668679616 deprecation_wrapper.py:119] From /Users/rob/.pyenv/versions/brookfield/lib/python3.5/site-packages/gpflow/core/node.py:109: The name tf.get_default_graph is deprecated. Please use tf.compat.v1.get_default_graph instead.\n",
      "\n",
      "W0815 12:45:56.420706 4668679616 deprecation_wrapper.py:119] From /Users/rob/.pyenv/versions/brookfield/lib/python3.5/site-packages/gpflow/params/parameter.py:388: The name tf.placeholder is deprecated. Please use tf.compat.v1.placeholder instead.\n",
      "\n",
      "W0815 12:45:56.423301 4668679616 deprecation_wrapper.py:119] From /Users/rob/.pyenv/versions/brookfield/lib/python3.5/site-packages/gpflow/params/parameter.py:394: The name tf.get_variable is deprecated. Please use tf.compat.v1.get_variable instead.\n",
      "\n"
     ]
    },
    {
     "name": "stdout",
     "output_type": "stream",
     "text": [
      "Testing: RBF_agg_cont_share_feature_selection\n"
     ]
    },
    {
     "name": "stderr",
     "output_type": "stream",
     "text": [
      "W0815 12:45:57.600826 4668679616 deprecation.py:323] From /Users/rob/.pyenv/versions/brookfield/lib/python3.5/site-packages/tensorflow/python/ops/math_grad.py:1205: add_dispatch_support.<locals>.wrapper (from tensorflow.python.ops.array_ops) is deprecated and will be removed in a future version.\n",
      "Instructions for updating:\n",
      "Use tf.where in 2.0, which has the same broadcast rule as np.where\n"
     ]
    },
    {
     "name": "stdout",
     "output_type": "stream",
     "text": [
      "Fold tested in (sec): 5.563254117965698\n",
      "Fold tested in (sec): 4.744688034057617\n",
      "Fold tested in (sec): 5.162620782852173\n",
      "Fold tested in (sec): 6.629055023193359\n",
      "Fold tested in (sec): 6.520350933074951\n",
      "Accuracy: 0.27499999999999997\n",
      "MSE: 0.06456470683324562\n",
      "Confusion: {'increase': defaultdict(<class 'int'>, {'increase': 3, 'decrease': 3, 'constant/not increase': 36}), 'decrease': defaultdict(<class 'int'>, {'increase': 5, 'decrease': 10, 'constant/not increase': 37}), 'constant/not increase': defaultdict(<class 'int'>, {'increase': 3, 'decrease': 5, 'constant/not increase': 18})}\n",
      "Time elapsed (sec): 28.635785818099976\n",
      "Results saved to disk\n"
     ]
    }
   ],
   "source": [
    "test_with_fs(x_cont_agg, y_share_agg['y'], 'RBF', 'RBF_agg_cont_share', 'agg', 'cont')"
   ]
  },
  {
   "cell_type": "code",
   "execution_count": 22,
   "metadata": {},
   "outputs": [
    {
     "name": "stdout",
     "output_type": "stream",
     "text": [
      "Testing: Matern52_agg_cont_share_binned_feature_selection\n",
      "Fold tested in (sec): 20.999738931655884\n",
      "Fold tested in (sec): 29.80086898803711\n",
      "Fold tested in (sec): 27.939463138580322\n",
      "Fold tested in (sec): 21.651898860931396\n",
      "Fold tested in (sec): 24.439421892166138\n",
      "Accuracy: 0.6833333333333333\n",
      "MSE: 0.07483173471221478\n",
      "Confusion: {'constant/not increase': defaultdict(<class 'int'>, {'constant/not increase': 82, 'increase': 7}), 'increase': defaultdict(<class 'int'>, {'constant/not increase': 31})}\n",
      "Time elapsed (sec): 124.84280300140381\n",
      "Results saved to disk\n"
     ]
    }
   ],
   "source": [
    "test_with_fs(x_cont_agg, y_share_agg['binned_y'], 'Matern52', 'Matern52_agg_cont_share_binned', 'agg', 'cont')"
   ]
  },
  {
   "cell_type": "code",
   "execution_count": 4,
   "metadata": {
    "scrolled": false
   },
   "outputs": [
    {
     "name": "stderr",
     "output_type": "stream",
     "text": [
      "W0817 14:31:47.723257 4407936448 deprecation_wrapper.py:119] From /Users/rob/.pyenv/versions/brookfield/lib/python3.5/site-packages/gpflow/core/node.py:109: The name tf.get_default_graph is deprecated. Please use tf.compat.v1.get_default_graph instead.\n",
      "\n",
      "W0817 14:31:47.757740 4407936448 deprecation_wrapper.py:119] From /Users/rob/.pyenv/versions/brookfield/lib/python3.5/site-packages/gpflow/params/parameter.py:388: The name tf.placeholder is deprecated. Please use tf.compat.v1.placeholder instead.\n",
      "\n",
      "W0817 14:31:47.766422 4407936448 deprecation_wrapper.py:119] From /Users/rob/.pyenv/versions/brookfield/lib/python3.5/site-packages/gpflow/params/parameter.py:394: The name tf.get_variable is deprecated. Please use tf.compat.v1.get_variable instead.\n",
      "\n"
     ]
    },
    {
     "name": "stdout",
     "output_type": "stream",
     "text": [
      "Testing: RBF_agg_cont_share_binned_feature_selection\n"
     ]
    },
    {
     "name": "stderr",
     "output_type": "stream",
     "text": [
      "W0817 14:31:49.671046 4407936448 deprecation.py:323] From /Users/rob/.pyenv/versions/brookfield/lib/python3.5/site-packages/tensorflow/python/ops/math_grad.py:1205: add_dispatch_support.<locals>.wrapper (from tensorflow.python.ops.array_ops) is deprecated and will be removed in a future version.\n",
      "Instructions for updating:\n",
      "Use tf.where in 2.0, which has the same broadcast rule as np.where\n"
     ]
    },
    {
     "name": "stdout",
     "output_type": "stream",
     "text": [
      "Fold tested in (sec): 5.771152973175049\n",
      "Fold tested in (sec): 6.16887903213501\n",
      "Fold tested in (sec): 6.385426044464111\n",
      "Fold tested in (sec): 7.011744022369385\n",
      "Fold tested in (sec): 7.29314112663269\n",
      "Accuracy: 0.7333333333333333\n",
      "MSE: 0.0797500668064384\n",
      "Confusion: {'increase': defaultdict(<class 'int'>, {'constant/not increase': 31}), 'constant/not increase': defaultdict(<class 'int'>, {'increase': 1, 'constant/not increase': 88})}\n",
      "Time elapsed (sec): 32.64292907714844\n",
      "Results saved to disk\n"
     ]
    }
   ],
   "source": [
    "test_with_fs(x_cont_agg, y_share_agg['binned_y'], 'RBF', 'RBF_agg_cont_share_binned', 'agg', 'cont')"
   ]
  },
  {
   "cell_type": "code",
   "execution_count": 22,
   "metadata": {},
   "outputs": [
    {
     "name": "stdout",
     "output_type": "stream",
     "text": [
      "Testing: Matern52_agg_disc_share_feature_selection\n",
      "Fold tested in (sec): 9.396389961242676\n",
      "Fold tested in (sec): 9.098447799682617\n",
      "Fold tested in (sec): 10.242648124694824\n",
      "Fold tested in (sec): 11.67647099494934\n",
      "Fold tested in (sec): 11.71564507484436\n",
      "Accuracy: 0.2833333333333333\n",
      "MSE: 0.06167807537195589\n",
      "Confusion: {'increase': defaultdict(<class 'int'>, {'increase': 6, 'decrease': 5, 'constant/not increase': 31}), 'decrease': defaultdict(<class 'int'>, {'increase': 7, 'decrease': 7, 'constant/not increase': 38}), 'constant/not increase': defaultdict(<class 'int'>, {'increase': 4, 'decrease': 2, 'constant/not increase': 20})}\n",
      "Time elapsed (sec): 52.135401010513306\n",
      "Results saved to disk\n"
     ]
    }
   ],
   "source": [
    "test_with_fs(x_disc_agg, y_share_agg['y'], 'Matern52', 'Matern52_agg_disc_share', 'agg', 'disc')"
   ]
  },
  {
   "cell_type": "code",
   "execution_count": 4,
   "metadata": {},
   "outputs": [
    {
     "name": "stderr",
     "output_type": "stream",
     "text": [
      "W0822 11:16:52.978045 4689278400 deprecation_wrapper.py:119] From /Users/rob/.pyenv/versions/brookfield/lib/python3.5/site-packages/gpflow/core/node.py:109: The name tf.get_default_graph is deprecated. Please use tf.compat.v1.get_default_graph instead.\n",
      "\n",
      "W0822 11:16:53.019660 4689278400 deprecation_wrapper.py:119] From /Users/rob/.pyenv/versions/brookfield/lib/python3.5/site-packages/gpflow/params/parameter.py:388: The name tf.placeholder is deprecated. Please use tf.compat.v1.placeholder instead.\n",
      "\n",
      "W0822 11:16:53.025624 4689278400 deprecation_wrapper.py:119] From /Users/rob/.pyenv/versions/brookfield/lib/python3.5/site-packages/gpflow/params/parameter.py:394: The name tf.get_variable is deprecated. Please use tf.compat.v1.get_variable instead.\n",
      "\n"
     ]
    },
    {
     "name": "stdout",
     "output_type": "stream",
     "text": [
      "Testing: RBF_agg_disc_share_feature_selection\n"
     ]
    },
    {
     "name": "stderr",
     "output_type": "stream",
     "text": [
      "W0822 11:16:54.550920 4689278400 deprecation.py:323] From /Users/rob/.pyenv/versions/brookfield/lib/python3.5/site-packages/tensorflow/python/ops/math_grad.py:1205: add_dispatch_support.<locals>.wrapper (from tensorflow.python.ops.array_ops) is deprecated and will be removed in a future version.\n",
      "Instructions for updating:\n",
      "Use tf.where in 2.0, which has the same broadcast rule as np.where\n"
     ]
    },
    {
     "name": "stdout",
     "output_type": "stream",
     "text": [
      "Fold tested in (sec): 5.123675107955933\n",
      "Fold tested in (sec): 5.642455816268921\n",
      "Fold tested in (sec): 6.151789903640747\n",
      "Fold tested in (sec): 7.337296962738037\n",
      "Fold tested in (sec): 7.680499076843262\n",
      "Accuracy: 0.2833333333333333\n",
      "MSE: 0.06167781820711384\n",
      "ROC: 0.505752191278507\n",
      "Confusion: {'increase': defaultdict(<class 'int'>, {'increase': 6, 'decrease': 5, 'constant/not increase': 31}), 'decrease': defaultdict(<class 'int'>, {'increase': 7, 'decrease': 7, 'constant/not increase': 38}), 'constant/not increase': defaultdict(<class 'int'>, {'increase': 4, 'decrease': 2, 'constant/not increase': 20})}\n",
      "Time elapsed (sec): 31.944995164871216\n",
      "Results saved to disk\n"
     ]
    }
   ],
   "source": [
    "test_with_fs(x_disc_agg, y_share_agg['y'], 'RBF', 'RBF_agg_disc_share', 'agg', 'disc')"
   ]
  },
  {
   "cell_type": "code",
   "execution_count": 24,
   "metadata": {},
   "outputs": [
    {
     "name": "stdout",
     "output_type": "stream",
     "text": [
      "Testing: Matern52_agg_disc_share_binned_feature_selection\n",
      "Fold tested in (sec): 31.30843997001648\n",
      "Fold tested in (sec): 32.818305015563965\n",
      "Fold tested in (sec): 34.136950969696045\n",
      "Fold tested in (sec): 37.861814975738525\n",
      "Fold tested in (sec): 34.873836040496826\n",
      "Accuracy: 0.7416666666666666\n",
      "MSE: 0.06180154912203004\n",
      "Confusion: {'constant/not increase': defaultdict(<class 'int'>, {'constant/not increase': 89}), 'increase': defaultdict(<class 'int'>, {'constant/not increase': 31})}\n",
      "Time elapsed (sec): 171.01421213150024\n",
      "Results saved to disk\n"
     ]
    }
   ],
   "source": [
    "test_with_fs(x_disc_agg, y_share_agg['binned_y'], 'Matern52', 'Matern52_agg_disc_share_binned', 'agg', 'disc')"
   ]
  },
  {
   "cell_type": "code",
   "execution_count": 25,
   "metadata": {},
   "outputs": [
    {
     "name": "stdout",
     "output_type": "stream",
     "text": [
      "Testing: RBF_agg_disc_share_binned_feature_selection\n",
      "Fold tested in (sec): 36.05592107772827\n",
      "Fold tested in (sec): 37.922675132751465\n",
      "Fold tested in (sec): 39.19369411468506\n",
      "Fold tested in (sec): 47.095126152038574\n",
      "Fold tested in (sec): 53.74047303199768\n",
      "Accuracy: 0.7416666666666666\n",
      "MSE: 0.06180105971693506\n",
      "Confusion: {'constant/not increase': defaultdict(<class 'int'>, {'constant/not increase': 89}), 'increase': defaultdict(<class 'int'>, {'constant/not increase': 31})}\n",
      "Time elapsed (sec): 214.03320479393005\n",
      "Results saved to disk\n"
     ]
    }
   ],
   "source": [
    "test_with_fs(x_disc_agg, y_share_agg['binned_y'], 'RBF', 'RBF_agg_disc_share_binned', 'agg', 'disc')"
   ]
  },
  {
   "cell_type": "markdown",
   "metadata": {},
   "source": [
    "### Individual"
   ]
  },
  {
   "cell_type": "code",
   "execution_count": 4,
   "metadata": {},
   "outputs": [
    {
     "name": "stderr",
     "output_type": "stream",
     "text": [
      "W0817 18:52:44.746033 139620761970432 deprecation_wrapper.py:119] From /home/ubuntu/anaconda3/envs/python3/lib/python3.7/site-packages/gpflow/core/node.py:109: The name tf.get_default_graph is deprecated. Please use tf.compat.v1.get_default_graph instead.\n",
      "\n",
      "W0817 18:52:44.767269 139620761970432 deprecation_wrapper.py:119] From /home/ubuntu/anaconda3/envs/python3/lib/python3.7/site-packages/gpflow/params/parameter.py:388: The name tf.placeholder is deprecated. Please use tf.compat.v1.placeholder instead.\n",
      "\n",
      "W0817 18:52:44.770774 139620761970432 deprecation_wrapper.py:119] From /home/ubuntu/anaconda3/envs/python3/lib/python3.7/site-packages/gpflow/params/parameter.py:394: The name tf.get_variable is deprecated. Please use tf.compat.v1.get_variable instead.\n",
      "\n"
     ]
    },
    {
     "name": "stdout",
     "output_type": "stream",
     "text": [
      "Testing: Matern52_ind_cont_share_feature_selection\n"
     ]
    },
    {
     "name": "stderr",
     "output_type": "stream",
     "text": [
      "W0817 18:52:51.808899 139620761970432 deprecation.py:323] From /home/ubuntu/anaconda3/envs/python3/lib/python3.7/site-packages/tensorflow/python/ops/math_grad.py:1205: add_dispatch_support.<locals>.wrapper (from tensorflow.python.ops.array_ops) is deprecated and will be removed in a future version.\n",
      "Instructions for updating:\n",
      "Use tf.where in 2.0, which has the same broadcast rule as np.where\n"
     ]
    },
    {
     "name": "stdout",
     "output_type": "stream",
     "text": [
      "Fold tested in (sec): 371.46867060661316\n",
      "Fold tested in (sec): 352.7324495315552\n",
      "Fold tested in (sec): 402.2710511684418\n",
      "Fold tested in (sec): 381.81569957733154\n",
      "Fold tested in (sec): 416.80740237236023\n",
      "Accuracy: 0.32727272727272727\n",
      "MSE: 0.0654281833386077\n",
      "Confusion: {'constant/not increase': defaultdict(<class 'int'>, {'constant/not increase': 398, 'decrease': 57, 'increase': 62}), 'increase': defaultdict(<class 'int'>, {'constant/not increase': 695, 'increase': 164}), 'decrease': defaultdict(<class 'int'>, {'constant/not increase': 906, 'increase': 36, 'decrease': 102})}\n",
      "Time elapsed (sec): 1925.1031522750854\n",
      "Results saved to disk\n"
     ]
    }
   ],
   "source": [
    "test_with_fs(x_cont_ind, y_share_ind, 'Matern52', 'Matern52_ind_cont_share', 'ind', 'cont')"
   ]
  },
  {
   "cell_type": "code",
   "execution_count": 5,
   "metadata": {},
   "outputs": [
    {
     "name": "stdout",
     "output_type": "stream",
     "text": [
      "Testing: RBF_ind_cont_share_feature_selection\n",
      "Fold tested in (sec): 526.4441163539886\n",
      "Fold tested in (sec): 558.8439531326294\n",
      "Fold tested in (sec): 452.8982422351837\n",
      "Fold tested in (sec): 547.795512676239\n",
      "Fold tested in (sec): 538.9337010383606\n",
      "Accuracy: 0.31611570247933884\n",
      "MSE: 0.06972054365532677\n",
      "Confusion: {'constant/not increase': defaultdict(<class 'int'>, {'constant/not increase': 383, 'decrease': 72, 'increase': 62}), 'increase': defaultdict(<class 'int'>, {'constant/not increase': 617, 'increase': 145, 'decrease': 97}), 'decrease': defaultdict(<class 'int'>, {'constant/not increase': 903, 'increase': 36, 'decrease': 105})}\n",
      "Time elapsed (sec): 2624.92165017128\n",
      "Results saved to disk\n"
     ]
    }
   ],
   "source": [
    "test_with_fs(x_cont_ind, y_share_ind, 'RBF', 'RBF_ind_cont_share', 'ind', 'cont')"
   ]
  },
  {
   "cell_type": "code",
   "execution_count": 31,
   "metadata": {},
   "outputs": [
    {
     "name": "stdout",
     "output_type": "stream",
     "text": [
      "Testing: Matern52_ind_cont_share_binned_feature_selection\n",
      "Fold tested in (sec): 1575.8966281414032\n",
      "Fold tested in (sec): 1501.032436132431\n",
      "Fold tested in (sec): 1701.8767569065094\n",
      "Fold tested in (sec): 1293.0884459018707\n",
      "Fold tested in (sec): 1559.6764240264893\n",
      "Accuracy: 0.7074380165289256\n",
      "MSE: 0.06264805067642513\n",
      "Confusion: {'constant/not increase': defaultdict(<class 'int'>, {'constant/not increase': 1703, 'increase': 84}), 'increase': defaultdict(<class 'int'>, {'constant/not increase': 369, 'increase': 264})}\n",
      "Time elapsed (sec): 7631.609232902527\n",
      "Results saved to disk\n"
     ]
    }
   ],
   "source": [
    "test_with_fs(x_cont_ind, y_share_bin_ind, 'Matern52', 'Matern52_ind_cont_share_binned', 'ind', 'cont')"
   ]
  },
  {
   "cell_type": "code",
   "execution_count": 30,
   "metadata": {
    "scrolled": true
   },
   "outputs": [
    {
     "name": "stdout",
     "output_type": "stream",
     "text": [
      "Testing: RBF_ind_cont_share_binned_feature_selection\n",
      "Fold tested in (sec): 1715.765242099762\n",
      "Fold tested in (sec): 1178.7268359661102\n",
      "Fold tested in (sec): 1520.8888359069824\n",
      "Fold tested in (sec): 2830.80192899704\n",
      "Fold tested in (sec): 1573.862186908722\n",
      "Accuracy: 0.6516528925619834\n",
      "MSE: 0.07366949340829325\n",
      "Confusion: {'constant/not increase': defaultdict(<class 'int'>, {'constant/not increase': 1666, 'increase': 121}), 'increase': defaultdict(<class 'int'>, {'constant/not increase': 633})}\n",
      "Time elapsed (sec): 8820.107875823975\n",
      "Results saved to disk\n"
     ]
    }
   ],
   "source": [
    "test_with_fs(x_cont_ind, y_share_bin_ind, 'RBF', 'RBF_ind_cont_share_binned', 'ind', 'cont')"
   ]
  },
  {
   "cell_type": "code",
   "execution_count": 6,
   "metadata": {},
   "outputs": [
    {
     "name": "stdout",
     "output_type": "stream",
     "text": [
      "Testing: Matern52_ind_disc_share_feature_selection\n",
      "Fold tested in (sec): 256.1054289340973\n",
      "Fold tested in (sec): 250.5449788570404\n",
      "Fold tested in (sec): 248.4651279449463\n",
      "Fold tested in (sec): 257.8510744571686\n",
      "Fold tested in (sec): 265.79984617233276\n",
      "Accuracy: 0.2735537190082645\n",
      "MSE: 0.06755008810848624\n",
      "Confusion: {'constant/not increase': defaultdict(<class 'int'>, {'increase': 176, 'constant/not increase': 341}), 'increase': defaultdict(<class 'int'>, {'increase': 63, 'constant/not increase': 796}), 'decrease': defaultdict(<class 'int'>, {'increase': 187, 'constant/not increase': 857})}\n",
      "Time elapsed (sec): 1278.7729547023773\n",
      "Results saved to disk\n"
     ]
    }
   ],
   "source": [
    "test_with_fs(x_disc_ind, y_share_ind, 'Matern52', 'Matern52_ind_disc_share', 'ind', 'disc')"
   ]
  },
  {
   "cell_type": "code",
   "execution_count": 7,
   "metadata": {},
   "outputs": [
    {
     "name": "stdout",
     "output_type": "stream",
     "text": [
      "Testing: RBF_ind_disc_share_feature_selection\n",
      "Fold tested in (sec): 251.84278798103333\n",
      "Fold tested in (sec): 247.4165370464325\n",
      "Fold tested in (sec): 263.0195755958557\n",
      "Fold tested in (sec): 263.7968239784241\n",
      "Fold tested in (sec): 273.0693299770355\n",
      "Accuracy: 0.2735537190082645\n",
      "MSE: 0.06754875058959062\n",
      "Confusion: {'constant/not increase': defaultdict(<class 'int'>, {'increase': 176, 'constant/not increase': 341}), 'increase': defaultdict(<class 'int'>, {'increase': 63, 'constant/not increase': 796}), 'decrease': defaultdict(<class 'int'>, {'increase': 187, 'constant/not increase': 857})}\n",
      "Time elapsed (sec): 1299.151317358017\n",
      "Results saved to disk\n"
     ]
    }
   ],
   "source": [
    "test_with_fs(x_disc_ind, y_share_ind, 'RBF', 'RBF_ind_disc_share', 'ind', 'disc')"
   ]
  },
  {
   "cell_type": "code",
   "execution_count": 8,
   "metadata": {},
   "outputs": [
    {
     "name": "stdout",
     "output_type": "stream",
     "text": [
      "Testing: Matern52_ind_disc_share_binned_feature_selection\n",
      "Fold tested in (sec): 364.26254773139954\n",
      "Fold tested in (sec): 324.7617070674896\n",
      "Fold tested in (sec): 338.7825245857239\n",
      "Fold tested in (sec): 362.2390058040619\n",
      "Fold tested in (sec): 420.37801456451416\n",
      "Accuracy: 0.6826446280991736\n",
      "MSE: 0.06220322017135425\n",
      "Confusion: {'constant/not increase': defaultdict(<class 'int'>, {'constant/not increase': 1787}), 'increase': defaultdict(<class 'int'>, {'constant/not increase': 633})}\n",
      "Time elapsed (sec): 1810.430317401886\n",
      "Results saved to disk\n"
     ]
    }
   ],
   "source": [
    "test_with_fs(x_disc_ind, y_share_bin_ind, 'Matern52', 'Matern52_ind_disc_share_binned', 'ind', 'disc')"
   ]
  },
  {
   "cell_type": "code",
   "execution_count": 9,
   "metadata": {},
   "outputs": [
    {
     "name": "stdout",
     "output_type": "stream",
     "text": [
      "Testing: RBF_ind_disc_share_binned_feature_selection\n",
      "Fold tested in (sec): 330.1410708427429\n",
      "Fold tested in (sec): 361.0277740955353\n",
      "Fold tested in (sec): 340.39011001586914\n",
      "Fold tested in (sec): 368.95982480049133\n",
      "Fold tested in (sec): 375.98185634613037\n",
      "Accuracy: 0.6826446280991736\n",
      "MSE: 0.06220243877467564\n",
      "Confusion: {'constant/not increase': defaultdict(<class 'int'>, {'constant/not increase': 1787}), 'increase': defaultdict(<class 'int'>, {'constant/not increase': 633})}\n",
      "Time elapsed (sec): 1776.5074660778046\n",
      "Results saved to disk\n"
     ]
    }
   ],
   "source": [
    "test_with_fs(x_disc_ind, y_share_bin_ind, 'RBF', 'RBF_ind_disc_share_binned', 'ind', 'disc')"
   ]
  },
  {
   "cell_type": "markdown",
   "metadata": {},
   "source": [
    "## Scratchpad"
   ]
  },
  {
   "cell_type": "code",
   "execution_count": null,
   "metadata": {},
   "outputs": [],
   "source": []
  }
 ],
 "metadata": {
  "kernelspec": {
   "display_name": "brookfield",
   "language": "python",
   "name": "brookfield"
  },
  "language_info": {
   "codemirror_mode": {
    "name": "ipython",
    "version": 3
   },
   "file_extension": ".py",
   "mimetype": "text/x-python",
   "name": "python",
   "nbconvert_exporter": "python",
   "pygments_lexer": "ipython3",
   "version": "3.5.6"
  }
 },
 "nbformat": 4,
 "nbformat_minor": 2
}
