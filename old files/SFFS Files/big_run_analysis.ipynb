{
 "cells": [
  {
   "cell_type": "code",
   "execution_count": 1,
   "metadata": {},
   "outputs": [],
   "source": [
    "import pickle\n",
    "from collections import defaultdict\n",
    "%run utils_rf"
   ]
  },
  {
   "cell_type": "code",
   "execution_count": 2,
   "metadata": {},
   "outputs": [],
   "source": [
    "with open('log_loss_results.pkl','rb') as f:\n",
    "    log_loss_results = pickle.load(f)"
   ]
  },
  {
   "cell_type": "code",
   "execution_count": 3,
   "metadata": {},
   "outputs": [],
   "source": [
    "with open('mae_results.pkl','rb') as f:\n",
    "    mae_results = pickle.load(f)"
   ]
  },
  {
   "cell_type": "code",
   "execution_count": 4,
   "metadata": {},
   "outputs": [],
   "source": [
    "def get_summaries(results):\n",
    "    scores = defaultdict(list)\n",
    "    for i in range(20):\n",
    "        for run in results[i]:\n",
    "            score = results[i][run]['avg_score']\n",
    "            features = results[i][run]['feature_names']\n",
    "            scores[features].append(score)\n",
    "    score_summaries = defaultdict(dict)\n",
    "    for features in scores:\n",
    "        score_summaries[features]['mean'] = np.mean(scores[features])\n",
    "        score_summaries[features]['std'] = np.std(scores[features])\n",
    "        score_summaries[features]['count'] = len(scores[features])\n",
    "    return score_summaries"
   ]
  },
  {
   "cell_type": "code",
   "execution_count": 5,
   "metadata": {},
   "outputs": [],
   "source": [
    "def find_best(results, n):\n",
    "    score_summaries = get_summaries(results)\n",
    "    best_dict = defaultdict(dict)\n",
    "    for i in range(n):\n",
    "        score_summaries_filtered = defaultdict(dict)\n",
    "        for features in score_summaries:\n",
    "            if score_summaries[features]['count']>i:\n",
    "                score_summaries_filtered[features]=score_summaries[features]\n",
    "        best = -1\n",
    "        best_features = []\n",
    "        for features in score_summaries_filtered:\n",
    "            if score_summaries_filtered[features]['mean']>best:\n",
    "                best = score_summaries_filtered[features]['mean']\n",
    "                best_features = features\n",
    "        best_dict[i + 1]['score'] = best\n",
    "        best_dict[i + 1]['features'] = best_features\n",
    "    return best_dict"
   ]
  },
  {
   "cell_type": "code",
   "execution_count": 9,
   "metadata": {
    "scrolled": true
   },
   "outputs": [
    {
     "data": {
      "text/plain": [
       "defaultdict(dict,\n",
       "            {1: {'score': -0.10723006321490121,\n",
       "              'features': ('value.Learning Strategies',\n",
       "               'value.Monitoring',\n",
       "               'value.Persuasion',\n",
       "               'value.Service Orientation',\n",
       "               'value.Management of Material Resources',\n",
       "               'value.Information Ordering',\n",
       "               'value.Memorization',\n",
       "               'value.Flexibility of Closure',\n",
       "               'value.Time Sharing',\n",
       "               'value.Finger Dexterity',\n",
       "               'value.Far Vision',\n",
       "               'value.Computers and Electronics',\n",
       "               'value.Chemistry',\n",
       "               'value.Biology',\n",
       "               'value.Foreign Language',\n",
       "               'work_num')},\n",
       "             2: {'score': -0.11207076772247607,\n",
       "              'features': ('value.Mathematics Skill',\n",
       "               'value.Science',\n",
       "               'value.Monitoring',\n",
       "               'value.Service Orientation',\n",
       "               'value.Management of Material Resources',\n",
       "               'value.Fluency of Ideas',\n",
       "               'value.Deductive Reasoning',\n",
       "               'value.Inductive Reasoning',\n",
       "               'value.Information Ordering',\n",
       "               'value.Flexibility of Closure',\n",
       "               'value.Perceptual Speed',\n",
       "               'value.Selective Attention',\n",
       "               'value.Time Sharing',\n",
       "               'value.Production and Processing',\n",
       "               'value.Computers and Electronics',\n",
       "               'value.Chemistry',\n",
       "               'work_num')},\n",
       "             3: {'score': -0.11472425923132588,\n",
       "              'features': ('value.Mathematics Skill',\n",
       "               'value.Science',\n",
       "               'value.Service Orientation',\n",
       "               'value.Fluency of Ideas',\n",
       "               'value.Problem Sensitivity',\n",
       "               'value.Information Ordering',\n",
       "               'value.Flexibility of Closure',\n",
       "               'value.Time Sharing',\n",
       "               'value.Computers and Electronics',\n",
       "               'value.Chemistry')},\n",
       "             4: {'score': -0.12481077781866529,\n",
       "              'features': ('value.Mathematics Skill',\n",
       "               'value.Critical Thinking',\n",
       "               'value.Service Orientation',\n",
       "               'value.Time Sharing',\n",
       "               'value.Computers and Electronics',\n",
       "               'value.Chemistry')},\n",
       "             5: {'score': -0.12496833775821756,\n",
       "              'features': ('value.Critical Thinking',\n",
       "               'value.Service Orientation',\n",
       "               'value.Problem Sensitivity',\n",
       "               'value.Computers and Electronics',\n",
       "               'value.Chemistry')},\n",
       "             6: {'score': -0.12496833775821756,\n",
       "              'features': ('value.Critical Thinking',\n",
       "               'value.Service Orientation',\n",
       "               'value.Problem Sensitivity',\n",
       "               'value.Computers and Electronics',\n",
       "               'value.Chemistry')}})"
      ]
     },
     "execution_count": 9,
     "metadata": {},
     "output_type": "execute_result"
    }
   ],
   "source": [
    "find_best(mae_results,6)"
   ]
  },
  {
   "cell_type": "code",
   "execution_count": 14,
   "metadata": {},
   "outputs": [],
   "source": [
    "def find_best_in_run(results):\n",
    "    best_dict = defaultdict(dict)\n",
    "    \n",
    "    for i in range(20):\n",
    "        best = -1\n",
    "        best_features = []\n",
    "        for run in results[i]:\n",
    "            score = results[i][run]['avg_score']\n",
    "            features = results[i][run]['feature_names']\n",
    "            if score>best:\n",
    "                best=score\n",
    "                best_features = features\n",
    "        best_dict[i]['score'] = best\n",
    "        best_dict[i]['features'] = best_features \n",
    "    return best_dict"
   ]
  },
  {
   "cell_type": "code",
   "execution_count": 72,
   "metadata": {
    "scrolled": true
   },
   "outputs": [],
   "source": [
    "run_bests = find_best_in_run(mae_results)\n",
    "best_lens = []\n",
    "for i in range(20):\n",
    "    best_lens.append(len(run_bests[i]['features']))"
   ]
  },
  {
   "cell_type": "code",
   "execution_count": 77,
   "metadata": {},
   "outputs": [
    {
     "data": {
      "text/plain": [
       "(array([2., 0., 0., 0., 0., 0., 2., 0., 2., 0., 0., 0., 6., 0., 4., 0., 2.,\n",
       "        0., 1., 1.]),\n",
       " array([10. , 10.5, 11. , 11.5, 12. , 12.5, 13. , 13.5, 14. , 14.5, 15. ,\n",
       "        15.5, 16. , 16.5, 17. , 17.5, 18. , 18.5, 19. , 19.5, 20. ]),\n",
       " <a list of 20 Patch objects>)"
      ]
     },
     "execution_count": 77,
     "metadata": {},
     "output_type": "execute_result"
    },
    {
     "data": {
      "image/png": "[encoded data removed]",
      "text/plain": [
       "<Figure size 432x288 with 1 Axes>"
      ]
     },
     "metadata": {
      "needs_background": "light"
     },
     "output_type": "display_data"
    }
   ],
   "source": [
    "plt.hist(best_lens,bins=20)"
   ]
  },
  {
   "cell_type": "code",
   "execution_count": 47,
   "metadata": {},
   "outputs": [],
   "source": [
    "performance = []\n",
    "for i in range(20):\n",
    "    feature_count_scores = np.zeros(30)\n",
    "    for run in mae_results[i]:\n",
    "        feature_count = len(mae_results[i][run]['feature_idx'])\n",
    "        score = abs(mae_results[i][run]['avg_score'])\n",
    "        if score > feature_count_scores[feature_count-1]:\n",
    "            feature_count_scores[feature_count-1]=score\n",
    "    performance.append(feature_count_scores)"
   ]
  },
  {
   "cell_type": "code",
   "execution_count": 68,
   "metadata": {
    "scrolled": false
   },
   "outputs": [
    {
     "data": {
      "image/png": "[encoded data removed]",
      "text/plain": [
       "<Figure size 432x288 with 1 Axes>"
      ]
     },
     "metadata": {
      "needs_background": "light"
     },
     "output_type": "display_data"
    }
   ],
   "source": [
    "performance = pd.DataFrame(performance)\n",
    "avg_score = performance.mean(axis=0)\n",
    "std_score = performance.std(axis=0)\n",
    "plt.plot(avg_score)\n",
    "plt.fill_between(range(0,30),avg_score-std_score,avg_score+std_score,alpha=0.5)\n",
    "plt.show()"
   ]
  },
  {
   "cell_type": "code",
   "execution_count": 108,
   "metadata": {
    "scrolled": true
   },
   "outputs": [],
   "source": [
    "#consitency in bests!\n",
    "all_best_features = np.asarray(run_bests[0]['features'])\n",
    "for i in range(1,20):\n",
    "    new = np.asarray(run_bests[i]['features'])\n",
    "    all_best_features = np.append(all_best_features,new)"
   ]
  },
  {
   "cell_type": "code",
   "execution_count": 121,
   "metadata": {
    "scrolled": true
   },
   "outputs": [
    {
     "data": {
      "text/plain": [
       "value.Service Orientation                  20\n",
       "value.Computers and Electronics            20\n",
       "work_num                                   19\n",
       "value.Chemistry                            19\n",
       "value.Information Ordering                 19\n",
       "value.Time Sharing                         17\n",
       "value.Monitoring                           17\n",
       "value.Mathematics Skill                    14\n",
       "value.Flexibility of Closure               13\n",
       "value.Fluency of Ideas                     13\n",
       "value.Management of Material Resources     13\n",
       "value.Science                              12\n",
       "value.Selective Attention                  12\n",
       "value.Inductive Reasoning                  10\n",
       "value.Deductive Reasoning                   9\n",
       "value.Persuasion                            8\n",
       "value.Production and Processing             7\n",
       "value.Management of Financial Resources     6\n",
       "value.Memorization                          6\n",
       "value.Perceptual Speed                      5\n",
       "value.Finger Dexterity                      5\n",
       "value.Foreign Language                      4\n",
       "value.Near Vision                           4\n",
       "value.Customer and Personal Service         3\n",
       "value.Far Vision                            3\n",
       "value.Learning Strategies                   3\n",
       "value.Problem Sensitivity                   3\n",
       "value.Programming                           3\n",
       "value.Critical Thinking                     2\n",
       "value.Negotiation                           2\n",
       "value.Peripheral Vision                     2\n",
       "value.Time Management                       2\n",
       "value.Biology                               2\n",
       "value.Visual Color Discrimination           2\n",
       "value.Wrist-Finger Speed                    1\n",
       "value.Design                                1\n",
       "value.Dynamic Flexibility                   1\n",
       "value.Social Perceptiveness                 1\n",
       "value.Instructing                           1\n",
       "value.Judgment and Decision Making          1\n",
       "value.Law and Government                    1\n",
       "value.Systems Evaluation                    1\n",
       "value.Management of Personnel Resources     1\n",
       "value.Written Comprehension                 1\n",
       "value.Technology Design                     1\n",
       "value.Operations Analysis                   1\n",
       "value.Personnel and Human Resources         1\n",
       "value.Active Learning                       1\n",
       "dtype: int64"
      ]
     },
     "execution_count": 121,
     "metadata": {},
     "output_type": "execute_result"
    }
   ],
   "source": [
    "unique, counts = np.unique(all_best_features, return_counts=True)\n",
    "best_feature_counts = dict(zip(unique, counts))\n",
    "pd.Series(best_feature_counts).sort_values(ascending=False)"
   ]
  },
  {
   "cell_type": "code",
   "execution_count": 123,
   "metadata": {},
   "outputs": [],
   "source": [
    "chosen = ['value.Learning Strategies',\n",
    "               'value.Monitoring',\n",
    "               'value.Persuasion',\n",
    "               'value.Service Orientation',\n",
    "               'value.Management of Material Resources',\n",
    "               'value.Information Ordering',\n",
    "               'value.Memorization',\n",
    "               'value.Flexibility of Closure',\n",
    "               'value.Time Sharing',\n",
    "               'value.Finger Dexterity',\n",
    "               'value.Far Vision',\n",
    "               'value.Computers and Electronics',\n",
    "               'value.Chemistry',\n",
    "               'value.Biology',\n",
    "               'value.Foreign Language',\n",
    "               'work_num']"
   ]
  },
  {
   "cell_type": "code",
   "execution_count": 126,
   "metadata": {
    "scrolled": false
   },
   "outputs": [
    {
     "name": "stdout",
     "output_type": "stream",
     "text": [
      "value.Learning Strategies\n",
      "3\n",
      "value.Monitoring\n",
      "17\n",
      "value.Persuasion\n",
      "8\n",
      "value.Service Orientation\n",
      "20\n",
      "value.Management of Material Resources\n",
      "13\n",
      "value.Information Ordering\n",
      "19\n",
      "value.Memorization\n",
      "6\n",
      "value.Flexibility of Closure\n",
      "13\n",
      "value.Time Sharing\n",
      "17\n",
      "value.Finger Dexterity\n",
      "5\n",
      "value.Far Vision\n",
      "3\n",
      "value.Computers and Electronics\n",
      "20\n",
      "value.Chemistry\n",
      "19\n",
      "value.Biology\n",
      "2\n",
      "value.Foreign Language\n",
      "4\n",
      "work_num\n",
      "19\n"
     ]
    }
   ],
   "source": [
    "for feature in chosen:\n",
    "    print(feature)\n",
    "    print(best_feature_counts[feature])"
   ]
  }
 ],
 "metadata": {
  "kernelspec": {
   "display_name": "Python 3",
   "language": "python",
   "name": "python3"
  },
  "language_info": {
   "codemirror_mode": {
    "name": "ipython",
    "version": 3
   },
   "file_extension": ".py",
   "mimetype": "text/x-python",
   "name": "python",
   "nbconvert_exporter": "python",
   "pygments_lexer": "ipython3",
   "version": "3.7.0"
  }
 },
 "nbformat": 4,
 "nbformat_minor": 2
}
