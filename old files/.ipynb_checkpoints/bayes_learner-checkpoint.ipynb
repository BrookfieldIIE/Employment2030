{
 "cells": [
  {
   "cell_type": "code",
   "execution_count": 1,
   "metadata": {},
   "outputs": [],
   "source": [
    "import numpy as np\n",
    "import pandas as pd\n",
    "from sklearn.decomposition import PCA\n",
    "from sklearn.naive_bayes import MultinomialNB\n",
    "from sklearn import preprocessing"
   ]
  },
  {
   "cell_type": "code",
   "execution_count": 2,
   "metadata": {},
   "outputs": [],
   "source": [
    "data = pd.read_csv(\"C:/Users/USERID/Documents/DataWork/Employment2030/tables/answers_w_skills.csv\",index_col=0)\n",
    "x = data.drop(['noc','absolute','share','comfort'],axis=1)\n",
    "y = data[['noc','absolute','share','comfort']]\n",
    "x = np.round(x)"
   ]
  },
  {
   "cell_type": "code",
   "execution_count": 3,
   "metadata": {},
   "outputs": [],
   "source": [
    "enc = preprocessing.OneHotEncoder()\n",
    "catX = x.astype(str)\n",
    "enc.fit(catX)\n",
    "catX = enc.transform(catX)"
   ]
  },
  {
   "cell_type": "code",
   "execution_count": 86,
   "metadata": {},
   "outputs": [],
   "source": [
    "#making a training and testing set - this should be done at the noc-workshop level so that \n",
    "#there are complete distributions for each \"obersvation\"\n",
    "cut = round(catX.shape[0]*0.8)\n",
    "xTrain = catX[0:cut]\n",
    "xTest = catX[cut+1:catX.shape[0]]\n",
    "y = y['absolute']\n",
    "yTrain = y[0:cut]\n",
    "yTest = y[cut+1:catX.shape[0]]"
   ]
  },
  {
   "cell_type": "code",
   "execution_count": 101,
   "metadata": {},
   "outputs": [
    {
     "data": {
      "text/plain": [
       "0.5130023640661938"
      ]
     },
     "execution_count": 101,
     "metadata": {},
     "output_type": "execute_result"
    }
   ],
   "source": [
    "#ok lets try a naive baysian thing? for kicks? \n",
    "\n",
    "mnb = MultinomialNB()\n",
    "mnb.fit(xTrain,yTrain)\n",
    "sum(mnb.predict(xTest) == yTest)/yTest.shape[0]"
   ]
  }
 ],
 "metadata": {
  "kernelspec": {
   "display_name": "Python 3",
   "language": "python",
   "name": "python3"
  },
  "language_info": {
   "codemirror_mode": {
    "name": "ipython",
    "version": 3
   },
   "file_extension": ".py",
   "mimetype": "text/x-python",
   "name": "python",
   "nbconvert_exporter": "python",
   "pygments_lexer": "ipython3",
   "version": "3.7.3"
  }
 },
 "nbformat": 4,
 "nbformat_minor": 2
}
