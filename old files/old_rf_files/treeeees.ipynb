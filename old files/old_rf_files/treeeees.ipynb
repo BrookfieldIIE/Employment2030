{
 "cells": [
  {
   "cell_type": "code",
   "execution_count": 119,
   "metadata": {},
   "outputs": [],
   "source": [
    "import numpy as np\n",
    "import pandas as pd\n",
    "from sklearn.ensemble import RandomForestClassifier, RandomForestRegressor\n",
    "from sklearn.feature_selection import RFE\n",
    "from sklearn.model_selection import GridSearchCV, cross_val_score, KFold\n",
    "from sklearn.pipeline import Pipeline\n",
    "from sklearn.metrics import make_scorer, mean_squared_error, mean_absolute_error\n",
    "from mlxtend.feature_selection import SequentialFeatureSelector as SFS\n",
    "import matplotlib.pyplot as plt\n",
    "np.random.seed(1000)"
   ]
  },
  {
   "cell_type": "code",
   "execution_count": 2,
   "metadata": {},
   "outputs": [],
   "source": [
    "#reading the data\n",
    "file = \"C:/Users/USERID/Documents/GitHub/Employment2030/Employment2030/tables/scores_answers.csv\"\n",
    "\n",
    "data = pd.read_csv(file,index_col=['noc','workshop.number'])\n",
    "data.sort_index(inplace=True)\n",
    "data.loc[data.share == 'remain constant','share'] = 'constant'\n",
    "data.dropna(inplace=True)"
   ]
  },
  {
   "cell_type": "code",
   "execution_count": 3,
   "metadata": {},
   "outputs": [],
   "source": [
    "#splitting up x and y\n",
    "x = data.drop(['absolute','share','Unnamed: 0','noc_code'],axis=1) #making x data frame\n",
    "x['work_num'] = x.index.get_level_values(1) #making workshop number a variable as well as an index\n",
    "x.drop_duplicates(inplace=True)\n",
    "x = np.round(x).astype(int)#round x to make discrete\n",
    "\n",
    "#creating y variables\n",
    "y_abs = pd.DataFrame(data['absolute']).pivot_table(index = ['noc','workshop.number'], columns = 'absolute', aggfunc = len).fillna(0)\n",
    "y_abs['sum'] = y_abs.sum(axis = 1)\n",
    "y_abs['not_increase'] = y_abs['fewer'] + y_abs['same']\n",
    "y_abs.loc[:,y_abs.columns!='sum'] = y_abs.loc[:,y_abs.columns!='sum'].divide(y_abs['sum'],axis=0)\n",
    "y_abs['y'] = y_abs[['fewer','more','same']].idxmax(axis=1)\n",
    "y_abs['binned_y'] = y_abs[['more','not_increase']].idxmax(axis=1)\n",
    "\n",
    "y_share = pd.DataFrame(data['share']).pivot_table(index = ['noc','workshop.number'], columns = 'share', aggfunc = len).fillna(0)\n",
    "y_share['sum'] = y_share.sum(axis = 1)\n",
    "y_share['not_increase'] = y_share['decrease'] + y_share['constant']\n",
    "y_share.loc[:,y_share.columns!='sum'] = y_share.loc[:,y_share.columns!='sum'].divide(y_share['sum'],axis=0)\n",
    "y_share['y'] = y_share[['constant','decrease','increase']].idxmax(axis=1)\n",
    "y_share['binned_y'] = y_share[['increase','not_increase']].idxmax(axis=1)"
   ]
  },
  {
   "cell_type": "code",
   "execution_count": 4,
   "metadata": {},
   "outputs": [],
   "source": [
    "#splitting up into random training and validation sets. We have decided to just use the whole data set with kfold validation \n",
    "#because of how little data there is. Going to leave this code here in case we change our mind\n",
    "train_set = np.random.choice(x.index,size=int(len(x.index)*0.8),replace=False)\n",
    "test_set = np.logical_not(x.index.isin(train_set))\n",
    "\n",
    "x_train = x.loc[train_set]\n",
    "x_test = x.loc[test_set]\n",
    "\n",
    "#full y set for k-fold\n",
    "y = [y_abs['y'],y_share['y'],\n",
    "     y_abs['binned_y'],y_share['binned_y'],\n",
    "     y_abs[['more','same']],y_share[['increase','constant']],\n",
    "     y_abs['more'],y_share['increase']]\n",
    "\n",
    "#training and validation y sets if we want to us them\n",
    "y_train = np.empty(8,dtype = pd.Series)\n",
    "y_test = np.empty(8,dtype = pd.Series)\n",
    "\n",
    "for i in range(8):\n",
    "    y_train[i] = y[i].loc[train_set]\n",
    "    y_test[i] = y[i].loc[test_set]"
   ]
  },
  {
   "cell_type": "markdown",
   "metadata": {},
   "source": [
    "ok lets try some models\n",
    "our y var has 8 binary types that can be combined so there are 8 distinct versions of the y variable. The types are\n",
    " - absolute vs share (which answer from the expert we use)\n",
    " - binned vs not (whether we make use tertiary answers or bin into binary)\n",
    " - categories vs distribution (whether we use regression forests to try and fit answer proportions. Also another   possibillity\n",
    "is using the probabilities that come from counting tree votes)\n",
    "\n",
    "TOD0 - make a specific model specific parameter grid for every model? Would do this by looking for edge cases in\n",
    "chosen paramters and adjusting accordingly \n",
    "- try to figure out how to use these premades to make a model that is fitted based on the proportion of trees voting for an outcome\n",
    "\n",
    "old param grids:\n",
    "param_grid= {'max_features': np.asarray(range(9,25,2)),#number of features a tree selects\n",
    "    'n_estimators':[100,150,250,275,300],#number of trees\n",
    "    'min_samples_leaf': [1,2,4,8],#minimum number of data points can be used to make a leaf at the end of a tree\n",
    "    'min_samples_split': [5,10,15],#min number of data points to split a branch\n",
    "    'criterion':['gini','entropy']}#metric to order features for each treet\n",
    "\n",
    "param_grid_regres= {'max_features': np.asarray(range(9,25,2)),#number of features a tree selects\n",
    "    'n_estimators':[100,150,250,275,300],#number of trees\n",
    "    'min_samples_leaf': [1,2,4,8],#minimum number of data points can be used to make a leaf at the end of a tree\n",
    "    'min_samples_split': [5,10,15],#min number of data points to split a branch\n",
    "    'criterion':['mse','mae']}#metric to order features for each tree\n",
    "    \n",
    "then...\n",
    "\n",
    "tailored_param_grids = [{'n_estimators':[300,350,400],'min_samples_split': [15,18,21]},\n",
    "                        {'n_estimators':[125,150,175],'min_samples_split': [8,10,12], 'min_samples_leaf': [8,10,12]},\n",
    "                        {'n_estimators':[300,350,400],'min_samples_split': [8,10,12]},\n",
    "                        {'n_estimators':[300,350,400],'min_samples_split': [8,10,12]},\n",
    "                        {'n_estimators':[300,350,400],'min_samples_split': [8,10,12]},\n",
    "                        {'n_estimators':[50,75,100],'min_samples_split': [15,18,21], 'min_samples_leaf': [8,10,12]},\n",
    "                        {'n_estimators':[50,75,100],'min_samples_split': [2,3,5], 'min_samples_leaf': [8,10,12]},\n",
    "                        {'n_estimators':[50,75,100],'min_samples_split': [2,3,5]},\n",
    "                        {'n_estimators':[50,75,100],'min_samples_split': [2,3,5]}]\n",
    "                        \n",
    "                        \n",
    "                        tailored_rf = [RandomForestClassifier(criterion = 'gini',max_features=21,min_samples_leaf=4,min_samples_split=18),\n",
    "               RandomForestClassifier(criterion = 'gini',max_features=23,min_samples_leaf=8,min_samples_split=12),\n",
    "               RandomForestClassifier(criterion = 'gini',max_features=15,min_samples_leaf=1,min_samples_split=10),\n",
    "               RandomForestClassifier(criterion = 'gini',max_features=11,min_samples_leaf=4,min_samples_split=12),\n",
    "               RandomForestRegressor(criterion='mse',max_features=13),\n",
    "               RandomForestRegressor(criterion='mse',max_features=11),\n",
    "               RandomForestRegressor(criterion='mse',max_features=11,min_samples_leaf=2),\n",
    "               RandomForestRegressor(criterion='mse',max_features=15,min_samples_leaf=1)]\n",
    "\n",
    "tailored_param_grids = [{'n_estimators':[300,325]},\n",
    "                        {'n_estimators':[150,175,200]},\n",
    "                        {'n_estimators':[400,450,500]},\n",
    "                        {'n_estimators':[400,450,500],'min_samples_split': [8,10,12]},\n",
    "                        {'n_estimators':[350,375],'min_samples_split': [8,10,12]},\n",
    "                        {'n_estimators':[50,75,100],'min_samples_split': [15,18,21], 'min_samples_leaf': [8,10,12]},\n",
    "                        {'n_estimators':[50,75,100],'min_samples_split': [2,3,5], 'min_samples_leaf': [8,10,12]},\n",
    "                        {'n_estimators':[50,75,100],'min_samples_split': [2,3,5]},\n",
    "                        {'n_estimators':[50,75,100],'min_samples_split': [2,3,5]}]"
   ]
  },
  {
   "cell_type": "code",
   "execution_count": 75,
   "metadata": {},
   "outputs": [],
   "source": [
    "tailored_rf = [RandomForestClassifier(criterion = 'gini',max_features=21,min_samples_leaf=4,min_samples_split=18,n_estimators=300,n_jobs=-1),\n",
    "               RandomForestClassifier(criterion = 'gini',max_features=23,min_samples_leaf=8,min_samples_split=12,n_estimators=300,n_jobs=-1),\n",
    "               RandomForestClassifier(criterion = 'gini',max_features=15,min_samples_leaf=1,min_samples_split=10,n_estimators=300,n_jobs=-1),\n",
    "               RandomForestClassifier(criterion = 'gini',max_features=11,min_samples_leaf=4,min_samples_split=10,n_estimators=300,n_jobs=-1),\n",
    "               RandomForestRegressor(criterion='mse',max_features=None,min_samples_leaf=10, min_samples_split=10,n_estimators=300,n_jobs=-1),\n",
    "               RandomForestRegressor(criterion='mse',max_features=None,min_samples_leaf=10, min_samples_split=15,n_estimators=300,n_jobs=-1),\n",
    "               RandomForestRegressor(criterion='mse',max_features=None,min_samples_split=10,min_samples_leaf=2,n_estimators=300,n_jobs=-1),\n",
    "               RandomForestRegressor(criterion='mse',max_features=None,min_samples_leaf=2, min_samples_split=5,n_estimators=300,n_jobs=-1)]\n",
    "\n",
    "param_grid = [{'max_features':[11,23,120]},{\"max_depth\":np.append(np.asarray(range(10,110,10)),None)}]\n",
    "\n",
    "                        \n",
    "selected_models = np.empty(8,dtype = RandomForestClassifier)\n",
    "scores = np.zeros(8)\n",
    "features = np.empty(8, dtype = np.ndarray)\n",
    "\n",
    "for i in range(8):\n",
    "    if i<4:\n",
    "        search = GridSearchCV(tailored_rf[i],param_grid,cv=5,n_jobs=-1,iid=False)\n",
    "    else:\n",
    "        search = GridSearchCV(tailored_rf[i],param_grid,scoring=make_scorer(mean_absolute_error),cv=5,n_jobs=-1,iid=False)\n",
    "    search.fit(x,y[i])\n",
    "    selected_models[i] = search.best_estimator_ \n",
    "    scores[i] = search.best_score_\n",
    "    features[i] = selected_models[i].feature_importances_    "
   ]
  },
  {
   "cell_type": "code",
   "execution_count": 107,
   "metadata": {},
   "outputs": [],
   "source": [
    "#testing different numver of trees with the found parameters in the earlier search grid\n",
    "tailored_rf = [RandomForestClassifier(criterion = 'gini',max_features=21,min_samples_leaf=4,min_samples_split=15,n_estimators=100,n_jobs=-1),\n",
    "               RandomForestClassifier(criterion = 'gini',max_features=23,min_samples_leaf=8,min_samples_split=10,n_estimators=100,n_jobs=-1),\n",
    "               RandomForestClassifier(criterion = 'gini',max_features=15,min_samples_leaf=1,min_samples_split=10,n_estimators=100,n_jobs=-1),\n",
    "               RandomForestClassifier(criterion = 'gini',max_features=11,min_samples_leaf=4,min_samples_split=10,n_estimators=100,n_jobs=-1),\n",
    "               RandomForestRegressor(criterion='mse',max_features=None,min_samples_leaf=10, min_samples_split=10,n_estimators=100,n_jobs=-1),\n",
    "               RandomForestRegressor(criterion='mse',max_features=None,min_samples_leaf=10, min_samples_split=15,n_estimators=100,n_jobs=-1),\n",
    "               RandomForestRegressor(criterion='mse',max_features=None,min_samples_split=10,min_samples_leaf=2,n_estimators=100,n_jobs=-1),\n",
    "               RandomForestRegressor(criterion='mse',max_features=None,min_samples_leaf=2, min_samples_split=5,n_estimators=100,n_jobs=-1)]\n",
    "\n",
    "scores = np.zeros((8,40))\n",
    "features = np.empty(8, dtype = np.ndarray)\n",
    "\n",
    "for k in range(40):\n",
    "    for i in range(8):\n",
    "        rf = tailored_rf[i].set_params(n_estimators=10*(k+1))\n",
    "        rf.fit(x,y[i])\n",
    "        if i<4:\n",
    "            scores[i,k] = np.mean(cross_val_score(rf,x,y[i],cv=5,n_jobs=-1))\n",
    "        else:\n",
    "            scores[i,k] = np.mean(cross_val_score(rf,x,y[i],scoring=make_scorer(mean_squared_error),cv=5,n_jobs=-1))\n",
    "        features[i] = rf.feature_importances_    "
   ]
  },
  {
   "cell_type": "code",
   "execution_count": 108,
   "metadata": {},
   "outputs": [],
   "source": [
    "acc_by_estimators = pd.DataFrame(scores.T,index=range(100,4100,100))"
   ]
  },
  {
   "cell_type": "code",
   "execution_count": 109,
   "metadata": {},
   "outputs": [
    {
     "data": {
      "text/plain": [
       "[<matplotlib.lines.Line2D at 0x2b84db6ae48>,\n",
       " <matplotlib.lines.Line2D at 0x2b84db6af98>,\n",
       " <matplotlib.lines.Line2D at 0x2b84db8d128>,\n",
       " <matplotlib.lines.Line2D at 0x2b84db8d278>]"
      ]
     },
     "execution_count": 109,
     "metadata": {},
     "output_type": "execute_result"
    },
    {
     "data": {
      "image/png": "[encoded data removed]",
      "text/plain": [
       "<Figure size 432x288 with 1 Axes>"
      ]
     },
     "metadata": {
      "needs_background": "light"
     },
     "output_type": "display_data"
    }
   ],
   "source": [
    "plt.plot(acc_by_estimators.loc[:,0:3])"
   ]
  },
  {
   "cell_type": "code",
   "execution_count": 110,
   "metadata": {},
   "outputs": [
    {
     "data": {
      "text/plain": [
       "[<matplotlib.lines.Line2D at 0x2b84dbe8a20>,\n",
       " <matplotlib.lines.Line2D at 0x2b84dbe8b70>,\n",
       " <matplotlib.lines.Line2D at 0x2b84dbe8cc0>,\n",
       " <matplotlib.lines.Line2D at 0x2b84dbe8e10>]"
      ]
     },
     "execution_count": 110,
     "metadata": {},
     "output_type": "execute_result"
    },
    {
     "data": {
      "image/png": "[encoded data removed]",
      "text/plain": [
       "<Figure size 432x288 with 1 Axes>"
      ]
     },
     "metadata": {
      "needs_background": "light"
     },
     "output_type": "display_data"
    }
   ],
   "source": [
    "plt.plot(acc_by_estimators.loc[:,4:7])"
   ]
  },
  {
   "cell_type": "code",
   "execution_count": 259,
   "metadata": {},
   "outputs": [],
   "source": [
    "tailored_rf = [RandomForestClassifier(criterion = 'gini',max_features=21,min_samples_leaf=4,min_samples_split=15,class_weight=\"balanced\",n_estimators=300,n_jobs=-1,),\n",
    "               RandomForestClassifier(criterion = 'gini',max_features=23,min_samples_leaf=8,min_samples_split=10,class_weight=\"balanced\",n_estimators=300,n_jobs=-1),\n",
    "               RandomForestClassifier(criterion = 'gini',max_features=15,min_samples_leaf=1,min_samples_split=10,class_weight=\"balanced\",n_estimators=300,n_jobs=-1),\n",
    "               RandomForestClassifier(criterion = 'gini',max_features=11,min_samples_leaf=4,min_samples_split=10,class_weight=\"balanced\",n_estimators=300,n_jobs=-1),\n",
    "               RandomForestRegressor(criterion='mse',max_features=None,min_samples_leaf=10, min_samples_split=10,n_estimators=300,n_jobs=-1),\n",
    "               RandomForestRegressor(criterion='mse',max_features=None,min_samples_leaf=10, min_samples_split=15,n_estimators=300,n_jobs=-1),\n",
    "               RandomForestRegressor(criterion='mse',max_features=None,min_samples_split=10,min_samples_leaf=2,n_estimators=300,n_jobs=-1),\n",
    "               RandomForestRegressor(criterion='mse',max_features=None,min_samples_leaf=2, min_samples_split=5,n_estimators=300,n_jobs=-1)]\n",
    "\n",
    "truth_values_cat = np.empty((120,4),dtype=bool)\n",
    "truth_values_reg = np.empty((120,4,2),dtype=float)\n",
    "truth_values_reg_bin = np.empty((120,2),dtype=float)\n",
    "\n",
    "for i in range(4,8):\n",
    "    kf = KFold(n_splits=5)\n",
    "    \n",
    "    for train_index, test_index in kf.split(x):\n",
    "        x_train, x_test = x.iloc[train_index], x.iloc[test_index]\n",
    "        y_train, y_test = y[i].iloc[train_index], y[i].iloc[test_index]\n",
    "        prediction = tailored_rf[i].fit(x_train,y_train).predict(x_test)\n",
    "        if i<4:\n",
    "            truth_values_cat[test_index,i] = prediction == y_test\n",
    "        elif i<6:\n",
    "            truth_values_reg[test_index,i-4] = prediction - y_test\n",
    "        else:\n",
    "            truth_values_reg_bin[test_index,i-6] = prediction - y_test"
   ]
  },
  {
   "cell_type": "code",
   "execution_count": 282,
   "metadata": {},
   "outputs": [],
   "source": [
    "truth_values_cat = pd.DataFrame(truth_values_cat,index=x.index)\n",
    "truth_values_reg1 = pd.DataFrame(truth_values_reg[:,0,:],index=x.index)\n",
    "truth_values_reg2 = pd.DataFrame(truth_values_reg[:,1,:],index=x.index)\n",
    "truth_values_reg_bin = pd.DataFrame(truth_values_reg_bin,index=x.index)\n",
    "\n",
    "TV_abs = pd.concat([pd.DataFrame(y[0],index=x.index),truth_values_cat[0]],axis=1)\n",
    "TV_share = pd.concat([pd.DataFrame(y[1],index=x.index),truth_values_cat[1]],axis=1)\n",
    "TV_abs_bin = pd.concat([pd.DataFrame(y[2],index=x.index),truth_values_cat[2]],axis=1)\n",
    "TV_share_bin = pd.concat([pd.DataFrame(y[3],index=x.index),truth_values_cat[3]],axis=1)\n",
    "TV_abs_cont = pd.concat([pd.DataFrame(y[4],index=x.index),truth_values_reg1],axis=1)\n",
    "TV_share_cont = pd.concat([pd.DataFrame(y[5],index=x.index),truth_values_reg2],axis=1)\n",
    "TV_abs_cont_bin = pd.concat([pd.DataFrame(y[6],index=x.index),truth_values_reg_bin[0]],axis=1)\n",
    "TV_share_cont_bin = pd.concat([pd.DataFrame(y[7],index=x.index),truth_values_reg_bin[1]],axis=1)"
   ]
  },
  {
   "cell_type": "code",
   "execution_count": 246,
   "metadata": {
    "scrolled": true
   },
   "outputs": [
    {
     "data": {
      "text/plain": [
       "0    0.694215\n",
       "1    0.561983\n",
       "2    0.636364\n",
       "3    0.743802\n",
       "dtype: float64"
      ]
     },
     "execution_count": 246,
     "metadata": {},
     "output_type": "execute_result"
    }
   ],
   "source": [
    "truth_values_cat.sum()/121"
   ]
  },
  {
   "cell_type": "code",
   "execution_count": 239,
   "metadata": {},
   "outputs": [
    {
     "data": {
      "text/html": [
       "<div>\n",
       "<style scoped>\n",
       "    .dataframe tbody tr th:only-of-type {\n",
       "        vertical-align: middle;\n",
       "    }\n",
       "\n",
       "    .dataframe tbody tr th {\n",
       "        vertical-align: top;\n",
       "    }\n",
       "\n",
       "    .dataframe thead th {\n",
       "        text-align: right;\n",
       "    }\n",
       "</style>\n",
       "<table border=\"1\" class=\"dataframe\">\n",
       "  <thead>\n",
       "    <tr style=\"text-align: right;\">\n",
       "      <th></th>\n",
       "      <th>0</th>\n",
       "    </tr>\n",
       "    <tr>\n",
       "      <th>y</th>\n",
       "      <th></th>\n",
       "    </tr>\n",
       "  </thead>\n",
       "  <tbody>\n",
       "    <tr>\n",
       "      <th>fewer</th>\n",
       "      <td>0.729167</td>\n",
       "    </tr>\n",
       "    <tr>\n",
       "      <th>more</th>\n",
       "      <td>0.842105</td>\n",
       "    </tr>\n",
       "    <tr>\n",
       "      <th>same</th>\n",
       "      <td>0.066667</td>\n",
       "    </tr>\n",
       "  </tbody>\n",
       "</table>\n",
       "</div>"
      ],
      "text/plain": [
       "              0\n",
       "y              \n",
       "fewer  0.729167\n",
       "more   0.842105\n",
       "same   0.066667"
      ]
     },
     "execution_count": 239,
     "metadata": {},
     "output_type": "execute_result"
    }
   ],
   "source": [
    "TV_abs.groupby(['y']).mean()"
   ]
  },
  {
   "cell_type": "code",
   "execution_count": 240,
   "metadata": {},
   "outputs": [
    {
     "data": {
      "text/html": [
       "<div>\n",
       "<style scoped>\n",
       "    .dataframe tbody tr th:only-of-type {\n",
       "        vertical-align: middle;\n",
       "    }\n",
       "\n",
       "    .dataframe tbody tr th {\n",
       "        vertical-align: top;\n",
       "    }\n",
       "\n",
       "    .dataframe thead th {\n",
       "        text-align: right;\n",
       "    }\n",
       "</style>\n",
       "<table border=\"1\" class=\"dataframe\">\n",
       "  <thead>\n",
       "    <tr style=\"text-align: right;\">\n",
       "      <th></th>\n",
       "      <th>1</th>\n",
       "    </tr>\n",
       "    <tr>\n",
       "      <th>y</th>\n",
       "      <th></th>\n",
       "    </tr>\n",
       "  </thead>\n",
       "  <tbody>\n",
       "    <tr>\n",
       "      <th>constant</th>\n",
       "      <td>0.321429</td>\n",
       "    </tr>\n",
       "    <tr>\n",
       "      <th>decrease</th>\n",
       "      <td>0.654545</td>\n",
       "    </tr>\n",
       "    <tr>\n",
       "      <th>increase</th>\n",
       "      <td>0.621622</td>\n",
       "    </tr>\n",
       "  </tbody>\n",
       "</table>\n",
       "</div>"
      ],
      "text/plain": [
       "                 1\n",
       "y                 \n",
       "constant  0.321429\n",
       "decrease  0.654545\n",
       "increase  0.621622"
      ]
     },
     "execution_count": 240,
     "metadata": {},
     "output_type": "execute_result"
    }
   ],
   "source": [
    "TV_share.groupby(['y']).mean()"
   ]
  },
  {
   "cell_type": "code",
   "execution_count": 241,
   "metadata": {},
   "outputs": [
    {
     "data": {
      "text/html": [
       "<div>\n",
       "<style scoped>\n",
       "    .dataframe tbody tr th:only-of-type {\n",
       "        vertical-align: middle;\n",
       "    }\n",
       "\n",
       "    .dataframe tbody tr th {\n",
       "        vertical-align: top;\n",
       "    }\n",
       "\n",
       "    .dataframe thead th {\n",
       "        text-align: right;\n",
       "    }\n",
       "</style>\n",
       "<table border=\"1\" class=\"dataframe\">\n",
       "  <thead>\n",
       "    <tr style=\"text-align: right;\">\n",
       "      <th></th>\n",
       "      <th>2</th>\n",
       "    </tr>\n",
       "    <tr>\n",
       "      <th>binned_y</th>\n",
       "      <th></th>\n",
       "    </tr>\n",
       "  </thead>\n",
       "  <tbody>\n",
       "    <tr>\n",
       "      <th>more</th>\n",
       "      <td>0.682927</td>\n",
       "    </tr>\n",
       "    <tr>\n",
       "      <th>not_increase</th>\n",
       "      <td>0.620253</td>\n",
       "    </tr>\n",
       "  </tbody>\n",
       "</table>\n",
       "</div>"
      ],
      "text/plain": [
       "                     2\n",
       "binned_y              \n",
       "more          0.682927\n",
       "not_increase  0.620253"
      ]
     },
     "execution_count": 241,
     "metadata": {},
     "output_type": "execute_result"
    }
   ],
   "source": [
    "TV_abs_bin.groupby(['binned_y']).mean()"
   ]
  },
  {
   "cell_type": "code",
   "execution_count": 242,
   "metadata": {
    "scrolled": true
   },
   "outputs": [
    {
     "data": {
      "text/html": [
       "<div>\n",
       "<style scoped>\n",
       "    .dataframe tbody tr th:only-of-type {\n",
       "        vertical-align: middle;\n",
       "    }\n",
       "\n",
       "    .dataframe tbody tr th {\n",
       "        vertical-align: top;\n",
       "    }\n",
       "\n",
       "    .dataframe thead th {\n",
       "        text-align: right;\n",
       "    }\n",
       "</style>\n",
       "<table border=\"1\" class=\"dataframe\">\n",
       "  <thead>\n",
       "    <tr style=\"text-align: right;\">\n",
       "      <th></th>\n",
       "      <th>3</th>\n",
       "    </tr>\n",
       "    <tr>\n",
       "      <th>binned_y</th>\n",
       "      <th></th>\n",
       "    </tr>\n",
       "  </thead>\n",
       "  <tbody>\n",
       "    <tr>\n",
       "      <th>increase</th>\n",
       "      <td>0.290323</td>\n",
       "    </tr>\n",
       "    <tr>\n",
       "      <th>not_increase</th>\n",
       "      <td>0.910112</td>\n",
       "    </tr>\n",
       "  </tbody>\n",
       "</table>\n",
       "</div>"
      ],
      "text/plain": [
       "                     3\n",
       "binned_y              \n",
       "increase      0.290323\n",
       "not_increase  0.910112"
      ]
     },
     "execution_count": 242,
     "metadata": {},
     "output_type": "execute_result"
    }
   ],
   "source": [
    "TV_share_bin.groupby(['binned_y']).mean()"
   ]
  },
  {
   "cell_type": "code",
   "execution_count": 297,
   "metadata": {
    "scrolled": true
   },
   "outputs": [
    {
     "data": {
      "text/plain": [
       "[<matplotlib.lines.Line2D at 0x2b84ddb7780>]"
      ]
     },
     "execution_count": 297,
     "metadata": {},
     "output_type": "execute_result"
    },
    {
     "data": {
      "image/png": "[encoded data removed]",
      "text/plain": [
       "<Figure size 432x288 with 1 Axes>"
      ]
     },
     "metadata": {
      "needs_background": "light"
     },
     "output_type": "display_data"
    }
   ],
   "source": [
    "plt.plot(TV_share_cont_bin['increase'],TV_share_cont_bin[1],'bo')"
   ]
  },
  {
   "cell_type": "code",
   "execution_count": 298,
   "metadata": {},
   "outputs": [
    {
     "data": {
      "text/plain": [
       "[<matplotlib.lines.Line2D at 0x2b84dd025c0>]"
      ]
     },
     "execution_count": 298,
     "metadata": {},
     "output_type": "execute_result"
    },
    {
     "data": {
      "image/png": "[encoded data removed]",
      "text/plain": [
       "<Figure size 432x288 with 1 Axes>"
      ]
     },
     "metadata": {
      "needs_background": "light"
     },
     "output_type": "display_data"
    }
   ],
   "source": [
    "plt.plot(TV_share_cont_bin['increase'],np.square(TV_share_cont_bin[1]),'bo')"
   ]
  },
  {
   "cell_type": "code",
   "execution_count": 19,
   "metadata": {
    "scrolled": true
   },
   "outputs": [
    {
     "data": {
      "text/plain": [
       "value.Written Comprehension               0.000594\n",
       "value.Repairing                           0.000569\n",
       "value.Night Vision                        0.000561\n",
       "value.Management of Material Resources    0.000500\n",
       "value.Oral Comprehension                  0.000455\n",
       "value.Speed of Limb Movement              0.000403\n",
       "value.Oral Expression                     0.000211\n",
       "value.Category Flexibility                0.000147\n",
       "value.Dynamic Flexibility                 0.000000\n",
       "value.Selective Attention                 0.000000\n",
       "Name: 0, dtype: float64"
      ]
     },
     "execution_count": 19,
     "metadata": {},
     "output_type": "execute_result"
    }
   ],
   "source": [
    "feature_grid.iloc[0,:].sort_values( ascending = False)[111:121]"
   ]
  },
  {
   "cell_type": "code",
   "execution_count": 20,
   "metadata": {},
   "outputs": [
    {
     "data": {
      "text/plain": [
       "value.Telecommunications                  0.000428\n",
       "value.Oral Comprehension                  0.000277\n",
       "value.Oral Expression                     0.000244\n",
       "value.Food Production                     0.000204\n",
       "value.Mathematics Knowledge               0.000175\n",
       "value.Far Vision                          0.000158\n",
       "value.Dynamic Flexibility                 0.000000\n",
       "value.Selective Attention                 0.000000\n",
       "value.Category Flexibility                0.000000\n",
       "value.Management of Material Resources    0.000000\n",
       "Name: 1, dtype: float64"
      ]
     },
     "execution_count": 20,
     "metadata": {},
     "output_type": "execute_result"
    }
   ],
   "source": [
    "feature_grid.iloc[1,:].sort_values( ascending = False)[111:121]"
   ]
  },
  {
   "cell_type": "code",
   "execution_count": 21,
   "metadata": {},
   "outputs": [
    {
     "data": {
      "text/plain": [
       "value.Glare Sensitivity         0.001754\n",
       "value.Written Expression        0.001711\n",
       "value.Equipment Maintenance     0.001706\n",
       "value.Oral Expression           0.001578\n",
       "value.Inductive Reasoning       0.001407\n",
       "value.Oral Comprehension        0.001282\n",
       "value.Mathematical Reasoning    0.001121\n",
       "value.Information Ordering      0.000625\n",
       "value.Far Vision                0.000484\n",
       "value.Selective Attention       0.000224\n",
       "Name: 2, dtype: float64"
      ]
     },
     "execution_count": 21,
     "metadata": {},
     "output_type": "execute_result"
    }
   ],
   "source": [
    "feature_grid.iloc[2,:].sort_values( ascending = False)[111:121]"
   ]
  },
  {
   "cell_type": "code",
   "execution_count": 22,
   "metadata": {},
   "outputs": [
    {
     "data": {
      "text/plain": [
       "value.Sociology and Anthropology          0.001581\n",
       "value.Problem Sensitivity                 0.001495\n",
       "value.Management of Material Resources    0.001308\n",
       "value.Oral Comprehension                  0.001155\n",
       "value.Inductive Reasoning                 0.001141\n",
       "value.Oral Expression                     0.001038\n",
       "value.Telecommunications                  0.000789\n",
       "value.Far Vision                          0.000635\n",
       "value.Dynamic Flexibility                 0.000000\n",
       "value.Selective Attention                 0.000000\n",
       "Name: 3, dtype: float64"
      ]
     },
     "execution_count": 22,
     "metadata": {},
     "output_type": "execute_result"
    }
   ],
   "source": [
    "feature_grid.iloc[3,:].sort_values( ascending = False)[111:121]"
   ]
  },
  {
   "cell_type": "code",
   "execution_count": 23,
   "metadata": {},
   "outputs": [
    {
     "data": {
      "text/plain": [
       "value.Dynamic Flexibility                  0.0\n",
       "value.Food Production                      0.0\n",
       "value.Selective Attention                  0.0\n",
       "value.Far Vision                           0.0\n",
       "value.Category Flexibility                 0.0\n",
       "value.Oral Comprehension                   0.0\n",
       "value.Management of Material Resources     0.0\n",
       "value.Repairing                            0.0\n",
       "value.Management of Financial Resources    0.0\n",
       "value.Mathematical Reasoning               0.0\n",
       "Name: 4, dtype: float64"
      ]
     },
     "execution_count": 23,
     "metadata": {},
     "output_type": "execute_result"
    }
   ],
   "source": [
    "feature_grid.iloc[4,:].sort_values( ascending = False)[111:121]"
   ]
  },
  {
   "cell_type": "code",
   "execution_count": 24,
   "metadata": {},
   "outputs": [
    {
     "data": {
      "text/plain": [
       "value.Telecommunications                  0.0\n",
       "value.Active Listening                    0.0\n",
       "value.Category Flexibility                0.0\n",
       "value.Dynamic Flexibility                 0.0\n",
       "value.Selective Attention                 0.0\n",
       "value.Gross Body Coordination             0.0\n",
       "value.Systems Analysis                    0.0\n",
       "value.Oral Comprehension                  0.0\n",
       "value.Mathematical Reasoning              0.0\n",
       "value.Management of Material Resources    0.0\n",
       "Name: 5, dtype: float64"
      ]
     },
     "execution_count": 24,
     "metadata": {},
     "output_type": "execute_result"
    }
   ],
   "source": [
    "feature_grid.iloc[5,:].sort_values( ascending = False)[111:121]"
   ]
  },
  {
   "cell_type": "markdown",
   "metadata": {},
   "source": [
    "make pipe in which features are trimmed by a Recursive Feature Evaluation and then inputed into a random forest. Grid search\n",
    "will be used to select the number of features to be inittially trimed and then max_features for the random forest. This may\n",
    "well be overkill but it is interesting to see if there is improvement in a tree never seeing certain features. \n",
    "\n",
    "currently setting params \n",
    "on what we learned in the earlier grid search, but it might be good to grid search in this context\n",
    "as well"
   ]
  },
  {
   "cell_type": "code",
   "execution_count": 25,
   "metadata": {},
   "outputs": [
    {
     "data": {
      "text/plain": [
       "value.Gross Body Coordination    0.000468\n",
       "value.Far Vision                 0.000446\n",
       "value.Oral Comprehension         0.000417\n",
       "value.Installation               0.000401\n",
       "value.Extent Flexibility         0.000382\n",
       "value.Night Vision               0.000299\n",
       "value.Repairing                  0.000282\n",
       "value.Active Listening           0.000155\n",
       "value.Oral Expression            0.000093\n",
       "value.Selective Attention        0.000000\n",
       "Name: 6, dtype: float64"
      ]
     },
     "execution_count": 25,
     "metadata": {},
     "output_type": "execute_result"
    }
   ],
   "source": [
    "feature_grid.iloc[6,:].sort_values( ascending = False)[111:121]"
   ]
  },
  {
   "cell_type": "code",
   "execution_count": 114,
   "metadata": {},
   "outputs": [],
   "source": [
    "rfe_random_forests = [\n",
    "    RFE(RandomForestClassifier(criterion = 'gini',max_features=21,min_samples_leaf=4,min_samples_split=15,n_estimators=300,n_jobs=-1)),\n",
    "    RFE(RandomForestClassifier(criterion = 'gini',max_features=23,min_samples_leaf=8,min_samples_split=12,n_estimators=300,n_jobs=-1)),\n",
    "    RFE(RandomForestClassifier(criterion = 'gini',max_features=15,min_samples_leaf=1,min_samples_split=10,n_estimators=300,n_jobs=-1)),\n",
    "    RFE(RandomForestClassifier(criterion = 'gini',max_features=11,min_samples_leaf=4,min_samples_split=10,n_estimators=300,n_jobs=-1)),    \n",
    "    RFE(RandomForestRegressor(criterion='mse',max_features=None,min_samples_split=10,min_samples_leaf=2,n_estimators=300,n_jobs=-1)),\n",
    "    RFE(RandomForestRegressor(criterion='mse',max_features=None,min_samples_leaf=2, min_samples_split=5,n_estimators=300,n_jobs=-1)),\n",
    "]\n",
    "               \n",
    "\n",
    "param_grid = {'n_features_to_select': np.asarray(range(30,120,10))}\n",
    "\n",
    "selected_models = np.empty(6,dtype = Pipeline)\n",
    "scores = np.zeros(6)\n",
    "features = np.empty(6, dtype = np.ndarray)\n",
    "\n",
    "for i in range(4,6): \n",
    "    if i<4:\n",
    "        search = GridSearchCV(rfe_random_forests[i],param_grid,cv=5,n_jobs=-1,iid=False)\n",
    "        search.fit(x,y[i])\n",
    "    else:\n",
    "        search = GridSearchCV(rfe_random_forests[i],param_grid,scoring=make_scorer(mean_squared_error),cv=5,n_jobs=-1,iid=False)    \n",
    "        search.fit(x,y[i+2])\n",
    "    selected_models[i] = search.best_estimator_ \n",
    "    scores[i] = search.best_score_\n",
    "    features[i] = selected_models[i].get_support()"
   ]
  },
  {
   "cell_type": "code",
   "execution_count": 115,
   "metadata": {},
   "outputs": [
    {
     "data": {
      "text/plain": [
       "array([0.        , 0.        , 0.        , 0.        , 0.06092779,\n",
       "       0.05756447])"
      ]
     },
     "execution_count": 115,
     "metadata": {},
     "output_type": "execute_result"
    }
   ],
   "source": [
    "scores"
   ]
  },
  {
   "cell_type": "code",
   "execution_count": 34,
   "metadata": {},
   "outputs": [
    {
     "data": {
      "text/plain": [
       "array([None, None, None, None,\n",
       "       RFE(estimator=RandomForestRegressor(bootstrap=True, criterion='mse', max_depth=None,\n",
       "           max_features=None, max_leaf_nodes=None,\n",
       "           min_impurity_decrease=0.0, min_impurity_split=None,\n",
       "           min_samples_leaf=2, min_samples_split=10,\n",
       "           min_weight_fraction_leaf=0.0, n_estimators=300, n_jobs=-1,\n",
       "           oob_score=False, random_state=None, verbose=0, warm_start=False),\n",
       "  n_features_to_select=30, step=1, verbose=0),\n",
       "       RFE(estimator=RandomForestRegressor(bootstrap=True, criterion='mse', max_depth=None,\n",
       "           max_features=None, max_leaf_nodes=None,\n",
       "           min_impurity_decrease=0.0, min_impurity_split=None,\n",
       "           min_samples_leaf=2, min_samples_split=5,\n",
       "           min_weight_fraction_leaf=0.0, n_estimators=300, n_jobs=-1,\n",
       "           oob_score=False, random_state=None, verbose=0, warm_start=False),\n",
       "  n_features_to_select=50, step=1, verbose=0)], dtype=object)"
      ]
     },
     "execution_count": 34,
     "metadata": {},
     "output_type": "execute_result"
    }
   ],
   "source": [
    "selected_models"
   ]
  },
  {
   "cell_type": "code",
   "execution_count": null,
   "metadata": {},
   "outputs": [
    {
     "name": "stderr",
     "output_type": "stream",
     "text": [
      "\n",
      "STOPPING EARLY DUE TO KEYBOARD INTERRUPT...\n",
      "STOPPING EARLY DUE TO KEYBOARD INTERRUPT..."
     ]
    }
   ],
   "source": [
    "rf =[ \n",
    "RandomForestClassifier(criterion = 'gini',max_features=11,min_samples_leaf=4,min_samples_split=10, n_estimators=300,n_jobs=-1),\n",
    "RandomForestRegressor(criterion='mse',max_features=None,min_samples_leaf=10, min_samples_split=15,n_estimators=300,n_jobs=-1)\n",
    "]\n",
    "\n",
    "sfs_rf = [\n",
    "SFS(estimator = rf[0],k_features=90,forward=False,floating=True,scoring='accuracy',n_jobs=-1),\n",
    "SFS(estimator = rf[0],k_features=30,forward=False,floating=True,scoring='accuracy',n_jobs=-1),\n",
    "SFS(estimator = rf[1],k_features=90,forward=False,floating=True,scoring=make_scorer(mean_squared_error),n_jobs=-1),\n",
    "SFS(estimator = rf[1],k_features=(3,30),forward=True,floating=True,scoring=make_scorer(mean_squared_error),n_jobs=-1)\n",
    "]\n",
    "\n",
    "\n",
    "#sfs_rf[0].fit(x,y[3])\n",
    "sfs_rf[1].fit(x,y[3])\n",
    "sfs_rf[2].fit(x,y[5])\n",
    "sfs_rf[3].fit(x,y[5])"
   ]
  },
  {
   "cell_type": "code",
   "execution_count": 305,
   "metadata": {},
   "outputs": [],
   "source": [
    "bffs_share_bin_features = [1, 2, 3, 4, 5, 6, 7, 8, 9, 10, 13, 14, 16, 17, 18, 19, 20, 21, 22, 23, 24, 28, 31, 32, 36, 38, 42, 46, 48, 69]\n",
    "bffs_share_features = [2, 4, 9, 15, 17, 20, 22, 23, 26, 29, 31, 34, 38, 41, 42, 43, 44, 56, 58, 60, 67, 71, 75, 77, 96, 98, 101, 105, 106, 107, 113, 119]"
   ]
  },
  {
   "cell_type": "code",
   "execution_count": 310,
   "metadata": {},
   "outputs": [
    {
     "data": {
      "text/plain": [
       "Index(['value.Active Listening', 'value.Writing', 'value.Speaking',\n",
       "       'value.Mathematics Skill', 'value.Science', 'value.Critical Thinking',\n",
       "       'value.Active Learning', 'value.Learning Strategies',\n",
       "       'value.Monitoring', 'value.Social Perceptiveness', 'value.Negotiation',\n",
       "       'value.Instructing', 'value.Complex Problem Solving',\n",
       "       'value.Operations Analysis', 'value.Technology Design',\n",
       "       'value.Equipment Selection', 'value.Installation', 'value.Programming',\n",
       "       'value.Operation Monitoring', 'value.Operation and Control',\n",
       "       'value.Equipment Maintenance', 'value.Judgment and Decision Making',\n",
       "       'value.Time Management', 'value.Management of Financial Resources',\n",
       "       'value.Written Comprehension', 'value.Written Expression',\n",
       "       'value.Deductive Reasoning', 'value.Mathematical Reasoning',\n",
       "       'value.Memorization', 'value.Trunk Strength'],\n",
       "      dtype='object')"
      ]
     },
     "execution_count": 310,
     "metadata": {},
     "output_type": "execute_result"
    }
   ],
   "source": [
    "x.columns[bffs_share_bin_features]"
   ]
  },
  {
   "cell_type": "code",
   "execution_count": 311,
   "metadata": {},
   "outputs": [
    {
     "data": {
      "text/plain": [
       "Index(['value.Writing', 'value.Mathematics Skill', 'value.Monitoring',\n",
       "       'value.Service Orientation', 'value.Operations Analysis',\n",
       "       'value.Installation', 'value.Operation Monitoring',\n",
       "       'value.Operation and Control', 'value.Repairing',\n",
       "       'value.Systems Analysis', 'value.Time Management',\n",
       "       'value.Management of Personnel Resources', 'value.Written Expression',\n",
       "       'value.Problem Sensitivity', 'value.Deductive Reasoning',\n",
       "       'value.Inductive Reasoning', 'value.Information Ordering',\n",
       "       'value.Arm-Hand Steadiness', 'value.Finger Dexterity',\n",
       "       'value.Multilimb Coordination', 'value.Explosive Strength',\n",
       "       'value.Extent Flexibility', 'value.Near Vision',\n",
       "       'value.Visual Color Discrimination', 'value.Engineering and Technology',\n",
       "       'value.Building and Construction', 'value.Physics',\n",
       "       'value.Sociology and Anthropology', 'value.Geography',\n",
       "       'value.Medicine and Dentistry', 'value.History and Archeology',\n",
       "       'value.Transportation'],\n",
       "      dtype='object')"
      ]
     },
     "execution_count": 311,
     "metadata": {},
     "output_type": "execute_result"
    }
   ],
   "source": [
    "x.columns[bffs_share_features]"
   ]
  }
 ],
 "metadata": {
  "kernelspec": {
   "display_name": "Python 3",
   "language": "python",
   "name": "python3"
  },
  "language_info": {
   "codemirror_mode": {
    "name": "ipython",
    "version": 3
   },
   "file_extension": ".py",
   "mimetype": "text/x-python",
   "name": "python",
   "nbconvert_exporter": "python",
   "pygments_lexer": "ipython3",
   "version": "3.7.3"
  }
 },
 "nbformat": 4,
 "nbformat_minor": 2
}
