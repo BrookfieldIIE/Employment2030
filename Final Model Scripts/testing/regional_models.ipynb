{
 "cells": [
  {
   "cell_type": "code",
   "execution_count": 25,
   "metadata": {},
   "outputs": [],
   "source": [
    "%run ../utils_rf"
   ]
  },
  {
   "cell_type": "code",
   "execution_count": 26,
   "metadata": {},
   "outputs": [],
   "source": [
    "#read training data\n",
    "file = \"../../tables/model_input/noc_answers.csv\"\n",
    "x, x_agg, y, y_agg, x_noclvl, y_noclvl = data_proccess(file,discrete=True)\n",
    "\n",
    "#grab just the noc codes to cut out test nocs from main noc table\n",
    "train_nocs = pd.read_csv(file,usecols=['noc_code']).drop_duplicates()"
   ]
  },
  {
   "cell_type": "code",
   "execution_count": 27,
   "metadata": {},
   "outputs": [],
   "source": [
    "#read full noc set\n",
    "file = \"../../tables/model_input/noc_scores.csv\"\n",
    "nocs = pd.read_csv(file,index_col=['noc'])\n",
    "nocs.sort_index(inplace=True)\n",
    "nocs.drop(['Unnamed: 0'],axis=1,inplace=True)\n",
    "nocs = np.round(nocs).astype(int)\n",
    "nocs.drop(train_nocs['noc_code'],inplace=True)"
   ]
  },
  {
   "cell_type": "code",
   "execution_count": 28,
   "metadata": {},
   "outputs": [],
   "source": [
    "work_count = y_agg.groupby(level=0).size()\n",
    "benchmark = work_count[work_count>1].index\n",
    "regional = work_count[work_count==1].index"
   ]
  },
  {
   "cell_type": "code",
   "execution_count": 29,
   "metadata": {},
   "outputs": [],
   "source": [
    "f = open('../../tables/SFFS_output/inc_features.txt', 'r')\n",
    "sffs_prob_features = f.readlines()\n",
    "f.close()\n",
    "\n",
    "sffs_prob_features = [x[:-1] for x in sffs_prob_features]"
   ]
  },
  {
   "cell_type": "markdown",
   "metadata": {},
   "source": [
    "train model with each individual workshop"
   ]
  },
  {
   "cell_type": "code",
   "execution_count": 30,
   "metadata": {
    "scrolled": false
   },
   "outputs": [],
   "source": [
    "nocs = nocs.loc[:,sffs_prob_features].copy()\n",
    "noc_preds = pd.DataFrame()\n",
    "\n",
    "for i in range(1,7):\n",
    "    y_workshop = y.loc[benchmark].xs(i, level=2, drop_level=True)['increase']\n",
    "    x_workshop = x.loc[benchmark].xs(i, level=2, drop_level=True)\n",
    "    rf = RandomForestClassifier(**init_params('cat')).fit(x_workshop.loc[:,sffs_prob_features].copy(),y_workshop)\n",
    "    noc_preds[i] = pd.Series(rf.predict_proba(nocs)[:,1],index=nocs.index)"
   ]
  },
  {
   "cell_type": "code",
   "execution_count": 31,
   "metadata": {},
   "outputs": [],
   "source": [
    "diffs = []\n",
    "for i in range(1,7):\n",
    "    for j in range(i+1,7):\n",
    "        diffs.append(abs(noc_preds[i]-noc_preds[j]))\n",
    "diffs = pd.DataFrame(diffs).mean()"
   ]
  },
  {
   "cell_type": "code",
   "execution_count": 32,
   "metadata": {
    "scrolled": false
   },
   "outputs": [
    {
     "data": {
      "text/plain": [
       "noc\n",
       "9226    0.261347\n",
       "9217    0.261347\n",
       "7303    0.261347\n",
       "7304    0.261347\n",
       "9211    0.261347\n",
       "9213    0.261347\n",
       "9215    0.261347\n",
       "9214    0.261347\n",
       "9221    0.261347\n",
       "9222    0.261347\n",
       "dtype: float64"
      ]
     },
     "execution_count": 32,
     "metadata": {},
     "output_type": "execute_result"
    }
   ],
   "source": [
    "diffs.sort_values(ascending=False)[0:10]"
   ]
  },
  {
   "cell_type": "code",
   "execution_count": 33,
   "metadata": {
    "scrolled": false
   },
   "outputs": [
    {
     "data": {
      "text/plain": [
       "noc\n",
       "2142    0.026444\n",
       "1312    0.028662\n",
       "2234    0.032682\n",
       "1524    0.033804\n",
       "1223    0.034621\n",
       "2152    0.035073\n",
       "1253    0.036180\n",
       "1423    0.036933\n",
       "213     0.042209\n",
       "2231    0.043699\n",
       "dtype: float64"
      ]
     },
     "execution_count": 33,
     "metadata": {},
     "output_type": "execute_result"
    }
   ],
   "source": [
    "diffs.sort_values(ascending=True)[0:10]"
   ]
  },
  {
   "cell_type": "code",
   "execution_count": 34,
   "metadata": {
    "scrolled": false
   },
   "outputs": [
    {
     "data": {
      "text/plain": [
       "0.09463432528594101"
      ]
     },
     "execution_count": 34,
     "metadata": {},
     "output_type": "execute_result"
    }
   ],
   "source": [
    "diffs.mean()"
   ]
  },
  {
   "cell_type": "code",
   "execution_count": 35,
   "metadata": {
    "scrolled": false
   },
   "outputs": [],
   "source": [
    "diffs_2digit = diffs.copy()\n",
    "diffs_2digit.index = (diffs_2digit.index - diffs_2digit.index%100).astype(str)\n",
    "diffs_2digit = diffs_2digit.groupby(level=0).mean().sort_values()"
   ]
  },
  {
   "cell_type": "code",
   "execution_count": 36,
   "metadata": {},
   "outputs": [
    {
     "name": "stderr",
     "output_type": "stream",
     "text": [
      "C:\\ProgramData\\Anaconda3\\lib\\site-packages\\ipykernel_launcher.py:1: FutureWarning: The signature of `Series.to_csv` was aligned to that of `DataFrame.to_csv`, and argument 'header' will change its default value from False to True: please pass an explicit value to suppress this warning.\n",
      "  \"\"\"Entry point for launching an IPython kernel.\n"
     ]
    }
   ],
   "source": [
    "diffs_2digit.to_csv('../../tables/testing_output/model_diffs_between_major_nocs.csv')"
   ]
  },
  {
   "cell_type": "code",
   "execution_count": 37,
   "metadata": {},
   "outputs": [
    {
     "data": {
      "image/png": "[encoded data removed]",
      "text/plain": [
       "<Figure size 432x288 with 1 Axes>"
      ]
     },
     "metadata": {
      "needs_background": "light"
     },
     "output_type": "display_data"
    }
   ],
   "source": [
    "fig, ax = plt.subplots()\n",
    "\n",
    "ax.plot(diffs_2digit,'o')\n",
    "\n",
    "plt.xticks(ticks=[])\n",
    "plt.ylabel('Mean Absolute Difference')\n",
    "plt.title('Disagreement between workshops for 2 digit NOCs')\n",
    "\n",
    "label = 'Processing, manufacturing and utilities supervisors and central control operators'\n",
    "ax.annotate(label, (1, 0.22),fontsize=7)\n",
    "\n",
    "plt.savefig('../../tables/testing_output/predicited workshop disagreement')\n",
    "plt.show()"
   ]
  },
  {
   "cell_type": "markdown",
   "metadata": {},
   "source": [
    "Now lets see differences from one workshop to all others to break up this diff a bit more"
   ]
  },
  {
   "cell_type": "code",
   "execution_count": 38,
   "metadata": {},
   "outputs": [],
   "source": [
    "OVA_workshops = pd.DataFrame()\n",
    "for i in range(1,7):\n",
    "    all_but_one = noc_preds.drop(i,axis=1).mean(axis=1)\n",
    "    OVA_workshops[i] = noc_preds[i] - all_but_one"
   ]
  },
  {
   "cell_type": "code",
   "execution_count": 39,
   "metadata": {
    "scrolled": false
   },
   "outputs": [],
   "source": [
    "OVA_workshops_2digit = OVA_workshops.copy()\n",
    "OVA_workshops_2digit.index = (OVA_workshops_2digit.index - OVA_workshops_2digit.index%100).astype(str)\n",
    "OVA_workshops_2digit = OVA_workshops_2digit.groupby(level=0).mean()"
   ]
  },
  {
   "cell_type": "code",
   "execution_count": 40,
   "metadata": {
    "scrolled": false
   },
   "outputs": [
    {
     "data": {
      "image/png": "[encoded data removed]",
      "text/plain": [
       "<Figure size 432x288 with 6 Axes>"
      ]
     },
     "metadata": {
      "needs_background": "light"
     },
     "output_type": "display_data"
    }
   ],
   "source": [
    "fig, axs = plt.subplots(2, 3, sharex=True)\n",
    "fig.subplots_adjust(wspace=0.5)\n",
    "\n",
    "workshop = 1\n",
    "for i in range(0,2):\n",
    "    for j in range(0,3):\n",
    "        ax = axs[i,j]\n",
    "        ax.plot(OVA_workshops_2digit[workshop].sort_values(),'o')\n",
    "        ax.set_title(workshop)\n",
    "        ax.set_ylim(-0.3, 0.3)\n",
    "        plt.xticks(ticks=[])\n",
    "        workshop = workshop+1\n",
    "\n",
    "plt.show()"
   ]
  }
 ],
 "metadata": {
  "kernelspec": {
   "display_name": "Python 3",
   "language": "python",
   "name": "python3"
  },
  "language_info": {
   "codemirror_mode": {
    "name": "ipython",
    "version": 3
   },
   "file_extension": ".py",
   "mimetype": "text/x-python",
   "name": "python",
   "nbconvert_exporter": "python",
   "pygments_lexer": "ipython3",
   "version": "3.7.3"
  }
 },
 "nbformat": 4,
 "nbformat_minor": 2
}
